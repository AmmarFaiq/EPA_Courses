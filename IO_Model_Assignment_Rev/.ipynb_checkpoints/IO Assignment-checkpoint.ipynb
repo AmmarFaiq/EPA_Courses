{
 "cells": [
  {
   "cell_type": "code",
   "execution_count": 1,
   "metadata": {},
   "outputs": [],
   "source": [
    "import numpy as np\n",
    "import pandas as pd"
   ]
  },
  {
   "cell_type": "code",
   "execution_count": 2,
   "metadata": {},
   "outputs": [],
   "source": [
    "country = \"GBR\"\n",
    "industry = \"C23\""
   ]
  },
  {
   "cell_type": "code",
   "execution_count": 3,
   "metadata": {},
   "outputs": [
    {
     "name": "stderr",
     "output_type": "stream",
     "text": [
      "D:\\Anaconda32\\lib\\site-packages\\IPython\\core\\interactiveshell.py:2728: DtypeWarning: Columns (4,5,6,7,8,9,10,11,12,13,14,15,16,17,18,19,20,21,22,23,24,25,27,28,29,30,31,32,33,34,35,36,37,38,39,40,41,42,43,44,45,46,47,48,53,54,55,56,57,58,60,61,63,64,65,66,67,68,69,70,71,72,73,74,75,76,77,78,79,80,81,82,83,84,85,86,87,88,89,90,92,93,94,95,96,97,98,99,100,101,102,103,104,105,106,107,108,109,110,111,112,113,116,120,121,122,123,124,125,126,127,128,129,130,131,132,133,134,135,136,137,138,139,140,141,142,143,144,145,146,147,148,149,150,151,152,153,154,155,156,157,158,159,160,161,162,163,164,165,166,167,168,169,172,175,176,177,181,182,184,185,186,187,189,190,191,195,198,199,200,201,202,205,207,210,211,212,213,215,216,221,222,223,224,225,228,229,230,231,232,233,234,235,236,237,238,239,240,241,242,243,244,245,246,247,248,249,251,252,254,255,256,257,258,259,260,261,263,264,265,266,267,268,271,272,273,274,277,278,279,280,281,282,284,285,286,287,288,289,290,291,292,293,294,295,296,297,298,299,300,301,302,303,304,305,307,309,310,311,312,313,314,315,316,317,318,319,320,321,322,323,324,325,327,328,329,330,331,332,333,334,335,336,337,340,343,344,345,346,347,348,349,350,351,352,353,354,355,356,357,358,359,360,361,362,363,364,366,367,368,369,370,371,372,373,374,375,376,378,379,380,381,383,384,386,388,389,390,391,392,393,394,396,397,398,399,400,401,402,403,404,405,406,407,408,409,410,411,412,413,414,415,416,417,419,420,421,422,424,425,426,427,428,429,430,431,434,435,436,437,439,440,442,444,445,446,447,448,449,456,475,478,480,481,483,485,487,492,494,495,496,502,503,504,505,508,509,511,512,513,514,515,516,517,518,519,520,521,522,523,524,525,526,527,528,529,530,531,532,533,534,535,536,537,538,540,541,542,543,544,545,546,547,548,549,550,551,552,553,554,555,556,557,558,559,560,561,564,565,567,568,569,570,571,572,573,574,575,576,577,578,579,580,581,582,583,584,585,586,587,588,589,590,591,592,593,594,595,596,597,598,599,600,601,602,603,604,605,606,607,608,609,610,611,612,613,614,615,616,617,618,620,621,623,624,625,626,627,628,629,630,631,632,633,634,635,636,637,638,639,641,642,643,645,646,647,648,649,650,651,652,653,654,655,656,657,658,659,660,661,662,663,664,665,666,667,668,669,670,671,672,673,676,677,678,679,680,681,682,683,684,685,686,687,688,689,690,691,692,693,694,695,696,697,698,699,700,701,702,703,704,705,706,707,708,709,710,711,712,713,714,715,716,717,718,719,720,721,722,723,724,725,726,727,728,729,730,732,736,738,747,748,755,758,760,761,762,765,767,771,775,781,782,783,784,785,788,789,791,792,793,794,795,796,797,798,799,800,801,802,803,804,805,806,807,808,809,810,811,813,814,815,816,817,818,819,820,821,822,823,824,825,826,827,828,829,830,831,832,833,834,835,836,837,838,839,840,841,844,845,846,847,848,849,850,851,852,853,854,855,856,857,858,859,860,861,862,863,864,865,866,867,868,869,870,871,872,873,874,875,876,877,878,879,880,881,882,883,884,885,886,887,888,889,890,891,892,893,894,895,896,897,898,900,901,902,903,904,905,906,907,908,909,910,911,912,913,914,915,916,917,918,919,920,921,922,923,924,925,926,927,928,929,930,931,932,933,934,935,936,937,938,939,940,941,942,943,944,945,946,947,948,949,950,951,952,953,954,956,958,959,960,961,963,965,966,967,968,969,970,971,973,974,977,978,979,980,981,982,983,984,985,986,987,988,989,990,991,992,993,994,995,996,997,998,999,1000,1001,1002,1003,1004,1005,1006,1007,1008,1009,1012,1015,1016,1017,1022,1025,1027,1035,1038,1040,1041,1042,1045,1047,1050,1052,1055,1056,1057,1061,1062,1063,1064,1065,1068,1072,1073,1074,1075,1077,1078,1079,1080,1081,1082,1083,1084,1085,1086,1087,1089,1090,1091,1092,1093,1094,1095,1096,1097,1098,1100,1101,1103,1104,1105,1106,1107,1108,1109,1110,1111,1112,1113,1114,1116,1117,1118,1119,1120,1121,1124,1125,1126,1127,1128,1129,1130,1131,1132,1133,1134,1135,1136,1137,1138,1139,1140,1141,1142,1143,1144,1145,1147,1150,1151,1152,1153,1154,1155,1156,1157,1158,1159,1160,1161,1162,1163,1164,1165,1167,1168,1173,1174,1175,1176,1177,1180,1181,1182,1183,1184,1185,1186,1187,1188,1189,1190,1191,1192,1193,1194,1195,1196,1197,1198,1199,1200,1201,1203,1204,1206,1207,1208,1209,1210,1211,1212,1213,1215,1218,1219,1220,1221,1223,1224,1225,1229,1230,1231,1232,1233,1236,1239,1240,1244,1246,1247,1248,1249,1251,1252,1253,1254,1257,1258,1259,1261,1262,1263,1264,1265,1266,1268,1269,1270,1271,1272,1274,1275,1276,1277,1278,1279,1280,1281,1284,1285,1286,1287,1288,1289,1292,1293,1294,1295,1296,1297,1298,1299,1300,1301,1302,1303,1304,1305,1306,1307,1308,1309,1310,1311,1312,1313,1314,1315,1316,1317,1318,1319,1320,1321,1322,1323,1324,1325,1326,1327,1328,1329,1330,1331,1332,1333,1334,1335,1336,1337,1338,1339,1340,1341,1342,1343,1344,1345,1346,1348,1349,1350,1351,1352,1353,1354,1355,1356,1357,1358,1359,1360,1361,1362,1363,1364,1365,1366,1367,1368,1369,1371,1372,1373,1374,1375,1376,1377,1378,1379,1380,1381,1382,1383,1384,1385,1386,1387,1388,1389,1391,1394,1395,1396,1397,1398,1399,1400,1401,1402,1404,1405,1406,1407,1408,1409,1410,1411,1412,1413,1414,1415,1416,1417,1418,1419,1420,1421,1422,1423,1424,1425,1427,1428,1429,1430,1431,1432,1433,1434,1435,1436,1437,1438,1439,1440,1441,1442,1443,1444,1445,1446,1447,1448,1449,1450,1451,1452,1453,1454,1455,1456,1457,1460,1464,1465,1466,1469,1470,1472,1481,1483,1486,1487,1488,1489,1490,1493,1500,1503,1504,1509,1510,1511,1512,1513,1520,1528,1529,1530,1531,1539,1542,1544,1545,1546,1549,1550,1551,1554,1555,1556,1557,1558,1559,1560,1561,1565,1566,1567,1568,1569,1572,1573,1576,1578,1595,1598,1600,1601,1602,1605,1607,1610,1611,1612,1615,1621,1622,1623,1624,1625,1628,1629,1630,1631,1632,1633,1634,1635,1636,1637,1638,1639,1640,1641,1642,1643,1644,1645,1646,1647,1648,1649,1650,1651,1652,1654,1655,1656,1657,1658,1659,1660,1661,1662,1663,1664,1665,1666,1668,1669,1670,1672,1673,1674,1676,1677,1678,1679,1680,1681,1682,1710,1719,1724,1737,1740,1743,1744,1745,1746,1747,1748,1749,1750,1751,1752,1753,1754,1755,1756,1757,1758,1759,1760,1761,1762,1763,1764,1765,1766,1767,1768,1769,1770,1771,1772,1773,1774,1775,1776,1777,1778,1779,1780,1781,1782,1783,1784,1785,1786,1787,1788,1789,1790,1791,1792,1793,1796,1797,1798,1799,1800,1801,1802,1803,1804,1805,1806,1807,1808,1809,1810,1811,1812,1813,1814,1815,1816,1817,1818,1819,1820,1821,1822,1823,1824,1825,1826,1827,1828,1829,1830,1831,1832,1833,1834,1835,1836,1837,1838,1839,1840,1841,1842,1843,1844,1845,1846,1847,1848,1849,1852,1853,1855,1856,1857,1858,1859,1860,1861,1862,1863,1864,1865,1866,1867,1868,1869,1870,1871,1872,1873,1874,1875,1876,1877,1878,1879,1880,1881,1882,1883,1884,1885,1886,1887,1888,1889,1890,1891,1892,1893,1894,1895,1896,1897,1898,1899,1900,1901,1902,1903,1904,1905,1908,1909,1911,1912,1913,1914,1915,1916,1917,1918,1919,1920,1921,1922,1923,1924,1925,1926,1927,1929,1930,1931,1932,1933,1934,1935,1936,1937,1938,1940,1941,1942,1943,1944,1945,1946,1947,1948,1949,1950,1951,1952,1953,1955,1956,1957,1958,1959,1960,1961,1962,1964,1965,1967,1968,1969,1970,1971,1972,1973,1974,1976,1977,1978,1979,1980,1981,1982,1983,1984,1985,1986,1987,1988,1989,1990,1991,1992,1993,1994,1995,1996,1997,1999,2000,2001,2002,2003,2004,2005,2006,2007,2008,2009,2010,2011,2012,2013,2014,2015,2016,2017,2020,2023,2024,2025,2026,2027,2029,2030,2032,2033,2034,2036,2038,2039,2041,2043,2046,2047,2048,2049,2050,2051,2052,2053,2055,2058,2060,2063,2069,2070,2071,2072,2073,2076,2077,2080,2081,2082,2083,2085,2086,2088,2089,2090,2091,2092,2093,2094,2095,2097,2098,2099,2102,2103,2104,2105,2106,2109,2111,2114,2115,2116,2117,2118,2119,2120,2121,2123,2124,2125,2126,2127,2128,2129,2132,2136,2142,2143,2144,2145,2146,2147,2149,2150,2151,2155,2158,2159,2160,2161,2162,2165,2167,2170,2171,2172,2175,2176,2177,2181,2182,2183,2184,2185,2188,2189,2191,2192,2193,2194,2195,2196,2197,2198,2199,2200,2201,2202,2203,2204,2205,2206,2207,2208,2209,2210,2211,2212,2213,2214,2215,2216,2217,2218,2219,2220,2221,2223,2224,2225,2226,2227,2228,2229,2230,2231,2232,2233,2234,2235,2236,2237,2238,2239,2240,2241,2244,2245,2246,2247,2248,2249,2250,2251,2252,2253,2254,2256,2257,2258,2259,2260,2261,2262,2263,2264,2265,2267,2268,2269,2270,2271,2272,2273,2274,2275,2276,2277,2279,2282,2283,2284,2285,2286,2287,2292,2293,2294,2295,2296,2297,2298,2300,2302,2303,2304,2305,2306,2307,2308,2309,2310,2311,2312,2313,2314,2315,2316,2317,2318,2319,2320,2321,2322,2323,2324,2325,2326,2327,2328,2329,2330,2331,2332,2333,2334,2335,2336,2337,2338,2339,2340,2341,2342,2343,2344,2345,2346,2347,2348,2349,2350,2351,2352,2353,2354,2356,2357,2358,2359,2360,2361,2362,2363,2364,2365,2366,2367,2368,2369,2370,2371,2372,2373,2374,2375,2376,2377,2378,2379,2380,2381,2382,2383,2384,2385,2386,2387,2388,2389,2390,2391,2392,2393,2394,2395,2396,2397,2398,2399,2400,2401,2402,2403,2404,2405,2406,2407,2408,2409,2410,2412,2413,2414,2415,2416,2417,2418,2419,2420,2421,2422,2423,2424,2425,2426,2427,2428,2429,2430,2431,2432,2433,2434,2435,2436,2437,2439,2440,2441,2442,2443,2444,2445,2446,2447,2448,2449,2450,2451,2452,2453,2454,2455,2456,2457,2458,2460,2461,2462,2463,2464,2465,2466,2468,2470,2471,2472,2473,2474,2475,2476,2477,2478,2479,2480,2481,2482,2483,2485,2486,2488,2489,2490,2491,2492,2493,2494,2495,2496,2497,2498,2499,2500,2501,2502,2503,2505,2506,2507,2508,2510,2511,2513,2514,2515,2516,2519,2520,2522,2523,2524,2525,2526,2527,2528,2529,2530,2531,2532,2533,2535,2536,2538,2539,2540,2541,2542,2544,2545,2546,2547,2549,2550,2551,2552,2553,2554,2555,2556,2557,2558,2560,2561,2563,2564,2565,2566,2568,2570,2571,2572,2573,2575,2576,2577,2578,2579,2580,2581,2582,2583,2584,2585,2586,2587,2588,2589,2590,2591,2592,2593,2595,2596,2597,2598,2600,2601,2603,2604,2605,2606,2608,2610,2611,2613,2615,2616,2617,2618,2620,2621,2623,2624,2625,2626,2627,2628,2629,2630,2631,2632,2633,2634,2635,2636,2637,2638,2639,2640,2641,2643,2645,2646,2647,2648,2649,2650,2651,2652,2653,2655,2656,2658,2660,2661,2662,2663,2664,2665,2666,2667,2668,2670,2671,2672,2673,2674,2675,2676,2680,2681,2682,2684,2685,2687) have mixed types. Specify dtype option on import or set low_memory=False.\n",
      "  interactivity=interactivity, compiler=compiler, result=result)\n"
     ]
    }
   ],
   "source": [
    "df = pd.read_csv(\"WIOT2014_Nov16_ROW.csv\", header = [0,1,2,3], index_col = [0,1,2,3])"
   ]
  },
  {
   "cell_type": "code",
   "execution_count": 4,
   "metadata": {},
   "outputs": [
    {
     "name": "stderr",
     "output_type": "stream",
     "text": [
      "D:\\Anaconda32\\lib\\site-packages\\ipykernel\\kernelbase.py:399: PerformanceWarning: indexing past lexsort depth may impact performance.\n",
      "  user_expressions, allow_stdin)\n"
     ]
    }
   ],
   "source": [
    "func = lambda x: float(x.replace(\",\",\"\")) if type(x)==str else float(x)\n",
    "vfunc = np.vectorize(func)\n",
    "df.loc[:,:] = vfunc(df.values)"
   ]
  },
  {
   "cell_type": "markdown",
   "metadata": {},
   "source": [
    "### Q1\n",
    "Value added in your industry is _____ US dollars. (1 point)"
   ]
  },
  {
   "cell_type": "code",
   "execution_count": 5,
   "metadata": {},
   "outputs": [
    {
     "data": {
      "text/html": [
       "<div>\n",
       "<style scoped>\n",
       "    .dataframe tbody tr th:only-of-type {\n",
       "        vertical-align: middle;\n",
       "    }\n",
       "\n",
       "    .dataframe tbody tr th {\n",
       "        vertical-align: top;\n",
       "    }\n",
       "\n",
       "    .dataframe thead tr th {\n",
       "        text-align: left;\n",
       "    }\n",
       "</style>\n",
       "<table border=\"1\" class=\"dataframe\">\n",
       "  <thead>\n",
       "    <tr>\n",
       "      <th></th>\n",
       "      <th></th>\n",
       "      <th></th>\n",
       "      <th></th>\n",
       "      <th>C23</th>\n",
       "    </tr>\n",
       "    <tr>\n",
       "      <th></th>\n",
       "      <th></th>\n",
       "      <th></th>\n",
       "      <th></th>\n",
       "      <th>Manufacture of other non-metallic mineral products</th>\n",
       "    </tr>\n",
       "    <tr>\n",
       "      <th></th>\n",
       "      <th></th>\n",
       "      <th></th>\n",
       "      <th></th>\n",
       "      <th>GBR</th>\n",
       "    </tr>\n",
       "    <tr>\n",
       "      <th></th>\n",
       "      <th></th>\n",
       "      <th></th>\n",
       "      <th></th>\n",
       "      <th>c14</th>\n",
       "    </tr>\n",
       "  </thead>\n",
       "  <tbody>\n",
       "    <tr>\n",
       "      <th>VA</th>\n",
       "      <th>Value added at basic prices</th>\n",
       "      <th>TOT</th>\n",
       "      <th>r70</th>\n",
       "      <td>7995.0</td>\n",
       "    </tr>\n",
       "  </tbody>\n",
       "</table>\n",
       "</div>"
      ],
      "text/plain": [
       "                                                                                      C23\n",
       "                                       Manufacture of other non-metallic mineral products\n",
       "                                                                                      GBR\n",
       "                                                                                      c14\n",
       "VA Value added at basic prices TOT r70                                             7995.0"
      ]
     },
     "execution_count": 5,
     "metadata": {},
     "output_type": "execute_result"
    }
   ],
   "source": [
    "# value added for your industry sector worldwide\n",
    "Q1 = df.loc[(\"VA\", slice(None), slice(None), slice(None)),\n",
    "        (industry, slice(None), country, slice(None))]\n",
    "Q1"
   ]
  },
  {
   "cell_type": "markdown",
   "metadata": {},
   "source": [
    "### Q2\n",
    "Total final demand by **your country and the rest of the world** for the **output of your industry** is _____ US dollars."
   ]
  },
  {
   "cell_type": "code",
   "execution_count": 6,
   "metadata": {},
   "outputs": [
    {
     "data": {
      "text/html": [
       "<div>\n",
       "<style scoped>\n",
       "    .dataframe tbody tr th:only-of-type {\n",
       "        vertical-align: middle;\n",
       "    }\n",
       "\n",
       "    .dataframe tbody tr th {\n",
       "        vertical-align: top;\n",
       "    }\n",
       "\n",
       "    .dataframe thead tr th {\n",
       "        text-align: left;\n",
       "    }\n",
       "</style>\n",
       "<table border=\"1\" class=\"dataframe\">\n",
       "  <thead>\n",
       "    <tr>\n",
       "      <th></th>\n",
       "      <th></th>\n",
       "      <th></th>\n",
       "      <th></th>\n",
       "      <th>CONS_h</th>\n",
       "      <th>CONS_np</th>\n",
       "      <th>CONS_g</th>\n",
       "      <th>GFCF</th>\n",
       "      <th>INVEN</th>\n",
       "      <th>CONS_h</th>\n",
       "      <th>CONS_np</th>\n",
       "      <th>CONS_g</th>\n",
       "      <th>GFCF</th>\n",
       "      <th>INVEN</th>\n",
       "      <th>...</th>\n",
       "      <th>CONS_h</th>\n",
       "      <th>CONS_np</th>\n",
       "      <th>CONS_g</th>\n",
       "      <th>GFCF</th>\n",
       "      <th>INVEN</th>\n",
       "      <th>CONS_h</th>\n",
       "      <th>CONS_np</th>\n",
       "      <th>CONS_g</th>\n",
       "      <th>GFCF</th>\n",
       "      <th>INVEN</th>\n",
       "    </tr>\n",
       "    <tr>\n",
       "      <th></th>\n",
       "      <th></th>\n",
       "      <th></th>\n",
       "      <th></th>\n",
       "      <th>Final consumption expenditure by households</th>\n",
       "      <th>Final consumption expenditure by non-profit organisations serving households (NPISH)</th>\n",
       "      <th>Final consumption expenditure by government</th>\n",
       "      <th>Gross fixed capital formation</th>\n",
       "      <th>Changes in inventories and valuables</th>\n",
       "      <th>Final consumption expenditure by households</th>\n",
       "      <th>Final consumption expenditure by non-profit organisations serving households (NPISH)</th>\n",
       "      <th>Final consumption expenditure by government</th>\n",
       "      <th>Gross fixed capital formation</th>\n",
       "      <th>Changes in inventories and valuables</th>\n",
       "      <th>...</th>\n",
       "      <th>Final consumption expenditure by households</th>\n",
       "      <th>Final consumption expenditure by non-profit organisations serving households (NPISH)</th>\n",
       "      <th>Final consumption expenditure by government</th>\n",
       "      <th>Gross fixed capital formation</th>\n",
       "      <th>Changes in inventories and valuables</th>\n",
       "      <th>Final consumption expenditure by households</th>\n",
       "      <th>Final consumption expenditure by non-profit organisations serving households (NPISH)</th>\n",
       "      <th>Final consumption expenditure by government</th>\n",
       "      <th>Gross fixed capital formation</th>\n",
       "      <th>Changes in inventories and valuables</th>\n",
       "    </tr>\n",
       "    <tr>\n",
       "      <th></th>\n",
       "      <th></th>\n",
       "      <th></th>\n",
       "      <th></th>\n",
       "      <th>AUS</th>\n",
       "      <th>AUS</th>\n",
       "      <th>AUS</th>\n",
       "      <th>AUS</th>\n",
       "      <th>AUS</th>\n",
       "      <th>AUT</th>\n",
       "      <th>AUT</th>\n",
       "      <th>AUT</th>\n",
       "      <th>AUT</th>\n",
       "      <th>AUT</th>\n",
       "      <th>...</th>\n",
       "      <th>USA</th>\n",
       "      <th>USA</th>\n",
       "      <th>USA</th>\n",
       "      <th>USA</th>\n",
       "      <th>USA</th>\n",
       "      <th>ROW</th>\n",
       "      <th>ROW</th>\n",
       "      <th>ROW</th>\n",
       "      <th>ROW</th>\n",
       "      <th>ROW</th>\n",
       "    </tr>\n",
       "    <tr>\n",
       "      <th></th>\n",
       "      <th></th>\n",
       "      <th></th>\n",
       "      <th></th>\n",
       "      <th>c57</th>\n",
       "      <th>c58</th>\n",
       "      <th>c59</th>\n",
       "      <th>c60</th>\n",
       "      <th>c61</th>\n",
       "      <th>c57</th>\n",
       "      <th>c58</th>\n",
       "      <th>c59</th>\n",
       "      <th>c60</th>\n",
       "      <th>c61</th>\n",
       "      <th>...</th>\n",
       "      <th>c57</th>\n",
       "      <th>c58</th>\n",
       "      <th>c59</th>\n",
       "      <th>c60</th>\n",
       "      <th>c61</th>\n",
       "      <th>c57</th>\n",
       "      <th>c58</th>\n",
       "      <th>c59</th>\n",
       "      <th>c60</th>\n",
       "      <th>c61</th>\n",
       "    </tr>\n",
       "  </thead>\n",
       "  <tbody>\n",
       "    <tr>\n",
       "      <th>C23</th>\n",
       "      <th>Manufacture of other non-metallic mineral products</th>\n",
       "      <th>GBR</th>\n",
       "      <th>r14</th>\n",
       "      <td>7.0</td>\n",
       "      <td>0.0</td>\n",
       "      <td>1.0</td>\n",
       "      <td>1.0</td>\n",
       "      <td>0.0</td>\n",
       "      <td>1.0</td>\n",
       "      <td>0.0</td>\n",
       "      <td>0.0</td>\n",
       "      <td>2.0</td>\n",
       "      <td>0.0</td>\n",
       "      <td>...</td>\n",
       "      <td>71.0</td>\n",
       "      <td>0.0</td>\n",
       "      <td>0.0</td>\n",
       "      <td>12.0</td>\n",
       "      <td>2.0</td>\n",
       "      <td>35.0</td>\n",
       "      <td>0.0</td>\n",
       "      <td>0.0</td>\n",
       "      <td>2.0</td>\n",
       "      <td>0.0</td>\n",
       "    </tr>\n",
       "  </tbody>\n",
       "</table>\n",
       "<p>1 rows × 220 columns</p>\n",
       "</div>"
      ],
      "text/plain": [
       "                                                                                                    CONS_h  \\\n",
       "                                                               Final consumption expenditure by households   \n",
       "                                                                                                       AUS   \n",
       "                                                                                                       c57   \n",
       "C23 Manufacture of other non-metallic mineral products GBR r14                                         7.0   \n",
       "\n",
       "                                                                                                                                            CONS_np  \\\n",
       "                                                               Final consumption expenditure by non-profit organisations serving households (NPISH)   \n",
       "                                                                                                                                                AUS   \n",
       "                                                                                                                                                c58   \n",
       "C23 Manufacture of other non-metallic mineral products GBR r14                                                0.0                                     \n",
       "\n",
       "                                                                                                    CONS_g  \\\n",
       "                                                               Final consumption expenditure by government   \n",
       "                                                                                                       AUS   \n",
       "                                                                                                       c59   \n",
       "C23 Manufacture of other non-metallic mineral products GBR r14                                         1.0   \n",
       "\n",
       "                                                                                        GFCF  \\\n",
       "                                                               Gross fixed capital formation   \n",
       "                                                                                         AUS   \n",
       "                                                                                         c60   \n",
       "C23 Manufacture of other non-metallic mineral products GBR r14                           1.0   \n",
       "\n",
       "                                                                                              INVEN  \\\n",
       "                                                               Changes in inventories and valuables   \n",
       "                                                                                                AUS   \n",
       "                                                                                                c61   \n",
       "C23 Manufacture of other non-metallic mineral products GBR r14                                  0.0   \n",
       "\n",
       "                                                                                                    CONS_h  \\\n",
       "                                                               Final consumption expenditure by households   \n",
       "                                                                                                       AUT   \n",
       "                                                                                                       c57   \n",
       "C23 Manufacture of other non-metallic mineral products GBR r14                                         1.0   \n",
       "\n",
       "                                                                                                                                            CONS_np  \\\n",
       "                                                               Final consumption expenditure by non-profit organisations serving households (NPISH)   \n",
       "                                                                                                                                                AUT   \n",
       "                                                                                                                                                c58   \n",
       "C23 Manufacture of other non-metallic mineral products GBR r14                                                0.0                                     \n",
       "\n",
       "                                                                                                    CONS_g  \\\n",
       "                                                               Final consumption expenditure by government   \n",
       "                                                                                                       AUT   \n",
       "                                                                                                       c59   \n",
       "C23 Manufacture of other non-metallic mineral products GBR r14                                         0.0   \n",
       "\n",
       "                                                                                        GFCF  \\\n",
       "                                                               Gross fixed capital formation   \n",
       "                                                                                         AUT   \n",
       "                                                                                         c60   \n",
       "C23 Manufacture of other non-metallic mineral products GBR r14                           2.0   \n",
       "\n",
       "                                                                                              INVEN  \\\n",
       "                                                               Changes in inventories and valuables   \n",
       "                                                                                                AUT   \n",
       "                                                                                                c61   \n",
       "C23 Manufacture of other non-metallic mineral products GBR r14                                  0.0   \n",
       "\n",
       "                                                                               ...                   \\\n",
       "                                                                               ...                    \n",
       "                                                                               ...                    \n",
       "                                                                               ...                    \n",
       "C23 Manufacture of other non-metallic mineral products GBR r14                 ...                    \n",
       "\n",
       "                                                                                                    CONS_h  \\\n",
       "                                                               Final consumption expenditure by households   \n",
       "                                                                                                       USA   \n",
       "                                                                                                       c57   \n",
       "C23 Manufacture of other non-metallic mineral products GBR r14                                        71.0   \n",
       "\n",
       "                                                                                                                                            CONS_np  \\\n",
       "                                                               Final consumption expenditure by non-profit organisations serving households (NPISH)   \n",
       "                                                                                                                                                USA   \n",
       "                                                                                                                                                c58   \n",
       "C23 Manufacture of other non-metallic mineral products GBR r14                                                0.0                                     \n",
       "\n",
       "                                                                                                    CONS_g  \\\n",
       "                                                               Final consumption expenditure by government   \n",
       "                                                                                                       USA   \n",
       "                                                                                                       c59   \n",
       "C23 Manufacture of other non-metallic mineral products GBR r14                                         0.0   \n",
       "\n",
       "                                                                                        GFCF  \\\n",
       "                                                               Gross fixed capital formation   \n",
       "                                                                                         USA   \n",
       "                                                                                         c60   \n",
       "C23 Manufacture of other non-metallic mineral products GBR r14                          12.0   \n",
       "\n",
       "                                                                                              INVEN  \\\n",
       "                                                               Changes in inventories and valuables   \n",
       "                                                                                                USA   \n",
       "                                                                                                c61   \n",
       "C23 Manufacture of other non-metallic mineral products GBR r14                                  2.0   \n",
       "\n",
       "                                                                                                    CONS_h  \\\n",
       "                                                               Final consumption expenditure by households   \n",
       "                                                                                                       ROW   \n",
       "                                                                                                       c57   \n",
       "C23 Manufacture of other non-metallic mineral products GBR r14                                        35.0   \n",
       "\n",
       "                                                                                                                                            CONS_np  \\\n",
       "                                                               Final consumption expenditure by non-profit organisations serving households (NPISH)   \n",
       "                                                                                                                                                ROW   \n",
       "                                                                                                                                                c58   \n",
       "C23 Manufacture of other non-metallic mineral products GBR r14                                                0.0                                     \n",
       "\n",
       "                                                                                                    CONS_g  \\\n",
       "                                                               Final consumption expenditure by government   \n",
       "                                                                                                       ROW   \n",
       "                                                                                                       c59   \n",
       "C23 Manufacture of other non-metallic mineral products GBR r14                                         0.0   \n",
       "\n",
       "                                                                                        GFCF  \\\n",
       "                                                               Gross fixed capital formation   \n",
       "                                                                                         ROW   \n",
       "                                                                                         c60   \n",
       "C23 Manufacture of other non-metallic mineral products GBR r14                           2.0   \n",
       "\n",
       "                                                                                              INVEN  \n",
       "                                                               Changes in inventories and valuables  \n",
       "                                                                                                ROW  \n",
       "                                                                                                c61  \n",
       "C23 Manufacture of other non-metallic mineral products GBR r14                                  0.0  \n",
       "\n",
       "[1 rows x 220 columns]"
      ]
     },
     "execution_count": 6,
     "metadata": {},
     "output_type": "execute_result"
    }
   ],
   "source": [
    "# total final demand (from all around the world) for the output of your industry sector\n",
    "df.loc[(industry, slice(None), country, slice(None)),\n",
    "       (\"CONS_h\tCONS_np\tCONS_g\tGFCF\tINVEN\".split(\"\t\"), slice(None), slice(None), slice(None))]"
   ]
  },
  {
   "cell_type": "code",
   "execution_count": 7,
   "metadata": {},
   "outputs": [
    {
     "data": {
      "text/plain": [
       "C23  Manufacture of other non-metallic mineral products  GBR  r14    2259.0\n",
       "dtype: float64"
      ]
     },
     "execution_count": 7,
     "metadata": {},
     "output_type": "execute_result"
    }
   ],
   "source": [
    "# total final demand (from all around the world) for the output of your industry sector\n",
    "Q2 = df.loc[(industry, slice(None), country, slice(None)),\n",
    "       (\"CONS_h\tCONS_np\tCONS_g\tGFCF\tINVEN\".split(\"\t\"), slice(None), slice(None), slice(None))].sum(axis=1)\n",
    "Q2"
   ]
  },
  {
   "cell_type": "markdown",
   "metadata": {},
   "source": [
    "### Q3\n",
    "Your industry sells _____ US dollars worth of intermediate inputs to producers in your country and the rest of the world."
   ]
  },
  {
   "cell_type": "code",
   "execution_count": 8,
   "metadata": {
    "scrolled": false
   },
   "outputs": [],
   "source": [
    "# df.drop(\"c57\tc58\tc59\tc60\tc61\tc62\".split(\"\t\"), axis = 1, level = 3).loc[\n",
    "#     (industry, slice(None), country, slice(None)),\n",
    "#     (slice(None), slice(None), slice(None), slice(None))\n",
    "# ]"
   ]
  },
  {
   "cell_type": "code",
   "execution_count": 9,
   "metadata": {},
   "outputs": [
    {
     "data": {
      "text/plain": [
       "C23  Manufacture of other non-metallic mineral products  GBR  r14    25412.0\n",
       "dtype: float64"
      ]
     },
     "execution_count": 9,
     "metadata": {},
     "output_type": "execute_result"
    }
   ],
   "source": [
    "df.drop(\"c57\tc58\tc59\tc60\tc61\tc62\".split(\"\t\"), axis = 1, level = 3).loc[\n",
    "    (industry, slice(None), country, slice(None)),\n",
    "    (slice(None), slice(None), slice(None), slice(None))\n",
    "].sum(axis=1)"
   ]
  },
  {
   "cell_type": "markdown",
   "metadata": {},
   "source": [
    "### Q4\n",
    "Your industry demands _____ US dollars worth of intermediate inputs from producers in your country."
   ]
  },
  {
   "cell_type": "code",
   "execution_count": 10,
   "metadata": {
    "scrolled": false
   },
   "outputs": [],
   "source": [
    "# df.loc[(slice(None), slice(None), country, slice(None)),\n",
    "#        (industry, slice(None), country, slice(None))]"
   ]
  },
  {
   "cell_type": "code",
   "execution_count": 11,
   "metadata": {},
   "outputs": [
    {
     "data": {
      "text/plain": [
       "C23  Manufacture of other non-metallic mineral products  GBR  c14    15067.0\n",
       "dtype: float64"
      ]
     },
     "execution_count": 11,
     "metadata": {},
     "output_type": "execute_result"
    }
   ],
   "source": [
    "df.loc[(slice(None), slice(None), country, slice(None)),\n",
    "       (industry, slice(None), country, slice(None))].sum()"
   ]
  },
  {
   "cell_type": "markdown",
   "metadata": {},
   "source": [
    "### Q5\n",
    "Your industry’s simple output multiplier is _____."
   ]
  },
  {
   "cell_type": "code",
   "execution_count": 12,
   "metadata": {},
   "outputs": [],
   "source": [
    "indus = \"A01\tA02\tA03\tB\tC10-C12\tC13-C15\tC16\tC17\tC18\tC19\tC20\tC21\tC22\tC23\tC24\tC25\tC26\tC27\tC28\tC29\tC30\tC31_C32\tC33\tD35\tE36\tE37-E39\tF\tG45\tG46\tG47\tH49\tH50\tH51\tH52\tH53\tI\tJ58\tJ59_J60\tJ61\tJ62_J63\tK64\tK65\tK66\tL68\tM69_M70\tM71\tM72\tM73\tM74_M75\tN\tO84\tP85\tQ\tR_S\tT\tU\".split(\"\t\")\n",
    "indus = np.array(indus)"
   ]
  },
  {
   "cell_type": "code",
   "execution_count": 13,
   "metadata": {},
   "outputs": [],
   "source": [
    "A = df.drop(\"c57\tc58\tc59\tc60\tc61\".split(\"\t\"), axis = 1, level = 3).loc[\n",
    "    (slice(None), slice(None), country, slice(None)),\n",
    "    (slice(None), slice(None), [country, \"TOT\"], slice(None))]"
   ]
  },
  {
   "cell_type": "code",
   "execution_count": 14,
   "metadata": {},
   "outputs": [],
   "source": [
    "A = pd.DataFrame(A.values)"
   ]
  },
  {
   "cell_type": "code",
   "execution_count": 15,
   "metadata": {},
   "outputs": [],
   "source": [
    "div = A.iloc[:, -1]\n",
    "id_ = div[div != 0].index"
   ]
  },
  {
   "cell_type": "code",
   "execution_count": 16,
   "metadata": {},
   "outputs": [],
   "source": [
    "A = A.loc[id_, id_] / div[id_]"
   ]
  },
  {
   "cell_type": "code",
   "execution_count": 17,
   "metadata": {},
   "outputs": [],
   "source": [
    "A = np.eye(len(id_),len(id_)) - A"
   ]
  },
  {
   "cell_type": "code",
   "execution_count": 18,
   "metadata": {},
   "outputs": [],
   "source": [
    "L = pd.DataFrame(np.linalg.inv(A), index = indus[id_], columns = indus[id_])"
   ]
  },
  {
   "cell_type": "code",
   "execution_count": 19,
   "metadata": {},
   "outputs": [
    {
     "data": {
      "text/plain": [
       "1.988739788024383"
      ]
     },
     "execution_count": 19,
     "metadata": {},
     "output_type": "execute_result"
    }
   ],
   "source": [
    "L[industry].sum()"
   ]
  },
  {
   "cell_type": "markdown",
   "metadata": {},
   "source": [
    "### Q6\n",
    "Your industry’s simple value added multiplier is _____. (2points)"
   ]
  },
  {
   "cell_type": "code",
   "execution_count": 20,
   "metadata": {},
   "outputs": [],
   "source": [
    "# df.drop(\"c57\tc58\tc59\tc60\tc61\".split(\"\t\"), axis = 1, level = 3).loc[(\"VA\", slice(None), slice(None), slice(None)),\n",
    "#        (slice(None), slice(None), country, slice(None))]"
   ]
  },
  {
   "cell_type": "code",
   "execution_count": 21,
   "metadata": {},
   "outputs": [],
   "source": [
    "VA = df.drop(\"c57\tc58\tc59\tc60\tc61\".split(\"\t\"), axis = 1, level = 3).loc[(\"VA\", slice(None), slice(None), slice(None)),\n",
    "       (slice(None), slice(None), country, slice(None))].values"
   ]
  },
  {
   "cell_type": "code",
   "execution_count": 22,
   "metadata": {},
   "outputs": [],
   "source": [
    "# VA"
   ]
  },
  {
   "cell_type": "code",
   "execution_count": 23,
   "metadata": {},
   "outputs": [],
   "source": [
    "VA = pd.DataFrame(VA)"
   ]
  },
  {
   "cell_type": "code",
   "execution_count": 24,
   "metadata": {},
   "outputs": [],
   "source": [
    "# VA"
   ]
  },
  {
   "cell_type": "code",
   "execution_count": 25,
   "metadata": {},
   "outputs": [],
   "source": [
    "VC = VA.iloc[:, id_] / div[id_]"
   ]
  },
  {
   "cell_type": "code",
   "execution_count": 26,
   "metadata": {},
   "outputs": [],
   "source": [
    "VC = np.diag(VC.values.flatten())"
   ]
  },
  {
   "cell_type": "code",
   "execution_count": 27,
   "metadata": {},
   "outputs": [
    {
     "data": {
      "text/plain": [
       "0.6928866648093185"
      ]
     },
     "execution_count": 27,
     "metadata": {},
     "output_type": "execute_result"
    }
   ],
   "source": [
    "Q6 = pd.DataFrame(np.dot(VC, L),index = indus[id_], columns = indus[id_])[industry].sum()\n",
    "Q6"
   ]
  },
  {
   "cell_type": "markdown",
   "metadata": {},
   "source": [
    "### Q7\n",
    "If final demand by your country and the rest of the world for your industry’s output were to increase by one percent, the open input-output model predicts that your country’s total value added would increase by _____ percent. (2 points)"
   ]
  },
  {
   "cell_type": "code",
   "execution_count": 28,
   "metadata": {},
   "outputs": [
    {
     "data": {
      "text/plain": [
       "C23  Manufacture of other non-metallic mineral products  GBR  r14    2259.0\n",
       "dtype: float64"
      ]
     },
     "execution_count": 28,
     "metadata": {},
     "output_type": "execute_result"
    }
   ],
   "source": [
    "Q2"
   ]
  },
  {
   "cell_type": "code",
   "execution_count": 29,
   "metadata": {},
   "outputs": [
    {
     "data": {
      "text/plain": [
       "array([22.59])"
      ]
     },
     "execution_count": 29,
     "metadata": {},
     "output_type": "execute_result"
    }
   ],
   "source": [
    "Q2.values * 0.01"
   ]
  },
  {
   "cell_type": "code",
   "execution_count": 30,
   "metadata": {},
   "outputs": [
    {
     "data": {
      "text/plain": [
       "0.6928866648093185"
      ]
     },
     "execution_count": 30,
     "metadata": {},
     "output_type": "execute_result"
    }
   ],
   "source": [
    "# value-added multiplier\n",
    "Q6"
   ]
  },
  {
   "cell_type": "code",
   "execution_count": 31,
   "metadata": {},
   "outputs": [
    {
     "data": {
      "text/html": [
       "<div>\n",
       "<style scoped>\n",
       "    .dataframe tbody tr th:only-of-type {\n",
       "        vertical-align: middle;\n",
       "    }\n",
       "\n",
       "    .dataframe tbody tr th {\n",
       "        vertical-align: top;\n",
       "    }\n",
       "\n",
       "    .dataframe thead tr th {\n",
       "        text-align: left;\n",
       "    }\n",
       "</style>\n",
       "<table border=\"1\" class=\"dataframe\">\n",
       "  <thead>\n",
       "    <tr>\n",
       "      <th></th>\n",
       "      <th></th>\n",
       "      <th></th>\n",
       "      <th></th>\n",
       "      <th>C23</th>\n",
       "    </tr>\n",
       "    <tr>\n",
       "      <th></th>\n",
       "      <th></th>\n",
       "      <th></th>\n",
       "      <th></th>\n",
       "      <th>Manufacture of other non-metallic mineral products</th>\n",
       "    </tr>\n",
       "    <tr>\n",
       "      <th></th>\n",
       "      <th></th>\n",
       "      <th></th>\n",
       "      <th></th>\n",
       "      <th>GBR</th>\n",
       "    </tr>\n",
       "    <tr>\n",
       "      <th></th>\n",
       "      <th></th>\n",
       "      <th></th>\n",
       "      <th></th>\n",
       "      <th>c14</th>\n",
       "    </tr>\n",
       "  </thead>\n",
       "  <tbody>\n",
       "    <tr>\n",
       "      <th>VA</th>\n",
       "      <th>Value added at basic prices</th>\n",
       "      <th>TOT</th>\n",
       "      <th>r70</th>\n",
       "      <td>7995.0</td>\n",
       "    </tr>\n",
       "  </tbody>\n",
       "</table>\n",
       "</div>"
      ],
      "text/plain": [
       "                                                                                      C23\n",
       "                                       Manufacture of other non-metallic mineral products\n",
       "                                                                                      GBR\n",
       "                                                                                      c14\n",
       "VA Value added at basic prices TOT r70                                             7995.0"
      ]
     },
     "execution_count": 31,
     "metadata": {},
     "output_type": "execute_result"
    }
   ],
   "source": [
    "Q1"
   ]
  },
  {
   "cell_type": "code",
   "execution_count": 32,
   "metadata": {},
   "outputs": [
    {
     "data": {
      "text/html": [
       "<div>\n",
       "<style scoped>\n",
       "    .dataframe tbody tr th:only-of-type {\n",
       "        vertical-align: middle;\n",
       "    }\n",
       "\n",
       "    .dataframe tbody tr th {\n",
       "        vertical-align: top;\n",
       "    }\n",
       "\n",
       "    .dataframe thead tr th {\n",
       "        text-align: left;\n",
       "    }\n",
       "</style>\n",
       "<table border=\"1\" class=\"dataframe\">\n",
       "  <thead>\n",
       "    <tr>\n",
       "      <th></th>\n",
       "      <th></th>\n",
       "      <th></th>\n",
       "      <th></th>\n",
       "      <th>C23</th>\n",
       "    </tr>\n",
       "    <tr>\n",
       "      <th></th>\n",
       "      <th></th>\n",
       "      <th></th>\n",
       "      <th></th>\n",
       "      <th>Manufacture of other non-metallic mineral products</th>\n",
       "    </tr>\n",
       "    <tr>\n",
       "      <th></th>\n",
       "      <th></th>\n",
       "      <th></th>\n",
       "      <th></th>\n",
       "      <th>GBR</th>\n",
       "    </tr>\n",
       "    <tr>\n",
       "      <th></th>\n",
       "      <th></th>\n",
       "      <th></th>\n",
       "      <th></th>\n",
       "      <th>c14</th>\n",
       "    </tr>\n",
       "  </thead>\n",
       "  <tbody>\n",
       "    <tr>\n",
       "      <th>VA</th>\n",
       "      <th>Value added at basic prices</th>\n",
       "      <th>TOT</th>\n",
       "      <th>r70</th>\n",
       "      <td>0.195776</td>\n",
       "    </tr>\n",
       "  </tbody>\n",
       "</table>\n",
       "</div>"
      ],
      "text/plain": [
       "                                                                                      C23\n",
       "                                       Manufacture of other non-metallic mineral products\n",
       "                                                                                      GBR\n",
       "                                                                                      c14\n",
       "VA Value added at basic prices TOT r70                                           0.195776"
      ]
     },
     "execution_count": 32,
     "metadata": {},
     "output_type": "execute_result"
    }
   ],
   "source": [
    "Q2.values * 0.01 * Q6 / Q1 * 100"
   ]
  },
  {
   "cell_type": "markdown",
   "metadata": {},
   "source": [
    "### Q8\n",
    "Your industry’s consumption coefficient (ratio of household consumption to total labor compensation) is _____. (1point)"
   ]
  },
  {
   "cell_type": "code",
   "execution_count": 33,
   "metadata": {},
   "outputs": [],
   "source": [
    "EXR = pd.read_excel(\"EXR_WIOD_Nov16.xlsx\", sheet_name=\"EXR\", header=3)\n",
    "EXR = EXR[EXR[\"Acronym\"] == country][\"_2014\"]"
   ]
  },
  {
   "cell_type": "code",
   "execution_count": 34,
   "metadata": {},
   "outputs": [],
   "source": [
    "lab = pd.read_excel(\"WIOD_SEA_Nov16.xlsx\", sheet_name=\"DATA\")\n",
    "lab = lab[lab[\"variable\"] == \"LAB\"].drop(range(2000,2014), axis=1)"
   ]
  },
  {
   "cell_type": "code",
   "execution_count": 35,
   "metadata": {},
   "outputs": [],
   "source": [
    "lab_compen = lab[(lab[\"country\"] == country)][2014].sum()"
   ]
  },
  {
   "cell_type": "code",
   "execution_count": 36,
   "metadata": {},
   "outputs": [
    {
     "data": {
      "text/html": [
       "<div>\n",
       "<style scoped>\n",
       "    .dataframe tbody tr th:only-of-type {\n",
       "        vertical-align: middle;\n",
       "    }\n",
       "\n",
       "    .dataframe tbody tr th {\n",
       "        vertical-align: top;\n",
       "    }\n",
       "\n",
       "    .dataframe thead tr th {\n",
       "        text-align: left;\n",
       "    }\n",
       "</style>\n",
       "<table border=\"1\" class=\"dataframe\">\n",
       "  <thead>\n",
       "    <tr>\n",
       "      <th></th>\n",
       "      <th></th>\n",
       "      <th></th>\n",
       "      <th></th>\n",
       "      <th>CONS_h</th>\n",
       "    </tr>\n",
       "    <tr>\n",
       "      <th></th>\n",
       "      <th></th>\n",
       "      <th></th>\n",
       "      <th></th>\n",
       "      <th>Final consumption expenditure by households</th>\n",
       "    </tr>\n",
       "    <tr>\n",
       "      <th></th>\n",
       "      <th></th>\n",
       "      <th></th>\n",
       "      <th></th>\n",
       "      <th>GBR</th>\n",
       "    </tr>\n",
       "    <tr>\n",
       "      <th></th>\n",
       "      <th></th>\n",
       "      <th></th>\n",
       "      <th></th>\n",
       "      <th>c57</th>\n",
       "    </tr>\n",
       "  </thead>\n",
       "  <tbody>\n",
       "    <tr>\n",
       "      <th>C23</th>\n",
       "      <th>Manufacture of other non-metallic mineral products</th>\n",
       "      <th>GBR</th>\n",
       "      <th>r14</th>\n",
       "      <td>1148.0</td>\n",
       "    </tr>\n",
       "  </tbody>\n",
       "</table>\n",
       "</div>"
      ],
      "text/plain": [
       "                                                                                                    CONS_h\n",
       "                                                               Final consumption expenditure by households\n",
       "                                                                                                       GBR\n",
       "                                                                                                       c57\n",
       "C23 Manufacture of other non-metallic mineral products GBR r14                                      1148.0"
      ]
     },
     "execution_count": 36,
     "metadata": {},
     "output_type": "execute_result"
    }
   ],
   "source": [
    "consumption = df.loc[\n",
    "    (industry, slice(None), country, slice(None)),\n",
    "    (slice(None), slice(None), country, \"c57\")]\n",
    "consumption"
   ]
  },
  {
   "cell_type": "code",
   "execution_count": 37,
   "metadata": {},
   "outputs": [
    {
     "data": {
      "text/html": [
       "<div>\n",
       "<style scoped>\n",
       "    .dataframe tbody tr th:only-of-type {\n",
       "        vertical-align: middle;\n",
       "    }\n",
       "\n",
       "    .dataframe tbody tr th {\n",
       "        vertical-align: top;\n",
       "    }\n",
       "\n",
       "    .dataframe thead tr th {\n",
       "        text-align: left;\n",
       "    }\n",
       "</style>\n",
       "<table border=\"1\" class=\"dataframe\">\n",
       "  <thead>\n",
       "    <tr>\n",
       "      <th></th>\n",
       "      <th></th>\n",
       "      <th></th>\n",
       "      <th></th>\n",
       "      <th>CONS_h</th>\n",
       "    </tr>\n",
       "    <tr>\n",
       "      <th></th>\n",
       "      <th></th>\n",
       "      <th></th>\n",
       "      <th></th>\n",
       "      <th>Final consumption expenditure by households</th>\n",
       "    </tr>\n",
       "    <tr>\n",
       "      <th></th>\n",
       "      <th></th>\n",
       "      <th></th>\n",
       "      <th></th>\n",
       "      <th>GBR</th>\n",
       "    </tr>\n",
       "    <tr>\n",
       "      <th></th>\n",
       "      <th></th>\n",
       "      <th></th>\n",
       "      <th></th>\n",
       "      <th>c57</th>\n",
       "    </tr>\n",
       "  </thead>\n",
       "  <tbody>\n",
       "    <tr>\n",
       "      <th>C23</th>\n",
       "      <th>Manufacture of other non-metallic mineral products</th>\n",
       "      <th>GBR</th>\n",
       "      <th>r14</th>\n",
       "      <td>0.000664</td>\n",
       "    </tr>\n",
       "  </tbody>\n",
       "</table>\n",
       "</div>"
      ],
      "text/plain": [
       "                                                                                                    CONS_h\n",
       "                                                               Final consumption expenditure by households\n",
       "                                                                                                       GBR\n",
       "                                                                                                       c57\n",
       "C23 Manufacture of other non-metallic mineral products GBR r14                                    0.000664"
      ]
     },
     "execution_count": 37,
     "metadata": {},
     "output_type": "execute_result"
    }
   ],
   "source": [
    "consumption / (lab_compen * EXR.values)"
   ]
  },
  {
   "cell_type": "markdown",
   "metadata": {},
   "source": [
    "### Q9\n",
    "Your industry’s total truncated output multiplier is _____. (2 points)"
   ]
  },
  {
   "cell_type": "code",
   "execution_count": 38,
   "metadata": {
    "scrolled": false
   },
   "outputs": [],
   "source": [
    "# df.drop(\"r66\tr67\tr68\tr69\tr70\tr71\tr72\tr73\".split(\"\t\"), level = 3).drop(\"c58\tc59\tc60\tc61\".split(\"\t\"), axis=1, level=3).loc[\n",
    "#     (slice(None), slice(None), country, slice(None)),\n",
    "#     (slice(None), slice(None), [country, \"TOT\"], slice(None))]"
   ]
  },
  {
   "cell_type": "code",
   "execution_count": 39,
   "metadata": {},
   "outputs": [],
   "source": [
    "Z = df.drop(\"r66\tr67\tr68\tr69\tr70\tr71\tr72\tr73\".split(\"\t\"), level = 3).drop(\"c58\tc59\tc60\tc61\".split(\"\t\"), axis=1, level=3).loc[\n",
    "    (slice(None), slice(None), country, slice(None)),\n",
    "    (slice(None), slice(None), [country, \"TOT\"], slice(None))].values"
   ]
  },
  {
   "cell_type": "code",
   "execution_count": 40,
   "metadata": {},
   "outputs": [],
   "source": [
    "Z = pd.DataFrame(Z, index = indus, columns=np.append(indus, [range(2)]))"
   ]
  },
  {
   "cell_type": "code",
   "execution_count": 41,
   "metadata": {},
   "outputs": [],
   "source": [
    "Z.columns = np.append(indus, [\"FC\", \"X\"])"
   ]
  },
  {
   "cell_type": "code",
   "execution_count": 42,
   "metadata": {},
   "outputs": [],
   "source": [
    "# Z"
   ]
  },
  {
   "cell_type": "code",
   "execution_count": 43,
   "metadata": {},
   "outputs": [],
   "source": [
    "# lab[lab[\"country\"] == country][2014]"
   ]
  },
  {
   "cell_type": "code",
   "execution_count": 44,
   "metadata": {},
   "outputs": [],
   "source": [
    "lab = (lab[lab[\"country\"] == country][2014] * EXR.values).values"
   ]
  },
  {
   "cell_type": "code",
   "execution_count": 45,
   "metadata": {},
   "outputs": [],
   "source": [
    "# lab"
   ]
  },
  {
   "cell_type": "code",
   "execution_count": 46,
   "metadata": {},
   "outputs": [],
   "source": [
    "Z = Z.append(pd.Series(np.append(lab, [0,0]), index = Z.columns), ignore_index=True)"
   ]
  },
  {
   "cell_type": "code",
   "execution_count": 47,
   "metadata": {},
   "outputs": [],
   "source": [
    "Z.index = np.append(indus, \"labor\")"
   ]
  },
  {
   "cell_type": "code",
   "execution_count": 48,
   "metadata": {},
   "outputs": [
    {
     "data": {
      "text/html": [
       "<div>\n",
       "<style scoped>\n",
       "    .dataframe tbody tr th:only-of-type {\n",
       "        vertical-align: middle;\n",
       "    }\n",
       "\n",
       "    .dataframe tbody tr th {\n",
       "        vertical-align: top;\n",
       "    }\n",
       "\n",
       "    .dataframe thead th {\n",
       "        text-align: right;\n",
       "    }\n",
       "</style>\n",
       "<table border=\"1\" class=\"dataframe\">\n",
       "  <thead>\n",
       "    <tr style=\"text-align: right;\">\n",
       "      <th></th>\n",
       "      <th>A01</th>\n",
       "      <th>A02</th>\n",
       "      <th>A03</th>\n",
       "      <th>B</th>\n",
       "      <th>C10-C12</th>\n",
       "      <th>C13-C15</th>\n",
       "      <th>C16</th>\n",
       "      <th>C17</th>\n",
       "      <th>C18</th>\n",
       "      <th>C19</th>\n",
       "      <th>...</th>\n",
       "      <th>M74_M75</th>\n",
       "      <th>N</th>\n",
       "      <th>O84</th>\n",
       "      <th>P85</th>\n",
       "      <th>Q</th>\n",
       "      <th>R_S</th>\n",
       "      <th>T</th>\n",
       "      <th>U</th>\n",
       "      <th>FC</th>\n",
       "      <th>X</th>\n",
       "    </tr>\n",
       "  </thead>\n",
       "  <tbody>\n",
       "    <tr>\n",
       "      <th>A01</th>\n",
       "      <td>4351.0</td>\n",
       "      <td>111.0</td>\n",
       "      <td>0.0</td>\n",
       "      <td>7.0</td>\n",
       "      <td>16952.0</td>\n",
       "      <td>10.0</td>\n",
       "      <td>2.0</td>\n",
       "      <td>7.0</td>\n",
       "      <td>8.0</td>\n",
       "      <td>2.0</td>\n",
       "      <td>...</td>\n",
       "      <td>10.0</td>\n",
       "      <td>97.0</td>\n",
       "      <td>24.0</td>\n",
       "      <td>73.0</td>\n",
       "      <td>143.0</td>\n",
       "      <td>49.0</td>\n",
       "      <td>0.0</td>\n",
       "      <td>0.0</td>\n",
       "      <td>12906.0</td>\n",
       "      <td>43073.0</td>\n",
       "    </tr>\n",
       "    <tr>\n",
       "      <th>A02</th>\n",
       "      <td>2.0</td>\n",
       "      <td>525.0</td>\n",
       "      <td>0.0</td>\n",
       "      <td>2.0</td>\n",
       "      <td>7.0</td>\n",
       "      <td>0.0</td>\n",
       "      <td>307.0</td>\n",
       "      <td>1.0</td>\n",
       "      <td>1.0</td>\n",
       "      <td>0.0</td>\n",
       "      <td>...</td>\n",
       "      <td>1.0</td>\n",
       "      <td>8.0</td>\n",
       "      <td>6.0</td>\n",
       "      <td>5.0</td>\n",
       "      <td>16.0</td>\n",
       "      <td>13.0</td>\n",
       "      <td>0.0</td>\n",
       "      <td>0.0</td>\n",
       "      <td>526.0</td>\n",
       "      <td>1908.0</td>\n",
       "    </tr>\n",
       "    <tr>\n",
       "      <th>A03</th>\n",
       "      <td>0.0</td>\n",
       "      <td>0.0</td>\n",
       "      <td>134.0</td>\n",
       "      <td>0.0</td>\n",
       "      <td>752.0</td>\n",
       "      <td>0.0</td>\n",
       "      <td>0.0</td>\n",
       "      <td>0.0</td>\n",
       "      <td>0.0</td>\n",
       "      <td>0.0</td>\n",
       "      <td>...</td>\n",
       "      <td>0.0</td>\n",
       "      <td>1.0</td>\n",
       "      <td>1.0</td>\n",
       "      <td>1.0</td>\n",
       "      <td>4.0</td>\n",
       "      <td>1.0</td>\n",
       "      <td>0.0</td>\n",
       "      <td>0.0</td>\n",
       "      <td>392.0</td>\n",
       "      <td>2729.0</td>\n",
       "    </tr>\n",
       "    <tr>\n",
       "      <th>B</th>\n",
       "      <td>15.0</td>\n",
       "      <td>1.0</td>\n",
       "      <td>1.0</td>\n",
       "      <td>4134.0</td>\n",
       "      <td>113.0</td>\n",
       "      <td>9.0</td>\n",
       "      <td>7.0</td>\n",
       "      <td>35.0</td>\n",
       "      <td>11.0</td>\n",
       "      <td>13318.0</td>\n",
       "      <td>...</td>\n",
       "      <td>21.0</td>\n",
       "      <td>141.0</td>\n",
       "      <td>66.0</td>\n",
       "      <td>40.0</td>\n",
       "      <td>122.0</td>\n",
       "      <td>50.0</td>\n",
       "      <td>0.0</td>\n",
       "      <td>0.0</td>\n",
       "      <td>952.0</td>\n",
       "      <td>70721.0</td>\n",
       "    </tr>\n",
       "    <tr>\n",
       "      <th>C10-C12</th>\n",
       "      <td>4671.0</td>\n",
       "      <td>5.0</td>\n",
       "      <td>172.0</td>\n",
       "      <td>114.0</td>\n",
       "      <td>30356.0</td>\n",
       "      <td>263.0</td>\n",
       "      <td>35.0</td>\n",
       "      <td>219.0</td>\n",
       "      <td>69.0</td>\n",
       "      <td>103.0</td>\n",
       "      <td>...</td>\n",
       "      <td>167.0</td>\n",
       "      <td>1267.0</td>\n",
       "      <td>327.0</td>\n",
       "      <td>1444.0</td>\n",
       "      <td>3924.0</td>\n",
       "      <td>1577.0</td>\n",
       "      <td>0.0</td>\n",
       "      <td>0.0</td>\n",
       "      <td>35357.0</td>\n",
       "      <td>150147.0</td>\n",
       "    </tr>\n",
       "  </tbody>\n",
       "</table>\n",
       "<p>5 rows × 58 columns</p>\n",
       "</div>"
      ],
      "text/plain": [
       "            A01    A02    A03       B  C10-C12  C13-C15    C16    C17   C18  \\\n",
       "A01      4351.0  111.0    0.0     7.0  16952.0     10.0    2.0    7.0   8.0   \n",
       "A02         2.0  525.0    0.0     2.0      7.0      0.0  307.0    1.0   1.0   \n",
       "A03         0.0    0.0  134.0     0.0    752.0      0.0    0.0    0.0   0.0   \n",
       "B          15.0    1.0    1.0  4134.0    113.0      9.0    7.0   35.0  11.0   \n",
       "C10-C12  4671.0    5.0  172.0   114.0  30356.0    263.0   35.0  219.0  69.0   \n",
       "\n",
       "             C19    ...     M74_M75       N    O84     P85       Q     R_S  \\\n",
       "A01          2.0    ...        10.0    97.0   24.0    73.0   143.0    49.0   \n",
       "A02          0.0    ...         1.0     8.0    6.0     5.0    16.0    13.0   \n",
       "A03          0.0    ...         0.0     1.0    1.0     1.0     4.0     1.0   \n",
       "B        13318.0    ...        21.0   141.0   66.0    40.0   122.0    50.0   \n",
       "C10-C12    103.0    ...       167.0  1267.0  327.0  1444.0  3924.0  1577.0   \n",
       "\n",
       "           T    U       FC         X  \n",
       "A01      0.0  0.0  12906.0   43073.0  \n",
       "A02      0.0  0.0    526.0    1908.0  \n",
       "A03      0.0  0.0    392.0    2729.0  \n",
       "B        0.0  0.0    952.0   70721.0  \n",
       "C10-C12  0.0  0.0  35357.0  150147.0  \n",
       "\n",
       "[5 rows x 58 columns]"
      ]
     },
     "execution_count": 48,
     "metadata": {},
     "output_type": "execute_result"
    }
   ],
   "source": [
    "Z.head()"
   ]
  },
  {
   "cell_type": "code",
   "execution_count": 49,
   "metadata": {},
   "outputs": [],
   "source": [
    "div = list(Z[\"X\"].values)\n",
    "div.pop(len(list(Z[\"X\"].values))-1)\n",
    "div.append(lab.sum())"
   ]
  },
  {
   "cell_type": "code",
   "execution_count": 50,
   "metadata": {},
   "outputs": [],
   "source": [
    "# div"
   ]
  },
  {
   "cell_type": "code",
   "execution_count": 51,
   "metadata": {
    "scrolled": true
   },
   "outputs": [],
   "source": [
    "A = (Z.drop(\"X\", axis=1) / div).fillna(0)"
   ]
  },
  {
   "cell_type": "code",
   "execution_count": 52,
   "metadata": {},
   "outputs": [],
   "source": [
    "# np.eye(len(A), len(A)) - A"
   ]
  },
  {
   "cell_type": "code",
   "execution_count": 53,
   "metadata": {
    "scrolled": false
   },
   "outputs": [],
   "source": [
    "L = pd.DataFrame(np.linalg.inv(np.eye(len(A), len(A)) - A), index = A.index, columns=A.columns)"
   ]
  },
  {
   "cell_type": "code",
   "execution_count": 54,
   "metadata": {},
   "outputs": [],
   "source": [
    "# L"
   ]
  },
  {
   "cell_type": "code",
   "execution_count": 55,
   "metadata": {},
   "outputs": [
    {
     "data": {
      "text/plain": [
       "3.049184749130727"
      ]
     },
     "execution_count": 55,
     "metadata": {},
     "output_type": "execute_result"
    }
   ],
   "source": [
    "L[industry].values[:-1].sum()"
   ]
  },
  {
   "cell_type": "markdown",
   "metadata": {},
   "source": [
    "### Q10\n",
    "Your industry’s total truncated value added multiplier is_____. (2 points)"
   ]
  },
  {
   "cell_type": "code",
   "execution_count": 56,
   "metadata": {},
   "outputs": [],
   "source": [
    "# Z"
   ]
  },
  {
   "cell_type": "code",
   "execution_count": 57,
   "metadata": {},
   "outputs": [],
   "source": [
    "Z[\"X\"].values[-1] = lab.sum()"
   ]
  },
  {
   "cell_type": "code",
   "execution_count": 58,
   "metadata": {},
   "outputs": [
    {
     "data": {
      "text/plain": [
       "1729253.9410800003"
      ]
     },
     "execution_count": 58,
     "metadata": {},
     "output_type": "execute_result"
    }
   ],
   "source": [
    "Z[\"X\"].values[-1]"
   ]
  },
  {
   "cell_type": "code",
   "execution_count": 59,
   "metadata": {},
   "outputs": [],
   "source": [
    "VA = Z[\"X\"].values - Z.sum().values[:-1]"
   ]
  },
  {
   "cell_type": "code",
   "execution_count": 60,
   "metadata": {},
   "outputs": [],
   "source": [
    "VC = VA / Z[\"X\"]"
   ]
  },
  {
   "cell_type": "code",
   "execution_count": 61,
   "metadata": {},
   "outputs": [],
   "source": [
    "VC = VC.fillna(0)\n",
    "VC = VC.values[:-1]"
   ]
  },
  {
   "cell_type": "code",
   "execution_count": 62,
   "metadata": {},
   "outputs": [],
   "source": [
    "VC = np.diag(VC.flatten())"
   ]
  },
  {
   "cell_type": "code",
   "execution_count": 63,
   "metadata": {},
   "outputs": [],
   "source": [
    "# VC"
   ]
  },
  {
   "cell_type": "code",
   "execution_count": 64,
   "metadata": {},
   "outputs": [],
   "source": [
    "L = L.values[:-1,:-1]"
   ]
  },
  {
   "cell_type": "code",
   "execution_count": 65,
   "metadata": {},
   "outputs": [],
   "source": [
    "# np.dot(VC, L)"
   ]
  },
  {
   "cell_type": "code",
   "execution_count": 66,
   "metadata": {},
   "outputs": [
    {
     "data": {
      "text/plain": [
       "0.853341076156061"
      ]
     },
     "execution_count": 66,
     "metadata": {},
     "output_type": "execute_result"
    }
   ],
   "source": [
    "Q10 = pd.DataFrame(np.dot(VC, L), index=indus, columns=indus)[industry].sum()\n",
    "Q10"
   ]
  },
  {
   "cell_type": "markdown",
   "metadata": {},
   "source": [
    "### Q11.\n",
    "If final demand by your country and the rest of the world\n",
    "for your industry’s output were to increase by one percent,\n",
    "the closed input-output model predicts that your country’s\n",
    "total value added would increase by _____ percent. (2\n",
    "points)"
   ]
  },
  {
   "cell_type": "code",
   "execution_count": 67,
   "metadata": {},
   "outputs": [
    {
     "data": {
      "text/html": [
       "<div>\n",
       "<style scoped>\n",
       "    .dataframe tbody tr th:only-of-type {\n",
       "        vertical-align: middle;\n",
       "    }\n",
       "\n",
       "    .dataframe tbody tr th {\n",
       "        vertical-align: top;\n",
       "    }\n",
       "\n",
       "    .dataframe thead tr th {\n",
       "        text-align: left;\n",
       "    }\n",
       "</style>\n",
       "<table border=\"1\" class=\"dataframe\">\n",
       "  <thead>\n",
       "    <tr>\n",
       "      <th></th>\n",
       "      <th></th>\n",
       "      <th></th>\n",
       "      <th></th>\n",
       "      <th>C23</th>\n",
       "    </tr>\n",
       "    <tr>\n",
       "      <th></th>\n",
       "      <th></th>\n",
       "      <th></th>\n",
       "      <th></th>\n",
       "      <th>Manufacture of other non-metallic mineral products</th>\n",
       "    </tr>\n",
       "    <tr>\n",
       "      <th></th>\n",
       "      <th></th>\n",
       "      <th></th>\n",
       "      <th></th>\n",
       "      <th>GBR</th>\n",
       "    </tr>\n",
       "    <tr>\n",
       "      <th></th>\n",
       "      <th></th>\n",
       "      <th></th>\n",
       "      <th></th>\n",
       "      <th>c14</th>\n",
       "    </tr>\n",
       "  </thead>\n",
       "  <tbody>\n",
       "    <tr>\n",
       "      <th>VA</th>\n",
       "      <th>Value added at basic prices</th>\n",
       "      <th>TOT</th>\n",
       "      <th>r70</th>\n",
       "      <td>0.241113</td>\n",
       "    </tr>\n",
       "  </tbody>\n",
       "</table>\n",
       "</div>"
      ],
      "text/plain": [
       "                                                                                      C23\n",
       "                                       Manufacture of other non-metallic mineral products\n",
       "                                                                                      GBR\n",
       "                                                                                      c14\n",
       "VA Value added at basic prices TOT r70                                           0.241113"
      ]
     },
     "execution_count": 67,
     "metadata": {},
     "output_type": "execute_result"
    }
   ],
   "source": [
    "Q2.values * 0.01 * Q10 / Q1 * 100"
   ]
  }
 ],
 "metadata": {
  "kernelspec": {
   "display_name": "Python 3",
   "language": "python",
   "name": "python3"
  },
  "language_info": {
   "codemirror_mode": {
    "name": "ipython",
    "version": 3
   },
   "file_extension": ".py",
   "mimetype": "text/x-python",
   "name": "python",
   "nbconvert_exporter": "python",
   "pygments_lexer": "ipython3",
   "version": "3.6.4"
  }
 },
 "nbformat": 4,
 "nbformat_minor": 2
}
