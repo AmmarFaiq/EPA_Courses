{
 "cells": [
  {
   "cell_type": "code",
   "execution_count": 45,
   "metadata": {
    "collapsed": true
   },
   "outputs": [],
   "source": [
    "%matplotlib inline\n",
    "\n",
    "import pandas as pd\n",
    "import numpy as np\n",
    "import matplotlib.pyplot as plt\n",
    "\n",
    "import seaborn as sns\n",
    "\n",
    "from math import sin, cos, atan2, sqrt, pi, radians\n",
    "#!conda install -c conda-forge geopandas"
   ]
  },
  {
   "cell_type": "code",
   "execution_count": 46,
   "metadata": {},
   "outputs": [
    {
     "name": "stderr",
     "output_type": "stream",
     "text": [
      "b'Skipping line 229: expected 6 fields, saw 7\\nSkipping line 240: expected 6 fields, saw 7\\n'\n"
     ]
    },
    {
     "data": {
      "text/html": [
       "<div>\n",
       "<table border=\"1\" class=\"dataframe\">\n",
       "  <thead>\n",
       "    <tr style=\"text-align: right;\">\n",
       "      <th></th>\n",
       "      <th>CapitalName</th>\n",
       "      <th>CapitalLatitude</th>\n",
       "      <th>CapitalLongitude</th>\n",
       "      <th>CountryCode</th>\n",
       "      <th>ContinentName</th>\n",
       "    </tr>\n",
       "    <tr>\n",
       "      <th>CountryName</th>\n",
       "      <th></th>\n",
       "      <th></th>\n",
       "      <th></th>\n",
       "      <th></th>\n",
       "      <th></th>\n",
       "    </tr>\n",
       "  </thead>\n",
       "  <tbody>\n",
       "    <tr>\n",
       "      <th>Somaliland</th>\n",
       "      <td>Hargeisa</td>\n",
       "      <td>9.550000</td>\n",
       "      <td>44.050000</td>\n",
       "      <td>NaN</td>\n",
       "      <td>Africa</td>\n",
       "    </tr>\n",
       "    <tr>\n",
       "      <th>South Georgia and South Sandwich Islands</th>\n",
       "      <td>King Edward Point</td>\n",
       "      <td>-54.283333</td>\n",
       "      <td>-36.500000</td>\n",
       "      <td>GS</td>\n",
       "      <td>Antarctica</td>\n",
       "    </tr>\n",
       "    <tr>\n",
       "      <th>French Southern and Antarctic Lands</th>\n",
       "      <td>Port-aux-Français</td>\n",
       "      <td>-49.350000</td>\n",
       "      <td>70.216667</td>\n",
       "      <td>TF</td>\n",
       "      <td>Antarctica</td>\n",
       "    </tr>\n",
       "    <tr>\n",
       "      <th>Palestine</th>\n",
       "      <td>Jerusalem</td>\n",
       "      <td>31.766667</td>\n",
       "      <td>35.233333</td>\n",
       "      <td>PS</td>\n",
       "      <td>Asia</td>\n",
       "    </tr>\n",
       "    <tr>\n",
       "      <th>Aland Islands</th>\n",
       "      <td>Mariehamn</td>\n",
       "      <td>60.116667</td>\n",
       "      <td>19.900000</td>\n",
       "      <td>AX</td>\n",
       "      <td>Europe</td>\n",
       "    </tr>\n",
       "    <tr>\n",
       "      <th>Nauru</th>\n",
       "      <td>Yaren</td>\n",
       "      <td>-0.547700</td>\n",
       "      <td>166.920867</td>\n",
       "      <td>NR</td>\n",
       "      <td>Australia</td>\n",
       "    </tr>\n",
       "    <tr>\n",
       "      <th>Saint Martin</th>\n",
       "      <td>Marigot</td>\n",
       "      <td>18.073100</td>\n",
       "      <td>-63.082200</td>\n",
       "      <td>MF</td>\n",
       "      <td>North America</td>\n",
       "    </tr>\n",
       "    <tr>\n",
       "      <th>Tokelau</th>\n",
       "      <td>Atafu</td>\n",
       "      <td>-9.166667</td>\n",
       "      <td>-171.833333</td>\n",
       "      <td>TK</td>\n",
       "      <td>Australia</td>\n",
       "    </tr>\n",
       "    <tr>\n",
       "      <th>Western Sahara</th>\n",
       "      <td>El-Aaiún</td>\n",
       "      <td>27.153611</td>\n",
       "      <td>-13.203333</td>\n",
       "      <td>EH</td>\n",
       "      <td>Africa</td>\n",
       "    </tr>\n",
       "    <tr>\n",
       "      <th>Afghanistan</th>\n",
       "      <td>Kabul</td>\n",
       "      <td>34.516667</td>\n",
       "      <td>69.183333</td>\n",
       "      <td>AF</td>\n",
       "      <td>Asia</td>\n",
       "    </tr>\n",
       "  </tbody>\n",
       "</table>\n",
       "</div>"
      ],
      "text/plain": [
       "                                                CapitalName  CapitalLatitude  \\\n",
       "CountryName                                                                    \n",
       "Somaliland                                         Hargeisa         9.550000   \n",
       "South Georgia and South Sandwich Islands  King Edward Point       -54.283333   \n",
       "French Southern and Antarctic Lands       Port-aux-Français       -49.350000   \n",
       "Palestine                                         Jerusalem        31.766667   \n",
       "Aland Islands                                     Mariehamn        60.116667   \n",
       "Nauru                                                 Yaren        -0.547700   \n",
       "Saint Martin                                        Marigot        18.073100   \n",
       "Tokelau                                               Atafu        -9.166667   \n",
       "Western Sahara                                     El-Aaiún        27.153611   \n",
       "Afghanistan                                           Kabul        34.516667   \n",
       "\n",
       "                                          CapitalLongitude CountryCode  \\\n",
       "CountryName                                                              \n",
       "Somaliland                                       44.050000         NaN   \n",
       "South Georgia and South Sandwich Islands        -36.500000          GS   \n",
       "French Southern and Antarctic Lands              70.216667          TF   \n",
       "Palestine                                        35.233333          PS   \n",
       "Aland Islands                                    19.900000          AX   \n",
       "Nauru                                           166.920867          NR   \n",
       "Saint Martin                                    -63.082200          MF   \n",
       "Tokelau                                        -171.833333          TK   \n",
       "Western Sahara                                  -13.203333          EH   \n",
       "Afghanistan                                      69.183333          AF   \n",
       "\n",
       "                                          ContinentName  \n",
       "CountryName                                              \n",
       "Somaliland                                       Africa  \n",
       "South Georgia and South Sandwich Islands     Antarctica  \n",
       "French Southern and Antarctic Lands          Antarctica  \n",
       "Palestine                                          Asia  \n",
       "Aland Islands                                    Europe  \n",
       "Nauru                                         Australia  \n",
       "Saint Martin                              North America  \n",
       "Tokelau                                       Australia  \n",
       "Western Sahara                                   Africa  \n",
       "Afghanistan                                        Asia  "
      ]
     },
     "execution_count": 46,
     "metadata": {},
     "output_type": "execute_result"
    }
   ],
   "source": [
    "#path ='D:\\Jupyter_File\\Python_Challenge_SD\\country-capitals.csv'\n",
    "\n",
    "df = pd.read_csv(\"country-capitals.csv\",index_col=\"CountryName\", error_bad_lines=False)\n",
    "df.head(10)"
   ]
  },
  {
   "cell_type": "code",
   "execution_count": 47,
   "metadata": {
    "collapsed": true
   },
   "outputs": [],
   "source": [
    "# Drop the data that have NaN values\n",
    "df = df.dropna()"
   ]
  },
  {
   "cell_type": "code",
   "execution_count": 48,
   "metadata": {
    "collapsed": true
   },
   "outputs": [],
   "source": [
    "# Function for calculating the distance between two coordinates\n",
    "# Haversine formula\n",
    "def distance(loc1, loc2, R = 6371):\n",
    "    \n",
    "    # Change the value into radians\n",
    "    lat1 = radians(float(loc1[0]))\n",
    "    lat2 = radians(float(loc2[0]))\n",
    "    \n",
    "    #Calulate the difference between the coordinates between two points (Latitude and Longitude)\n",
    "    deltalat = radians(float(loc2[0])-float(loc1[0])) \n",
    "    deltalon = radians(float(loc2[1])-float(loc1[1]))\n",
    "    \n",
    "    # Haversine formula\n",
    "    a = sin(deltalat/2) * sin(deltalat/2) + cos(lat1) * cos(lat2) * sin(deltalon/2) * sin(deltalon/2);\n",
    "    c = 2 * atan2(sqrt(a),sqrt(1-a));\n",
    "\n",
    "    d = R * c;\n",
    "    \n",
    "    return d"
   ]
  },
  {
   "cell_type": "code",
   "execution_count": 50,
   "metadata": {
    "collapsed": true
   },
   "outputs": [],
   "source": [
    "# Create new blank data frame to input the distance\n",
    "new_df = pd.DataFrame()\n",
    "\n",
    "# Loop from to calculate distance \n",
    "for i in range(len(df)):\n",
    "    \n",
    "    #empty list in order to store distance between two countries \n",
    "    d = []\n",
    "    for j in range(len(df)):\n",
    "        \n",
    "        #add each value into the list one by one\n",
    "        d.append(distance(df.iloc[i][['CapitalLatitude', 'CapitalLongitude']], df.iloc[j][['CapitalLatitude', 'CapitalLongitude']]))\n",
    "    \n",
    "    # Change new dataframe column name with the first index name (country)\n",
    "    new_df[df.index[i]] = d"
   ]
  },
  {
   "cell_type": "code",
   "execution_count": 51,
   "metadata": {},
   "outputs": [
    {
     "data": {
      "text/plain": [
       "236"
      ]
     },
     "execution_count": 51,
     "metadata": {},
     "output_type": "execute_result"
    }
   ],
   "source": [
    "# Change the name of the index from number to countries' name\n",
    "\n",
    "new_df.index = df.index\n",
    "new_df.tail()\n",
    "len(new_df)"
   ]
  },
  {
   "cell_type": "code",
   "execution_count": 44,
   "metadata": {
    "collapsed": true
   },
   "outputs": [],
   "source": [
    "# Convert dataframe into CSV files\n",
    "new_df.to_csv(\"World Capital Distance.csv\")"
   ]
  }
 ],
 "metadata": {
  "kernelspec": {
   "display_name": "Python 3",
   "language": "python",
   "name": "python3"
  },
  "language_info": {
   "codemirror_mode": {
    "name": "ipython",
    "version": 3
   },
   "file_extension": ".py",
   "mimetype": "text/x-python",
   "name": "python",
   "nbconvert_exporter": "python",
   "pygments_lexer": "ipython3",
   "version": "3.6.1"
  }
 },
 "nbformat": 4,
 "nbformat_minor": 2
}
