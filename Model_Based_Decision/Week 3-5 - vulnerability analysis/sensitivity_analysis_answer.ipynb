{
 "cells": [
  {
   "cell_type": "markdown",
   "metadata": {},
   "source": [
    "# EPA1361 - Model-Based Decision Making\n",
    "# Week 3 - Sensitivity analysis\n",
    "\n",
    "This exercise uses the same predator-prey model we used for the multi-model exercise, focusing on the Python version. As with the other exercise, define a model object for the function below, with the uncertainty ranges provided:\n",
    "\n",
    "|Parameter\t|Range or value\t        |\n",
    "|-----------|--------------:|\n",
    "|prey_birth_rate    \t|0.015 – 0.035\t|\n",
    "|predation_rate|0.0005 – 0.003 \t|\n",
    "|predator_efficiency     \t|0.001 – 0.004\t    |\n",
    "|predator_loss_rate\t    |0.04 – 0.08\t    |\n",
    "|Final time\t    |365\t    |\n",
    "|dt\t    |0.25\t    |\n"
   ]
  },
  {
   "cell_type": "code",
   "execution_count": 1,
   "metadata": {
    "collapsed": false
   },
   "outputs": [
    {
     "name": "stderr",
     "output_type": "stream",
     "text": [
      "/Users/jhkwakkel/miniconda3/lib/python3.6/importlib/_bootstrap.py:219: ImportWarning: can't resolve package from __spec__ or __package__, falling back on __name__ and __path__\n",
      "  return f(*args, **kwds)\n",
      "/Users/jhkwakkel/miniconda3/lib/python3.6/importlib/_bootstrap.py:219: ImportWarning: can't resolve package from __spec__ or __package__, falling back on __name__ and __path__\n",
      "  return f(*args, **kwds)\n"
     ]
    }
   ],
   "source": [
    "import numpy as np\n",
    "import matplotlib.pyplot as plt\n",
    "\n",
    "from ema_workbench import (Model, RealParameter, TimeSeriesOutcome, perform_experiments, ema_logging)\n",
    "from ema_workbench.em_framework.evaluators import LHS, SOBOL, MORRIS\n",
    "\n",
    "from ema_workbench.analysis import feature_scoring\n",
    "from ema_workbench.analysis.scenario_discovery_util import CLASSIFICATION, REGRESSION\n",
    "from ema_workbench.em_framework.salib_samplers import get_SALib_problem\n",
    "from SALib.analyze import sobol\n",
    "\n",
    "def PredPrey(prey_birth_rate=0.025, predation_rate=0.0015, predator_efficiency=0.002,\n",
    "             predator_loss_rate=0.06, initial_prey=50, initial_predators=20, dt=0.25, final_time=365, reps=1):\n",
    "\n",
    "    #Initial values\n",
    "    predators, prey, sim_time = [np.zeros((reps, int(final_time/dt)+1)) for _ in range(3)]\n",
    "    \n",
    "    for r in range(reps):\n",
    "        predators[r,0] = initial_predators\n",
    "        prey[r,0] = initial_prey\n",
    "\n",
    "        #Calculate the time series\n",
    "        for t in range(0, sim_time.shape[1]-1):\n",
    "\n",
    "            dx = (prey_birth_rate*prey[r,t]) - (predation_rate*prey[r,t]*predators[r,t])\n",
    "            dy = (predator_efficiency*predators[r,t]*prey[r,t]) - (predator_loss_rate*predators[r,t])\n",
    "\n",
    "            prey[r,t+1] = max(prey[r,t] + dx*dt, 0)\n",
    "            predators[r,t+1] = max(predators[r,t] + dy*dt, 0)\n",
    "            sim_time[r,t+1] = (t+1)*dt\n",
    "    \n",
    "    #Return outcomes\n",
    "    return {'TIME':sim_time,\n",
    "            'predators':predators,\n",
    "            'prey':prey}"
   ]
  },
  {
   "cell_type": "code",
   "execution_count": 2,
   "metadata": {},
   "outputs": [],
   "source": [
    "ema_logging.log_to_stderr(ema_logging.INFO)\n",
    "\n",
    "model = Model('Python', function=PredPrey)\n",
    "model.uncertainties = [RealParameter('prey_birth_rate', 0.015, 0.035),\n",
    "                       RealParameter('predation_rate', 0.0005, 0.003),\n",
    "                       RealParameter('predator_efficiency', 0.001, 0.004),\n",
    "                       RealParameter('predator_loss_rate', 0.04, 0.08)] \n",
    "model.outcomes = [TimeSeriesOutcome('TIME'),\n",
    "                  TimeSeriesOutcome('predators'),\n",
    "                  TimeSeriesOutcome('prey')]"
   ]
  },
  {
   "cell_type": "markdown",
   "metadata": {},
   "source": [
    "# OLS\n",
    "\n",
    "* Sensitivity analysis often focuses on the final values of an outcome at the end of the simulation. However, we can also look at metrics that give us additional information about the behavior of the model over time. Using [the statsmodel library](https://www.statsmodels.org/stable/index.html) and an appropriate sampling design, fit a linear regression model for each of the following indicators. What can we conclude about the behavior of the model, and about the importance of the different inputs?\n",
    "\n",
    "  * The final values of the _prey_ outcome\n",
    "  * The mean values of the _prey_ outcome over time, within each experiment\n",
    "  * The standard deviations of the _prey_ outcome over time, within each experiment"
   ]
  },
  {
   "cell_type": "code",
   "execution_count": 3,
   "metadata": {},
   "outputs": [
    {
     "name": "stderr",
     "output_type": "stream",
     "text": [
      "[MainProcess/INFO] pool started\n",
      "[MainProcess/INFO] performing 1000 scenarios * 1 policies * 1 model(s) = 1000 experiments\n",
      "[MainProcess/INFO] 100 cases completed\n",
      "[MainProcess/INFO] 200 cases completed\n",
      "[MainProcess/INFO] 300 cases completed\n",
      "[MainProcess/INFO] 400 cases completed\n",
      "[MainProcess/INFO] 500 cases completed\n",
      "[MainProcess/INFO] 600 cases completed\n",
      "[MainProcess/INFO] 700 cases completed\n",
      "[MainProcess/INFO] 800 cases completed\n",
      "[MainProcess/INFO] 900 cases completed\n",
      "[MainProcess/INFO] 1000 cases completed\n",
      "[MainProcess/INFO] experiments finished\n",
      "[MainProcess/INFO] terminating pool\n"
     ]
    }
   ],
   "source": [
    "from ema_workbench import MultiprocessingEvaluator\n",
    "\n",
    "n_scenarios = 1000\n",
    "\n",
    "# NOTE:: if you want to run this on windows, move \n",
    "# the PredPrey function to a .py file and import it into \n",
    "# the notebook, analogous to the lake problem assignment\n",
    "with MultiprocessingEvaluator(model) as evaluator:\n",
    "    experiments, outcomes = evaluator.perform_experiments(n_scenarios)\n"
   ]
  },
  {
   "cell_type": "code",
   "execution_count": 4,
   "metadata": {},
   "outputs": [],
   "source": [
    "prey_final = outcomes['prey'][:,0,-1]\n",
    "prey_mean = np.mean(outcomes['prey'][:,0,:],axis=1)\n",
    "prey_std = np.std(outcomes['prey'][:,0,:],axis=1)"
   ]
  },
  {
   "cell_type": "code",
   "execution_count": 5,
   "metadata": {},
   "outputs": [
    {
     "name": "stderr",
     "output_type": "stream",
     "text": [
      "/Users/jhkwakkel/miniconda3/lib/python3.6/importlib/_bootstrap.py:219: ImportWarning: can't resolve package from __spec__ or __package__, falling back on __name__ and __path__\n",
      "  return f(*args, **kwds)\n",
      "/Users/jhkwakkel/miniconda3/lib/python3.6/site-packages/statsmodels/compat/pandas.py:56: FutureWarning: The pandas.core.datetools module is deprecated and will be removed in a future version. Please use the pandas.tseries module instead.\n",
      "  from pandas.core import datetools\n"
     ]
    },
    {
     "name": "stdout",
     "output_type": "stream",
     "text": [
      "                            OLS Regression Results                            \n",
      "==============================================================================\n",
      "Dep. Variable:                      y   R-squared:                       0.373\n",
      "Model:                            OLS   Adj. R-squared:                  0.370\n",
      "Method:                 Least Squares   F-statistic:                     118.1\n",
      "Date:                Wed, 09 May 2018   Prob (F-statistic):           4.32e-98\n",
      "Time:                        20:05:57   Log-Likelihood:                -4225.0\n",
      "No. Observations:                1000   AIC:                             8462.\n",
      "Df Residuals:                     994   BIC:                             8491.\n",
      "Df Model:                           5                                         \n",
      "Covariance Type:            nonrobust                                         \n",
      "=======================================================================================\n",
      "                          coef    std err          t      P>|t|      [0.025      0.975]\n",
      "---------------------------------------------------------------------------------------\n",
      "const                  33.5080      4.177      8.022      0.000      25.312      41.704\n",
      "predation_rate       -389.1098    727.368     -0.535      0.593   -1816.463    1038.244\n",
      "predator_efficiency -1.346e+04    606.164    -22.209      0.000   -1.47e+04   -1.23e+04\n",
      "predator_loss_rate    454.4541     45.555      9.976      0.000     365.060     543.848\n",
      "prey_birth_rate        82.9693     91.181      0.910      0.363     -95.960     261.899\n",
      "scenario_id            -0.0015      0.002     -0.836      0.404      -0.005       0.002\n",
      "==============================================================================\n",
      "Omnibus:                       92.839   Durbin-Watson:                   2.025\n",
      "Prob(Omnibus):                  0.000   Jarque-Bera (JB):              118.863\n",
      "Skew:                           0.844   Prob(JB):                     1.55e-26\n",
      "Kurtosis:                       2.955   Cond. No.                     8.00e+05\n",
      "==============================================================================\n",
      "\n",
      "Warnings:\n",
      "[1] Standard Errors assume that the covariance matrix of the errors is correctly specified.\n",
      "[2] The condition number is large,  8e+05. This might indicate that there are\n",
      "strong multicollinearity or other numerical problems.\n",
      "const                     33.507991\n",
      "predation_rate          -389.109754\n",
      "predator_efficiency   -13462.550688\n",
      "predator_loss_rate       454.454122\n",
      "prey_birth_rate           82.969310\n",
      "scenario_id               -0.001526\n",
      "dtype: float64\n"
     ]
    }
   ],
   "source": [
    "import statsmodels.api as sm\n",
    "\n",
    "X = pd.DataFrame(experiments).drop(['model','policy'], inplace=False, axis=1)\n",
    "X_0 = sm.add_constant(X)\n",
    "\n",
    "est = sm.OLS(prey_final, X_0.astype(float)).fit()\n",
    "print(est.summary())\n",
    "print(est.params)"
   ]
  },
  {
   "cell_type": "markdown",
   "metadata": {},
   "source": [
    "In this case, the linear regression clearly isn't capturing most of the output variance (as shown by the $R^2$ value). We can therefore use the Sobol results with the SALib analysis functions for a more comprehensive analysis. We first use the get_SALib_problem function to convert the model's uncertainties to a dictionary which is compatible with SALib. This includes the names and bounds of the uncertainties.\n",
    "\n",
    "# Sobol\n",
    "\n",
    "* Use the Sobol sampling functionality included in the Workbench to perform experiments with a sample size of N=50, then analyze the results with SALib for the same three indicators. Repeat the analysis for larger sample sizes, with N=250 and N=1000. How can we interpret the first-order and total indices? Are these sample sizes sufficient for a stable estimation of the indices? You'll need to use the [get_SALib_problem](https://emaworkbench.readthedocs.io/en/latest/ema_documentation/em_framework/salib_samplers.html) function to convert your Workbench experiments to a problem definition that you can pass to the SALib analysis function. "
   ]
  },
  {
   "cell_type": "code",
   "execution_count": 6,
   "metadata": {},
   "outputs": [],
   "source": [
    "sobol_problem = problem = get_SALib_problem(model.uncertainties)"
   ]
  },
  {
   "cell_type": "code",
   "execution_count": 12,
   "metadata": {},
   "outputs": [
    {
     "name": "stderr",
     "output_type": "stream",
     "text": [
      "[MainProcess/INFO] pool started\n",
      "[MainProcess/INFO] performing 500 scenarios * 1 policies * 1 model(s) = 500 experiments\n",
      "[MainProcess/INFO] 50 cases completed\n",
      "[MainProcess/INFO] 100 cases completed\n",
      "[MainProcess/INFO] 150 cases completed\n",
      "[MainProcess/INFO] 200 cases completed\n",
      "[MainProcess/INFO] 250 cases completed\n",
      "[MainProcess/INFO] 300 cases completed\n",
      "[MainProcess/INFO] 350 cases completed\n",
      "[MainProcess/INFO] 400 cases completed\n",
      "[MainProcess/INFO] 450 cases completed\n",
      "[MainProcess/INFO] 500 cases completed\n",
      "[MainProcess/INFO] experiments finished\n",
      "[MainProcess/INFO] terminating pool\n"
     ]
    }
   ],
   "source": [
    "n_scenarios = 50\n",
    "\n",
    "with MultiprocessingEvaluator(model) as evaluator:\n",
    "    experiments, outcomes = evaluator.perform_experiments(n_scenarios, uncertainty_sampling=SOBOL)"
   ]
  },
  {
   "cell_type": "code",
   "execution_count": 13,
   "metadata": {},
   "outputs": [
    {
     "name": "stdout",
     "output_type": "stream",
     "text": [
      "Parameter S1 S1_conf ST ST_conf\n",
      "predation_rate 0.093433 0.117929 0.127158 0.083625\n",
      "predator_efficiency 0.467832 0.368204 0.861776 0.403584\n",
      "predator_loss_rate 0.106056 0.215457 0.586328 0.295402\n",
      "prey_birth_rate 0.067219 0.311829 0.509988 0.241470\n",
      "\n",
      "Parameter_1 Parameter_2 S2 S2_conf\n",
      "predation_rate predator_efficiency -0.056636 0.154674\n",
      "predation_rate predator_loss_rate -0.096614 0.131621\n",
      "predation_rate prey_birth_rate -0.164523 0.132321\n",
      "predator_efficiency predator_loss_rate -0.087430 0.379419\n",
      "predator_efficiency prey_birth_rate -0.017606 0.506305\n",
      "predator_loss_rate prey_birth_rate 0.060809 0.304166\n"
     ]
    }
   ],
   "source": [
    "prey_final = outcomes['prey'][:,0,-1]\n",
    "\n",
    "scores = sobol.analyze(problem, prey_final, calc_second_order=True, print_to_console=True)\n",
    "\n",
    "## TODO make as nice dataframes\n"
   ]
  },
  {
   "cell_type": "code",
   "execution_count": 14,
   "metadata": {},
   "outputs": [
    {
     "data": {
      "image/png": "[encoded data removed]",
      "text/plain": [
       "<matplotlib.figure.Figure at 0x1c0df9b320>"
      ]
     },
     "metadata": {},
     "output_type": "display_data"
    }
   ],
   "source": [
    "def plot_scores(scores):\n",
    "    scores_filtered = {k:scores[k] for k in ['ST','ST_conf','S1','S1_conf']}\n",
    "    Si_df = pd.DataFrame(scores_filtered, index=problem['names'])\n",
    "\n",
    "    sns.set_style('white')\n",
    "    fig, ax = plt.subplots(1)\n",
    "\n",
    "    indices = Si_df[['S1','ST']]\n",
    "    err = Si_df[['S1_conf','ST_conf']]\n",
    "\n",
    "    indices.plot.bar(yerr=err.values.T,ax=ax)\n",
    "    fig.set_size_inches(8,6)\n",
    "    fig.subplots_adjust(bottom=0.3)\n",
    "    return fig\n",
    "\n",
    "plot_scores(scores)\n",
    "plt.show()"
   ]
  },
  {
   "cell_type": "code",
   "execution_count": 15,
   "metadata": {},
   "outputs": [
    {
     "name": "stderr",
     "output_type": "stream",
     "text": [
      "[MainProcess/INFO] pool started\n",
      "[MainProcess/INFO] performing 2500 scenarios * 1 policies * 1 model(s) = 2500 experiments\n",
      "[MainProcess/INFO] 250 cases completed\n",
      "[MainProcess/INFO] 500 cases completed\n",
      "[MainProcess/INFO] 750 cases completed\n",
      "[MainProcess/INFO] 1000 cases completed\n",
      "[MainProcess/INFO] 1250 cases completed\n",
      "[MainProcess/INFO] 1500 cases completed\n",
      "[MainProcess/INFO] 1750 cases completed\n",
      "[MainProcess/INFO] 2000 cases completed\n",
      "[MainProcess/INFO] 2250 cases completed\n",
      "[MainProcess/INFO] 2500 cases completed\n",
      "[MainProcess/INFO] experiments finished\n",
      "[MainProcess/INFO] terminating pool\n"
     ]
    },
    {
     "name": "stdout",
     "output_type": "stream",
     "text": [
      "Parameter S1 S1_conf ST ST_conf\n",
      "predation_rate 0.054258 0.054969 0.123294 0.040792\n",
      "predator_efficiency 0.279763 0.159220 0.852120 0.172941\n",
      "predator_loss_rate 0.017445 0.125612 0.606673 0.112879\n",
      "prey_birth_rate -0.044853 0.119422 0.565059 0.098736\n",
      "\n",
      "Parameter_1 Parameter_2 S2 S2_conf\n",
      "predation_rate predator_efficiency -0.016744 0.095818\n",
      "predation_rate predator_loss_rate -0.034967 0.083781\n",
      "predation_rate prey_birth_rate -0.058457 0.080233\n",
      "predator_efficiency predator_loss_rate 0.067267 0.151596\n",
      "predator_efficiency prey_birth_rate 0.095902 0.175363\n",
      "predator_loss_rate prey_birth_rate 0.160034 0.151433\n"
     ]
    }
   ],
   "source": [
    "n_scenarios = 250\n",
    "\n",
    "with MultiprocessingEvaluator(model) as evaluator:\n",
    "    experiments, outcomes = evaluator.perform_experiments(n_scenarios, uncertainty_sampling=SOBOL)\n",
    "\n",
    "prey_final = outcomes['prey'][:,0,-1]\n",
    "scores = sobol.analyze(problem, prey_final, calc_second_order=True, print_to_console=True)"
   ]
  },
  {
   "cell_type": "code",
   "execution_count": 16,
   "metadata": {},
   "outputs": [
    {
     "data": {
      "image/png": "[encoded data removed]",
      "text/plain": [
       "<matplotlib.figure.Figure at 0x1c163f1940>"
      ]
     },
     "metadata": {},
     "output_type": "display_data"
    }
   ],
   "source": [
    "plot_scores(scores)\n",
    "plt.show()"
   ]
  },
  {
   "cell_type": "code",
   "execution_count": 17,
   "metadata": {},
   "outputs": [
    {
     "name": "stderr",
     "output_type": "stream",
     "text": [
      "[MainProcess/INFO] pool started\n",
      "[MainProcess/INFO] performing 10000 scenarios * 1 policies * 1 model(s) = 10000 experiments\n",
      "[MainProcess/INFO] 1000 cases completed\n",
      "[MainProcess/INFO] 2000 cases completed\n",
      "[MainProcess/INFO] 3000 cases completed\n",
      "[MainProcess/INFO] 4000 cases completed\n",
      "[MainProcess/INFO] 5000 cases completed\n",
      "[MainProcess/INFO] 6000 cases completed\n",
      "[MainProcess/INFO] 7000 cases completed\n",
      "[MainProcess/INFO] 8000 cases completed\n",
      "[MainProcess/INFO] 9000 cases completed\n",
      "[MainProcess/INFO] 10000 cases completed\n",
      "[MainProcess/INFO] experiments finished\n",
      "[MainProcess/INFO] terminating pool\n"
     ]
    }
   ],
   "source": [
    "n_scenarios = 1000\n",
    "\n",
    "with MultiprocessingEvaluator(model) as evaluator:\n",
    "    experiments, outcomes = evaluator.perform_experiments(n_scenarios, uncertainty_sampling=SOBOL)"
   ]
  },
  {
   "cell_type": "code",
   "execution_count": 18,
   "metadata": {},
   "outputs": [
    {
     "name": "stdout",
     "output_type": "stream",
     "text": [
      "Parameter S1 S1_conf ST ST_conf\n",
      "predation_rate -0.002546 0.027140 0.132785 0.025104\n",
      "predator_efficiency 0.407665 0.079306 0.809377 0.090141\n",
      "predator_loss_rate 0.079809 0.058879 0.585974 0.060047\n",
      "prey_birth_rate 0.030426 0.058248 0.511565 0.055079\n",
      "\n",
      "Parameter_1 Parameter_2 S2 S2_conf\n",
      "predation_rate predator_efficiency 0.009710 0.046327\n",
      "predation_rate predator_loss_rate 0.001582 0.041694\n",
      "predation_rate prey_birth_rate 0.009356 0.039888\n",
      "predator_efficiency predator_loss_rate -0.063009 0.094588\n",
      "predator_efficiency prey_birth_rate -0.049566 0.091511\n",
      "predator_loss_rate prey_birth_rate 0.064763 0.096166\n"
     ]
    }
   ],
   "source": [
    "prey_final = outcomes['prey'][:,0,-1]\n",
    "\n",
    "scores = sobol.analyze(problem, prey_final, calc_second_order=True, print_to_console=True)"
   ]
  },
  {
   "cell_type": "code",
   "execution_count": 19,
   "metadata": {},
   "outputs": [
    {
     "data": {
      "image/png": "[encoded data removed]",
      "text/plain": [
       "<matplotlib.figure.Figure at 0x1c17629f60>"
      ]
     },
     "metadata": {},
     "output_type": "display_data"
    }
   ],
   "source": [
    "plot_scores(scores)\n",
    "plt.show()"
   ]
  },
  {
   "cell_type": "code",
   "execution_count": 20,
   "metadata": {},
   "outputs": [],
   "source": [
    "# we will reuse this below\n",
    "sobol_scores = pd.DataFrame(list(zip(sobol_problem['names'], scores['ST'])))"
   ]
  },
  {
   "cell_type": "markdown",
   "metadata": {},
   "source": [
    "\n",
    "* Use the [Extra-Trees analysis](https://emaworkbench.readthedocs.io/en/latest/ema_documentation/analysis/feature_scoring.html) included in the Workbench to approximate the Sobol total indices, with a suitable sampling design. As a starting point, use an ensemble of 100 trees and a max_features parameter of 0.6, and set the analysis to regression mode. Are the estimated importances stable relative to the sample size and the analysis parameters? How do the results compare to the Sobol indices?"
   ]
  },
  {
   "cell_type": "code",
   "execution_count": 21,
   "metadata": {},
   "outputs": [
    {
     "name": "stderr",
     "output_type": "stream",
     "text": [
      "[MainProcess/INFO] pool started\n",
      "[MainProcess/INFO] performing 1000 scenarios * 1 policies * 1 model(s) = 1000 experiments\n",
      "[MainProcess/INFO] 100 cases completed\n",
      "[MainProcess/INFO] 200 cases completed\n",
      "[MainProcess/INFO] 300 cases completed\n",
      "[MainProcess/INFO] 400 cases completed\n",
      "[MainProcess/INFO] 500 cases completed\n",
      "[MainProcess/INFO] 600 cases completed\n",
      "[MainProcess/INFO] 700 cases completed\n",
      "[MainProcess/INFO] 800 cases completed\n",
      "[MainProcess/INFO] 900 cases completed\n",
      "[MainProcess/INFO] 1000 cases completed\n",
      "[MainProcess/INFO] experiments finished\n",
      "[MainProcess/INFO] terminating pool\n"
     ]
    }
   ],
   "source": [
    "n_scenarios = 1000\n",
    "\n",
    "# NOTE:: if you want to run this on windows, move \n",
    "# the PredPrey function to a .py file and import it into \n",
    "# the notebook, analogous to the lake problem assignment\n",
    "with MultiprocessingEvaluator(model) as evaluator:\n",
    "    experiments, outcomes = evaluator.perform_experiments(n_scenarios)"
   ]
  },
  {
   "cell_type": "code",
   "execution_count": 22,
   "metadata": {},
   "outputs": [],
   "source": [
    "from ema_workbench.analysis import feature_scoring\n",
    "\n",
    "x = experiments\n",
    "y = outcomes['prey'][:,0,-1]\n",
    "\n",
    "scores, _ = feature_scoring.get_rf_feature_scores(x, y, feature_scoring.REGRESSION, nr_trees=100, max_features=0.6)"
   ]
  },
  {
   "cell_type": "code",
   "execution_count": 23,
   "metadata": {},
   "outputs": [],
   "source": [
    "sobol = sobol_scores.set_index(0)\n",
    "sobol.columns = ['sobol']\n",
    "\n",
    "extra_trees = scores.set_index(0)\n",
    "extra_trees.columns = ['extra_trees']\n",
    "combined = pd.merge(sobol, extra_trees, left_index=True, right_index=True)"
   ]
  },
  {
   "cell_type": "code",
   "execution_count": 39,
   "metadata": {},
   "outputs": [
    {
     "data": {
      "image/png": "[encoded data removed]",
      "text/plain": [
       "<matplotlib.figure.Figure at 0x1a0bd18208>"
      ]
     },
     "metadata": {},
     "output_type": "display_data"
    }
   ],
   "source": [
    "fig, ax = plt.subplots(figsize=(6,6))\n",
    "\n",
    "ax.scatter(combined.extra_trees, combined.sobol)\n",
    "ax.set_xlabel('sobol scores')\n",
    "ax.set_ylabel('extra trees scores')\n",
    "\n",
    "# let's name the points in the scatter plot\n",
    "for name, row in combined.iterrows():\n",
    "    # we need a small offset on the x-axis to avoid\n",
    "    # having the name starting in the dot\n",
    "    ax.text(row.extra_trees+0.01, row.sobol, name, \n",
    "            va='center', ha='left')\n",
    "\n",
    "# add a light grey diagonal line\n",
    "minima = combined.min()\n",
    "maxima = combined.max()\n",
    "ax.plot([minima.extra_trees, maxima.extra_trees],\n",
    "        [minima.sobol, maxima.sobol], ls='--', c='lightgrey',\n",
    "        zorder=0)\n",
    "    \n",
    "sns.despine()\n",
    "plt.show()\n"
   ]
  },
  {
   "cell_type": "code",
   "execution_count": null,
   "metadata": {},
   "outputs": [],
   "source": []
  }
 ],
 "metadata": {
  "kernelspec": {
   "display_name": "Python 3",
   "language": "python",
   "name": "python3"
  },
  "language_info": {
   "codemirror_mode": {
    "name": "ipython",
    "version": 3
   },
   "file_extension": ".py",
   "mimetype": "text/x-python",
   "name": "python",
   "nbconvert_exporter": "python",
   "pygments_lexer": "ipython3",
   "version": "3.6.3"
  }
 },
 "nbformat": 4,
 "nbformat_minor": 2
}
