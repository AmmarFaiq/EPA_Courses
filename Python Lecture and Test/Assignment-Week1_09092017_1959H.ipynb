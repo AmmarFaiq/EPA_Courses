{
 "cells": [
  {
   "cell_type": "markdown",
   "metadata": {},
   "source": [
    "## Assignment Week 1\n",
    "\n",
    "In this first week we are looking at two things: *functions* (Chapter 3 of 'Think Python') and *conditional statements* (Chapter 5 of 'Think Python')."
   ]
  },
  {
   "cell_type": "markdown",
   "metadata": {},
   "source": [
    "**Assignment 1.1**\n",
    "\n",
    "Write a function **max3** that takes three integers as input and returns the largest number. Make sure that you test the program and check what happens if (some) inputs are the same. Can your program deal with all integers as input? "
   ]
  },
  {
   "cell_type": "code",
   "execution_count": 2,
   "metadata": {},
   "outputs": [
    {
     "name": "stdout",
     "output_type": "stream",
     "text": [
      "Please type in 1st number : 66.5\n",
      "Input is not integer\n"
     ]
    }
   ],
   "source": [
    "# Your code goes\n",
    "def max3(a,b,c):\n",
    "    if (a >= c) and (a >= b) :\n",
    "        return a\n",
    "    elif (b >= a) and (b >= c) :\n",
    "        return b\n",
    "    elif (c >= a) and (c >= b) :\n",
    "        return c\n",
    "\n",
    "try :\n",
    "    numbera = int(input(\"Please type in 1st number : \"))\n",
    "    numberb = int(input(\"Please type in 2nd number : \"))\n",
    "    numberc = int(input(\"Please type in 3rd number : \"))\n",
    "    print('Maximum number is ' , max3(numbera,numberb,numberc))\n",
    "except :\n",
    "    print('Input is not integer')"
   ]
  },
  {
   "cell_type": "markdown",
   "metadata": {},
   "source": [
    "**Assignment 1.2**\n",
    "\n",
    "Write another function **max3two** that again takes three integers as input and return the largest number. However, if there are two largest numbers, then you need to return this largest number twice and if all three numbers are the same (and thus all the largest number) you need to return the same number three times.<BR>\n",
    "For example:<BR>\n",
    "**max3two(1,2,2) = (2,2)**<BR>\n",
    "**max3two(1,1,1) = (1,1,1)**<BR>\n",
    "**max3two(1,2,3) = 3**<BR>\n",
    "\n",
    "Hint: Use **max3** when writing the function **max3two**"
   ]
  },
  {
   "cell_type": "code",
   "execution_count": 5,
   "metadata": {},
   "outputs": [
    {
     "name": "stdout",
     "output_type": "stream",
     "text": [
      "Please type in 1st number : 3\n",
      "Please type in 2nd number : 4\n",
      "Please type in 3rd number : 4\n",
      "Maximum number is  (4, 4)\n"
     ]
    }
   ],
   "source": [
    "def max3two (a,b,c):\n",
    "    if (a==b) and (a==c):\n",
    "        return (max3(a,b,c),max3(a,b,c),max3(a,b,c))\n",
    "    elif (a>c) and (a==b):\n",
    "        return (max3(a,b,c),max3(a,b,c))\n",
    "    elif (a>b) and (a==c):\n",
    "        return (max3(a,b,c),max3(a,b,c))\n",
    "    elif (b>a) and (b==c):\n",
    "        return (max3(a,b,c),max3(a,b,c))\n",
    "    else:\n",
    "        return max3(a,b,c)\n",
    "\n",
    "try :\n",
    "    numbera = int(input(\"Please type in 1st number : \"))\n",
    "    numberb = int(input(\"Please type in 2nd number : \"))\n",
    "    numberc = int(input(\"Please type in 3rd number : \"))\n",
    "    print('Maximum number is ' , max3two(numbera,numberb,numberc))\n",
    "except :\n",
    "    print('Input is not integer')"
   ]
  },
  {
   "cell_type": "markdown",
   "metadata": {},
   "source": [
    "**Assignment 1.3**\n",
    "\n",
    "Use the function **max3** to write a function **max4** that takes four integers as input and returns the largest input parameter. "
   ]
  },
  {
   "cell_type": "code",
   "execution_count": 16,
   "metadata": {},
   "outputs": [
    {
     "name": "stdout",
     "output_type": "stream",
     "text": [
      "Please type in 1st number : 10\n",
      "Please type in 2nd number : 8\n",
      "Please type in 3rd number : 9\n",
      "Please type in 4th number : 10\n",
      "Maximum number is  10\n"
     ]
    }
   ],
   "source": [
    "def max4(a,b,c,d):\n",
    "    resmax3 = max3(a,b,c)\n",
    "    \n",
    "    if resmax3 >= d:\n",
    "        return resmax3\n",
    "    elif resmax3 < d:\n",
    "        return d\n",
    "\n",
    "try :\n",
    "    numbera = int(input(\"Please type in 1st number : \"))\n",
    "    numberb = int(input(\"Please type in 2nd number : \"))\n",
    "    numberc = int(input(\"Please type in 3rd number : \"))\n",
    "    numberd = int(input(\"Please type in 4th number : \"))\n",
    "    print('Maximum number is ' , max4(numbera,numberb,numberc,numberd))\n",
    "except :\n",
    "    print('Input is not integer')"
   ]
  },
  {
   "cell_type": "code",
   "execution_count": null,
   "metadata": {
    "collapsed": true
   },
   "outputs": [],
   "source": []
  }
 ],
 "metadata": {
  "kernelspec": {
   "display_name": "Python 3",
   "language": "python",
   "name": "python3"
  },
  "language_info": {
   "codemirror_mode": {
    "name": "ipython",
    "version": 3
   },
   "file_extension": ".py",
   "mimetype": "text/x-python",
   "name": "python",
   "nbconvert_exporter": "python",
   "pygments_lexer": "ipython3",
   "version": "3.6.0"
  }
 },
 "nbformat": 4,
 "nbformat_minor": 2
}
