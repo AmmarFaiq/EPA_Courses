{
 "cells": [
  {
   "cell_type": "code",
   "execution_count": 8,
   "metadata": {},
   "outputs": [
    {
     "name": "stdout",
     "output_type": "stream",
     "text": [
      "Collecting pandas-datareader\n",
      "  Downloading pandas_datareader-0.5.0-py2.py3-none-any.whl (74kB)\n",
      "Collecting requests-file (from pandas-datareader)\n",
      "  Downloading requests-file-1.4.2.tar.gz\n",
      "Requirement already satisfied: pandas>=0.17.0 in c:\\program files\\anaconda3\\lib\\site-packages (from pandas-datareader)\n",
      "Collecting requests-ftp (from pandas-datareader)\n",
      "  Downloading requests-ftp-0.3.1.tar.gz\n",
      "Requirement already satisfied: requests>=2.3.0 in c:\\program files\\anaconda3\\lib\\site-packages (from pandas-datareader)\n",
      "Requirement already satisfied: six in c:\\program files\\anaconda3\\lib\\site-packages (from requests-file->pandas-datareader)\n",
      "Requirement already satisfied: python-dateutil>=2 in c:\\program files\\anaconda3\\lib\\site-packages (from pandas>=0.17.0->pandas-datareader)\n",
      "Requirement already satisfied: pytz>=2011k in c:\\program files\\anaconda3\\lib\\site-packages (from pandas>=0.17.0->pandas-datareader)\n",
      "Requirement already satisfied: numpy>=1.7.0 in c:\\program files\\anaconda3\\lib\\site-packages (from pandas>=0.17.0->pandas-datareader)\n",
      "Building wheels for collected packages: requests-file, requests-ftp\n",
      "  Running setup.py bdist_wheel for requests-file: started\n",
      "  Running setup.py bdist_wheel for requests-file: finished with status 'done'\n",
      "  Stored in directory: C:\\Users\\USER\\AppData\\Local\\pip\\Cache\\wheels\\3e\\34\\3a\\c2e634ca7b545510c1b3b7d94dea084e5fdb5f33558f3c3a81\n",
      "  Running setup.py bdist_wheel for requests-ftp: started\n",
      "  Running setup.py bdist_wheel for requests-ftp: finished with status 'done'\n",
      "  Stored in directory: C:\\Users\\USER\\AppData\\Local\\pip\\Cache\\wheels\\76\\fb\\0d\\1026eb562c34a4982dc9d39c9c582a734eefe7f0455f711deb\n",
      "Successfully built requests-file requests-ftp\n",
      "Installing collected packages: requests-file, requests-ftp, pandas-datareader\n",
      "Successfully installed pandas-datareader-0.5.0 requests-file-1.4.2 requests-ftp-0.3.1\n"
     ]
    },
    {
     "ename": "ImportError",
     "evalue": "The pandas.io.wb module is moved to a separate package (pandas-datareader). After installing the pandas-datareader package (https://github.com/pandas-dev/pandas-datareader), you can change the import ``from pandas.io import data, wb`` to ``from pandas_datareader import data, wb``.",
     "output_type": "error",
     "traceback": [
      "\u001b[0;31m---------------------------------------------------------------------------\u001b[0m",
      "\u001b[0;31mImportError\u001b[0m                               Traceback (most recent call last)",
      "\u001b[0;32m<ipython-input-8-b562b909f111>\u001b[0m in \u001b[0;36m<module>\u001b[0;34m()\u001b[0m\n\u001b[1;32m      3\u001b[0m \u001b[1;32mimport\u001b[0m \u001b[0mpandas\u001b[0m \u001b[1;32mas\u001b[0m \u001b[0mpd\u001b[0m\u001b[1;33m\u001b[0m\u001b[0m\n\u001b[1;32m      4\u001b[0m \u001b[1;33m\u001b[0m\u001b[0m\n\u001b[0;32m----> 5\u001b[0;31m \u001b[1;32mfrom\u001b[0m \u001b[0mpandas\u001b[0m\u001b[1;33m.\u001b[0m\u001b[0mio\u001b[0m \u001b[1;32mimport\u001b[0m \u001b[0mwb\u001b[0m\u001b[1;33m\u001b[0m\u001b[0m\n\u001b[0m\u001b[1;32m      6\u001b[0m \u001b[1;33m\u001b[0m\u001b[0m\n\u001b[1;32m      7\u001b[0m \u001b[0mclimatedtbase_csv\u001b[0m \u001b[1;33m=\u001b[0m \u001b[0mpd\u001b[0m\u001b[1;33m.\u001b[0m\u001b[0mread_csv\u001b[0m\u001b[1;33m(\u001b[0m\u001b[1;34m'http://climatedataapi.worldbank.org/climateweb/rest/v1/country/cru/tas/year/CAN.csv'\u001b[0m\u001b[1;33m)\u001b[0m\u001b[1;33m\u001b[0m\u001b[0m\n",
      "\u001b[0;32mC:\\Program Files\\Anaconda3\\lib\\site-packages\\pandas\\io\\wb.py\u001b[0m in \u001b[0;36m<module>\u001b[0;34m()\u001b[0m\n\u001b[1;32m      1\u001b[0m raise ImportError(\n\u001b[0;32m----> 2\u001b[0;31m     \u001b[1;34m\"The pandas.io.wb module is moved to a separate package \"\u001b[0m\u001b[1;33m\u001b[0m\u001b[0m\n\u001b[0m\u001b[1;32m      3\u001b[0m     \u001b[1;34m\"(pandas-datareader). After installing the pandas-datareader package \"\u001b[0m\u001b[1;33m\u001b[0m\u001b[0m\n\u001b[1;32m      4\u001b[0m     \u001b[1;34m\"(https://github.com/pandas-dev/pandas-datareader), you can change \"\u001b[0m\u001b[1;33m\u001b[0m\u001b[0m\n\u001b[1;32m      5\u001b[0m     \u001b[1;34m\"the import ``from pandas.io import data, wb`` to \"\u001b[0m\u001b[1;33m\u001b[0m\u001b[0m\n",
      "\u001b[0;31mImportError\u001b[0m: The pandas.io.wb module is moved to a separate package (pandas-datareader). After installing the pandas-datareader package (https://github.com/pandas-dev/pandas-datareader), you can change the import ``from pandas.io import data, wb`` to ``from pandas_datareader import data, wb``."
     ]
    }
   ],
   "source": [
    "#!pip install pandas-datareader\n",
    "\n",
    "import plotly.plotly as py\n",
    "import pandas as pd\n",
    "\n",
    "from pandas.io import wb\n",
    "\n",
    "climatedtbase_csv = pd.read_csv('http://climatedataapi.worldbank.org/climateweb/rest/v1/country/cru/tas/year/CAN.csv') \n",
    "\n",
    "climatedtbase_csv"
   ]
  }
 ],
 "metadata": {
  "kernelspec": {
   "display_name": "Python 3",
   "language": "python",
   "name": "python3"
  },
  "language_info": {
   "codemirror_mode": {
    "name": "ipython",
    "version": 3
   },
   "file_extension": ".py",
   "mimetype": "text/x-python",
   "name": "python",
   "nbconvert_exporter": "python",
   "pygments_lexer": "ipython3",
   "version": "3.6.0"
  }
 },
 "nbformat": 4,
 "nbformat_minor": 2
}
