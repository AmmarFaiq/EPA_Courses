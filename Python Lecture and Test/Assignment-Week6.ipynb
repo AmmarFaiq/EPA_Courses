{
 "cells": [
  {
   "cell_type": "markdown",
   "metadata": {},
   "source": [
    "## Assignment Week 6\n",
    "\n",
    "This week we are using Pandas."
   ]
  },
  {
   "cell_type": "code",
   "execution_count": 42,
   "metadata": {
    "collapsed": true
   },
   "outputs": [],
   "source": [
    "%matplotlib inline\n",
    "import pandas as pd\n",
    "import numpy as np\n",
    "import matplotlib.pyplot as plt\n",
    "plt.style.use('ggplot')"
   ]
  },
  {
   "cell_type": "markdown",
   "metadata": {},
   "source": [
    "## RMS Titanic \n",
    "\n",
    "One file is provided:\n",
    "  * ```titanic.csv``` - this file contains titanic passenger information\n",
    "\n",
    "The file ```titanic.csv``` provides passenger information on the ship RMS Titanic that sank on her maiden voyage on April 15, 1912. "
   ]
  },
  {
   "cell_type": "markdown",
   "metadata": {},
   "source": [
    "**1.** Read the passenger information of the Titanic. Show an overview of _unique_ last names of the passenger list (so ignore the first names and the \"Mr\", \"Mrs.\", etc) **and** determine the number of different last names."
   ]
  },
  {
   "cell_type": "code",
   "execution_count": 19,
   "metadata": {},
   "outputs": [
    {
     "data": {
      "text/plain": [
       "array(['Kelly', 'Wilkes', 'Myles', 'Wirz', 'Hirvonen', 'Svensson',\n",
       "       'Connolly', 'Caldwell', 'Abrahim', 'Davies', 'Ilieff', 'Jones',\n",
       "       'Snyder', 'Howard', 'Chaffee', 'del Carlo', 'Keane', 'Assaf',\n",
       "       'Ilmakangas', 'Assaf Khalil', 'Rothschild', 'Olsen', 'Flegenheim',\n",
       "       'Williams', 'Ryerson', 'Robins', 'Ostby', 'Daher', 'Brady',\n",
       "       'Samaan', 'Louch', 'Jefferys', 'Dean', 'Johnston', 'Mock',\n",
       "       'Katavelas', 'Roth', 'Cacic', 'Sap', 'Hee', 'Karun', 'Franklin',\n",
       "       'Goldsmith', 'Corbett', 'Kimball', 'Peltomaki', 'Chevre',\n",
       "       'Shaughnessy', 'Bucknell', 'Coutts', 'Smith', 'Pulbaum', 'Hocking',\n",
       "       'Fortune', 'Mangiavacchi', 'Rice', 'Cor', 'Abelseth', 'Davison',\n",
       "       'Chaudanson', 'Dika', 'McCrae', 'Bjorklund', 'Bradley', 'Corey',\n",
       "       'Burns', 'Moore', 'Tucker', 'Mulvihill', 'Minkoff', 'Nieminen',\n",
       "       'Ovies y Rodriguez', 'Geiger', 'Keeping', 'Miles', 'Cornell',\n",
       "       'Aldworth', 'Doyle', 'Boulos', 'Straus', 'Case', 'Demetri', 'Lamb',\n",
       "       'Khalil', 'Barry', 'Badman', \"O'Donoghue\", 'Wells', 'Dyker',\n",
       "       'Pedersen', 'Davidson', 'Guest', 'Birnbaum', 'Tenglin', 'Cavendish',\n",
       "       'Makinen', 'Braf', 'Nancarrow', 'Stengel', 'Weisz', 'Foley',\n",
       "       'Johansson Palmquist', 'Thomas', 'Holthen', 'Buckley', 'Ryan',\n",
       "       'Willer', 'Swane', 'Stanton', 'Shine', 'Evans', 'Chronopoulos',\n",
       "       'Sandstrom', 'Beattie', 'Chapman', 'Watt', 'Kiernan', 'Schabert',\n",
       "       'Carver', 'Kennedy', 'Cribb', 'Brobeck', 'McCoy', 'Bowenur',\n",
       "       'Petersen', 'Spinner', 'Gracie', 'Lefebre', 'Dintcheff', 'Carlsson',\n",
       "       'Zakarian', 'Schmidt', 'Drapkin', 'Goodwin', 'Daniels', 'Beauchamp',\n",
       "       'Lindeberg-Lind', 'Vander Planke', 'Hilliard', 'Crafton',\n",
       "       'Lahtinen', 'Earnshaw', 'Matinoff', 'Storey', 'Klasen', 'Asplund',\n",
       "       'Duquemin', 'Bird', 'Lundin', 'Borebank', 'Peacock', 'Smyth',\n",
       "       'Touma', 'Wright', 'Pearce', 'Peruschitz', 'Kink-Heilmann',\n",
       "       'Brandeis', 'Ford', 'Cassebeer', 'Hellstrom', 'Lithman', 'Torfa',\n",
       "       'Brown', 'Sincock', 'Becker', 'Compton', 'McCrie', 'Marvin', 'Lane',\n",
       "       'Douglas', 'Maybery', 'Phillips', 'Sage', 'Veal', 'Angle',\n",
       "       'Salomon', 'van Billiard', 'Lingane', 'Drew', 'Karlsson', 'Spedden',\n",
       "       'Nilsson', 'Baimbrigge', 'Rasmussen', 'Murphy', 'Danbom', 'Astor',\n",
       "       'Quick', 'Andrew', 'Omont', 'McGowan', 'Collett', 'Rosenbaum',\n",
       "       'Delalic', 'Andersen', 'Finoli', 'Deacon', 'Andersson', 'Head',\n",
       "       'Mahon', 'Wick', 'Widener', 'Thomson', 'Duran y More', 'Reynolds',\n",
       "       'Cook', 'Candee', 'Moubarek', 'McNeill', 'Everett', 'Sweet',\n",
       "       'Willard', 'Wiklund', 'Linehan', 'Cumings', 'Vendel', 'Warren',\n",
       "       'Baccos', 'Hiltunen', 'Lindstrom', 'Christy', 'Hyman', 'Kenyon',\n",
       "       'Karnes', 'Hold', 'West', 'Abrahamsson', 'Clark', 'Salander',\n",
       "       'Wenzel', 'MacKay', 'Niklasson', 'Bentham', 'Midtsjo',\n",
       "       'de Messemaeker', 'Portaluppi', 'Lyntakoff', 'Chisholm', 'Pokrnic',\n",
       "       'McCaffry', 'Fox', 'Lennon', 'Saade', 'Bryhl', 'Parker',\n",
       "       'Faunthorpe', 'Ware', 'Oxenham', 'Oreskovic', 'Fleming', 'Rosblom',\n",
       "       'Dennis', 'Mardirosian', 'Rheims', 'Daly', 'Nasr', 'Dodge',\n",
       "       'Wittevrongel', 'Angheloff', 'Laroche', 'Loring', 'Johansson',\n",
       "       'Olsson', 'Malachard', 'McCarthy', 'Crosby', 'Allison', 'Aks',\n",
       "       'Hays', 'Hansen', 'Vartanian', 'Sadowitz', 'Carr', 'White',\n",
       "       'Hagardon', 'Spencer', 'Rogers', 'Jonsson', 'Krekorian', 'Nesson',\n",
       "       'Rowe', 'Kreuchen', 'Assam', 'Rosenshine', 'Clarke', 'Enander',\n",
       "       'Dulles', 'Nakid', 'Maguire', 'de Brito', 'Elias', 'Denbury',\n",
       "       'Betros', 'Fillbrook', 'Lundstrom', 'Cardeza', 'Botsford', 'Whabee',\n",
       "       'Giles', 'Walcroft', 'Greenfield', 'Stokes', 'Dibden', 'Herman',\n",
       "       'Julian', 'Lockyer', \"O'Keefe\", 'Lindell', 'Mallet', 'Strilic',\n",
       "       'Harder', 'Caram', 'Riihivouri', 'Gibson', 'Pallas y Castello',\n",
       "       'Wilson', 'Ismay', 'Harbeck', 'Bowen', 'Kink', 'Cotterill',\n",
       "       'Hipkins', \"O'Connor\", 'Risien', 'McNamee', 'Wheeler', 'Aronsson',\n",
       "       'Ashby', 'Canavan', 'Palsson', 'Payne', 'Lines', 'Abbott',\n",
       "       'Gilbert', 'Colbert', 'Frolicher-Stehli', 'Larsson-Rondberg',\n",
       "       'Conlon', 'Bonnell', 'Gale', 'Carrau', 'Frauenthal', 'Nourney',\n",
       "       'Riordan', 'Naughton', 'Minahan', 'Henriksson', 'Spector',\n",
       "       'Oliva y Ocana', 'Saether', 'Peter'], dtype=object)"
      ]
     },
     "execution_count": 19,
     "metadata": {},
     "output_type": "execute_result"
    }
   ],
   "source": [
    "# your code hereti\n",
    "\n",
    "titanic_data = pd.read_csv('titanic.csv')\n",
    "unique_split= titanic_data['Name'].str.split(',').str[0].unique()\n",
    "unique_split"
   ]
  },
  {
   "cell_type": "markdown",
   "metadata": {},
   "source": [
    "**2.** Assuming that passengers with the same last name form a family, determine how big the largest family aboard the Titanic was."
   ]
  },
  {
   "cell_type": "code",
   "execution_count": null,
   "metadata": {
    "collapsed": true
   },
   "outputs": [],
   "source": []
  },
  {
   "cell_type": "code",
   "execution_count": 28,
   "metadata": {},
   "outputs": [
    {
     "data": {
      "text/plain": [
       "4"
      ]
     },
     "execution_count": 28,
     "metadata": {},
     "output_type": "execute_result"
    }
   ],
   "source": [
    "# your code here\n",
    "last_split= titanic_data['Name'].str.split(',').str[0].value_counts().max()\n",
    "last_split"
   ]
  },
  {
   "cell_type": "markdown",
   "metadata": {},
   "source": [
    "**3.** Drop all the rows for which the Fare is 0 or NaN. Store the result."
   ]
  },
  {
   "cell_type": "code",
   "execution_count": 59,
   "metadata": {},
   "outputs": [],
   "source": [
    "# your code here\n",
    "drop_the_bass = titanic_data.drop(titanic_data[titanic_data['Fare'] == 0 | titanic_data['Fare'].isnull()].index)"
   ]
  },
  {
   "cell_type": "markdown",
   "metadata": {},
   "source": [
    "**4.** Show the average Fare price per Passenger Class (Pclass) in a bar chart."
   ]
  },
  {
   "cell_type": "code",
   "execution_count": 64,
   "metadata": {},
   "outputs": [
    {
     "data": {
      "text/plain": [
       "<matplotlib.axes._subplots.AxesSubplot at 0x20c1dc10b00>"
      ]
     },
     "execution_count": 64,
     "metadata": {},
     "output_type": "execute_result"
    },
    {
     "data": {
      "image/png": "[encoded data removed]",
      "text/plain": [
       "<matplotlib.figure.Figure at 0x20c1db572b0>"
      ]
     },
     "metadata": {},
     "output_type": "display_data"
    }
   ],
   "source": [
    "# your code here\n",
    "average_price_per_class = drop_the_bass.groupby('Pclass').mean()\n",
    "average_price_per_class['Fare'].plot.bar()"
   ]
  },
  {
   "cell_type": "markdown",
   "metadata": {},
   "source": [
    "**5.** Plot a histogram of the passenger's age, grouped by sex. So the end-result should show separate  histograms for males and females."
   ]
  },
  {
   "cell_type": "code",
   "execution_count": 69,
   "metadata": {},
   "outputs": [
    {
     "data": {
      "text/plain": [
       "<matplotlib.axes._subplots.AxesSubplot at 0x20c1e0a52e8>"
      ]
     },
     "execution_count": 69,
     "metadata": {},
     "output_type": "execute_result"
    },
    {
     "data": {
      "image/png": "[encoded data removed]",
      "text/plain": [
       "<matplotlib.figure.Figure at 0x20c1ddd7240>"
      ]
     },
     "metadata": {},
     "output_type": "display_data"
    },
    {
     "data": {
      "image/png": "[encoded data removed]",
      "text/plain": [
       "<matplotlib.figure.Figure at 0x20c1e07eba8>"
      ]
     },
     "metadata": {},
     "output_type": "display_data"
    }
   ],
   "source": [
    "# your code here\n",
    "drop_the_bass[drop_the_bass['Sex']=='male']['Age'].plot.hist(alpha=0.5)\n",
    "plt.figure()\n",
    "drop_the_bass[drop_the_bass['Sex']=='female']['Age'].plot.hist(alpha=0.5)"
   ]
  }
 ],
 "metadata": {
  "anaconda-cloud": {},
  "kernelspec": {
   "display_name": "Python 3",
   "language": "python",
   "name": "python3"
  },
  "language_info": {
   "codemirror_mode": {
    "name": "ipython",
    "version": 3
   },
   "file_extension": ".py",
   "mimetype": "text/x-python",
   "name": "python",
   "nbconvert_exporter": "python",
   "pygments_lexer": "ipython3",
   "version": "3.6.0"
  }
 },
 "nbformat": 4,
 "nbformat_minor": 1
}
