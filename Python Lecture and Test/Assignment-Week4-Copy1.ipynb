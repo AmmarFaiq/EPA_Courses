{
 "cells": [
  {
   "cell_type": "markdown",
   "metadata": {},
   "source": [
    "## Assignment Week 4\n",
    "\n",
    "This week we are going to write a program that guesses passwords.\n",
    "\n",
    "Two files are provided: \n",
    "  * ```words.txt``` - this file contains a list of English words, one word per line\n",
    "  * ```passwordfile.txt``` - this file contais a list of username:passwordhash combinations, one per line. \n",
    "\n",
    "\n",
    "\n",
    "### The password file\n",
    "\n",
    "A well-known way to authenticate users is through the use of a username and password. If the user can provide the correct password, the user is granted access. \n",
    "\n",
    "To check the password, the system uses a *password file*, in which known username, password (both strings) combinations are stored, one combination per line. However, for security reasons, passwords are not stored in plain-text, but an encrypted version (called a *hash*) of the password string is stored instead. Hashes are computed using the function ```encrypt_password()```, which is provided below. This way, if the password file is stolen, the passwords are not immediately visible.\n",
    "\n",
    "For example, if username \"John\" has password \"secret\", then instead of:\n",
    "\n",
    "```\n",
    "John:secret\n",
    "```\n",
    "the following is stored in the password file (see also below):\n",
    "```\n",
    "John:2bb80d537b1da3e38bd30361aa855686bde0eacd7162fef6a25fe97bf527a25b\n",
    "```\n",
    "\n",
    "When John wants to login into the system, then John provides his username and plaintext password. Then the system uses the ```encrypt_password()``` function to compute the hash of the provided password and compares the result to what it finds in the password file for the user John. If both strings match each other, John is granted access, otherwise not. \n"
   ]
  },
  {
   "cell_type": "code",
   "execution_count": 1,
   "metadata": {
    "collapsed": true
   },
   "outputs": [],
   "source": [
    "##\n",
    "## The encrypt_password function.\n",
    "## You can use this function in your answer.\n",
    "##\n",
    "\n",
    "import hashlib\n",
    "\n",
    "def encrypt_password( passwd ):\n",
    "    \"\"\"Encrypt a plaintext password (a string). It returns the result.\n",
    "    This encryption is one-way only, meaning it is not easy (impossible) to decrypt\n",
    "    the encrypted password to find out the original plaintext password again.\"\"\"\n",
    "    return hashlib.sha256( passwd.encode() ).hexdigest()"
   ]
  },
  {
   "cell_type": "code",
   "execution_count": 12,
   "metadata": {},
   "outputs": [
    {
     "name": "stdout",
     "output_type": "stream",
     "text": [
      "TRUE\n"
     ]
    }
   ],
   "source": [
    "## Some examples of using the encrypt_password function\n",
    "passwat =  encrypt_password(\"secret\")\n",
    "if encrypt_password(\"secret\") == passwat :\n",
    "    print ('TRUE')\n",
    "else :\n",
    "    print ('FALSE')"
   ]
  },
  {
   "cell_type": "code",
   "execution_count": 5,
   "metadata": {},
   "outputs": [
    {
     "data": {
      "text/plain": [
       "'ce7a7c10b0dfd96808cca64c88cf5c5e13b7775283bdc924767887bfa32c8fa1'"
      ]
     },
     "execution_count": 5,
     "metadata": {},
     "output_type": "execute_result"
    }
   ],
   "source": [
    "encrypt_password(\"assignment\")"
   ]
  },
  {
   "cell_type": "code",
   "execution_count": 6,
   "metadata": {},
   "outputs": [
    {
     "data": {
      "text/plain": [
       "'b46352779bececb48e5a8d31e58684e8da139a944715bd44f0b930f3ac46bbca'"
      ]
     },
     "execution_count": 6,
     "metadata": {},
     "output_type": "execute_result"
    }
   ],
   "source": [
    "encrypt_password(\"#@SS1GNMENT!\")"
   ]
  },
  {
   "cell_type": "markdown",
   "metadata": {},
   "source": [
    "### Hacking (finding) the passwords \n",
    "\n",
    "Unfortunately, some users use passwords that are simply existing words or simple variations on them. A simple variations on words are to:\n",
    "  * replace each instance of the letters i and I (small and capital i) with the number 1 (one)\n",
    "  * replace each instance of the letters a and A (small and capital a) with the character @\n",
    "  * add a hash sign (#) at the beginning of the word\n",
    "  * add an exclamation mark (!) at the end of the word\n",
    "  * capitalize all letters\n",
    "  \n",
    "For example, a user might use the password \"#@SS1GNMENT!\" which is a variation on the word \"assignment\".\n",
    "\n",
    "You are going to write a program that uses a file containing a long list of possible passwords to try to find the plaintext passwords of users given a password file with encrypted passwords.\n",
    "\n",
    "*Hint*: Make sure to break up your code in smaller parts (functions) and to first think about the solution (use paper!) before you start coding!\n",
    "\n",
    "*Hint*: You may assume that a user either uses a word unaltered from the words file as a password or uses *all* 5 ways to alter an existing word from the file simultaneously as a password (so either \"assignment\" or \"#@SS1GNMENT!\").\n",
    "\n",
    "*Hint*: You can use the provided The *encrypt_password()* function in your answer."
   ]
  },
  {
   "cell_type": "markdown",
   "metadata": {},
   "source": [
    "**Assignment 4.1**\n",
    "\n",
    "Write a function that takes as argument a string and returns a new string in which\n",
    "the argument string has been altered using the 5 mentioned alterations. For example,\n",
    "\"assignment\" should be changed into \"#@SS1GNMENT!\".\n",
    "\n",
    "Hint: You migth want to use the <A HREF=\"https://docs.python.org/2/library/string.html#string.replace\">string.replace()</A> method in your answer."
   ]
  },
  {
   "cell_type": "code",
   "execution_count": 2,
   "metadata": {},
   "outputs": [
    {
     "data": {
      "text/plain": [
       "'#@SS1GNMENT!'"
      ]
     },
     "execution_count": 2,
     "metadata": {},
     "output_type": "execute_result"
    }
   ],
   "source": [
    "# your code goes here\n",
    "def alterstringfunc(name):\n",
    "    name = name.upper()\n",
    "    for item in name:\n",
    "        if item == 'I':\n",
    "            name = name.replace(item,'1')\n",
    "        elif item == 'A':\n",
    "            name= name.replace(item,'@')\n",
    "        \n",
    "    return ('#'+name+'!')\n",
    "    \n",
    "alterstringfunc('assignment')"
   ]
  },
  {
   "cell_type": "markdown",
   "metadata": {},
   "source": [
    "**Assignment 4.2**\n",
    "\n",
    "Write a program that reads the file ```words.txt``` and that prompts a user for an encrypted (hashed) password and that finds and prints the plaintext password (if it can be found) of the encrypted password. For example:\n",
    "```\n",
    "Input encrypted password: b46352779bececb48e5a8d31e58684e8da139a944715bd44f0b930f3ac46bbca\n",
    "Plaintext password is: #@SS1GNMENT!\n",
    "```\n",
    "Another example is:\n",
    "```\n",
    "Input encrypted password: ce7a7c10b0dfd96808cca64c88cf5c5e13b7775283bdc924767887bfa32c8fa1\n",
    "Plaintext password is: assignment\n",
    "```\n",
    "\n",
    "**Note:** make sure to use a dictionary data-type in your solution"
   ]
  },
  {
   "cell_type": "code",
   "execution_count": 89,
   "metadata": {},
   "outputs": [
    {
     "name": "stdout",
     "output_type": "stream",
     "text": [
      "Input encrypted password: e6868d7b1cb85386cd8bcca41a87ae22c124421caff73d5934982bf5324ef3f6\n",
      "Plaintext password is: #@@RDV@RK!\n"
     ]
    }
   ],
   "source": [
    "#Your code goes here\n",
    "\n",
    "word_hashed_dict = {}\n",
    "fileread = open('words.txt','r+')\n",
    "fileread = fileread.read().split(\"\\n\");\n",
    "def create_dict(file):\n",
    "    for item in file :\n",
    "        encrypt_word = encrypt_password(item)\n",
    "        alternate_word = alterstringfunc(item)\n",
    "        encrypt_alternate = encrypt_password(alternate_word)\n",
    "        word_hashed_dict[item]= encrypt_word\n",
    "        word_hashed_dict[alternate_word]= encrypt_alternate\n",
    "\n",
    "    return(word_hashed_dict)\n",
    "\n",
    "\n",
    "def find_input(hashinput,hashed_dict):\n",
    "    \n",
    "    if hashinput in hashed_dict.values():\n",
    "        for item in hashed_dict:        \n",
    "            if hashinput == hashed_dict[item]:\n",
    "                print(\"Plaintext password is:\", item)\n",
    "    else :\n",
    "        print(\"Encrypted password not Found!\")\n",
    "       \n",
    "\n",
    "dictionary_word = create_dict(fileread)\n",
    "hashed_input = input('Input encrypted password: ')\n",
    "find_input(hashed_input,dictionary_word)\n",
    "\n",
    "\n",
    "    "
   ]
  },
  {
   "cell_type": "markdown",
   "metadata": {},
   "source": [
    "**Assignment 4.3**\n",
    "\n",
    "Write a program that reads the password file ```passwordfile.txt``` and the word list ```words.txt```  and for each line in the password file prints out the name and corresponding plaintext password, if you can find it (if not, print something appropriately).\n",
    "For example, the output could be:\n",
    "```\n",
    "John   secret\n",
    "Mary   #@SS1GNMENT!\n",
    "Bob    Cannot find password, too complex!\n",
    "Jane   python\n",
    "Peter  #PYTHON!\n",
    "...\n",
    "```"
   ]
  },
  {
   "cell_type": "code",
   "execution_count": 88,
   "metadata": {},
   "outputs": [
    {
     "name": "stdout",
     "output_type": "stream",
     "text": [
      "e6868d7b1cb85386cd8bcca41a87ae22c124421caff73d5934982bf5324ef3f6\n",
      "\n",
      "e6868d7b1cb85386cd8bcca41a87ae22c124421caff73d5934982bf5324ef3f6\n",
      "John    Cannot find password, too complex!\n",
      "cdc7283def7099d7b1a1479b14bb0b4f4c1dafa5e0d7ca2f971e103c5ca2cf91\n",
      "\n",
      "e6868d7b1cb85386cd8bcca41a87ae22c124421caff73d5934982bf5324ef3f6\n",
      "Mary    Cannot find password, too complex!\n",
      "50bdd8da1bf88ef117720f9be735459bc61403d9c2d59de9365e47636ed7ecf8\n",
      "\n",
      "e6868d7b1cb85386cd8bcca41a87ae22c124421caff73d5934982bf5324ef3f6\n",
      "Bob    Cannot find password, too complex!\n",
      "11a4a60b518bf24989d481468076e5d5982884626aed9faeb35b8576fcd223e1\n",
      "\n",
      "e6868d7b1cb85386cd8bcca41a87ae22c124421caff73d5934982bf5324ef3f6\n",
      "Jane    Cannot find password, too complex!\n",
      "ef794d0f3a4eb6bf12e7b5d1c554ce14e806096e754d118c0a53b7b3d73b9867\n",
      "\n",
      "e6868d7b1cb85386cd8bcca41a87ae22c124421caff73d5934982bf5324ef3f6\n",
      "Peter    Cannot find password, too complex!\n",
      "7bd9ca7a756115eabdff2ab281ee9d8c22f44b51d97a6801169d65d90ff16327\n",
      "\n",
      "e6868d7b1cb85386cd8bcca41a87ae22c124421caff73d5934982bf5324ef3f6\n",
      "Julia    Cannot find password, too complex!\n",
      "7ea29f746dc7abe2893bb4279c06aa1e4443c90c4ea2da75557b548d4ecf6694\n",
      "\n",
      "e6868d7b1cb85386cd8bcca41a87ae22c124421caff73d5934982bf5324ef3f6\n",
      "Mike    Cannot find password, too complex!\n",
      "65791165c0545089fdd23860a47cb594e81aecf30ceb4013944e2eb20b16a959\n",
      "\n",
      "e6868d7b1cb85386cd8bcca41a87ae22c124421caff73d5934982bf5324ef3f6\n",
      "Alice    Cannot find password, too complex!\n",
      "69aeb1c2851e1a68538654740c7fccccb8d91c2ee96f5281bfba22443045105c\n",
      "\n",
      "e6868d7b1cb85386cd8bcca41a87ae22c124421caff73d5934982bf5324ef3f6\n",
      "Zach    Cannot find password, too complex!\n",
      "bf8ee9479549dde9721ae599d133574ff8230b3cee81baa4f954880af571aa53\n",
      "\n",
      "e6868d7b1cb85386cd8bcca41a87ae22c124421caff73d5934982bf5324ef3f6\n",
      "Vicky    Cannot find password, too complex!\n"
     ]
    }
   ],
   "source": [
    "# Your code goes here\n",
    "\n",
    "password_file_dict = {}\n",
    "pass_file_read = open(\"passwordfile.txt\")\n",
    "\n",
    "def pass_dict(fileread):\n",
    "    with fileread as p:\n",
    "        for item in p:\n",
    "            key,value = item.split(':')\n",
    "            password_file_dict[key] = value\n",
    "       \n",
    "    return(password_file_dict)\n",
    "\n",
    "pass_dict(pass_file_read)\n",
    "\n",
    "\n",
    "def check_idpass(dictid,dictpass):\n",
    "    for item in dictid:\n",
    "        print(dictid[item])\n",
    "        print(dictpass['#@@RDV@RK!'])\n",
    "        if dictid[item] in dictpass.values():\n",
    "            for k in dictpass:\n",
    "                if dictid[item] == dictpass[k]:\n",
    "                    print(item.key(),'  ',item.values())\n",
    "        \n",
    "        else:\n",
    "            print(item,'  ','Cannot find password, too complex!')\n",
    "            \n",
    "check_idpass(password_file_dict,dictionary_word)           "
   ]
  },
  {
   "cell_type": "code",
   "execution_count": null,
   "metadata": {
    "collapsed": true
   },
   "outputs": [],
   "source": []
  }
 ],
 "metadata": {
  "kernelspec": {
   "display_name": "Python 3",
   "language": "python",
   "name": "python3"
  },
  "language_info": {
   "codemirror_mode": {
    "name": "ipython",
    "version": 3
   },
   "file_extension": ".py",
   "mimetype": "text/x-python",
   "name": "python",
   "nbconvert_exporter": "python",
   "pygments_lexer": "ipython3",
   "version": "3.6.0"
  }
 },
 "nbformat": 4,
 "nbformat_minor": 2
}
