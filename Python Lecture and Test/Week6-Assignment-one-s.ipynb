{
 "cells": [
  {
   "cell_type": "markdown",
   "metadata": {},
   "source": [
    "# EPA1333 - Computer Engineering for Scientific Computing\n",
    "## Week 6 - Oct 10, 2017"
   ]
  },
  {
   "cell_type": "code",
   "execution_count": 1,
   "metadata": {
    "collapsed": true,
    "scrolled": true
   },
   "outputs": [],
   "source": [
    "%matplotlib inline\n",
    "import pandas as pd\n",
    "import numpy as np\n",
    "import matplotlib.pyplot as plt"
   ]
  },
  {
   "cell_type": "markdown",
   "metadata": {},
   "source": [
    "## Links\n",
    "\n",
    "  * [Pandas Exercises](https://github.com/guipsamora/pandas_exercises)\n",
    "  * [100 pandas puzzles (well incomplete...)](https://github.com/ajcr/100-pandas-puzzles)\n",
    "  \n",
    "  * [Walkthrough exercises from PandasTutorial by Wes McKinney](https://github.com/lemonbalm/pandas-exercises)\n",
    "  Note: you need to convert these to Python3 first.\n",
    "  * [A few common Excel tasks in Pandas](http://pbpython.com/excel-pandas-comp.html)\n",
    "  \n",
    "  * Some more Tutorials:\n",
    "    * https://apawlik.github.io/2014-04-09-GARNET/lessons/garnet/pandas/tutorial.html\n",
    "    * http://efavdb.com/pandas-tips-and-tricks/\n"
   ]
  },
  {
   "cell_type": "markdown",
   "metadata": {},
   "source": [
    "# Pandas exercises"
   ]
  },
  {
   "cell_type": "markdown",
   "metadata": {},
   "source": [
    "## Exercise 1: Euro 2012 Football\n",
    "\n",
    "\n",
    "Based on an exercise on [Pandas Exercises](https://github.com/guipsamora/pandas_exercises).\n"
   ]
  },
  {
   "cell_type": "markdown",
   "metadata": {},
   "source": [
    "### Import data\n",
    "\n",
    "There Euro 2012 data in the following url\n",
    "\n",
    "```\n",
    "https://raw.githubusercontent.com/jokecamp/FootballData/master/Euro%202012/Euro%202012%20stats%20TEAM.csv\n",
    "```"
   ]
  },
  {
   "cell_type": "markdown",
   "metadata": {},
   "source": [
    "#### Q1: Read the data into a DataFrame."
   ]
  },
  {
   "cell_type": "code",
   "execution_count": null,
   "metadata": {
    "collapsed": true
   },
   "outputs": [],
   "source": [
    "euro2012 = pd.read_csv('https://raw.githubusercontent.com/jokecamp/FootballData/master/Euro%202012/Euro%202012%20stats%20TEAM.csv', delimiter=',', skipinitialspace=True)"
   ]
  },
  {
   "cell_type": "markdown",
   "metadata": {},
   "source": [
    "#### Q2:  Show the first 10 lines. Check if your import worked."
   ]
  },
  {
   "cell_type": "code",
   "execution_count": null,
   "metadata": {
    "collapsed": true,
    "scrolled": true
   },
   "outputs": [],
   "source": [
    "euro2012[:10]"
   ]
  },
  {
   "cell_type": "markdown",
   "metadata": {},
   "source": [
    "#### Q3: Show the teams that participated in Euro 2012."
   ]
  },
  {
   "cell_type": "code",
   "execution_count": null,
   "metadata": {
    "collapsed": true
   },
   "outputs": [],
   "source": [
    "euro2012.Team\n",
    "#euro2012['Team'] # alternative"
   ]
  },
  {
   "cell_type": "markdown",
   "metadata": {},
   "source": [
    "#### Q4: How many Teams participated in Euro 2012?"
   ]
  },
  {
   "cell_type": "code",
   "execution_count": null,
   "metadata": {
    "collapsed": true
   },
   "outputs": [],
   "source": [
    "euro2012.Team.count()\n",
    "# euro2012['Team'].count() # alternative"
   ]
  },
  {
   "cell_type": "markdown",
   "metadata": {},
   "source": [
    "#### Q5: What are the column names in the dataframe?"
   ]
  },
  {
   "cell_type": "code",
   "execution_count": null,
   "metadata": {
    "collapsed": true
   },
   "outputs": [],
   "source": [
    "euro2012.columns"
   ]
  },
  {
   "cell_type": "markdown",
   "metadata": {},
   "source": [
    "#### Q6: Which teams received more than 8 Yellow Cards?"
   ]
  },
  {
   "cell_type": "code",
   "execution_count": null,
   "metadata": {
    "collapsed": true
   },
   "outputs": [],
   "source": [
    "euro2012[euro2012['Yellow Cards'] > 8].Team\n",
    "#euro2012[euro2012['Yellow Cards'] > 8]['Team'] # alternative"
   ]
  },
  {
   "cell_type": "markdown",
   "metadata": {},
   "source": [
    "#### Q7: How many teams had taken more than 20 corners?"
   ]
  },
  {
   "cell_type": "code",
   "execution_count": null,
   "metadata": {
    "collapsed": true
   },
   "outputs": [],
   "source": [
    "euro2012[euro2012['Corners Taken'] > 20].Team.count()\n",
    "#(euro2012['Corners Taken'] > 20).sum() # alternative"
   ]
  },
  {
   "cell_type": "markdown",
   "metadata": {},
   "source": [
    "#### Q8: Which teams scored with penalty goals and headed goals?"
   ]
  },
  {
   "cell_type": "code",
   "execution_count": null,
   "metadata": {
    "collapsed": true
   },
   "outputs": [],
   "source": [
    "euro2012[(euro2012['Penalty goals'] > 0) & (euro2012['Headed goals'] > 0)].Team"
   ]
  },
  {
   "cell_type": "markdown",
   "metadata": {},
   "source": [
    "#### Q9: How many goals were scored in total?"
   ]
  },
  {
   "cell_type": "code",
   "execution_count": null,
   "metadata": {
    "collapsed": true
   },
   "outputs": [],
   "source": [
    "euro2012['Goals'].sum()\n",
    "# euro2012.Goals.sum() # alternative"
   ]
  },
  {
   "cell_type": "markdown",
   "metadata": {},
   "source": [
    "#### Q10: Create a DataFrame which shows the total number of fouls (won and conceded) for each team"
   ]
  },
  {
   "cell_type": "code",
   "execution_count": null,
   "metadata": {
    "collapsed": true
   },
   "outputs": [],
   "source": [
    "# first create a new series in the dataframe\n",
    "euro2012['Total Fouls'] = euro2012['Fouls Won'] + euro2012['Fouls Conceded']\n",
    "# check the result\n",
    "euro2012['Total Fouls']\n",
    "# show the total fouls per team\n",
    "euro2012[['Team', 'Total Fouls']]"
   ]
  },
  {
   "cell_type": "markdown",
   "metadata": {},
   "source": [
    "#### Q11: View only the columns Team, Yellow Cards and Red Cards and assign them to a dataframe called discipline"
   ]
  },
  {
   "cell_type": "code",
   "execution_count": null,
   "metadata": {
    "collapsed": true
   },
   "outputs": [],
   "source": [
    "discipline = euro2012[['Team', 'Yellow Cards', 'Red Cards']]\n",
    "discipline"
   ]
  },
  {
   "cell_type": "markdown",
   "metadata": {},
   "source": [
    "#### Q12: Sort the discipline dataframe. First on Red Cards, then on Yellow Cards, in descending order"
   ]
  },
  {
   "cell_type": "code",
   "execution_count": null,
   "metadata": {
    "collapsed": true
   },
   "outputs": [],
   "source": [
    "discipline.sort_values(['Red Cards', 'Yellow Cards'], ascending = False)"
   ]
  },
  {
   "cell_type": "markdown",
   "metadata": {},
   "source": [
    "#### Q13: What is the average amount of Yellow Cards?"
   ]
  },
  {
   "cell_type": "code",
   "execution_count": null,
   "metadata": {
    "collapsed": true
   },
   "outputs": [],
   "source": [
    "discipline['Yellow Cards'].mean()"
   ]
  },
  {
   "cell_type": "markdown",
   "metadata": {},
   "source": [
    "#### Q14: Print the teams that start with the letter 'G'.\n",
    "\n",
    "*Hint:* Series (such as a column of a DataFrame) also support string operations.\n",
    "If s is a series then:\n",
    "```\n",
    "    s.str\n",
    "```\n",
    "provides access to all types of common string operations (such as, contains, islower, len, slice, strip, split, startswith, etc). \n",
    "\n",
    "See ```help pd.Series.str``` for more information."
   ]
  },
  {
   "cell_type": "code",
   "execution_count": null,
   "metadata": {
    "collapsed": true
   },
   "outputs": [],
   "source": [
    "# use help(pd.Series.str) to see what methods are available for str\n",
    "euro2012[euro2012.Team.str.startswith('G')]\n"
   ]
  },
  {
   "cell_type": "markdown",
   "metadata": {},
   "source": [
    "#### Q15: Plot a bar chart showing the Shooting Accuracy of each Team.\n",
    "\n",
    "*Hint*: Shooting Accuracy is a string. To plot these values, they must be a number. You can use\n",
    "```\n",
    "    dataframe['column'].astype(type)\n",
    "```\n",
    "to change the type of the values in a column to a given type. Note however, that you first need to\n",
    "strip off the '%'-sign from the string before the conversion can succeed.\n",
    "\n",
    "*Hint*: Create a new column with the shooting accuracy values as a real float. Then use the plot() method\n",
    "of the dataframe to plot the shooting accuracy as a bar chart. Use the Team names to name the bars."
   ]
  },
  {
   "cell_type": "code",
   "execution_count": null,
   "metadata": {
    "collapsed": true
   },
   "outputs": [],
   "source": [
    "euro2012['Shooting Accuracy Perc']= euro2012['Shooting Accuracy'].str.strip('%').astype(float)\n",
    "euro2012.plot('Team','Shooting Accuracy Perc', kind=\"bar\")"
   ]
  }
 ],
 "metadata": {
  "kernelspec": {
   "display_name": "Python 3",
   "language": "python",
   "name": "python3"
  },
  "language_info": {
   "codemirror_mode": {
    "name": "ipython",
    "version": 3
   },
   "file_extension": ".py",
   "mimetype": "text/x-python",
   "name": "python",
   "nbconvert_exporter": "python",
   "pygments_lexer": "ipython3",
   "version": "3.6.0"
  }
 },
 "nbformat": 4,
 "nbformat_minor": 1
}
