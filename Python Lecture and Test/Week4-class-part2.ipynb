{
 "cells": [
  {
   "cell_type": "markdown",
   "metadata": {},
   "source": [
    "# EPA1333 - Computer Engineering for Scientific Computing\n",
    "## Week 4 - Sept 28, 2017"
   ]
  },
  {
   "cell_type": "markdown",
   "metadata": {},
   "source": [
    "**Think  Python** -\n",
    "**How to Think Like a Computer Scientist**\n",
    "\n",
    "*Allen B. Downey*\n"
   ]
  },
  {
   "cell_type": "markdown",
   "metadata": {},
   "source": [
    "## Ch 14: Files\n",
    "\n",
    "Reading, writing, creating, renaming and deleting files.\n",
    "\n",
    "Before we can read/write from/to a file, it must be opened.\n",
    "\n",
    "```python\n",
    "f = open( filename, mode )\n",
    "\n",
    "f.readline()     # Read a single line\n",
    "f.readlines()    # Returns a list of all lines\n",
    "f.write( \"text\" )\n",
    "\n",
    "f.close()\n",
    "```\n",
    "\n",
    "mode indicates how we want to use the file, use a *combination* of:\n",
    "  * 'r' - open the file for reading (default)\n",
    "  * 'w' - open the file for writing, truncate the file!\n",
    "  * 'a' - open the file for writing, append to the end.\n",
    "  * 'x' - create the file and open file for writing.\n",
    "  \n",
    "  \n",
    "  * 't' - open the file in text mode (recognizes newlines) (default)\n",
    "  * 'b' - open the file in binary mode (interpret all characters as-is)\n"
   ]
  },
  {
   "cell_type": "code",
   "execution_count": 1,
   "metadata": {},
   "outputs": [
    {
     "data": {
      "text/plain": [
       "['.anaconda',\n",
       " '.cisco',\n",
       " '.conda',\n",
       " '.condarc',\n",
       " '.continuum',\n",
       " '.ipynb_checkpoints',\n",
       " '.ipython',\n",
       " '.jupyter',\n",
       " '.LSC',\n",
       " '.matplotlib',\n",
       " '.Mendeley Desktop',\n",
       " '.QtWebEngineProcess',\n",
       " '.spyder-py3',\n",
       " 'AnacondaProjects',\n",
       " 'AppData',\n",
       " 'Application Data',\n",
       " 'Assignment-Week1-solution.ipynb',\n",
       " 'Assignment-Week1.ipynb',\n",
       " 'Assignment-Week1_09092017_1959H (2).ipynb',\n",
       " 'Assignment-Week1_09092017_1959H.ipynb',\n",
       " 'Assignment-Week3.ipynb',\n",
       " 'Coding Challenge_21092017_1113H.R',\n",
       " 'Contacts',\n",
       " 'Cookies',\n",
       " 'Desktop',\n",
       " 'Documents',\n",
       " 'Downloads',\n",
       " 'Favorites',\n",
       " 'Intel',\n",
       " 'IntelGraphicsProfiles',\n",
       " 'Links',\n",
       " 'Local Settings',\n",
       " 'Music',\n",
       " 'My Documents',\n",
       " 'NetHood',\n",
       " 'NTUSER.DAT',\n",
       " 'ntuser.dat.LOG1',\n",
       " 'ntuser.dat.LOG2',\n",
       " 'NTUSER.DAT{1d5171a9-76d6-11e7-831d-df6cecc777d0}.TM.blf',\n",
       " 'NTUSER.DAT{1d5171a9-76d6-11e7-831d-df6cecc777d0}.TMContainer00000000000000000001.regtrans-ms',\n",
       " 'NTUSER.DAT{1d5171a9-76d6-11e7-831d-df6cecc777d0}.TMContainer00000000000000000002.regtrans-ms',\n",
       " 'ntuser.ini',\n",
       " 'Pictures',\n",
       " 'PrintHood',\n",
       " 'REACHit',\n",
       " 'Recent',\n",
       " 'Roaming',\n",
       " 'Saved Games',\n",
       " 'Searches',\n",
       " 'SendTo',\n",
       " 'Start Menu',\n",
       " 'Templates',\n",
       " 'Untitled Folder',\n",
       " 'Untitled Folder 1',\n",
       " 'Videos',\n",
       " 'week1_notebook.ipynb',\n",
       " 'Week2_notebook.ipynb',\n",
       " 'Week4-class-part1.ipynb',\n",
       " 'Week4-class-part2.ipynb',\n",
       " 'Week4.ipynb']"
      ]
     },
     "execution_count": 1,
     "metadata": {},
     "output_type": "execute_result"
    }
   ],
   "source": [
    "# List files in directory\n",
    "import os\n",
    "\n",
    "os.listdir()"
   ]
  },
  {
   "cell_type": "code",
   "execution_count": 3,
   "metadata": {},
   "outputs": [
    {
     "ename": "FileExistsError",
     "evalue": "[Errno 17] File exists: 'NEW_FILE.TXT'",
     "output_type": "error",
     "traceback": [
      "\u001b[0;31m---------------------------------------------------------------------------\u001b[0m",
      "\u001b[0;31mFileExistsError\u001b[0m                           Traceback (most recent call last)",
      "\u001b[0;32m<ipython-input-3-8aa81efd6fb5>\u001b[0m in \u001b[0;36m<module>\u001b[0;34m()\u001b[0m\n\u001b[1;32m      1\u001b[0m \u001b[1;31m# Create a file for writing\u001b[0m\u001b[1;33m\u001b[0m\u001b[1;33m\u001b[0m\u001b[0m\n\u001b[0;32m----> 2\u001b[0;31m \u001b[0mf\u001b[0m \u001b[1;33m=\u001b[0m \u001b[0mopen\u001b[0m\u001b[1;33m(\u001b[0m\u001b[1;34m'NEW_FILE.TXT'\u001b[0m\u001b[1;33m,\u001b[0m \u001b[1;34m'x'\u001b[0m\u001b[1;33m)\u001b[0m\u001b[1;33m\u001b[0m\u001b[0m\n\u001b[0m",
      "\u001b[0;31mFileExistsError\u001b[0m: [Errno 17] File exists: 'NEW_FILE.TXT'"
     ]
    }
   ],
   "source": [
    "# Create a file for writing\n",
    "f = open('NEW_FILE.TXT', 'x')"
   ]
  },
  {
   "cell_type": "code",
   "execution_count": null,
   "metadata": {},
   "outputs": [],
   "source": [
    "os.listdir()"
   ]
  },
  {
   "cell_type": "code",
   "execution_count": null,
   "metadata": {
    "collapsed": true
   },
   "outputs": [],
   "source": [
    "text = \"\"\"Lorem ipsum dolor sit amet, consectetur adipiscing elit.\n",
    "Aenean vel magna scelerisque libero tempor consequat eu \n",
    "sit amet tellus. Donec sit amet ipsum id magna semper eleifend. \n",
    "Nam vehicula augue eget est pretium, quis accumsan est rutrum. \n",
    "Donec elit lorem, pretium ac semper gravida, accumsan sed mauris. \n",
    "Quisque quis enim eget tortor maximus fringilla quis sed libero. \n",
    "Proin ut gravida lectus. Mauris suscipit tempor lacus sed ultrices. \n",
    "Maecenas accumsan pretium posuere. Etiam facilisis ligula diam, \n",
    "ac ultrices ligula posuere id.\"\"\""
   ]
  },
  {
   "cell_type": "code",
   "execution_count": 4,
   "metadata": {},
   "outputs": [
    {
     "ename": "NameError",
     "evalue": "name 'text' is not defined",
     "output_type": "error",
     "traceback": [
      "\u001b[0;31m---------------------------------------------------------------------------\u001b[0m",
      "\u001b[0;31mNameError\u001b[0m                                 Traceback (most recent call last)",
      "\u001b[0;32m<ipython-input-4-787d2d850b12>\u001b[0m in \u001b[0;36m<module>\u001b[0;34m()\u001b[0m\n\u001b[1;32m      3\u001b[0m \u001b[1;33m\u001b[0m\u001b[0m\n\u001b[1;32m      4\u001b[0m \u001b[1;33m\u001b[0m\u001b[0m\n\u001b[0;32m----> 5\u001b[0;31m \u001b[0mf\u001b[0m\u001b[1;33m.\u001b[0m\u001b[0mwrite\u001b[0m\u001b[1;33m(\u001b[0m \u001b[0mtext\u001b[0m \u001b[1;33m)\u001b[0m\u001b[1;33m\u001b[0m\u001b[0m\n\u001b[0m\u001b[1;32m      6\u001b[0m \u001b[0mf\u001b[0m\u001b[1;33m.\u001b[0m\u001b[0mflush\u001b[0m\u001b[1;33m(\u001b[0m\u001b[1;33m)\u001b[0m         \u001b[1;31m# flush the file, necessary in case of buffering.\u001b[0m\u001b[1;33m\u001b[0m\u001b[0m\n\u001b[1;32m      7\u001b[0m \u001b[0mf\u001b[0m\u001b[1;33m.\u001b[0m\u001b[0mclose\u001b[0m\u001b[1;33m(\u001b[0m\u001b[1;33m)\u001b[0m         \u001b[1;31m# close the file, which also forces a flush()\u001b[0m\u001b[1;33m\u001b[0m\u001b[0m\n",
      "\u001b[0;31mNameError\u001b[0m: name 'text' is not defined"
     ]
    }
   ],
   "source": [
    "# Write something to the file... explicitly write a newline.\n",
    "f.write( 'This is a line of text.\\n' )\n",
    "\n",
    "\n",
    "f.write( text )\n",
    "f.flush()         # flush the file, necessary in case of buffering.\n",
    "f.close()         # close the file, which also forces a flush()"
   ]
  },
  {
   "cell_type": "code",
   "execution_count": 6,
   "metadata": {},
   "outputs": [],
   "source": [
    "# check file with os type command / repleace type with cat for linux / unix\n",
    "!type NEW_FILE.TXT\n"
   ]
  },
  {
   "cell_type": "code",
   "execution_count": null,
   "metadata": {},
   "outputs": [],
   "source": [
    "# Now open the file again for reading.\n",
    "\n",
    "f = open( 'NEW_FILE.TXT', 'r')\n",
    "\n",
    "for line in f.readlines():\n",
    "    print('Read line:', line, end='' )\n",
    "    \n",
    "f.close()"
   ]
  },
  {
   "cell_type": "code",
   "execution_count": null,
   "metadata": {
    "collapsed": true
   },
   "outputs": [],
   "source": [
    "# Append a line to the end\n",
    "f = open('NEW_FILE.TXT', 'a')\n",
    "\n",
    "f.write('\\nA last line at the end\\n')\n",
    "\n",
    "f.close()"
   ]
  },
  {
   "cell_type": "code",
   "execution_count": null,
   "metadata": {},
   "outputs": [],
   "source": [
    "!type NEW_FILE.TXT"
   ]
  },
  {
   "cell_type": "markdown",
   "metadata": {},
   "source": [
    "<div class=\"alert alert-success\">\n",
    "<h3>Exercise 1</h3>\n",
    "Write a Python program that counts the number of lines in a file.\n",
    "</div>"
   ]
  },
  {
   "cell_type": "code",
   "execution_count": null,
   "metadata": {
    "collapsed": true
   },
   "outputs": [],
   "source": [
    "f=open('NEW_FILE.TXT','r')\n",
    "a=0\n",
    "for line in f.readline():\n",
    "    a=a+1\n",
    "    "
   ]
  },
  {
   "cell_type": "markdown",
   "metadata": {},
   "source": [
    "#### Renaming and deleting files\n",
    "\n",
    "We can rename and delete files with the following commands.\n",
    "\n",
    "```python\n",
    "import os\n",
    "\n",
    "os.rename( file1, file2)  # Rename file1 to file2\n",
    "os.remove( file )         # Delete a file\n",
    "```"
   ]
  },
  {
   "cell_type": "code",
   "execution_count": null,
   "metadata": {},
   "outputs": [],
   "source": [
    "os.rename( 'NEW_FILE.TXT', 'RENAMED_FILE.TXT')\n",
    "\n",
    "os.listdir()"
   ]
  },
  {
   "cell_type": "code",
   "execution_count": null,
   "metadata": {},
   "outputs": [],
   "source": [
    "os.remove( 'RENAMED_FILE.TXT' )\n",
    "\n",
    "os.listdir()"
   ]
  },
  {
   "cell_type": "markdown",
   "metadata": {},
   "source": [
    "#### Creating, deleting directories / folders\n",
    "\n",
    "Python can also manipulate directories / folders.\n",
    "\n",
    "```python\n",
    "os.getcwd()     # get current directory\n",
    "os.chdir( dir ) # change current directory ('..' is the parent directory)\n",
    "\n",
    "os.mkdir( dir ) # create a new directory in the current directory\n",
    "os.rmdir( dir ) # remove a directory\n",
    "```\n"
   ]
  },
  {
   "cell_type": "markdown",
   "metadata": {},
   "source": [
    "<div class=\"alert alert-success\">\n",
    "<h3>Exercise 2</h3>\n",
    "Write a Python program that takes a directory as input and \"walks\" through it, printing the file names and calling itself recurively for the inner directories. You might want to check os.path.isfile(). Use \\\\\\ instead of \\ in the path string.\n",
    "</div>"
   ]
  },
  {
   "cell_type": "code",
   "execution_count": 38,
   "metadata": {},
   "outputs": [
    {
     "name": "stdout",
     "output_type": "stream",
     "text": [
      "C:\\Users\\USER\\.anaconda\\navigator\\anaconda-navigator.ini\n",
      "C:\\Users\\USER\\.anaconda\\navigator\\channels\\metadata.json\n",
      "C:\\Users\\USER\\.anaconda\\navigator\\channels\\repo.continuum.io_pkgs_free_noarch_repodata.json.bz2\n",
      "C:\\Users\\USER\\.anaconda\\navigator\\channels\\repo.continuum.io_pkgs_free_win-64_repodata.json.bz2\n",
      "C:\\Users\\USER\\.anaconda\\navigator\\channels\\repo.continuum.io_pkgs_msys2_noarch_repodata.json.bz2\n",
      "C:\\Users\\USER\\.anaconda\\navigator\\channels\\repo.continuum.io_pkgs_msys2_win-64_repodata.json.bz2\n",
      "C:\\Users\\USER\\.anaconda\\navigator\\channels\\repo.continuum.io_pkgs_pro_noarch_repodata.json.bz2\n",
      "C:\\Users\\USER\\.anaconda\\navigator\\channels\\repo.continuum.io_pkgs_pro_win-64_repodata.json.bz2\n",
      "C:\\Users\\USER\\.anaconda\\navigator\\channels\\repo.continuum.io_pkgs_r_noarch_repodata.json.bz2\n",
      "C:\\Users\\USER\\.anaconda\\navigator\\channels\\repo.continuum.io_pkgs_r_win-64_repodata.json.bz2\n",
      "C:\\Users\\USER\\.anaconda\\navigator\\content\\content.json\n",
      "C:\\Users\\USER\\.anaconda\\navigator\\content\\events.json\n",
      "C:\\Users\\USER\\.anaconda\\navigator\\content\\videos.json\n",
      "C:\\Users\\USER\\.anaconda\\navigator\\content\\webinars.json\n",
      "C:\\Users\\USER\\.anaconda\\navigator\\defaults\\defaults-2.0.0.ini\n",
      "C:\\Users\\USER\\.anaconda\\navigator\\images\\1-odLUQK0PQ.jpg\n",
      "C:\\Users\\USER\\.anaconda\\navigator\\images\\2017_03_OpenData Science in the AI Era_v14.jpg\n",
      "C:\\Users\\USER\\.anaconda\\navigator\\images\\2vq73oWIH0M.jpg\n",
      "C:\\Users\\USER\\.anaconda\\navigator\\images\\4dZcSuAtZbE.jpg\n",
      "C:\\Users\\USER\\.anaconda\\navigator\\images\\6Gnrm3c37UQ.jpg\n",
      "C:\\Users\\USER\\.anaconda\\navigator\\images\\6G_8uz_NqXI.jpg\n",
      "C:\\Users\\USER\\.anaconda\\navigator\\images\\AnacondaCON_lines_purple2018.png\n",
      "C:\\Users\\USER\\.anaconda\\navigator\\images\\Anaconda_horizontal_RGB.png\n",
      "C:\\Users\\USER\\.anaconda\\navigator\\images\\breaking-data-science-open.jpg\n",
      "C:\\Users\\USER\\.anaconda\\navigator\\images\\c1AY1dtsxpY.jpg\n",
      "C:\\Users\\USER\\.anaconda\\navigator\\images\\CDO-MIT-Logo-v2.png\n",
      "C:\\Users\\USER\\.anaconda\\navigator\\images\\cGft7TYK25o.jpg\n",
      "C:\\Users\\USER\\.anaconda\\navigator\\images\\computer_code.jpg\n",
      "C:\\Users\\USER\\.anaconda\\navigator\\images\\d-is-for-disruption.png\n",
      "C:\\Users\\USER\\.anaconda\\navigator\\images\\dask-bag.jpg\n",
      "C:\\Users\\USER\\.anaconda\\navigator\\images\\Democratize Your Data.jpg\n",
      "C:\\Users\\USER\\.anaconda\\navigator\\images\\e3bRIS0igZ8.jpg\n",
      "C:\\Users\\USER\\.anaconda\\navigator\\images\\EB8slh0mOII.jpg\n",
      "C:\\Users\\USER\\.anaconda\\navigator\\images\\FMiGqwaYYAQ.jpg\n",
      "C:\\Users\\USER\\.anaconda\\navigator\\images\\foss4gsquare_color_100x100.png\n",
      "C:\\Users\\USER\\.anaconda\\navigator\\images\\fusion.jpg\n",
      "C:\\Users\\USER\\.anaconda\\navigator\\images\\gtc-2015-logo.png\n",
      "C:\\Users\\USER\\.anaconda\\navigator\\images\\high_performance_ods_webinar.jpg\n",
      "C:\\Users\\USER\\.anaconda\\navigator\\images\\IknsCa0srgA.jpg\n",
      "C:\\Users\\USER\\.anaconda\\navigator\\images\\jmFaUtlO26w.jpg\n",
      "C:\\Users\\USER\\.anaconda\\navigator\\images\\journeyToOpenDataScience.png\n",
      "C:\\Users\\USER\\.anaconda\\navigator\\images\\JQZ--VvpjIA.jpg\n",
      "C:\\Users\\USER\\.anaconda\\navigator\\images\\jupytercon-logo.jpg\n",
      "C:\\Users\\USER\\.anaconda\\navigator\\images\\jx1zqddZM1k.jpg\n",
      "C:\\Users\\USER\\.anaconda\\navigator\\images\\KIXACCJHtDg.jpg\n",
      "C:\\Users\\USER\\.anaconda\\navigator\\images\\llnwspQ93qs.jpg\n",
      "C:\\Users\\USER\\.anaconda\\navigator\\images\\Minne-2.png\n",
      "C:\\Users\\USER\\.anaconda\\navigator\\images\\Mk5MLfSROak.jpg\n",
      "C:\\Users\\USER\\.anaconda\\navigator\\images\\newsweek-ai-data-science.jpg\n",
      "C:\\Users\\USER\\.anaconda\\navigator\\images\\nr_LNyi3w6o.jpg\n",
      "C:\\Users\\USER\\.anaconda\\navigator\\images\\openDataSciencewithR.jpg\n",
      "C:\\Users\\USER\\.anaconda\\navigator\\images\\OskQytBBdJU.jpg\n",
      "C:\\Users\\USER\\.anaconda\\navigator\\images\\OuRINNSDtlM.jpg\n",
      "C:\\Users\\USER\\.anaconda\\navigator\\images\\pycon.jpg\n",
      "C:\\Users\\USER\\.anaconda\\navigator\\images\\pydatalogo-generic.png\n",
      "C:\\Users\\USER\\.anaconda\\navigator\\images\\R4sJaOGTWns.jpg\n",
      "C:\\Users\\USER\\.anaconda\\navigator\\images\\RA_2qdipVng.jpg\n",
      "C:\\Users\\USER\\.anaconda\\navigator\\images\\RjVW4o-wUGI.jpg\n",
      "C:\\Users\\USER\\.anaconda\\navigator\\images\\SciPy2017-Logo-NoTag-12.16.16.png\n",
      "C:\\Users\\USER\\.anaconda\\navigator\\images\\ShYOMNGoq2M.jpg\n",
      "C:\\Users\\USER\\.anaconda\\navigator\\images\\strata london white_0.png\n",
      "C:\\Users\\USER\\.anaconda\\navigator\\images\\The Five Dysfunctions of a Data Science Team (no notes).jpg\n",
      "C:\\Users\\USER\\.anaconda\\navigator\\images\\Thumbnail_Bokeh-Dashboards-Webinar-Peter.png\n",
      "C:\\Users\\USER\\.anaconda\\navigator\\images\\wBHf1PLzLvg.jpg\n",
      "C:\\Users\\USER\\.anaconda\\navigator\\images\\Webinar - Three Ways to Move your Data Science Projects to Production.png\n",
      "C:\\Users\\USER\\.anaconda\\navigator\\images\\webinar_amd.png\n",
      "C:\\Users\\USER\\.anaconda\\navigator\\images\\webinar_datashader.png\n",
      "C:\\Users\\USER\\.anaconda\\navigator\\images\\webinar_distributed.png\n",
      "C:\\Users\\USER\\.anaconda\\navigator\\images\\webinar_gurobi2.png\n",
      "C:\\Users\\USER\\.anaconda\\navigator\\images\\webinar_hassle.png\n",
      "C:\\Users\\USER\\.anaconda\\navigator\\images\\webinar_pandas.png\n",
      "C:\\Users\\USER\\.anaconda\\navigator\\images\\webinar_predict.png\n",
      "C:\\Users\\USER\\.anaconda\\navigator\\images\\WIlQT4v7mmc.jpg\n",
      "C:\\Users\\USER\\.anaconda\\navigator\\images\\xrYMfbcv3-c.jpg\n",
      "C:\\Users\\USER\\.anaconda\\navigator\\images\\Y0RvfuLEIPI.jpg\n",
      "C:\\Users\\USER\\.anaconda\\navigator\\images\\YSh3zIGgTYs.jpg\n",
      "C:\\Users\\USER\\.anaconda\\navigator\\images\\yzzlZ2Z33Zk.jpg\n",
      "C:\\Users\\USER\\.anaconda\\navigator\\images\\z77PyatOulU.jpg\n",
      "C:\\Users\\USER\\.anaconda\\navigator\\images\\_xfOYM6gZ40.jpg\n",
      "C:\\Users\\USER\\.anaconda\\navigator\\logs\\navigator.log\n",
      "C:\\Users\\USER\\.anaconda\\navigator\\metadata\\metadata.json\n",
      "C:\\Users\\USER\\.anaconda\\navigator\\navigator.lock\n",
      "C:\\Users\\USER\\.anaconda\\navigator\\navigator.pid\n",
      "C:\\Users\\USER\\.anaconda\\navigator\\scripts\\notebook.bat\n",
      "C:\\Users\\USER\\.anaconda\\navigator\\scripts\\qtconsole.bat\n",
      "C:\\Users\\USER\\.anaconda\\navigator\\scripts\\spyder-err-1.txt\n",
      "C:\\Users\\USER\\.anaconda\\navigator\\scripts\\spyder-out-1.txt\n",
      "C:\\Users\\USER\\.anaconda\\navigator\\scripts\\spyder.bat\n",
      "C:\\Users\\USER\\.cisco\\vpn\\log\\UIHistory_20170928_091431_log.txt\n",
      "C:\\Users\\USER\\.conda\\envs\\.pkgs\\cache\\08159f17.json\n",
      "C:\\Users\\USER\\.conda\\envs\\.pkgs\\cache\\2116b818.json\n",
      "C:\\Users\\USER\\.conda\\envs\\.pkgs\\cache\\709bdc73.json\n",
      "C:\\Users\\USER\\.conda\\envs\\.pkgs\\cache\\716b88c0.json\n",
      "C:\\Users\\USER\\.conda\\envs\\.pkgs\\cache\\814cd719.json\n",
      "C:\\Users\\USER\\.conda\\envs\\.pkgs\\cache\\9767c1d0.json\n",
      "C:\\Users\\USER\\.conda\\envs\\.pkgs\\cache\\9ca791dd.json\n",
      "C:\\Users\\USER\\.conda\\envs\\.pkgs\\cache\\bf91db7e.json\n",
      "C:\\Users\\USER\\.condarc\n",
      "C:\\Users\\USER\\.continuum\\anaconda-client\\config.yaml\n",
      "C:\\Users\\USER\\.ipynb_checkpoints\\Assignment-Week1-checkpoint.ipynb\n",
      "C:\\Users\\USER\\.ipynb_checkpoints\\Assignment-Week1-solution-checkpoint.ipynb\n",
      "C:\\Users\\USER\\.ipynb_checkpoints\\Assignment-Week1_09092017_1959H (2)-checkpoint.ipynb\n",
      "C:\\Users\\USER\\.ipynb_checkpoints\\Assignment-Week1_09092017_1959H-checkpoint.ipynb\n",
      "C:\\Users\\USER\\.ipynb_checkpoints\\Assignment-Week3-checkpoint.ipynb\n",
      "C:\\Users\\USER\\.ipynb_checkpoints\\Assignment-Week4-checkpoint.ipynb\n",
      "C:\\Users\\USER\\.ipynb_checkpoints\\week1_notebook-checkpoint.ipynb\n",
      "C:\\Users\\USER\\.ipynb_checkpoints\\Week2_notebook-checkpoint.ipynb\n",
      "C:\\Users\\USER\\.ipynb_checkpoints\\Week4-checkpoint.ipynb\n",
      "C:\\Users\\USER\\.ipynb_checkpoints\\Week4-class-part1-checkpoint.ipynb\n",
      "C:\\Users\\USER\\.ipynb_checkpoints\\Week4-class-part2-checkpoint.ipynb\n",
      "C:\\Users\\USER\\.ipython\\profile_default\\history.sqlite\n",
      "C:\\Users\\USER\\.ipython\\profile_default\\startup\\README\n",
      "C:\\Users\\USER\\.jupyter\\migrated\n",
      "C:\\Users\\USER\\.matplotlib\\fontList.py3k.cache\n",
      "C:\\Users\\USER\\.spyder-py3\\.ropeproject\\config.py\n",
      "C:\\Users\\USER\\.spyder-py3\\db\\submodules\n",
      "C:\\Users\\USER\\.spyder-py3\\defaults\\defaults-32.0.0.ini\n",
      "C:\\Users\\USER\\.spyder-py3\\defaults\\defaults-40.0.0.ini\n",
      "C:\\Users\\USER\\.spyder-py3\\history.py\n",
      "C:\\Users\\USER\\.spyder-py3\\history_internal.py\n",
      "C:\\Users\\USER\\.spyder-py3\\langconfig\n",
      "C:\\Users\\USER\\.spyder-py3\\onlinehelp\n",
      "C:\\Users\\USER\\.spyder-py3\\spyder.ini\n",
      "C:\\Users\\USER\\.spyder-py3\\spyder.ini-32.0.0.bak\n",
      "C:\\Users\\USER\\.spyder-py3\\spyder.ini-40.0.0.bak\n",
      "C:\\Users\\USER\\.spyder-py3\\spyder.ini.bak\n",
      "C:\\Users\\USER\\.spyder-py3\\spyder.lock\\symlink\n",
      "C:\\Users\\USER\\.spyder-py3\\temp.py\n",
      "C:\\Users\\USER\\.spyder-py3\\template.py\n",
      "C:\\Users\\USER\\.spyder-py3\\workingdir\n",
      "C:\\Users\\USER\\AppData\\Local\\.IdentityService\\AccountStore.json\n",
      "C:\\Users\\USER\\AppData\\Local\\Adobe\\Acrobat\\11.0\\AdobeCMapFnt11.lst\n",
      "C:\\Users\\USER\\AppData\\Local\\Adobe\\Acrobat\\11.0\\AdobeSysFnt11.lst\n",
      "C:\\Users\\USER\\AppData\\Local\\Adobe\\Acrobat\\11.0\\Cache\\AcroFnt11.lst\n",
      "C:\\Users\\USER\\AppData\\Local\\Adobe\\Acrobat\\11.0\\SharedDataEvents\n",
      "C:\\Users\\USER\\AppData\\Local\\Adobe\\Acrobat\\11.0\\UserCache.bin\n",
      "C:\\Users\\USER\\AppData\\Local\\Adobe\\Color\\ACECache11.lst\n",
      "C:\\Users\\USER\\AppData\\Local\\Adobe\\Color\\Profiles\\wscRGB.icc\n",
      "C:\\Users\\USER\\AppData\\Local\\Adobe\\Color\\Profiles\\wsRGB.icc\n",
      "C:\\Users\\USER\\AppData\\Local\\Adobe_Systems_Incorporate\\DigitalEditions.exe_Url_fazg1eoe21kbrrlorku4hx1dzq2xr5jx\\2.0.0.0\\user.config\n"
     ]
    },
    {
     "ename": "PermissionError",
     "evalue": "[WinError 5] Access is denied: 'C:\\\\Users\\\\USER\\\\AppData\\\\Local\\\\Application Data'",
     "output_type": "error",
     "traceback": [
      "\u001b[0;31m---------------------------------------------------------------------------\u001b[0m",
      "\u001b[0;31mPermissionError\u001b[0m                           Traceback (most recent call last)",
      "\u001b[0;32m<ipython-input-38-bfaf02f88723>\u001b[0m in \u001b[0;36m<module>\u001b[0;34m()\u001b[0m\n\u001b[1;32m      9\u001b[0m             \u001b[0mwalk\u001b[0m\u001b[1;33m(\u001b[0m\u001b[0mpath\u001b[0m\u001b[1;33m)\u001b[0m\u001b[1;33m\u001b[0m\u001b[0m\n\u001b[1;32m     10\u001b[0m \u001b[1;33m\u001b[0m\u001b[0m\n\u001b[0;32m---> 11\u001b[0;31m \u001b[0mwalk\u001b[0m\u001b[1;33m(\u001b[0m\u001b[1;34m'C:\\\\Users\\\\USER\\\\'\u001b[0m\u001b[1;33m)\u001b[0m\u001b[1;33m\u001b[0m\u001b[0m\n\u001b[0m",
      "\u001b[0;32m<ipython-input-38-bfaf02f88723>\u001b[0m in \u001b[0;36mwalk\u001b[0;34m(dirname)\u001b[0m\n\u001b[1;32m      7\u001b[0m             \u001b[0mprint\u001b[0m\u001b[1;33m(\u001b[0m\u001b[0mpath\u001b[0m\u001b[1;33m)\u001b[0m\u001b[1;33m\u001b[0m\u001b[0m\n\u001b[1;32m      8\u001b[0m         \u001b[1;32melse\u001b[0m\u001b[1;33m:\u001b[0m\u001b[1;33m\u001b[0m\u001b[0m\n\u001b[0;32m----> 9\u001b[0;31m             \u001b[0mwalk\u001b[0m\u001b[1;33m(\u001b[0m\u001b[0mpath\u001b[0m\u001b[1;33m)\u001b[0m\u001b[1;33m\u001b[0m\u001b[0m\n\u001b[0m\u001b[1;32m     10\u001b[0m \u001b[1;33m\u001b[0m\u001b[0m\n\u001b[1;32m     11\u001b[0m \u001b[0mwalk\u001b[0m\u001b[1;33m(\u001b[0m\u001b[1;34m'C:\\\\Users\\\\USER\\\\'\u001b[0m\u001b[1;33m)\u001b[0m\u001b[1;33m\u001b[0m\u001b[0m\n",
      "\u001b[0;32m<ipython-input-38-bfaf02f88723>\u001b[0m in \u001b[0;36mwalk\u001b[0;34m(dirname)\u001b[0m\n\u001b[1;32m      7\u001b[0m             \u001b[0mprint\u001b[0m\u001b[1;33m(\u001b[0m\u001b[0mpath\u001b[0m\u001b[1;33m)\u001b[0m\u001b[1;33m\u001b[0m\u001b[0m\n\u001b[1;32m      8\u001b[0m         \u001b[1;32melse\u001b[0m\u001b[1;33m:\u001b[0m\u001b[1;33m\u001b[0m\u001b[0m\n\u001b[0;32m----> 9\u001b[0;31m             \u001b[0mwalk\u001b[0m\u001b[1;33m(\u001b[0m\u001b[0mpath\u001b[0m\u001b[1;33m)\u001b[0m\u001b[1;33m\u001b[0m\u001b[0m\n\u001b[0m\u001b[1;32m     10\u001b[0m \u001b[1;33m\u001b[0m\u001b[0m\n\u001b[1;32m     11\u001b[0m \u001b[0mwalk\u001b[0m\u001b[1;33m(\u001b[0m\u001b[1;34m'C:\\\\Users\\\\USER\\\\'\u001b[0m\u001b[1;33m)\u001b[0m\u001b[1;33m\u001b[0m\u001b[0m\n",
      "\u001b[0;32m<ipython-input-38-bfaf02f88723>\u001b[0m in \u001b[0;36mwalk\u001b[0;34m(dirname)\u001b[0m\n\u001b[1;32m      7\u001b[0m             \u001b[0mprint\u001b[0m\u001b[1;33m(\u001b[0m\u001b[0mpath\u001b[0m\u001b[1;33m)\u001b[0m\u001b[1;33m\u001b[0m\u001b[0m\n\u001b[1;32m      8\u001b[0m         \u001b[1;32melse\u001b[0m\u001b[1;33m:\u001b[0m\u001b[1;33m\u001b[0m\u001b[0m\n\u001b[0;32m----> 9\u001b[0;31m             \u001b[0mwalk\u001b[0m\u001b[1;33m(\u001b[0m\u001b[0mpath\u001b[0m\u001b[1;33m)\u001b[0m\u001b[1;33m\u001b[0m\u001b[0m\n\u001b[0m\u001b[1;32m     10\u001b[0m \u001b[1;33m\u001b[0m\u001b[0m\n\u001b[1;32m     11\u001b[0m \u001b[0mwalk\u001b[0m\u001b[1;33m(\u001b[0m\u001b[1;34m'C:\\\\Users\\\\USER\\\\'\u001b[0m\u001b[1;33m)\u001b[0m\u001b[1;33m\u001b[0m\u001b[0m\n",
      "\u001b[0;32m<ipython-input-38-bfaf02f88723>\u001b[0m in \u001b[0;36mwalk\u001b[0;34m(dirname)\u001b[0m\n\u001b[1;32m      1\u001b[0m \u001b[1;32mdef\u001b[0m \u001b[0mwalk\u001b[0m \u001b[1;33m(\u001b[0m\u001b[0mdirname\u001b[0m\u001b[1;33m)\u001b[0m\u001b[1;33m:\u001b[0m\u001b[1;33m\u001b[0m\u001b[0m\n\u001b[0;32m----> 2\u001b[0;31m     \u001b[1;32mfor\u001b[0m \u001b[0mname\u001b[0m \u001b[1;32min\u001b[0m \u001b[0mos\u001b[0m\u001b[1;33m.\u001b[0m\u001b[0mlistdir\u001b[0m\u001b[1;33m(\u001b[0m\u001b[0mdirname\u001b[0m\u001b[1;33m)\u001b[0m\u001b[1;33m:\u001b[0m\u001b[1;33m\u001b[0m\u001b[0m\n\u001b[0m\u001b[1;32m      3\u001b[0m \u001b[1;33m\u001b[0m\u001b[0m\n\u001b[1;32m      4\u001b[0m         \u001b[0mpath\u001b[0m \u001b[1;33m=\u001b[0m \u001b[0mos\u001b[0m\u001b[1;33m.\u001b[0m\u001b[0mpath\u001b[0m\u001b[1;33m.\u001b[0m\u001b[0mjoin\u001b[0m\u001b[1;33m(\u001b[0m\u001b[0mdirname\u001b[0m\u001b[1;33m,\u001b[0m\u001b[0mname\u001b[0m\u001b[1;33m)\u001b[0m\u001b[1;33m\u001b[0m\u001b[0m\n\u001b[1;32m      5\u001b[0m \u001b[1;33m\u001b[0m\u001b[0m\n",
      "\u001b[0;31mPermissionError\u001b[0m: [WinError 5] Access is denied: 'C:\\\\Users\\\\USER\\\\AppData\\\\Local\\\\Application Data'"
     ]
    }
   ],
   "source": [
    "def walk (dirname):\n",
    "    for name in os.listdir(dirname):\n",
    "        \n",
    "        path = os.path.join(dirname,name)\n",
    "        \n",
    "        if os.path.isfile(path):\n",
    "            print(path)\n",
    "        else:\n",
    "            walk(path)\n",
    "\n",
    "walk('C:\\\\Users\\\\USER\\\\')"
   ]
  },
  {
   "cell_type": "markdown",
   "metadata": {},
   "source": [
    "### Storing data persistently\n",
    "\n",
    "If you want to store (intermediate) results persistently, you have to save the result on persistent storage, such as a file or a persistent database.\n",
    "\n",
    "Internal python datastructures such as lists, dictionaries, tuples, etc. are all lost as soon as python quits.\n",
    "\n",
    "There are two things you have to do:\n",
    "  1. Choose a persistent storage medium (file, database, etc).\n",
    "  2. Choose a *suitable format* in which you want to store your data (data representation format)   "
   ]
  },
  {
   "cell_type": "markdown",
   "metadata": {},
   "source": [
    "#### Suitable format\n",
    "\n",
    "Not all datastructures in Python cannot be immediately written to a file/database.\n",
    "The binary data often difficult to represent in a file/database.\n",
    "  * simple types such as integers, floats, strings are *usually* ok.\n",
    "  * binary files can only be read/edited by the 'same program', usually not human readable.\n",
    "\n",
    "**Solutions:**\n",
    "  1. Choose a standard representation form, such as CSV or JSON or pickling or ...\n",
    "  2. Choose your own custom format (document it!), \n",
    "  > e.g. a list is represented by a number N (nr of elements in the list) followed by\n",
    "  N lines each containing a string representation of the elements.\n",
    "  \n",
    "  [ 1, 2, 3 ] is represented as\n",
    "  \n",
    "        3<br>\n",
    "        1<br>\n",
    "        2<br>\n",
    "        3<br>\n",
    "         \n",
    "\n",
    "         "
   ]
  },
  {
   "cell_type": "markdown",
   "metadata": {},
   "source": [
    "### Pickling\n",
    "\n",
    "Writing data usually uses strings. How do you write a list or dictionary to a file?\n",
    "\n",
    "First we have to *encode* the list/directory into a string-friendly format. This is\n",
    "called *pickling* or *serializing*. Then we can write the list to a file.\n",
    "\n",
    "When reading a pickled object from file, the reverse must be done to turn it into a \n",
    "list/dictionary that python understands.\n",
    "\n",
    "```python\n",
    "import pickle\n",
    " \n",
    "l = [1,2,3]\n",
    "pickled_l = pickle.dumps(l)   # serialize the list (dump string-version of the list)\n",
    "\n",
    "new_l = pickle.loads( pickled_l )  # deserialize the list (load string-version)\n",
    "\n",
    "``` \n",
    " \n",
    " "
   ]
  },
  {
   "cell_type": "code",
   "execution_count": 27,
   "metadata": {},
   "outputs": [
    {
     "name": "stdout",
     "output_type": "stream",
     "text": [
      "b'\\x80\\x03]q\\x00(K\\x01K\\x02K\\x03e.'\n"
     ]
    }
   ],
   "source": [
    "# Example of serializing a list\n",
    "import pickle\n",
    "\n",
    "l=[1,2,3]\n",
    "\n",
    "pickled_l = pickle.dumps(l)\n",
    "\n",
    "print(pickled_l)       # Unreadable, but understandable for python."
   ]
  },
  {
   "cell_type": "code",
   "execution_count": 28,
   "metadata": {},
   "outputs": [
    {
     "data": {
      "text/plain": [
       "[1, 2, 3]"
      ]
     },
     "execution_count": 28,
     "metadata": {},
     "output_type": "execute_result"
    }
   ],
   "source": [
    "# Example of deserializing a serialized list\n",
    "pickle.loads( pickled_l )"
   ]
  },
  {
   "cell_type": "code",
   "execution_count": 31,
   "metadata": {},
   "outputs": [
    {
     "ename": "FileExistsError",
     "evalue": "[Errno 17] File exists: 'STORAGE.TXT'",
     "output_type": "error",
     "traceback": [
      "\u001b[0;31m---------------------------------------------------------------------------\u001b[0m",
      "\u001b[0;31mFileExistsError\u001b[0m                           Traceback (most recent call last)",
      "\u001b[0;32m<ipython-input-31-a0295e5c2e96>\u001b[0m in \u001b[0;36m<module>\u001b[0;34m()\u001b[0m\n\u001b[1;32m      3\u001b[0m \u001b[1;33m\u001b[0m\u001b[0m\n\u001b[1;32m      4\u001b[0m \u001b[1;31m# Open the file in binary mode!!!\u001b[0m\u001b[1;33m\u001b[0m\u001b[1;33m\u001b[0m\u001b[0m\n\u001b[0;32m----> 5\u001b[0;31m \u001b[0mf\u001b[0m \u001b[1;33m=\u001b[0m \u001b[0mopen\u001b[0m\u001b[1;33m(\u001b[0m\u001b[1;34m'STORAGE.TXT'\u001b[0m\u001b[1;33m,\u001b[0m \u001b[1;34m'xb'\u001b[0m\u001b[1;33m)\u001b[0m\u001b[1;33m\u001b[0m\u001b[0m\n\u001b[0m\u001b[1;32m      6\u001b[0m \u001b[1;33m\u001b[0m\u001b[0m\n\u001b[1;32m      7\u001b[0m \u001b[1;31m# This will not work, cannot write a list directly.\u001b[0m\u001b[1;33m\u001b[0m\u001b[1;33m\u001b[0m\u001b[0m\n",
      "\u001b[0;31mFileExistsError\u001b[0m: [Errno 17] File exists: 'STORAGE.TXT'"
     ]
    }
   ],
   "source": [
    "import os\n",
    "l = [ 1,2,3 ]\n",
    "\n",
    "# Open the file in binary mode!!!\n",
    "f = open('STORAGE.TXT', 'xb')\n",
    "\n",
    "# This will not work, cannot write a list directly.\n",
    "#f.write( l )     \n",
    "\n",
    "f.write( pickle.dumps( l ))\n",
    "f.close()"
   ]
  },
  {
   "cell_type": "code",
   "execution_count": 32,
   "metadata": {},
   "outputs": [
    {
     "name": "stdout",
     "output_type": "stream",
     "text": [
      "€\u0003]q\u0000(K\u0001K\u0002K\u0003e.\n"
     ]
    }
   ],
   "source": [
    "# File is not human readable unfortunately...\n",
    "!type STORAGE.TXT"
   ]
  },
  {
   "cell_type": "code",
   "execution_count": 33,
   "metadata": {},
   "outputs": [
    {
     "name": "stdout",
     "output_type": "stream",
     "text": [
      "<class 'bytes'>\n",
      "b'\\x80\\x03]q\\x00(K\\x01K\\x02K\\x03e.'\n"
     ]
    },
    {
     "data": {
      "text/plain": [
       "[1, 2, 3]"
      ]
     },
     "execution_count": 33,
     "metadata": {},
     "output_type": "execute_result"
    }
   ],
   "source": [
    "# Open the file in binary mode!\n",
    "f = open('STORAGE.TXT', 'rb')\n",
    "\n",
    "s = f.readline()\n",
    "f.close()\n",
    "\n",
    "print(type(s))\n",
    "print(s)\n",
    "\n",
    "l = pickle.loads(s)\n",
    "l"
   ]
  },
  {
   "cell_type": "code",
   "execution_count": null,
   "metadata": {
    "collapsed": true
   },
   "outputs": [],
   "source": [
    "os.remove('STORAGE.TXT')"
   ]
  },
  {
   "cell_type": "markdown",
   "metadata": {},
   "source": [
    "## Formatting strings / alignment / precision\n",
    "\n",
    "If you output results, you may want to have control of the format of the output.\n",
    "The string-format can be used for that.\n",
    "\n",
    "\n",
    "    \"%d %f %e %s\" % ( decimal, float, scientificfloat, string )\n",
    "    \n",
    "### How to align fields\n",
    "  * Use tabs (\\t) in your format string (%d\\t%d)\n",
    "  * Use padding and preciesion in format string ( %10.2f )\n",
    "  * Use rjust(x), ljust(x), center(), zfill() methods of a string\n",
    "  \n",
    "  "
   ]
  },
  {
   "cell_type": "code",
   "execution_count": null,
   "metadata": {},
   "outputs": [],
   "source": [
    "import random\n",
    "\n",
    "M = [ [ random.random() * 20 for i in range(3) ] for i in range(3) ] \n",
    "M"
   ]
  },
  {
   "cell_type": "code",
   "execution_count": null,
   "metadata": {
    "scrolled": true
   },
   "outputs": [],
   "source": [
    "# Write a table\n",
    "\n",
    "for r in M:\n",
    "    print( \"%f %f %f\" % (r[0],r[1],r[2]))\n",
    "    "
   ]
  },
  {
   "cell_type": "code",
   "execution_count": null,
   "metadata": {
    "scrolled": true
   },
   "outputs": [],
   "source": [
    "# Write a table, use tabs\n",
    "for r in M:\n",
    "    print( \"%f\\t%f\\t%f\" % (r[0],r[1],r[2]))\n",
    "    "
   ]
  },
  {
   "cell_type": "code",
   "execution_count": null,
   "metadata": {
    "scrolled": true
   },
   "outputs": [],
   "source": [
    "# Write a table, using formating <size>.<precision>\n",
    "for r in M:\n",
    "    print( \"%10.3f %10.3f %10.3f\" % (r[0],r[1],r[2]))\n",
    "    "
   ]
  },
  {
   "cell_type": "code",
   "execution_count": null,
   "metadata": {
    "scrolled": true
   },
   "outputs": [],
   "source": [
    "# Write a table, using formating <size>.<precision>, 0 padding\n",
    "for r in M:\n",
    "    print( \"%015.3f %015.3f %015.3f\" % (r[0],r[1],r[2]))\n",
    "    "
   ]
  },
  {
   "cell_type": "code",
   "execution_count": null,
   "metadata": {
    "scrolled": false
   },
   "outputs": [],
   "source": [
    "# Similar for strings\n",
    "# Create a matrix of words.\n",
    "\n",
    "M = [ [w for w in text.split()[i:i+3] ] for i in range(0,9,3)]\n",
    "\n",
    "M"
   ]
  },
  {
   "cell_type": "code",
   "execution_count": null,
   "metadata": {
    "scrolled": true
   },
   "outputs": [],
   "source": [
    "# Write a table, using size parameters\n",
    "for r in M:\n",
    "    print( \"%15s %15s %15s\" % (r[0], r[1], r[2]) )\n",
    "    "
   ]
  },
  {
   "cell_type": "code",
   "execution_count": null,
   "metadata": {
    "scrolled": true
   },
   "outputs": [],
   "source": [
    "# Write a table, using formating rjust() (or ljust)\n",
    "for r in M:\n",
    "    print( \"%s %s %s\" % (r[0].rjust(15), r[1].rjust(15), r[2].rjust(15)))\n",
    "    "
   ]
  },
  {
   "cell_type": "code",
   "execution_count": null,
   "metadata": {
    "scrolled": true
   },
   "outputs": [],
   "source": [
    "# Write a table, using formating center()\n",
    "for r in M:\n",
    "    print( \"%s %s %s\" % (r[0].center(15), r[1].center(15), r[2].center(15)))\n",
    "    "
   ]
  },
  {
   "cell_type": "markdown",
   "metadata": {},
   "source": [
    "<div class=\"alert alert-success\">\n",
    "<h3>Exercise 3</h3>\n",
    "Write a Python program that writes a dictionary to a file. Check correctness by loading the dictionary from the file and comparing it to the initial one.\n",
    "</div>"
   ]
  },
  {
   "cell_type": "code",
   "execution_count": null,
   "metadata": {
    "scrolled": true
   },
   "outputs": [],
   "source": [
    "# use the following dictionary as input\n",
    "\n",
    "d = {'Bill Gates': '555-987654',\n",
    " 'Bill Hewlett': '555-555555',\n",
    " 'Dave Packard': '555-888444',\n",
    " 'Michael Dell': '555-101010',\n",
    " 'Steve Jobs': '555-123456'}\n"
   ]
  },
  {
   "cell_type": "markdown",
   "metadata": {},
   "source": [
    "<div class=\"alert alert-success\">\n",
    "<h3>Exercise 4</h3>\n",
    "Print a table that contain numbers from 1 to 10 on the first column, their squares on the second column, their cubes on the third column and their square root on the fourth. Make sure they are veritically aligned.\n",
    "</div>"
   ]
  }
 ],
 "metadata": {
  "kernelspec": {
   "display_name": "Python 3",
   "language": "python",
   "name": "python3"
  },
  "language_info": {
   "codemirror_mode": {
    "name": "ipython",
    "version": 3
   },
   "file_extension": ".py",
   "mimetype": "text/x-python",
   "name": "python",
   "nbconvert_exporter": "python",
   "pygments_lexer": "ipython3",
   "version": "3.6.0"
  }
 },
 "nbformat": 4,
 "nbformat_minor": 1
}
