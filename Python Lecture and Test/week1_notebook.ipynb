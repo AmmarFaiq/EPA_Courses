{
 "cells": [
  {
   "cell_type": "markdown",
   "metadata": {},
   "source": [
    "# EPA1333 - Computer Engineering for Scientific Computing\n",
    "## Week 1 - Sept 5, 2017"
   ]
  },
  {
   "cell_type": "markdown",
   "metadata": {},
   "source": [
    "**Think  Python** -\n",
    "**How to Think Like a Computer Scientist**\n",
    "\n",
    "*Allen B. Downey*\n"
   ]
  },
  {
   "cell_type": "markdown",
   "metadata": {},
   "source": [
    "  \n",
    "## Jupyter Notebook\n",
    "\n",
    "Keyboard shortcuts:\n",
    "\n",
    "#### Command mode\n",
    "* h - show overview shortcuts\n",
    "* UP / DOWN - select cell up / down\n",
    "* ENTER - enter *edit mode* for cell\n",
    "* a, b - create cell above, below current cell\n",
    "* c, x, v, dd - copy, cut, paste, delete cell\n",
    "* y, m - select cell type: code , markdown\n",
    "\n",
    "#### Edit mode\n",
    "* TAB - code completion\n",
    "* SHIFT-TAB - show quick help on function\n",
    "* ESC - enter *command mode*\n",
    "\n",
    "#### In both modes\n",
    "* SHIFT-ENTER - execute cell, select next\n",
    "* ALT-ENTER - execute cell, create new cell\n",
    "* CTRL-ENTER - execute cell\n",
    "\n"
   ]
  },
  {
   "cell_type": "markdown",
   "metadata": {},
   "source": [
    "### Ch 1: The Way of the Program\n"
   ]
  },
  {
   "cell_type": "markdown",
   "metadata": {},
   "source": [
    "#### Hello World\n",
    "\n",
    "All computer programming language tutorials start with the **Hello World** program!"
   ]
  },
  {
   "cell_type": "markdown",
   "metadata": {},
   "source": [
    "```python\n",
    "print()\n",
    "``` \n",
    "is a function that tells the Python interpreter to display the argument as output.\n",
    "\n",
    "```python\n",
    "'Hello World'\n",
    "```\n",
    "is a _string_. Note the ' marks. You could also use \".\n",
    "\n"
   ]
  },
  {
   "cell_type": "code",
   "execution_count": null,
   "metadata": {
    "collapsed": true
   },
   "outputs": [],
   "source": [
    "print('Hello World')"
   ]
  },
  {
   "cell_type": "markdown",
   "metadata": {},
   "source": [
    "We can always use help(...) to ask Python to tell what the function does.\n",
    "Alternatively, write a '?' after the function."
   ]
  },
  {
   "cell_type": "code",
   "execution_count": null,
   "metadata": {
    "collapsed": true,
    "scrolled": false
   },
   "outputs": [],
   "source": [
    "help(print)"
   ]
  },
  {
   "cell_type": "markdown",
   "metadata": {},
   "source": [
    "### Arithmetic\n",
    "\n",
    "Python is interactive. It is a big calculator. Let's use some _operators_"
   ]
  },
  {
   "cell_type": "code",
   "execution_count": null,
   "metadata": {
    "collapsed": true
   },
   "outputs": [],
   "source": [
    "# Everything after a '#' sign is ignored by Python\n",
    "# Use it to provide meaningful comments to your code\n",
    "\n",
    "4 + 5 - 6    # addition and subtraction"
   ]
  },
  {
   "cell_type": "code",
   "execution_count": null,
   "metadata": {
    "collapsed": true
   },
   "outputs": [],
   "source": [
    "10 * 30 / 7  # multiplication and division"
   ]
  },
  {
   "cell_type": "code",
   "execution_count": null,
   "metadata": {
    "collapsed": true
   },
   "outputs": [],
   "source": [
    "10 % 4       # remainder"
   ]
  },
  {
   "cell_type": "markdown",
   "metadata": {},
   "source": [
    "### Types\n",
    "\n",
    "All values have a _type_. \n",
    "\n",
    "<code>type()</code> is python function that prints the type of a value."
   ]
  },
  {
   "cell_type": "code",
   "execution_count": 1,
   "metadata": {},
   "outputs": [
    {
     "data": {
      "text/plain": [
       "int"
      ]
     },
     "execution_count": 1,
     "metadata": {},
     "output_type": "execute_result"
    }
   ],
   "source": [
    "# Show the type of a number such as 4\n",
    "type( 4 )"
   ]
  },
  {
   "cell_type": "code",
   "execution_count": 2,
   "metadata": {},
   "outputs": [
    {
     "data": {
      "text/plain": [
       "float"
      ]
     },
     "execution_count": 2,
     "metadata": {},
     "output_type": "execute_result"
    }
   ],
   "source": [
    "# Floating numbers are numbers with a decimal point. \n",
    "# Compare to Integers\n",
    "type(2.5)"
   ]
  },
  {
   "cell_type": "code",
   "execution_count": 3,
   "metadata": {},
   "outputs": [
    {
     "data": {
      "text/plain": [
       "str"
      ]
     },
     "execution_count": 3,
     "metadata": {},
     "output_type": "execute_result"
    }
   ],
   "source": [
    "# Finally, strings\n",
    "type('Hello World')"
   ]
  },
  {
   "cell_type": "code",
   "execution_count": 4,
   "metadata": {},
   "outputs": [
    {
     "data": {
      "text/plain": [
       "str"
      ]
     },
     "execution_count": 4,
     "metadata": {},
     "output_type": "execute_result"
    }
   ],
   "source": [
    "# Note the difference between 4 and '4'\n",
    "type('4')"
   ]
  },
  {
   "cell_type": "markdown",
   "metadata": {},
   "source": [
    "<div class=\"alert alert-success\">\n",
    "<h2>Exercises</h2>\n",
    "<h3>Exercise 1.1</h3>\n",
    "\n",
    "It is a good idea to read this book in front of a computer so you can try out the\n",
    "examples as you go.\n",
    "Whenever you are experimenting with a new feature, you should try to make mistakes. For example,\n",
    "in the “Hello, world!” program, what happens if you leave out one of the quotation marks? What if\n",
    "you leave out both? What if you spell print wrong?\n",
    "This kind of experiment helps you remember what you read; it also helps when you are programming,\n",
    "because you get to know what the error messages mean. It is better to make mistakes now and on\n",
    "purpose than later and accidentally.\n",
    "<ol>\n",
    "  <li>In a print statement, what happens if you leave out one of the parentheses, or both?</li>\n",
    "  <li>If you are trying to print a string, what happens if you leave out one of the quotation marks,\n",
    "or both?</li>\n",
    "  <li>You can use a minus sign to make a negative number like -2. What happens if you put a plus\n",
    "sign before a number? What about 2++2?</li>\n",
    "   <li> In math notation, leading zeros are ok, as in 02. What happens if you try this in Python?</li>\n",
    "   <li>What happens if you have two values with no operator between them?</li>\n",
    "</ol>\n",
    "\n",
    "</div>"
   ]
  },
  {
   "cell_type": "code",
   "execution_count": null,
   "metadata": {
    "collapsed": true
   },
   "outputs": [],
   "source": [
    "# your code goes here\n"
   ]
  },
  {
   "cell_type": "markdown",
   "metadata": {},
   "source": [
    "<div class=\"alert alert-success\">\n",
    "\n",
    "<h3>Exercise 1.2</h3>\n",
    "Start the Python interpreter and use it as a calculator.\n",
    "<ol>\n",
    "  <li>How many seconds are there in 42 minutes 42 seconds?</li>\n",
    "  <li>How many miles are there in 10 kilometers? Hint: there are 1.61 kilometers in a mile.</li>\n",
    "  <li>If you run a 10 kilometer race in 42 minutes 42 seconds, what is your average pace (time per\n",
    "mile in minutes and seconds)? What is your average speed in miles per hour?</li>\n",
    "</ol>\n",
    "\n",
    "</div>"
   ]
  },
  {
   "cell_type": "code",
   "execution_count": 8,
   "metadata": {},
   "outputs": [
    {
     "name": "stdout",
     "output_type": "stream",
     "text": [
      "2562\n",
      "6.211180124223602\n",
      "4.0405803566377844e-05\n"
     ]
    }
   ],
   "source": [
    "# solve Exercise 1.2 here\n",
    "sec = 42+(42*60)\n",
    "miles = 10/1.61\n",
    "avgspeedmin = miles/(sec*60)\n",
    "avgspeedsec = miles/sec\n",
    "avgspeedhour = miles/(sec*60*60)\n",
    "\n",
    "print(sec)\n",
    "print(miles)\n",
    "print(avgspeedmin)"
   ]
  },
  {
   "cell_type": "markdown",
   "metadata": {},
   "source": [
    "## Ch 2: Variables, Expressions, and Statements\n",
    "\n"
   ]
  },
  {
   "cell_type": "markdown",
   "metadata": {},
   "source": [
    "### Variables"
   ]
  },
  {
   "cell_type": "markdown",
   "metadata": {},
   "source": [
    "Variables have a name and contain a value."
   ]
  },
  {
   "cell_type": "code",
   "execution_count": null,
   "metadata": {
    "collapsed": true
   },
   "outputs": [],
   "source": [
    "# Assign the value 5 to the variable named 'a'.\n",
    "# Note we can simply start using a variable; \n",
    "# Python will create it for us.\n",
    "a = 5"
   ]
  },
  {
   "cell_type": "code",
   "execution_count": null,
   "metadata": {
    "collapsed": true
   },
   "outputs": [],
   "source": [
    "# Now we can ask Python to print the value of variable 'a'\n",
    "# or we can use print(a)\n",
    "a"
   ]
  },
  {
   "cell_type": "markdown",
   "metadata": {},
   "source": [
    "We can assign a new value to a and it will overwrite it."
   ]
  },
  {
   "cell_type": "code",
   "execution_count": null,
   "metadata": {
    "collapsed": true
   },
   "outputs": [],
   "source": [
    "a = 12\n",
    "print(a)"
   ]
  },
  {
   "cell_type": "code",
   "execution_count": null,
   "metadata": {
    "collapsed": true
   },
   "outputs": [],
   "source": [
    "# We can use them in expressions\n",
    "b = 7\n",
    "a + b - 3"
   ]
  },
  {
   "cell_type": "code",
   "execution_count": null,
   "metadata": {
    "collapsed": true
   },
   "outputs": [],
   "source": [
    "# reassign value based on the previous value\n",
    "a = 1\n",
    "a = a + 2\n",
    "a"
   ]
  },
  {
   "cell_type": "code",
   "execution_count": 1,
   "metadata": {},
   "outputs": [
    {
     "ename": "NameError",
     "evalue": "name 'a' is not defined",
     "output_type": "error",
     "traceback": [
      "\u001b[0;31m---------------------------------------------------------------------------\u001b[0m",
      "\u001b[0;31mNameError\u001b[0m                                 Traceback (most recent call last)",
      "\u001b[0;32m<ipython-input-1-0f9d121beda4>\u001b[0m in \u001b[0;36m<module>\u001b[0;34m()\u001b[0m\n\u001b[1;32m      1\u001b[0m \u001b[1;31m# Shortcuts for a = a + x\u001b[0m\u001b[1;33m\u001b[0m\u001b[1;33m\u001b[0m\u001b[0m\n\u001b[0;32m----> 2\u001b[0;31m \u001b[0ma\u001b[0m \u001b[1;33m+=\u001b[0m \u001b[1;36m3\u001b[0m\u001b[1;33m\u001b[0m\u001b[0m\n\u001b[0m\u001b[1;32m      3\u001b[0m \u001b[0ma\u001b[0m\u001b[1;33m\u001b[0m\u001b[0m\n\u001b[1;32m      4\u001b[0m \u001b[1;33m\u001b[0m\u001b[0m\n\u001b[1;32m      5\u001b[0m \u001b[1;31m# Similar for *, /, -\u001b[0m\u001b[1;33m\u001b[0m\u001b[1;33m\u001b[0m\u001b[0m\n",
      "\u001b[0;31mNameError\u001b[0m: name 'a' is not defined"
     ]
    }
   ],
   "source": [
    "# Shortcuts for a = a + x\n",
    "a += 3\n",
    "a\n",
    "\n",
    "# Similar for *, /, -\n",
    "#a *= 4\n",
    "#a -= 3\n",
    "#a /= 2\n"
   ]
  },
  {
   "cell_type": "markdown",
   "metadata": {},
   "source": [
    "### Expressions and Statements\n",
    "\n",
    "An expression is a combination of values, variables and operators. An expression has a value which the Python interpreter determines by evaluating it.\n",
    "\n",
    "A statement is a unit of code that has an effect when it is executed by the Python interpreter."
   ]
  },
  {
   "cell_type": "code",
   "execution_count": null,
   "metadata": {
    "collapsed": true
   },
   "outputs": [],
   "source": [
    "# An expression\n",
    "(5 + b * -a) / (a**b / 367*2 )"
   ]
  },
  {
   "cell_type": "code",
   "execution_count": null,
   "metadata": {
    "collapsed": true
   },
   "outputs": [],
   "source": [
    "# Two statements. They both contain expressions.\n",
    "c = (5 + b * -a) / (a**b / 367*2 )\n",
    "print(c)"
   ]
  },
  {
   "cell_type": "markdown",
   "metadata": {},
   "source": [
    "### String operations\n",
    "\n",
    "Some operators not only work on integers and floats, but also on strings. However, they may not do what you expect."
   ]
  },
  {
   "cell_type": "code",
   "execution_count": null,
   "metadata": {
    "collapsed": true
   },
   "outputs": [],
   "source": [
    "a = 'O Romeo, Romeo'\n",
    "b = 'wherefore art thou Romeo?'\n",
    "\n",
    "# What will 'addition' do?\n",
    "a + b"
   ]
  },
  {
   "cell_type": "code",
   "execution_count": null,
   "metadata": {
    "collapsed": true
   },
   "outputs": [],
   "source": [
    "# Let's try multiplication\n",
    "\n",
    "'Python is Fun! ' * 4"
   ]
  },
  {
   "cell_type": "markdown",
   "metadata": {},
   "source": [
    "<div class=\"alert alert-success\">\n",
    "<h2>Exercises</h2>\n",
    "Try Exercises 2.1 and 2.2.\n",
    "\n",
    "<h3>Exercise 2.1. </h3>\n",
    "Repeating my advice from the previous chapter, whenever you learn a new feature,\n",
    "you should try it out in interactive mode and make errors on purpose to see what goes wrong.\n",
    "<ol>\n",
    "<li> We’ve seen that n = 42 is legal. What about 42 = n?</li>\n",
    "<li>How about x = y = 1?</li>\n",
    "<li>In some languages every statement ends with a semi-colon, ;. What happens if you put a\n",
    "semi-colon at the end of a Python statement?</li>\n",
    "<li>What if you put a period at the end of a statement?</li>\n",
    "<li>In math notation you can multiply x and y like this: xy. What happens if you try that in\n",
    "Python?</li>\n",
    "</ol>\n",
    "\n",
    "</div>"
   ]
  },
  {
   "cell_type": "code",
   "execution_count": null,
   "metadata": {
    "collapsed": true
   },
   "outputs": [],
   "source": [
    "# your code goes here"
   ]
  },
  {
   "cell_type": "markdown",
   "metadata": {},
   "source": [
    "<div class=\"alert alert-success\">\n",
    "\n",
    "<h3>Exercise 2.2. </h3>\n",
    "\n",
    "Practice using the Python interpreter as a calculator:\n",
    "<ol>\n",
    "<li> The volume of a sphere with radius r is 4/3 \\* pi \\* r^3. What is the volume of a sphere with radius 5?</li>\n",
    "<li> Suppose the cover price of a book is \\$24.95, but bookstores get a 40% discount. Shipping costs\n",
    "$3 for the first copy and 75 cents for each additional copy. What is the total wholesale cost for\n",
    "60 copies?</li>\n",
    "<li> If I leave my house at 6:52 am and run 1 mile at an easy pace (8:15 per mile), then 3 miles at\n",
    "tempo (7:12 per mile) and 1 mile at easy pace again, what time do I get home for breakfast?</li>\n",
    "</ol>\n",
    "\n",
    "</div>"
   ]
  },
  {
   "cell_type": "code",
   "execution_count": null,
   "metadata": {
    "collapsed": true
   },
   "outputs": [],
   "source": [
    "# solve ex. 2.2. here\n"
   ]
  },
  {
   "cell_type": "markdown",
   "metadata": {},
   "source": [
    "## Ch 3: Functions\n",
    "\n",
    "A _function_ is a _named_ sequence of statements that performs some piece of work. Later on that function can be called using its name."
   ]
  },
  {
   "cell_type": "code",
   "execution_count": null,
   "metadata": {
    "collapsed": true
   },
   "outputs": [],
   "source": [
    "# Examples of functions: print() and type()\n",
    "a = 6\n",
    "print(a)"
   ]
  },
  {
   "cell_type": "markdown",
   "metadata": {},
   "source": [
    "### Conversion functions\n",
    "Converting from types: int to float to strings, etc."
   ]
  },
  {
   "cell_type": "code",
   "execution_count": null,
   "metadata": {
    "collapsed": true
   },
   "outputs": [],
   "source": [
    "# int to float\n",
    "float( a )"
   ]
  },
  {
   "cell_type": "code",
   "execution_count": null,
   "metadata": {
    "collapsed": true
   },
   "outputs": [],
   "source": [
    "# float to int. NOTE: it does not round, it simply truncates!\n",
    "int( 3.4 )\n",
    "\n",
    "print('fer',int(3.9999))"
   ]
  },
  {
   "cell_type": "code",
   "execution_count": null,
   "metadata": {
    "collapsed": true
   },
   "outputs": [],
   "source": [
    "# and conversion to strings.\n",
    "str(6.4)\n",
    "\n",
    "# and conversions from a string\n",
    "#int('6')\n",
    "#float('6.4')"
   ]
  },
  {
   "cell_type": "code",
   "execution_count": null,
   "metadata": {
    "collapsed": true
   },
   "outputs": [],
   "source": [
    "# Conversion only happens when it is possible!\n",
    "int( 'six' )"
   ]
  },
  {
   "cell_type": "code",
   "execution_count": null,
   "metadata": {
    "collapsed": true
   },
   "outputs": [],
   "source": [
    "# Let's try this .... what is wrong?\n",
    "print( 'The type of ' + 'a' +  ' is ' + type(a) )"
   ]
  },
  {
   "cell_type": "markdown",
   "metadata": {},
   "source": [
    "### Definition of functions\n",
    "\n",
    "Functions are necessary to keep your code readable and maintainable!\n",
    "\n",
    "Bundle *logical units* of work into a reusable pieces of code.\n",
    "\n",
    "This is how you define your own function."
   ]
  },
  {
   "cell_type": "code",
   "execution_count": 10,
   "metadata": {
    "collapsed": true
   },
   "outputs": [],
   "source": [
    "# Defining a function. Watch the indentation!\n",
    "# Use Docstring to describe what the function does.\n",
    "def my_func():\n",
    "    \"\"\"This functions prints a string.\"\"\"\n",
    "    print(\"My first function in Python!\")\n",
    "    "
   ]
  },
  {
   "cell_type": "code",
   "execution_count": 11,
   "metadata": {},
   "outputs": [
    {
     "name": "stdout",
     "output_type": "stream",
     "text": [
      "My first function in Python!\n",
      "My first function in Python!\n"
     ]
    }
   ],
   "source": [
    "# Now we can call our own function\n",
    "\n",
    "my_func()\n",
    "my_func()"
   ]
  },
  {
   "cell_type": "code",
   "execution_count": null,
   "metadata": {
    "collapsed": true
   },
   "outputs": [],
   "source": [
    "# Get some help on our own written function.\n",
    "help(my_func)"
   ]
  },
  {
   "cell_type": "markdown",
   "metadata": {},
   "source": [
    "### Parameters and arguments\n",
    "\n",
    "Functions can take arguments to make them more versatile."
   ]
  },
  {
   "cell_type": "code",
   "execution_count": 14,
   "metadata": {},
   "outputs": [
    {
     "ename": "IndentationError",
     "evalue": "unexpected indent (<ipython-input-14-45960457e078>, line 3)",
     "output_type": "error",
     "traceback": [
      "\u001b[0;36m  File \u001b[0;32m\"<ipython-input-14-45960457e078>\"\u001b[0;36m, line \u001b[0;32m3\u001b[0m\n\u001b[0;31m    print_twice(  ):\u001b[0m\n\u001b[0m    ^\u001b[0m\n\u001b[0;31mIndentationError\u001b[0m\u001b[0;31m:\u001b[0m unexpected indent\n"
     ]
    }
   ],
   "source": [
    "# Functions with an argument. Why do we need str()?\n",
    "s= 'asu'\n",
    "def print_twice(  ):\n",
    "    \"\"\"Print the argument twice: on the left and on the right.\"\"\"\n",
    "    print(str(s) + '                           ' + str(s))\n",
    "    \n",
    "a = 24 \n",
    "\n",
    "print_twice()"
   ]
  },
  {
   "cell_type": "code",
   "execution_count": 15,
   "metadata": {},
   "outputs": [
    {
     "name": "stdout",
     "output_type": "stream",
     "text": [
      "Hello                       World\n",
      "888                       0.6486486486486487\n"
     ]
    }
   ],
   "source": [
    "# Multiple arguments are possible too...\n",
    "# print() also takes multiple arguments...\n",
    "def print_leftright( s1, s2 ):\n",
    "    print( s1, '                     ', s2) # multiple args to print()\n",
    "    \n",
    "print_leftright('Hello','World')\n",
    "print_leftright( a * 37, a / 37 )"
   ]
  },
  {
   "cell_type": "code",
   "execution_count": 17,
   "metadata": {},
   "outputs": [
    {
     "name": "stdout",
     "output_type": "stream",
     "text": [
      "Hello                                Default String\n",
      "Hello                                Default String\n"
     ]
    }
   ],
   "source": [
    "# We can make print_leftright take a default argument\n",
    "def print_leftright( s1, s2 = 'Default String'):\n",
    "    print( s1, ' ' * 30, s2)    # notice the shorthand for spaces\n",
    "    \n",
    "print_leftright('Hello',)\n",
    "print_leftright('Hello')"
   ]
  },
  {
   "cell_type": "code",
   "execution_count": null,
   "metadata": {
    "collapsed": true
   },
   "outputs": [],
   "source": [
    "# A more useful function: Celsius to Fahrenheit\n",
    "\n",
    "def print_CtoF( celsius ):\n",
    "    \"\"\"Convert argument in Celsius to Fahrenheit and print the result.\"\"\"\n",
    "    fahrenheit = celsius * (9 / 5) + 32\n",
    "    print( celsius, \"Celsius is\", fahrenheit, \"Fahrenheit.\")\n",
    "    \n",
    "print_CtoF( 37 )\n",
    "print_CtoF( 0 )\n"
   ]
  },
  {
   "cell_type": "code",
   "execution_count": 18,
   "metadata": {},
   "outputs": [
    {
     "name": "stdout",
     "output_type": "stream",
     "text": [
      "Circle with radius 2 has area 12.566370614359172\n"
     ]
    }
   ],
   "source": [
    "# And another, showing math library\n",
    "\n",
    "import math \n",
    "\n",
    "def print_circle_area( radius ):\n",
    "    \"\"\"Print the surface area of a circle with given radius.\"\"\"\n",
    "    area = math.pi * radius * radius\n",
    "    print(\"Circle with radius\", radius, \"has area\", area)\n",
    "    \n",
    "print_circle_area( 2 )"
   ]
  },
  {
   "cell_type": "markdown",
   "metadata": {},
   "source": [
    "### Importing libraries\n",
    "\n",
    "You can import other useful function from existing libraries (math, numpy, pandas, etc.).\n",
    "\n",
    "```python\n",
    "import math\n",
    "import math as m\n",
    "\n",
    "from math import sqrt\n",
    "from math import *\n",
    "```\n",
    "\n",
    "Gives access to \n",
    "\n",
    "    math.pi math.sqrt() math.sin(), etc. \n",
    "\n",
    "Use help(math) to see more.\n",
    "\n",
    "You can give libraries shortcut name for easy access: m.pi, m.sqrt()\n",
    "\n",
    "Or you can directly import what you want: sqrt()\n",
    "\n",
    "Directly importing everything (\\*) from a library is considered bad practice as it clutters your namespace, and you cannot directly see origin of the library anymore.\n"
   ]
  },
  {
   "cell_type": "code",
   "execution_count": null,
   "metadata": {
    "collapsed": true
   },
   "outputs": [],
   "source": [
    "help(math)"
   ]
  },
  {
   "cell_type": "markdown",
   "metadata": {},
   "source": [
    "<div class=\"alert alert-success\">\n",
    "<h2>Exercises</h2>\n",
    "<h3>Exercise 3.1</h3>\n",
    "\n",
    "Write a function named right_justify that takes a string named s as a parameter and prints the string with enough leading spaces so that the last letter of the string is in column 70 of the display.<br>\n",
    "\n",
    ">>> right_justify('monty') <br>\n",
    "&emsp;&emsp;&emsp;&emsp;&emsp;&emsp;&emsp;&emsp;&emsp;&emsp;&emsp;&emsp;&emsp;&emsp;&emsp;&emsp;&emsp;&emsp;&emsp;\n",
    "&emsp;&emsp;&emsp;&emsp;&emsp;&emsp;&emsp;&emsp;&emsp;&emsp;&emsp;&emsp;&emsp;&emsp;&emsp;&emsp;&emsp;&emsp;&emsp;monty<br>\n",
    "                                                                     \n",
    "Hint: Use string concatenation and repetition. Also, Python provides a built-in function called len that returns the length of a string, so the value of len('monty') is 5.\n",
    "\n",
    "</div>"
   ]
  },
  {
   "cell_type": "code",
   "execution_count": 39,
   "metadata": {},
   "outputs": [
    {
     "name": "stdout",
     "output_type": "stream",
     "text": [
      "                                                                   asu\n"
     ]
    }
   ],
   "source": [
    "def right_justify(s) :\n",
    "    spaces = 70-len(s)\n",
    "    print(' '*spaces + s)\n",
    "    \n",
    "right_justify('asu')"
   ]
  },
  {
   "cell_type": "markdown",
   "metadata": {},
   "source": [
    "### Simple loops\n",
    "The idiom: \n",
    "```python\n",
    "for i in range(X):\n",
    "   do_something\n",
    "```\n",
    "allows you to do something a number of times. Loops will come back later in more detail.\n",
    "\n",
    "<code>range(<expression>)</code> will generate the sequence 0 .. (N-1) if the expression evaluates to N.\n",
    "\n",
    "* It will create a variable i, which can be used inside the loop and will take on the values one by one.\n",
    "* Note the colon (:) at the end\n",
    "* Note the indentation of the body of the loop"
   ]
  },
  {
   "cell_type": "code",
   "execution_count": 33,
   "metadata": {},
   "outputs": [
    {
     "name": "stdout",
     "output_type": "stream",
     "text": [
      "0\n",
      "1\n",
      "2\n",
      "3\n",
      "4\n",
      "5\n",
      "6\n",
      "7\n",
      "8\n",
      "9\n"
     ]
    }
   ],
   "source": [
    "# Generate 0 .. 9\n",
    "for i in range(10):\n",
    "    print(i)\n"
   ]
  },
  {
   "cell_type": "markdown",
   "metadata": {},
   "source": [
    "<div class=\"alert alert-success\">\n",
    "<h3>Exercise: Sum 0 - 100</h3>\n",
    "<p>\n",
    "Print the sum of the numbers 0..100\n",
    "<p>\n",
    "<i>Hint</i>: Use a for loop and keep track of the sum in a separate variable.\n",
    "</div>"
   ]
  },
  {
   "cell_type": "code",
   "execution_count": 44,
   "metadata": {},
   "outputs": [
    {
     "name": "stdout",
     "output_type": "stream",
     "text": [
      "5050\n"
     ]
    }
   ],
   "source": [
    "# brilliant code here...\n",
    "b=0\n",
    "for i in range (101):\n",
    "    b= i+b\n",
    "print(b)"
   ]
  },
  {
   "cell_type": "markdown",
   "metadata": {},
   "source": [
    "<div class=\"alert alert-success\">\n",
    "<h3>Exercise: Sum 1 - N</h3>\n",
    "<p>\n",
    "Write a program that sums all integers from 1 - N. \n",
    "<p>\n",
    "</div>"
   ]
  },
  {
   "cell_type": "code",
   "execution_count": 51,
   "metadata": {},
   "outputs": [
    {
     "name": "stdout",
     "output_type": "stream",
     "text": [
      "5050\n"
     ]
    }
   ],
   "source": [
    "b=0\n",
    "for i in range (1,101):\n",
    "    b= i+b\n",
    "print(b)"
   ]
  },
  {
   "cell_type": "markdown",
   "metadata": {},
   "source": [
    "## Ch 5: Conditionals and Recursion\n",
    "\n",
    "* if statement\n",
    "* boolean expressions (True and False)\n",
    "* logical operators (and or not)\n",
    "* relational operators (== != < >)\n",
    "* floor division / modulus operator ( / // % )\n",
    "* Recursion (next week)"
   ]
  },
  {
   "cell_type": "markdown",
   "metadata": {},
   "source": [
    "### Boolean expressions\n",
    "\n",
    "Boolean expressions evaluate to True or False"
   ]
  },
  {
   "cell_type": "code",
   "execution_count": 52,
   "metadata": {},
   "outputs": [
    {
     "name": "stdout",
     "output_type": "stream",
     "text": [
      "True\n",
      "True\n",
      "False\n"
     ]
    }
   ],
   "source": [
    "# '==' is the equality operator \n",
    "# (cf. '=' which is the assignment operator)\n",
    "\n",
    "print( 5 == 5 )\n",
    "print( \"bob\" == \"bob\" )\n",
    "print( \"bob\" == \"mary\" )"
   ]
  },
  {
   "cell_type": "code",
   "execution_count": 53,
   "metadata": {},
   "outputs": [
    {
     "data": {
      "text/plain": [
       "bool"
      ]
     },
     "execution_count": 53,
     "metadata": {},
     "output_type": "execute_result"
    }
   ],
   "source": [
    "# True and False have their own type\n",
    "type(True)"
   ]
  },
  {
   "cell_type": "code",
   "execution_count": 54,
   "metadata": {},
   "outputs": [
    {
     "name": "stdout",
     "output_type": "stream",
     "text": [
      "False\n",
      "True\n"
     ]
    }
   ],
   "source": [
    "# You can compare booleans as well\n",
    "print( True == False )\n",
    "print( False == False )"
   ]
  },
  {
   "cell_type": "markdown",
   "metadata": {},
   "source": [
    "### Relational operators\n"
   ]
  },
  {
   "cell_type": "code",
   "execution_count": 55,
   "metadata": {},
   "outputs": [
    {
     "name": "stdout",
     "output_type": "stream",
     "text": [
      "False\n",
      "True\n",
      "True\n",
      "False\n",
      "False\n",
      "True\n"
     ]
    }
   ],
   "source": [
    "print( 5 == 6 )\n",
    "print( 5 != 6 )\n",
    "print( 5 < 6 )\n",
    "print( 5 > 6 )\n",
    "print( 5 >= 6 )\n",
    "print( 5 <= 6 )"
   ]
  },
  {
   "cell_type": "markdown",
   "metadata": {},
   "source": [
    "### Logical operators\n",
    "\n",
    "and, or, not\n"
   ]
  },
  {
   "cell_type": "markdown",
   "metadata": {},
   "source": [
    "\n",
    "#### Truth tables\n",
    "\n",
    "| AND | True | False |    | |OR|True|False|      ||NOT|True|False|\n",
    "|-----|------|-------|    | |----|---|---|       ||---|---|---| \n",
    "|**True** | True | False| | |**True** |True|True|||| False | True   \n",
    "|**False** | False |False|| |**False**|True|False|"
   ]
  },
  {
   "cell_type": "code",
   "execution_count": null,
   "metadata": {
    "collapsed": true
   },
   "outputs": [],
   "source": [
    "# logical operators apply to boolean values\n",
    "# Use parentheses for clarity\n",
    "print( (5 <= 6) and ( 'bob' == 'mary' ))\n",
    "print( (5 <= 6) or ( 'bob' == 'mary' ))\n",
    "print( not ((5 <= 6) or ( 'bob' == 'mary' )))"
   ]
  },
  {
   "cell_type": "code",
   "execution_count": 56,
   "metadata": {},
   "outputs": [
    {
     "name": "stdout",
     "output_type": "stream",
     "text": [
      "True and True is True\n",
      "True and False is False\n",
      "False and True is False\n",
      "False and False is False\n"
     ]
    }
   ],
   "source": [
    "# Generating the truth tables with a program\n",
    "for value1 in True, False:\n",
    "    for value2 in True, False:\n",
    "        result = value1 and value2\n",
    "        print( value1, \"and\", value2, \"is\", result)"
   ]
  },
  {
   "cell_type": "markdown",
   "metadata": {},
   "source": [
    "### If-statement\n",
    "\n",
    "The *if-statement* allows different pieces of code to be executed depending on a one or more conditions to be True or False. \n",
    "\n",
    "The typical idiom looks like this:\n",
    "\n",
    "    if condition:\n",
    "        do_something\n",
    "        \n",
    "Or the more extended version:\n",
    "\n",
    "    if condition:\n",
    "        do_something_if_true\n",
    "    else:\n",
    "        do_something_else\n",
    "\n",
    "Or even more generic:\n",
    "\n",
    "    if condition1:\n",
    "        do_something_if_cond1_true\n",
    "    elif condition2:\n",
    "        do_something_if_cond2_true\n",
    "    elif condition3:\n",
    "        ....\n",
    "    else:\n",
    "        do_something_completely_else\n",
    "        \n",
    "* Note the colon(:) at the end of conditions and else\n",
    "* Note the indentation of each code block"
   ]
  },
  {
   "cell_type": "code",
   "execution_count": 61,
   "metadata": {},
   "outputs": [
    {
     "name": "stdout",
     "output_type": "stream",
     "text": [
      "Number 10 is even.\n",
      "asu\n"
     ]
    }
   ],
   "source": [
    "# A function that checks if a number is even\n",
    "def check_even_number( n ):\n",
    "    \"\"\"Prints if the number n is even or not.\"\"\"\n",
    "    if ( (n % 2) == 0 ):\n",
    "        print( \"Number\", n, \"is even.\")\n",
    "    else:\n",
    "        print(\"asu\")\n",
    "        \n",
    "check_even_number( 10 )\n",
    "check_even_number( 5 )"
   ]
  },
  {
   "cell_type": "code",
   "execution_count": null,
   "metadata": {
    "collapsed": true
   },
   "outputs": [],
   "source": [
    "## Modified version to print out if number is not even as well\n",
    "def check_even_number( n ):\n",
    "    \"\"\"Prints if the number n is even or not.\"\"\"\n",
    "    if ( (n % 2) == 0 ):\n",
    "        print( \"Number\", n, \"is even.\")\n",
    "    else:\n",
    "        print( \"Number\", n, \"is not even.\")\n",
    "        \n",
    "check_even_number( 10 )\n",
    "check_even_number( 3 )"
   ]
  },
  {
   "cell_type": "markdown",
   "metadata": {},
   "source": [
    "### Problem: grading\n",
    "\n",
    "Write a function that given a grade prints out the following:\n",
    "  - \"Student passed\" - if grade is >= 5.8\n",
    "  - \"Student failed\" - if grade is < 5.0\n",
    "  - \"Student must report to teacher\" - otherwise\n",
    "  \n",
    "In the latter case the teacher will give the student an additional test in order to increase the original mark.\n"
   ]
  },
  {
   "cell_type": "code",
   "execution_count": null,
   "metadata": {
    "collapsed": true
   },
   "outputs": [],
   "source": [
    "# First try, using nested if-statements\n",
    "# Note the indentation!\n",
    "def grade_student( mark ):\n",
    "    if mark >= 5.8:\n",
    "        print(\"Student passed\")\n",
    "    else:\n",
    "        if mark < 5.0:\n",
    "            print(\"Student failed\")\n",
    "        else:\n",
    "            print(\"Student must report to teacher\")\n",
    "            \n",
    "grade_student(8)\n",
    "grade_student(3)\n",
    "grade_student(5.3)"
   ]
  },
  {
   "cell_type": "code",
   "execution_count": null,
   "metadata": {
    "collapsed": true
   },
   "outputs": [],
   "source": [
    "# Second try, using elif-statement\n",
    "def grade_student( mark ):\n",
    "    if mark >= 5.8:\n",
    "        print(\"Student passed\")\n",
    "    elif mark < 5.0:\n",
    "        print(\"Student failed\")\n",
    "    else:\n",
    "        print(\"Student must report to teacher\")\n",
    "            \n",
    "grade_student(8)\n",
    "grade_student(3)\n",
    "grade_student(5.3)"
   ]
  },
  {
   "cell_type": "markdown",
   "metadata": {},
   "source": [
    "### Keyboard input\n",
    "\n",
    "You can ask the user for input.\n",
    "\n",
    "    input(\"Prompt\")\n",
    "    "
   ]
  },
  {
   "cell_type": "code",
   "execution_count": 63,
   "metadata": {},
   "outputs": [
    {
     "name": "stdout",
     "output_type": "stream",
     "text": [
      "Please type in a number [0 - 100]: 100\n",
      "You typed in the number: 100\n"
     ]
    }
   ],
   "source": [
    "# Ask the user for input and print it back\n",
    "number = input(\"Please type in a number [0 - 100]: \")\n",
    "print(\"You typed in the number:\", number)"
   ]
  },
  {
   "cell_type": "markdown",
   "metadata": {},
   "source": [
    "<div class=\"alert alert-success\">\n",
    "<h3>Exercise: Sum 1 - N (N = user input)</h3>\n",
    "<p>\n",
    "Write a function that takes a number (N) as argument and calculates the sum of all uneven numbers in the range [0 .. N]. \n",
    "N should be inputted by the user.\n",
    "<p>\n",
    "</div>"
   ]
  },
  {
   "cell_type": "code",
   "execution_count": 92,
   "metadata": {},
   "outputs": [
    {
     "name": "stdout",
     "output_type": "stream",
     "text": [
      "Please type in a number : 3\n",
      "You typed in the number: <class 'int'>\n",
      "1 +\n",
      "3 +\n"
     ]
    }
   ],
   "source": [
    "   \n",
    "#sum_uneven_numbers( 5 )   Should print 1 + 3 + 5 = 9\n",
    "number = int(input(\"Please type in a number : \"))\n",
    "print(\"You typed in the number:\", type(number))\n",
    "\n",
    "b=0\n",
    "for i in range (1,number+1) :\n",
    "    if ((i % 2) != 0) :\n",
    "        b=i+b\n",
    "        print(i,'+' ,end=' ')\n"
   ]
  },
  {
   "cell_type": "code",
   "execution_count": 45,
   "metadata": {},
   "outputs": [
    {
     "data": {
      "text/plain": [
       "10"
      ]
     },
     "execution_count": 45,
     "metadata": {},
     "output_type": "execute_result"
    }
   ],
   "source": [
    "n=[1,2,3,4]\n",
    "sum(n)"
   ]
  },
  {
   "cell_type": "markdown",
   "metadata": {},
   "source": [
    "<div class=\"alert alert-success\">\n",
    "<h2>Exercises</h2>\n",
    "\n",
    "<h3>Try exercise 5.1, 5.2 and 5.3 from Think Python 2 </h3>\n",
    "\n",
    "</div>"
   ]
  },
  {
   "cell_type": "markdown",
   "metadata": {
    "collapsed": true
   },
   "source": [
    "### Built in functions\n",
    "\n",
    "Check for example the built-in function sum.\n",
    "    "
   ]
  },
  {
   "cell_type": "code",
   "execution_count": 1,
   "metadata": {},
   "outputs": [
    {
     "name": "stdout",
     "output_type": "stream",
     "text": [
      "Help on built-in function sum in module builtins:\n",
      "\n",
      "sum(iterable, start=0, /)\n",
      "    Return the sum of a 'start' value (default: 0) plus an iterable of numbers\n",
      "    \n",
      "    When the iterable is empty, return the start value.\n",
      "    This function is intended specifically for use with numeric values and may\n",
      "    reject non-numeric types.\n",
      "\n"
     ]
    }
   ],
   "source": [
    "help(sum)"
   ]
  },
  {
   "cell_type": "markdown",
   "metadata": {},
   "source": [
    "### Exercise\n",
    "Rewrite the previous exercises using the built-in sum function."
   ]
  },
  {
   "cell_type": "code",
   "execution_count": 37,
   "metadata": {},
   "outputs": [
    {
     "name": "stdout",
     "output_type": "stream",
     "text": [
      "Please type in a number : 6\n",
      "[0, 1, 2, 3, 4, 5, 6]\n"
     ]
    },
    {
     "data": {
      "text/plain": [
       "21"
      ]
     },
     "execution_count": 37,
     "metadata": {},
     "output_type": "execute_result"
    }
   ],
   "source": [
    "# function that sums all integers from 1 to N \n",
    "number = int(input(\"Please type in a number : \"))\n",
    "\n",
    "n = list(range(number+1))\n",
    "\n",
    "print(n)\n",
    "sum(n)"
   ]
  },
  {
   "cell_type": "code",
   "execution_count": 80,
   "metadata": {},
   "outputs": [
    {
     "name": "stdout",
     "output_type": "stream",
     "text": [
      "Please type in a number : 3\n",
      "8\n"
     ]
    }
   ],
   "source": [
    "# function that sums all uneven numbers from  1 to N\n",
    "# function that sums all integers from 1 to N \n",
    "number = int(input(\"Please type in a number : \"))\n",
    "for i in range (1,number+1) :\n",
    "    if ((i % 2) != 0) :\n",
    "        b=i+b\n",
    "print(b)\n",
    "    \n",
    "\n"
   ]
  }
 ],
 "metadata": {
  "kernelspec": {
   "display_name": "Python 3",
   "language": "python",
   "name": "python3"
  },
  "language_info": {
   "codemirror_mode": {
    "name": "ipython",
    "version": 3
   },
   "file_extension": ".py",
   "mimetype": "text/x-python",
   "name": "python",
   "nbconvert_exporter": "python",
   "pygments_lexer": "ipython3",
   "version": "3.6.0"
  }
 },
 "nbformat": 4,
 "nbformat_minor": 1
}
