{
 "cells": [
  {
   "cell_type": "markdown",
   "metadata": {},
   "source": [
    "## Assignment Week 3\n",
    "\n",
    "This week we are looking at exercises with lists, have a look at Chapter 10 of the book for more information on lists."
   ]
  },
  {
   "cell_type": "markdown",
   "metadata": {},
   "source": [
    "**Assignment 3.1**\n",
    "\n",
    "Write a function **removeConsecutiveElements** that takes a list as input and returns a list where all consecutive elements are reduced to a single element, so **removeConsecutiveElements([1, 2, 2, 2, 3])** returns the list **[1, 2, 3]**.    "
   ]
  },
  {
   "cell_type": "code",
   "execution_count": null,
   "metadata": {
    "collapsed": true
   },
   "outputs": [],
   "source": [
    "# Your code goes here"
   ]
  },
  {
   "cell_type": "markdown",
   "metadata": {},
   "source": [
    "**Assignment 3.2**\n",
    "\n",
    "Write a function **front_x** that takes a list of strings as input and returns a list with the strings in sorted order, except group all the strings that begin with 'x' first, so **front_x(['mix', 'xyz', 'apple', 'xanadu', 'aardvark'])** returns **['xanadu', 'xyz', 'aardvark', 'apple', 'mix']**.                                                                                                                                                    "
   ]
  },
  {
   "cell_type": "code",
   "execution_count": null,
   "metadata": {
    "collapsed": true
   },
   "outputs": [],
   "source": [
    "# Your code goes here"
   ]
  },
  {
   "cell_type": "markdown",
   "metadata": {},
   "source": [
    "**Assignment 3.3**\n",
    "\n",
    "Write a function **zipper** that takes two lists as input, and return a list with the elements of both lists interchanged (like a zipper). For example, **zipper(['a1','a2','a3','a4'],['b1','b2',' '])** should return **['a1', 'b1', 'a2', 'b2', 'a3', ' ', 'a3']**. \n",
    "\n",
    "Make sure in your solution that the function accepts lists of different lenghts as input and that either of the input lists can be the empty list."
   ]
  },
  {
   "cell_type": "code",
   "execution_count": null,
   "metadata": {
    "collapsed": true
   },
   "outputs": [],
   "source": [
    "# Your code goes here"
   ]
  }
 ],
 "metadata": {
  "kernelspec": {
   "display_name": "Python 3",
   "language": "python",
   "name": "python3"
  },
  "language_info": {
   "codemirror_mode": {
    "name": "ipython",
    "version": 3
   },
   "file_extension": ".py",
   "mimetype": "text/x-python",
   "name": "python",
   "nbconvert_exporter": "python",
   "pygments_lexer": "ipython3",
   "version": "3.6.0"
  }
 },
 "nbformat": 4,
 "nbformat_minor": 2
}
