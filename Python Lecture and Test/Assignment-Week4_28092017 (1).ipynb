{
 "cells": [
  {
   "cell_type": "markdown",
   "metadata": {},
   "source": [
    "## Assignment Week 4\n",
    "\n",
    "This week we are going to write a program that guesses passwords.\n",
    "\n",
    "Two files are provided: \n",
    "  * ```words.txt``` - this file contains a list of English words, one word per line\n",
    "  * ```passwordfile.txt``` - this file contais a list of username:passwordhash combinations, one per line. \n",
    "\n",
    "\n",
    "\n",
    "### The password file\n",
    "\n",
    "A well-known way to authenticate users is through the use of a username and password. If the user can provide the correct password, the user is granted access. \n",
    "\n",
    "To check the password, the system uses a *password file*, in which known username, password (both strings) combinations are stored, one combination per line. However, for security reasons, passwords are not stored in plain-text, but an encrypted version (called a *hash*) of the password string is stored instead. Hashes are computed using the function ```encrypt_password()```, which is provided below. This way, if the password file is stolen, the passwords are not immediately visible.\n",
    "\n",
    "For example, if username \"John\" has password \"secret\", then instead of:\n",
    "\n",
    "```\n",
    "John:secret\n",
    "```\n",
    "the following is stored in the password file (see also below):\n",
    "```\n",
    "John:2bb80d537b1da3e38bd30361aa855686bde0eacd7162fef6a25fe97bf527a25b\n",
    "```\n",
    "\n",
    "When John wants to login into the system, then John provides his username and plaintext password. Then the system uses the ```encrypt_password()``` function to compute the hash of the provided password and compares the result to what it finds in the password file for the user John. If both strings match each other, John is granted access, otherwise not. \n"
   ]
  },
  {
   "cell_type": "code",
   "execution_count": 2,
   "metadata": {
    "collapsed": true
   },
   "outputs": [],
   "source": [
    "##\n",
    "## The encrypt_password function.\n",
    "## You can use this function in your answer.\n",
    "##\n",
    "\n",
    "import hashlib\n",
    "\n",
    "def encrypt_password( passwd ):\n",
    "    \"\"\"Encrypt a plaintext password (a string). It returns the result.\n",
    "    This encryption is one-way only, meaning it is not easy (impossible) to decrypt\n",
    "    the encrypted password to find out the original plaintext password again.\"\"\"\n",
    "    return hashlib.sha256( passwd.encode() ).hexdigest()"
   ]
  },
  {
   "cell_type": "code",
   "execution_count": 2,
   "metadata": {},
   "outputs": [
    {
     "data": {
      "text/plain": [
       "'2bb80d537b1da3e38bd30361aa855686bde0eacd7162fef6a25fe97bf527a25b'"
      ]
     },
     "execution_count": 2,
     "metadata": {},
     "output_type": "execute_result"
    }
   ],
   "source": [
    "## Some examples of using the encrypt_password function\n",
    "encrypt_password(\"secret\")"
   ]
  },
  {
   "cell_type": "code",
   "execution_count": 3,
   "metadata": {},
   "outputs": [
    {
     "data": {
      "text/plain": [
       "'ce7a7c10b0dfd96808cca64c88cf5c5e13b7775283bdc924767887bfa32c8fa1'"
      ]
     },
     "execution_count": 3,
     "metadata": {},
     "output_type": "execute_result"
    }
   ],
   "source": [
    "encrypt_password(\"assignment\")"
   ]
  },
  {
   "cell_type": "code",
   "execution_count": 4,
   "metadata": {},
   "outputs": [
    {
     "data": {
      "text/plain": [
       "'b46352779bececb48e5a8d31e58684e8da139a944715bd44f0b930f3ac46bbca'"
      ]
     },
     "execution_count": 4,
     "metadata": {},
     "output_type": "execute_result"
    }
   ],
   "source": [
    "encrypt_password(\"#@SS1GNMENT!\")"
   ]
  },
  {
   "cell_type": "markdown",
   "metadata": {},
   "source": [
    "### Hacking (finding) the passwords \n",
    "\n",
    "Unfortunately, some users use passwords that are simply existing words or simple variations on them. A simple variations on words are to:\n",
    "  * replace each instance of the letters i and I (small and capital i) with the number 1 (one)\n",
    "  * replace each instance of the letters a and A (small and capital a) with the character @\n",
    "  * add a hash sign (#) at the beginning of the word\n",
    "  * add an exclamation mark (!) at the end of the word\n",
    "  * capitalize all letters\n",
    "  \n",
    "For example, a user might use the password \"#@SS1GNMENT!\" which is a variation on the word \"assignment\".\n",
    "\n",
    "You are going to write a program that uses a file containing a long list of possible passwords to try to find the plaintext passwords of users given a password file with encrypted passwords.\n",
    "\n",
    "*Hint*: Make sure to break up your code in smaller parts (functions) and to first think about the solution (use paper!) before you start coding!\n",
    "\n",
    "*Hint*: You may assume that a user either uses a word unaltered from the words file as a password or uses *all* 5 ways to alter an existing word from the file simultaneously as a password (so either \"assignment\" or \"#@SS1GNMENT!\").\n",
    "\n",
    "*Hint*: You can use the provided The *encrypt_password()* function in your answer."
   ]
  },
  {
   "cell_type": "markdown",
   "metadata": {},
   "source": [
    "**Assignment 4.1**\n",
    "\n",
    "Write a function that takes as argument a string and returns a new string in which\n",
    "the argument string has been altered using the 5 mentioned alterations. For example,\n",
    "\"assignment\" should be changed into \"#@SS1GNMENT!\".\n",
    "\n",
    "Hint: You migth want to use the <A HREF=\"https://docs.python.org/2/library/string.html#string.replace\">string.replace()</A> method in your answer."
   ]
  },
  {
   "cell_type": "code",
   "execution_count": 3,
   "metadata": {
    "collapsed": true
   },
   "outputs": [],
   "source": [
    "def change_string(words):\n",
    "    s = words.upper()\n",
    "    \n",
    "    final = s.replace('A','@').replace('I','1')\n",
    "            \n",
    "    return '#'+final+'!'"
   ]
  },
  {
   "cell_type": "code",
   "execution_count": 6,
   "metadata": {},
   "outputs": [
    {
     "data": {
      "text/plain": [
       "'#@SS1GNMENT!'"
      ]
     },
     "execution_count": 6,
     "metadata": {},
     "output_type": "execute_result"
    }
   ],
   "source": [
    "change_string('assignment')"
   ]
  },
  {
   "cell_type": "markdown",
   "metadata": {},
   "source": [
    "**Assignment 4.2**\n",
    "\n",
    "Write a program that reads the file ```words.txt``` and that prompts a user for an encrypted (hashed) password and that finds and prints the plaintext password (if it can be found) of the encrypted password. For example:\n",
    "```\n",
    "Input encrypted password: b46352779bececb48e5a8d31e58684e8da139a944715bd44f0b930f3ac46bbca\n",
    "Plaintext password is: #@SS1GNMENT!\n",
    "```\n",
    "Another example is:\n",
    "```\n",
    "Input encrypted password: ce7a7c10b0dfd96808cca64c88cf5c5e13b7775283bdc924767887bfa32c8fa1\n",
    "Plaintext password is: assignment\n",
    "```\n",
    "\n",
    "**Note:** make sure to use a dictionary data-type in your solution"
   ]
  },
  {
   "cell_type": "code",
   "execution_count": 7,
   "metadata": {},
   "outputs": [
    {
     "name": "stdout",
     "output_type": "stream",
     "text": [
      "Input encrypted password:b46352779bececb48e5a8d31e58684e8da139a944715bd44f0b930f3ac46bbca\n",
      "Please try again\n"
     ]
    },
    {
     "ename": "PermissionError",
     "evalue": "[WinError 32] The process cannot access the file because it is being used by another process: 'hash_words.txt'",
     "output_type": "error",
     "traceback": [
      "\u001b[0;31m---------------------------------------------------------------------------\u001b[0m",
      "\u001b[0;31mFileExistsError\u001b[0m                           Traceback (most recent call last)",
      "\u001b[0;32m<ipython-input-7-f4d96c759257>\u001b[0m in \u001b[0;36m<module>\u001b[0;34m()\u001b[0m\n\u001b[1;32m      7\u001b[0m         \u001b[0ma\u001b[0m \u001b[1;33m=\u001b[0m \u001b[0mopen\u001b[0m\u001b[1;33m(\u001b[0m\u001b[1;34m'words.txt'\u001b[0m\u001b[1;33m,\u001b[0m\u001b[1;34m'r'\u001b[0m\u001b[1;33m)\u001b[0m\u001b[1;33m\u001b[0m\u001b[0m\n\u001b[0;32m----> 8\u001b[0;31m         \u001b[0mb\u001b[0m \u001b[1;33m=\u001b[0m \u001b[0mopen\u001b[0m\u001b[1;33m(\u001b[0m\u001b[1;34m'hash_words.txt'\u001b[0m\u001b[1;33m,\u001b[0m\u001b[1;34m'x'\u001b[0m\u001b[1;33m)\u001b[0m\u001b[1;33m\u001b[0m\u001b[0m\n\u001b[0m\u001b[1;32m      9\u001b[0m \u001b[1;33m\u001b[0m\u001b[0m\n",
      "\u001b[0;31mFileExistsError\u001b[0m: [Errno 17] File exists: 'hash_words.txt'",
      "\nDuring handling of the above exception, another exception occurred:\n",
      "\u001b[0;31mPermissionError\u001b[0m                           Traceback (most recent call last)",
      "\u001b[0;32m<ipython-input-7-f4d96c759257>\u001b[0m in \u001b[0;36m<module>\u001b[0;34m()\u001b[0m\n\u001b[1;32m     43\u001b[0m     \u001b[1;32mexcept\u001b[0m\u001b[1;33m:\u001b[0m\u001b[1;33m\u001b[0m\u001b[0m\n\u001b[1;32m     44\u001b[0m         \u001b[0mprint\u001b[0m\u001b[1;33m(\u001b[0m\u001b[1;34m'Please try again'\u001b[0m\u001b[1;33m)\u001b[0m\u001b[1;33m\u001b[0m\u001b[0m\n\u001b[0;32m---> 45\u001b[0;31m         \u001b[0mos\u001b[0m\u001b[1;33m.\u001b[0m\u001b[0mremove\u001b[0m\u001b[1;33m(\u001b[0m\u001b[1;34m'hash_words.txt'\u001b[0m\u001b[1;33m)\u001b[0m\u001b[1;33m\u001b[0m\u001b[0m\n\u001b[0m\u001b[1;32m     46\u001b[0m         \u001b[1;32mcontinue\u001b[0m\u001b[1;33m\u001b[0m\u001b[0m\n",
      "\u001b[0;31mPermissionError\u001b[0m: [WinError 32] The process cannot access the file because it is being used by another process: 'hash_words.txt'"
     ]
    }
   ],
   "source": [
    "import os\n",
    "\n",
    "while True:\n",
    "    try:\n",
    "        words = input('Input encrypted password:')\n",
    "        # Opening the required file\n",
    "        a = open('words.txt','r')\n",
    "        b = open('hash_words.txt','x')\n",
    "\n",
    "        a_dict = dict()\n",
    "        b_dict = dict()\n",
    "\n",
    "        # Make a dictionary for original words\n",
    "        # Key are encrypted words and values are original words\n",
    "        for el in a.read().splitlines():\n",
    "            a_dict[encrypt_password(el)] = el\n",
    "\n",
    "            b.write(change_string(el)+'\\n')\n",
    "            b.flush()\n",
    "\n",
    "        b = open('hash_words.txt','r')\n",
    "\n",
    "        for el_2 in b.read().splitlines():\n",
    "            b_dict[encrypt_password(el_2)] = el_2\n",
    "\n",
    "        if words in a_dict:\n",
    "            print('Plaintext password is:', a_dict[words])\n",
    "            os.remove('hash_words.txt')\n",
    "            break\n",
    "        elif words in b_dict:\n",
    "            print('Plaintext password is:', b_dict[words])\n",
    "            os.remove('hash_words.txt')\n",
    "            break\n",
    "        else:\n",
    "            print('Not found')\n",
    "            os.remove('hash_words.txt')\n",
    "            break\n",
    "\n",
    "        a.close()\n",
    "        b.close()\n",
    "\n",
    "        os.remove('hash_words.txt')\n",
    "    except:\n",
    "        print('Please try again')\n",
    "        os.remove('hash_words.txt')\n",
    "        continue"
   ]
  },
  {
   "cell_type": "code",
   "execution_count": 8,
   "metadata": {},
   "outputs": [
    {
     "name": "stdout",
     "output_type": "stream",
     "text": [
      "Input encrypted password:b46352779bececb48e5a8d31e58684e8da139a944715bd44f0b930f3ac46bbca\n",
      "Plaintext password is: #@SS1GNMENT!\n"
     ]
    }
   ],
   "source": [
    "while True:\n",
    "    try:\n",
    "        words = input('Input encrypted password:')\n",
    "        # Opening the required file\n",
    "        a = open('words.txt','r')\n",
    "\n",
    "        a_dict = dict()\n",
    "\n",
    "        # Make a dictionary for original words\n",
    "        # Key are encrypted words and values are original words\n",
    "        for el in a.read().splitlines():\n",
    "            a_dict[encrypt_password(el)] = el\n",
    "            a_dict[encrypt_password(change_string(el))] = change_string(el)\n",
    "\n",
    "        if words in a_dict:\n",
    "            print('Plaintext password is:', a_dict[words])\n",
    "            \n",
    "            break\n",
    "        else:\n",
    "            print('Not found')\n",
    "            \n",
    "            break\n",
    "\n",
    "        a.close()\n",
    "    except:\n",
    "        print('Please try again')\n",
    "        \n",
    "        continue"
   ]
  },
  {
   "cell_type": "markdown",
   "metadata": {},
   "source": [
    "**Assignment 4.3**\n",
    "\n",
    "Write a program that reads the password file ```passwordfile.txt``` and the word list ```words.txt```  and for each line in the password file prints out the name and corresponding plaintext password, if you can find it (if not, print something appropriately).\n",
    "For example, the output could be:\n",
    "```\n",
    "John   secret\n",
    "Mary   #@SS1GNMENT!\n",
    "Bob    Cannot find password, too complex!\n",
    "Jane   python\n",
    "Peter  #PYTHON!\n",
    "...\n",
    "```"
   ]
  },
  {
   "cell_type": "code",
   "execution_count": 10,
   "metadata": {},
   "outputs": [
    {
     "name": "stdout",
     "output_type": "stream",
     "text": [
      "John \t #@@RDV@RK!\n",
      "Mary \t #FLEDGL1NG!\n",
      "Bob \t Cannot find password, too complex!\n",
      "Jane \t python\n",
      "Peter \t #PYTHON!\n",
      "Julia \t programmer\n",
      "Mike \t #UN1VERS1TY!\n",
      "Alice \t #ELECT1ONS!\n",
      "Zach \t zombies\n",
      "Vicky \t #TUTOR1@L!\n"
     ]
    }
   ],
   "source": [
    "import os\n",
    "\n",
    "a = open('words.txt','r')\n",
    "b = open('passwordfile.txt','r')\n",
    "c = open('5rules_words.txt','x')\n",
    "    \n",
    "a_dict = dict()\n",
    "b_dict = dict()\n",
    "c_dict = dict()\n",
    "    \n",
    "# Make the dictionary of words file\n",
    "# Hash 256 as key and original words as value\n",
    "for el in a.read().splitlines():\n",
    "    a_dict[encrypt_password(el)] = el\n",
    "        \n",
    "# Implement 5 rules to change the shape of password and save it to 5rules_words.txt file\n",
    "    c.write(change_string(el)+'\\n')\n",
    "    c.flush()\n",
    "    \n",
    "c = open('5rules_words.txt','r')\n",
    "for el_2 in c.read().splitlines():\n",
    "    c_dict[encrypt_password(el_2)] = el_2\n",
    "    \n",
    "# Make the dictionary of password file\n",
    "# Hash256 as key and name as value\n",
    "for item in b.read().splitlines():\n",
    "    b_dict[item.split(':')[1]] = item.split(':')[0]\n",
    "        \n",
    "    if item.split(':')[1] in a_dict:\n",
    "        print(b_dict[item.split(':')[1]], '\\t', a_dict[item.split(':')[1]])\n",
    "    elif item.split(':')[1] in c_dict:\n",
    "        print(b_dict[item.split(':')[1]], '\\t', c_dict[item.split(':')[1]])\n",
    "    else:\n",
    "        print(b_dict[item.split(':')[1]], '\\t', 'Cannot find password, too complex!')\n",
    "            \n",
    "a.close()\n",
    "b.close()\n",
    "c.close()\n",
    "\n",
    "os.remove('5rules_words.txt')"
   ]
  },
  {
   "cell_type": "code",
   "execution_count": 16,
   "metadata": {},
   "outputs": [
    {
     "name": "stdout",
     "output_type": "stream",
     "text": [
      "John \t #@@RDV@RK!\n",
      "Mary \t #FLEDGL1NG!\n",
      "Bob \t Cannot find password, too complex!\n",
      "Jane \t python\n",
      "Peter \t #PYTHON!\n",
      "Julia \t programmer\n",
      "Mike \t #UN1VERS1TY!\n",
      "Alice \t #ELECT1ONS!\n",
      "Zach \t zombies\n",
      "Vicky \t #TUTOR1@L!\n"
     ]
    }
   ],
   "source": [
    "a = open('words.txt','r')\n",
    "b = open('passwordfile.txt','r')\n",
    "    \n",
    "a_dict = dict()\n",
    "b_dict = dict()\n",
    "    \n",
    "# Make the dictionary of words file\n",
    "# Hash 256 as key and original words as value\n",
    "for el in a.read().splitlines():\n",
    "    a_dict[encrypt_password(el)] = el\n",
    "    a_dict[encrypt_password(change_string(el))] = change_string(el)\n",
    "        \n",
    "    \n",
    "# Make the dictionary of password file\n",
    "# Hash256 as key and name as value\n",
    "for item in b.read().splitlines():\n",
    "    b_dict[item.split(':')[1]] = item.split(':')[0]\n",
    "        \n",
    "    if item.split(':')[1] in a_dict:\n",
    "        print(b_dict[item.split(':')[1]], '\\t', a_dict[item.split(':')[1]])\n",
    "    else:\n",
    "        print(b_dict[item.split(':')[1]], '\\t', 'Cannot find password, too complex!')\n",
    "            \n",
    "a.close()\n",
    "b.close()"
   ]
  },
  {
   "cell_type": "code",
   "execution_count": null,
   "metadata": {
    "collapsed": true
   },
   "outputs": [],
   "source": []
  }
 ],
 "metadata": {
  "kernelspec": {
   "display_name": "Python 3",
   "language": "python",
   "name": "python3"
  },
  "language_info": {
   "codemirror_mode": {
    "name": "ipython",
    "version": 3
   },
   "file_extension": ".py",
   "mimetype": "text/x-python",
   "name": "python",
   "nbconvert_exporter": "python",
   "pygments_lexer": "ipython3",
   "version": "3.6.0"
  }
 },
 "nbformat": 4,
 "nbformat_minor": 2
}
