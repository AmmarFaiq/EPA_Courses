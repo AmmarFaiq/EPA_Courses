{
 "cells": [
  {
   "cell_type": "markdown",
   "metadata": {},
   "source": [
    "## Set paths"
   ]
  },
  {
   "cell_type": "code",
   "execution_count": 1,
   "metadata": {},
   "outputs": [],
   "source": [
    "%matplotlib inline\n",
    "\n",
    "import pandas as pd\n",
    "import numpy as np\n",
    "import matplotlib.pyplot as plt\n",
    "import matplotlib as mpl\n",
    "import timeit\n",
    "#import pylab \n",
    "\n",
    "#import re\n",
    "#import seaborn as sns\n",
    "\n",
    "##### SET PARAMETERS ##########################\n",
    "\n",
    "# path of bridge data for reading csv file (_roads2)\n",
    "path     = 'D:\\Jupyter_File\\Advanced_Discrete_Cleaning\\WBSIM_Lab2\\infrastructure\\_roads3.csv'\n",
    "# path of bridge data for reading Excel file (BMMS_overview)\n",
    "bpath     = 'D:\\Jupyter_File\\Advanced_Discrete_Cleaning\\WBSIM_Lab2\\infrastructure\\BMMS_overview.xlsx'\n",
    "\n",
    "# path for saving excel for simulation\n",
    "#savepath  = 'C:\\\\Users\\\\Marti\\\\Documents\\\\EPA1351_Advanced_Discrete_Simulation\\\\Assignment\\\\Assignment 2\\\\WBSIM_Lab2\\\\infrastructure\\\\simio_test.xlsx'\n",
    "\n",
    "\n",
    "n         = 628 # number of bridges, maximum = 628\n",
    "spd       = 13.33 # speed of truck [km/hr]"
   ]
  },
  {
   "cell_type": "markdown",
   "metadata": {},
   "source": [
    "## import data"
   ]
  },
  {
   "cell_type": "code",
   "execution_count": 2,
   "metadata": {},
   "outputs": [],
   "source": [
    "# reading raw data\n",
    "df_orig  = pd.read_csv(path,index_col=None, header=0)\n",
    "bdf_orig = pd.read_excel(bpath, index_col=None, header=0)\n",
    "\n",
    "# copy dataframe\n",
    "df  = df_orig.copy()\n",
    "bdf = bdf_orig.copy()"
   ]
  },
  {
   "cell_type": "markdown",
   "metadata": {},
   "source": [
    "## select N1 data"
   ]
  },
  {
   "cell_type": "code",
   "execution_count": 3,
   "metadata": {},
   "outputs": [],
   "source": [
    "# select based on N1 name\n",
    "df  = df[(df['road'] == 'N1') & (df['lat'] > 22.3677155) & (df['lon'] < 91.7852225)]\n",
    "bdf = bdf[(bdf['road'] == 'N1') & (bdf['lat'] > 22.3677155) & (bdf['lon'] < 91.7852225)]"
   ]
  },
  {
   "cell_type": "code",
   "execution_count": 4,
   "metadata": {},
   "outputs": [
    {
     "name": "stdout",
     "output_type": "stream",
     "text": [
      "bridge data before duplicate drop:  271\n",
      "bridge data after diplicate drop:  210\n"
     ]
    }
   ],
   "source": [
    "# drop out the duplicates of bridges\n",
    "print('bridge data before duplicate drop: ', len(bdf))\n",
    "bdf = bdf.drop_duplicates(subset=['chainage'], keep='first')\n",
    "print('bridge data after diplicate drop: ', len(bdf))"
   ]
  },
  {
   "cell_type": "markdown",
   "metadata": {},
   "source": [
    "## Create entity sheetframe"
   ]
  },
  {
   "cell_type": "code",
   "execution_count": 5,
   "metadata": {},
   "outputs": [],
   "source": [
    "# Add columns to bridge data set\n",
    "bdf['Object Class']               = 'Bridge'\n",
    "bdf['Y']                          = 0\n",
    "bdf['RunInitializedAddOnProcess'] = 'BreakBridgeOnProb'\n",
    "bdf['EnteredAddOnProcess']        = 'SetDelayTime'\n",
    "bdf['Height']                     = np.nan\n",
    "\n",
    "# rename wrong columns\n",
    "bdf.rename(columns={'condition' : 'Quality','length': 'Length', 'LRPName': 'Object Name','lat':'X', 'lon':'Z',\n",
    "                   'width':'Width'}, inplace = True)\n",
    "\n",
    "# drop unnecessary columns\n",
    "bdf = bdf.drop(['road','km','type','name','structureNr','roadName','EstimatedLoc','constructionYear',\n",
    "                'zone','circle','spans','division','sub-division'],axis=1)\n"
   ]
  },
  {
   "cell_type": "code",
   "execution_count": 6,
   "metadata": {},
   "outputs": [],
   "source": [
    "# select part of dataframe\n",
    "objects = bdf.iloc[0:n,:]\n",
    "\n",
    "# adding source and sink\n",
    "\n",
    "# set model entity\n",
    "model = pd.DataFrame([['ModelEntity','Truck',spd,23,0,90]],\n",
    "                     columns=['Object Class', 'Object Name', 'InitialDesiredSpeed','Z','Y','X'])\n",
    "\n",
    "# set source\n",
    "source = pd.DataFrame([[ 'Chittagong',df.loc[0,'chainage'],df.loc[0,'lat'],0,df.loc[0,'lon'],'Source','truck',5]],\n",
    "                      columns=['Object Name', 'chainage', 'Z', 'Y','X','Object Class', 'EntityType','InterarrivalTime'])\n",
    "\n",
    "\n",
    "# set sink\n",
    "sink   = pd.DataFrame([[ 'Dhaka',df.loc[len(df)-1,'chainage'],df.loc[len(df)-1,'lat'],0,df.loc[len(df)-1,'lon'],'Sink']],\n",
    "                     columns=['Object Name','chainage','Z','Y','X','Object Class'])\n",
    "\n",
    "\n",
    "# add source and sink to dataframe\n",
    "objects = pd.concat([model, source, objects, sink], axis=0)"
   ]
  },
  {
   "cell_type": "code",
   "execution_count": 7,
   "metadata": {},
   "outputs": [],
   "source": [
    "# Define midpoint of road\n",
    "midX = 90\n",
    "midZ = 23\n",
    "\n",
    "# change and scale X and Z coordinates of road\n",
    "objects['X'] = (objects['X']-midX)*101\n",
    "objects['Z'] = (objects['Z']-midZ)*-111"
   ]
  },
  {
   "cell_type": "code",
   "execution_count": 8,
   "metadata": {},
   "outputs": [],
   "source": [
    "# sort values \n",
    "objects = objects.sort_values(by='chainage')\n",
    "\n",
    "# reindex dataframe\n",
    "objects = objects.reset_index(drop=True)"
   ]
  },
  {
   "cell_type": "code",
   "execution_count": 9,
   "metadata": {},
   "outputs": [],
   "source": [
    "#print(objects)"
   ]
  },
  {
   "cell_type": "markdown",
   "metadata": {},
   "source": [
    "## create links sheet"
   ]
  },
  {
   "cell_type": "code",
   "execution_count": 10,
   "metadata": {},
   "outputs": [
    {
     "name": "stderr",
     "output_type": "stream",
     "text": [
      "D:\\Anaconda\\lib\\site-packages\\pandas\\core\\indexing.py:179: SettingWithCopyWarning: \n",
      "A value is trying to be set on a copy of a slice from a DataFrame\n",
      "\n",
      "See the caveats in the documentation: http://pandas.pydata.org/pandas-docs/stable/indexing.html#indexing-view-versus-copy\n",
      "  self._setitem_with_indexer(indexer, value)\n"
     ]
    }
   ],
   "source": [
    "# create empty dataframe\n",
    "links = pd.DataFrame([],columns=['Link Class','Link Name','From Node','To Node','Network','Type','LogicalLength','DrawnToScale'])\n",
    "\n",
    "# set values in frame\n",
    "links['LogicalLength'] = (abs(objects['chainage'].diff())*1000 ).values\n",
    "links['Link Class']    = 'Path'\n",
    "links['DrawnToScale']  = 'False'\n",
    "links['Type']          = 'Unidirectional'\n",
    "links['Network']       = 'Network A'\n",
    "\n",
    "\n",
    "\n",
    "# create paths\n",
    "for i in range(len(objects)-1):\n",
    "    \n",
    "    #print(objects[i]['Name'])\n",
    "    links['Link Name'].iloc[i+1] = (objects.loc[i,'Object Name'] + '_' + objects.loc[i+1,'Object Name'])\n",
    "    links['From Node'].iloc[i+1] = (objects.loc[i,'Object Name'])\n",
    "    links['To Node'].iloc[i+1]   = (objects.loc[i+1,'Object Name'])\n",
    "   \n",
    "\n",
    "# extra formatting\n",
    "links.loc[2,'From Node']          = 'Output@Chittagong' \n",
    "links.loc[len(links)-1,'To Node'] = 'Input@Dhaka'\n",
    "links                             = links.drop(links.index[[0,1]]) "
   ]
  },
  {
   "cell_type": "code",
   "execution_count": 11,
   "metadata": {},
   "outputs": [],
   "source": [
    "#print(links)"
   ]
  },
  {
   "cell_type": "code",
   "execution_count": 12,
   "metadata": {},
   "outputs": [],
   "source": [
    "# rearrange columns of dataframes\n",
    "objects = objects[['Object Class','Object Name','X','Y','Z','Length','Width','Height','InterarrivalTime','InitialDesiredSpeed'\n",
    "                   ,'EntityType','RunInitializedAddOnProcess','EnteredAddOnProcess','Quality','Length']]\n"
   ]
  },
  {
   "cell_type": "code",
   "execution_count": null,
   "metadata": {},
   "outputs": [],
   "source": [
    "plt.figure(figsize = (8,10))\n",
    "plt.scatter(x= dfN1['lon'], y= dfN1['lat'],marker='o')\n",
    "plt.scatter(x= bdfN1['lon'], y= bdfN1['lat'],marker='+')"
   ]
  },
  {
   "cell_type": "markdown",
   "metadata": {},
   "source": [
    "## convert to excel"
   ]
  },
  {
   "cell_type": "code",
   "execution_count": 13,
   "metadata": {},
   "outputs": [],
   "source": [
    "# open writer object\n",
    "writer = pd.ExcelWriter('savepath.xlsx', engine='xlsxwriter')\n",
    "\n",
    "# write sheets\n",
    "objects.to_excel(writer, sheet_name='Objects1', index=False)\n",
    "links.to_excel(writer, sheet_name='Links1', index=False)\n",
    "\n",
    "#Close the Pandas Excel writer and output the Excel file.\n",
    "writer.save()"
   ]
  },
  {
   "cell_type": "code",
   "execution_count": null,
   "metadata": {},
   "outputs": [],
   "source": []
  }
 ],
 "metadata": {
  "kernelspec": {
   "display_name": "Python 3",
   "language": "python",
   "name": "python3"
  },
  "language_info": {
   "codemirror_mode": {
    "name": "ipython",
    "version": 3
   },
   "file_extension": ".py",
   "mimetype": "text/x-python",
   "name": "python",
   "nbconvert_exporter": "python",
   "pygments_lexer": "ipython3",
   "version": "3.6.1"
  }
 },
 "nbformat": 4,
 "nbformat_minor": 2
}
