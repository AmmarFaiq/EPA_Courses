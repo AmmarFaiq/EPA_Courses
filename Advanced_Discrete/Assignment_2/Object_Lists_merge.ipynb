{
 "cells": [
  {
   "cell_type": "code",
   "execution_count": 1,
   "metadata": {},
   "outputs": [],
   "source": [
    "%matplotlib inline\n",
    "\n",
    "import pandas as pd\n",
    "import numpy as np\n",
    "import matplotlib.pyplot as plt\n",
    "import matplotlib as mpl\n",
    "import timeit\n",
    "\n",
    "# path of bridge data for reading csv file (_roads2)\n",
    "path     = 'D:\\Jupyter_File\\Advanced_Discrete_Cleaning\\WBSIM_Lab2\\infrastructure\\_roads3.csv'\n",
    "\n",
    "# path of bridge data for reading Excel file (BMMS_overview)\n",
    "bpath     = 'D:\\Jupyter_File\\Advanced_Discrete_Cleaning\\WBSIM_Lab2\\infrastructure\\BMMS_overview.xlsx'"
   ]
  },
  {
   "cell_type": "markdown",
   "metadata": {},
   "source": [
    "# Load data file"
   ]
  },
  {
   "cell_type": "code",
   "execution_count": 2,
   "metadata": {},
   "outputs": [
    {
     "name": "stdout",
     "output_type": "stream",
     "text": [
      "\n",
      "Total Road Data : 51348 Data\n",
      "\n",
      "Total Bridge Data : 20415 Data\n"
     ]
    }
   ],
   "source": [
    "# reading raw data\n",
    "df_orig  = pd.read_csv(path,index_col=None, header=0)\n",
    "bdf_orig = pd.read_excel(bpath, index_col=None, header=0)\n",
    "\n",
    "# copy dataframe\n",
    "df = df_orig.copy()\n",
    "bdf = bdf_orig.copy()\n",
    "\n",
    "# Display Number of data \n",
    "print('')\n",
    "print('Total Road Data :' ,len(df),'Data')\n",
    "print('')\n",
    "print('Total Bridge Data :' ,len(bdf),'Data')"
   ]
  },
  {
   "cell_type": "markdown",
   "metadata": {},
   "source": [
    "# Select N1 roads that connects Chittagong to Dhaka only"
   ]
  },
  {
   "cell_type": "code",
   "execution_count": 3,
   "metadata": {},
   "outputs": [
    {
     "name": "stdout",
     "output_type": "stream",
     "text": [
      "Total N1 Roads data: 565\n",
      "Total N1 Bridges data: 271\n"
     ]
    }
   ],
   "source": [
    "# Create dataframe for N1 roads with filtered longitude and lattitude Bounding box\n",
    "dfN1  = df_orig[(df_orig['road'] == 'N1') & (df_orig['lat'] < 23.8103) & (df_orig['lon'] < 91.7832)].sort_values(by = 'chainage')\n",
    "bdfN1 = bdf_orig[(bdf_orig['road'] == 'N1') & (bdf_orig['lat'] < 23.8103) & (bdf_orig['lon'] < 91.7832)].sort_values(by = 'chainage')\n",
    "\n",
    "print('Total N1 Roads data:',len(dfN1))\n",
    "print('Total N1 Bridges data:', len(bdfN1))"
   ]
  },
  {
   "cell_type": "markdown",
   "metadata": {},
   "source": [
    "# Plot the N1 roads and Bridges data"
   ]
  },
  {
   "cell_type": "code",
   "execution_count": 4,
   "metadata": {},
   "outputs": [
    {
     "data": {
      "text/plain": [
       "<matplotlib.legend.Legend at 0x13e263a5cf8>"
      ]
     },
     "execution_count": 4,
     "metadata": {},
     "output_type": "execute_result"
    },
    {
     "data": {
      "image/png": "[encoded data removed]",
      "text/plain": [
       "<matplotlib.figure.Figure at 0x13e25498a90>"
      ]
     },
     "metadata": {},
     "output_type": "display_data"
    }
   ],
   "source": [
    "plt.figure(figsize = (8,10))\n",
    "\n",
    "plt.title('Plot of N1 Roads and Bridges from Chittagong to Dhaka')\n",
    "plt.scatter(x= dfN1['lon'], y= dfN1['lat'],marker='_',label=\"Roads\")\n",
    "plt.scatter(x= bdfN1['lon'], y= bdfN1['lat'],marker='+',label=\"Bridge\")\n",
    "plt.legend()"
   ]
  },
  {
   "cell_type": "markdown",
   "metadata": {},
   "source": [
    "    We can see from this Graph that the Bridges have the same shape as the roads Therefore the road will be plotted following the shape of the bridges (without vertices)."
   ]
  },
  {
   "cell_type": "markdown",
   "metadata": {},
   "source": [
    "# Change columns name and create new columns name"
   ]
  },
  {
   "cell_type": "code",
   "execution_count": 5,
   "metadata": {},
   "outputs": [],
   "source": [
    "#dfN1 = dfN1.rename(index=str, columns={'LRPName': 'lrp','condition':'Quality','length':'Length'})\n",
    "bdfN1 = bdfN1.rename(index=str, columns={'LRPName': 'lrp','condition':'Quality','length':'Length'})\n",
    "dfN1['Object Class'] = 'BasicNode'\n",
    "dfN1['Object Name'] = dfN1['road'] + '_' + dfN1['lrp']\n",
    "\n",
    "bdfN1['Object Class'] = 'Bridge'\n",
    "bdfN1['Object Name'] = bdfN1['road'] + '_' + bdfN1['lrp']\n",
    "\n",
    "bdfN1['Width'] = np.nan\n",
    "bdfN1['Height'] = np.nan\n",
    "\n",
    "dfN1['Width'] = np.nan\n",
    "dfN1['Height'] = np.nan\n",
    "\n",
    "dfN1['Quality'] = np.nan\n",
    "dfN1['Length'] = np.nan"
   ]
  },
  {
   "cell_type": "markdown",
   "metadata": {},
   "source": [
    "# Drop some columns name in roads and bridges dataframe \n"
   ]
  },
  {
   "cell_type": "markdown",
   "metadata": {},
   "source": [
    "    Some of the _roads3 excel files also contains bridges data, therefore it is worth to check whether there are bridges data that might not be recorded in the BMMS excel files."
   ]
  },
  {
   "cell_type": "code",
   "execution_count": 6,
   "metadata": {},
   "outputs": [
    {
     "data": {
      "text/plain": [
       "<matplotlib.legend.Legend at 0x13e26c1d2b0>"
      ]
     },
     "execution_count": 6,
     "metadata": {},
     "output_type": "execute_result"
    },
    {
     "data": {
      "image/png": "[encoded data removed]",
      "text/plain": [
       "<matplotlib.figure.Figure at 0x13e261277b8>"
      ]
     },
     "metadata": {},
     "output_type": "display_data"
    }
   ],
   "source": [
    "plt.figure(figsize = (8,10))\n",
    "\n",
    "plt.title('Plot of N1 Bridges from Chittagong to Dhaka from BMMS and _roads3 data')\n",
    "\n",
    "plt.scatter(x= dfN1[(dfN1['type'] == 'Bridge')]['lon'], y= dfN1[(dfN1['type'] == 'Bridge')]['lat'],marker='v', label=\"roads3 data\")\n",
    "plt.scatter(x= bdfN1['lon'], y= bdfN1['lat'],marker='+', label=\"BMMS data\")\n",
    "plt.legend()"
   ]
  },
  {
   "cell_type": "markdown",
   "metadata": {},
   "source": [
    "    We can see from this Graph that the Bridges from the _roads3 data might not always in the same position as the BMMS data, therefore it is wise to include those bridges from _roads3 data that is not the same (duplicates) as the BMMS bridges into the analysis.\n"
   ]
  },
  {
   "cell_type": "code",
   "execution_count": 7,
   "metadata": {},
   "outputs": [],
   "source": [
    "# drop unnecessary column that is not needed in the construction of excel files\n",
    "dfN1 = dfN1.drop(['gap'], axis=1)\n",
    "bdfN1 = bdfN1.drop(['km', 'structureNr', 'roadName', 'spans', 'zone','circle','division','sub-division', \n",
    "                    'EstimatedLoc','constructionYear','width'], axis=1)\n",
    "\n",
    "# Match the order of the columns and select only the columns that in roads dataframe to make it easier to combine them\n",
    "bdfN1 = bdfN1[dfN1.columns]\n",
    "\n",
    "# Script to convert \"Bridges\" included in the roads data into bridge data later on\n",
    "dfN1.loc[(dfN1['type'] == 'Bridge'),'Object Class'] = 'Bridge'\n",
    "# Assume that those bridges have quality A\n",
    "dfN1.loc[(dfN1['type'] == 'Bridge'),'Quality'] = 'A'\n",
    "\n",
    "# Assume that those bridges have the length as the diference in chainage between the chainage of the bridge and its former roads\n",
    "dfN1['Length'] = (abs(dfN1['chainage'].diff())*1000 ).values\n",
    "\n",
    "# Script to drop \"Bridges\" included in the roads data (USE THIS IN CASE WE WANT TO CHANGE THE ASSUMPTION THAT BMMS DATA IS ALREADY PERFECT!!!!)\n",
    "#dfN1 = dfN1.drop(dfN1[dfN1['type'] == 'Bridge'].index)"
   ]
  },
  {
   "cell_type": "markdown",
   "metadata": {},
   "source": [
    "# Combine roads and bridges dataframe"
   ]
  },
  {
   "cell_type": "code",
   "execution_count": 8,
   "metadata": {},
   "outputs": [],
   "source": [
    "# Combined roads and bridges data\n",
    "df_combined = pd.concat([dfN1, bdfN1]).sort_values(by = 'chainage')"
   ]
  },
  {
   "cell_type": "markdown",
   "metadata": {},
   "source": [
    "# Drop the duplicates based on LRP name"
   ]
  },
  {
   "cell_type": "code",
   "execution_count": 9,
   "metadata": {},
   "outputs": [],
   "source": [
    "df_combined = df_combined.drop_duplicates(subset = ['lrp'], keep = 'first', inplace=False)\n",
    "#df_combined = df_combined.drop_duplicates(subset = ['chainage'],keep = 'first', inplace=False)\n",
    "df_combined = df_combined.sort_values(by = 'chainage')"
   ]
  },
  {
   "cell_type": "markdown",
   "metadata": {},
   "source": [
    "# Convert combined dataframe columns name according to xls format"
   ]
  },
  {
   "cell_type": "code",
   "execution_count": 10,
   "metadata": {},
   "outputs": [],
   "source": [
    "# Create new column name 'Y' with contains 0 values\n",
    "df_combined['Y'] = 0\n",
    "\n",
    "# Rename lattitude and longitude name into Z and X\n",
    "df_combined = df_combined.rename(index=str, columns={'lat': 'Z','lon':'X'})"
   ]
  },
  {
   "cell_type": "code",
   "execution_count": 11,
   "metadata": {},
   "outputs": [],
   "source": [
    "# Change the order of the dataframe columns name\n",
    "df_combined = df_combined[['road', 'lrp', 'name','type','chainage','Object Class','Object Name','X','Y','Z','Quality','Length']]"
   ]
  },
  {
   "cell_type": "markdown",
   "metadata": {},
   "source": [
    "# Convert X and Z coordinates to match Simio coordinates"
   ]
  },
  {
   "cell_type": "code",
   "execution_count": 12,
   "metadata": {},
   "outputs": [],
   "source": [
    "# Change and scale X and Z coordinates of road\n",
    "df_combined['X'] = (df_combined['X']-df_combined['X'][0])*1000\n",
    "df_combined['Z'] = (df_combined['Z']-df_combined['Z'][0])*-1000"
   ]
  },
  {
   "cell_type": "markdown",
   "metadata": {},
   "source": [
    "# Predefined some Submodel and Objects properties"
   ]
  },
  {
   "cell_type": "code",
   "execution_count": 13,
   "metadata": {},
   "outputs": [],
   "source": [
    "# Define some empty columns to be fill up later on\n",
    "df_combined['InterarrivalTime'] = np.nan\n",
    "df_combined['InitialDesiredSpeed'] = np.nan\n",
    "df_combined['EntityType'] = np.nan\n",
    "df_combined['RunInitializedAddOnProcess'] = np.nan\n",
    "df_combined['EnteredAddOnProcess'] = np.nan\n",
    "\n",
    "# Define some predefined columns for sub-model bridge\n",
    "df_combined.loc[(df_combined['Object Class'] == 'Bridge'),'RunInitializedAddOnProcess'] = 'BreakBridgeBasedOnProb'\n",
    "df_combined.loc[(df_combined['Object Class'] == 'Bridge'),'EnteredAddOnProcess'] = 'SetDelayTime'\n",
    "\n",
    "# Keep initial and end of rows for the location of source and sink\n",
    "df_combined.iloc[0, 5] = 'Bridge'\n",
    "df_combined.iloc[-1, 5] = 'Bridge'\n",
    "\n",
    "# Sort values\n",
    "df_combined = df_combined.sort_values(by = 'chainage')"
   ]
  },
  {
   "cell_type": "markdown",
   "metadata": {},
   "source": [
    "# Create Objectlist dataframe that contained Bridges"
   ]
  },
  {
   "cell_type": "code",
   "execution_count": 14,
   "metadata": {},
   "outputs": [],
   "source": [
    "df_Objects1  = df_combined[df_combined['Object Class'] == 'Bridge']\n",
    "df_Objects1 = df_Objects1.reset_index(drop=True)"
   ]
  },
  {
   "cell_type": "code",
   "execution_count": 15,
   "metadata": {},
   "outputs": [
    {
     "data": {
      "text/plain": [
       "216"
      ]
     },
     "execution_count": 15,
     "metadata": {},
     "output_type": "execute_result"
    }
   ],
   "source": [
    "len(df_Objects1)"
   ]
  },
  {
   "cell_type": "markdown",
   "metadata": {},
   "source": [
    "# Predefined some Objects inside \"Objects1\" Sheet"
   ]
  },
  {
   "cell_type": "code",
   "execution_count": 16,
   "metadata": {},
   "outputs": [],
   "source": [
    "df_Objects1.iloc[-1, 5] = 'Source'\n",
    "df_Objects1.iloc[-1, 6] = 'Chittagong'\n",
    "df_Objects1.iloc[-1, 11] = np.nan\n",
    "df_Objects1.iloc[-1, 12] = 5\n",
    "df_Objects1.iloc[-1, 14] = 'Truck'\n",
    "\n",
    "\n",
    "df_Objects1.iloc[0, 5] = 'Sink'\n",
    "df_Objects1.iloc[0, 6] = 'Dhaka'"
   ]
  },
  {
   "cell_type": "markdown",
   "metadata": {},
   "source": [
    "# Create Links dataframe"
   ]
  },
  {
   "cell_type": "code",
   "execution_count": 17,
   "metadata": {},
   "outputs": [],
   "source": [
    "# Create vertices sheet (if needed)\n",
    "# df_vertices1 = pd.DataFrame(index=range(len(df_Objects1)), \n",
    "#                       columns=['Link Name','Vertex X', 'Vertex Y','Vertex Z']) \n",
    "\n",
    "\n",
    "df_links1 = pd.DataFrame(index=range(len(df_Objects1)), \n",
    "                      columns=['Link Class','Link Name','From Node', 'To Node','Network', 'Width', 'Height',\n",
    "                               'Type','LogicalLength','DrawnToScale'])"
   ]
  },
  {
   "cell_type": "code",
   "execution_count": 18,
   "metadata": {},
   "outputs": [
    {
     "name": "stderr",
     "output_type": "stream",
     "text": [
      "D:\\Anaconda\\lib\\site-packages\\pandas\\core\\indexing.py:179: SettingWithCopyWarning: \n",
      "A value is trying to be set on a copy of a slice from a DataFrame\n",
      "\n",
      "See the caveats in the documentation: http://pandas.pydata.org/pandas-docs/stable/indexing.html#indexing-view-versus-copy\n",
      "  self._setitem_with_indexer(indexer, value)\n"
     ]
    }
   ],
   "source": [
    "# convert chainage into distance for path in simio. This function used the difference between chainage and the units in meter\n",
    "df_links1['LogicalLength'] = (abs(df_Objects1['chainage'].diff())*1000 ).values\n",
    "\n",
    "# Predefined properties for path (roads)\n",
    "df_links1['Link Class'] = 'Path'\n",
    "df_links1['DrawnToScale'] = 'False'\n",
    "df_links1['Type'] = 'Unidirectional'\n",
    "\n",
    "# Filling the connection between node (From Node, To Node) in the excel files\n",
    "for i in range (len(df_Objects1)-1):\n",
    "    \n",
    "    df_links1['Link Name'].iloc[i+1] = (df_Objects1['lrp'][i] + '_' + df_Objects1['lrp'][i+1] + '_' + 'road')\n",
    "    df_links1['To Node'].iloc[i+1] = (df_Objects1['Object Name'][i])\n",
    "    df_links1['From Node'].iloc[i+1] = (df_Objects1['Object Name'][i+1])\n"
   ]
  },
  {
   "cell_type": "code",
   "execution_count": 19,
   "metadata": {},
   "outputs": [],
   "source": [
    "# drop the first index (empty)\n",
    "df_links1 = df_links1.drop(df_links1.index[0])\n",
    "\n",
    "# Predefined connection between Source to bridge and bridge to Sink\n",
    "df_links1.iloc[0, 2] = 'N1_LRP001a'\n",
    "df_links1.iloc[0, 3] = 'Input@Dhaka'\n",
    "df_links1.iloc[-1, 2] = 'Output@Chittagong'\n",
    "df_links1.iloc[-1, 3] = 'N1_LRP234a'"
   ]
  },
  {
   "cell_type": "markdown",
   "metadata": {},
   "source": [
    "# Drop some columns name to match the xls format for simio"
   ]
  },
  {
   "cell_type": "code",
   "execution_count": 20,
   "metadata": {},
   "outputs": [],
   "source": [
    "df_Objects1 = df_Objects1.drop(['road', 'lrp', 'name', 'type', 'chainage'], axis=1)"
   ]
  },
  {
   "cell_type": "markdown",
   "metadata": {},
   "source": [
    "# Create dummy dataframe to insert predefined \"Entity\" inside dataframe"
   ]
  },
  {
   "cell_type": "code",
   "execution_count": 21,
   "metadata": {},
   "outputs": [],
   "source": [
    "df_dummy = pd.DataFrame( index = range(1),\n",
    "                       columns=df_Objects1.columns.values)\n",
    "\n",
    "df_dummy.iloc[0, 0] = 'ModelEntity'\n",
    "df_dummy.iloc[0, 1] = 'Truck'\n",
    "df_dummy.iloc[0, 2] = 0\n",
    "df_dummy.iloc[0, 3] = 0\n",
    "df_dummy.iloc[0, 4] = 4\n",
    "df_dummy.iloc[0, 8] = 13.33"
   ]
  },
  {
   "cell_type": "code",
   "execution_count": 22,
   "metadata": {},
   "outputs": [],
   "source": [
    "# Insert the entity into the Objects dataframe\n",
    "df_Objects1 = pd.concat([df_Objects1, df_dummy])"
   ]
  },
  {
   "cell_type": "markdown",
   "metadata": {},
   "source": [
    "# *Bonus Assignment time"
   ]
  },
  {
   "cell_type": "code",
   "execution_count": 23,
   "metadata": {},
   "outputs": [
    {
     "data": {
      "text/html": [
       "<div>\n",
       "<style>\n",
       "    .dataframe thead tr:only-child th {\n",
       "        text-align: right;\n",
       "    }\n",
       "\n",
       "    .dataframe thead th {\n",
       "        text-align: left;\n",
       "    }\n",
       "\n",
       "    .dataframe tbody tr th {\n",
       "        vertical-align: top;\n",
       "    }\n",
       "</style>\n",
       "<table border=\"1\" class=\"dataframe\">\n",
       "  <thead>\n",
       "    <tr style=\"text-align: right;\">\n",
       "      <th></th>\n",
       "      <th>Object Class</th>\n",
       "      <th>Object Name</th>\n",
       "      <th>X</th>\n",
       "      <th>Y</th>\n",
       "      <th>Z</th>\n",
       "      <th>Quality</th>\n",
       "      <th>Length</th>\n",
       "      <th>InterarrivalTime</th>\n",
       "      <th>InitialDesiredSpeed</th>\n",
       "      <th>EntityType</th>\n",
       "      <th>RunInitializedAddOnProcess</th>\n",
       "      <th>EnteredAddOnProcess</th>\n",
       "    </tr>\n",
       "  </thead>\n",
       "  <tbody>\n",
       "    <tr>\n",
       "      <th>65</th>\n",
       "      <td>Bridge</td>\n",
       "      <td>N1_LRP037a</td>\n",
       "      <td>259.107</td>\n",
       "      <td>0</td>\n",
       "      <td>175.643</td>\n",
       "      <td>C</td>\n",
       "      <td>1408.8</td>\n",
       "      <td>NaN</td>\n",
       "      <td>NaN</td>\n",
       "      <td>NaN</td>\n",
       "      <td>BreakBridgeBasedOnProb</td>\n",
       "      <td>SetDelayTime</td>\n",
       "    </tr>\n",
       "    <tr>\n",
       "      <th>148</th>\n",
       "      <td>Bridge</td>\n",
       "      <td>N1_LRP166a</td>\n",
       "      <td>1082.96</td>\n",
       "      <td>0</td>\n",
       "      <td>791.063</td>\n",
       "      <td>B</td>\n",
       "      <td>220.6</td>\n",
       "      <td>NaN</td>\n",
       "      <td>NaN</td>\n",
       "      <td>NaN</td>\n",
       "      <td>BreakBridgeBasedOnProb</td>\n",
       "      <td>SetDelayTime</td>\n",
       "    </tr>\n",
       "    <tr>\n",
       "      <th>33</th>\n",
       "      <td>Bridge</td>\n",
       "      <td>N1_LRP023a</td>\n",
       "      <td>166.218</td>\n",
       "      <td>0</td>\n",
       "      <td>88.387</td>\n",
       "      <td>B</td>\n",
       "      <td>214.09</td>\n",
       "      <td>NaN</td>\n",
       "      <td>NaN</td>\n",
       "      <td>NaN</td>\n",
       "      <td>BreakBridgeBasedOnProb</td>\n",
       "      <td>SetDelayTime</td>\n",
       "    </tr>\n",
       "    <tr>\n",
       "      <th>34</th>\n",
       "      <td>Bridge</td>\n",
       "      <td>N1_LRP023b</td>\n",
       "      <td>166.218</td>\n",
       "      <td>0</td>\n",
       "      <td>88.387</td>\n",
       "      <td>B</td>\n",
       "      <td>224.82</td>\n",
       "      <td>NaN</td>\n",
       "      <td>NaN</td>\n",
       "      <td>NaN</td>\n",
       "      <td>BreakBridgeBasedOnProb</td>\n",
       "      <td>SetDelayTime</td>\n",
       "    </tr>\n",
       "    <tr>\n",
       "      <th>4</th>\n",
       "      <td>Bridge</td>\n",
       "      <td>N1_LRP008b</td>\n",
       "      <td>75.4997</td>\n",
       "      <td>0</td>\n",
       "      <td>1.4445</td>\n",
       "      <td>A</td>\n",
       "      <td>418</td>\n",
       "      <td>NaN</td>\n",
       "      <td>NaN</td>\n",
       "      <td>NaN</td>\n",
       "      <td>BreakBridgeBasedOnProb</td>\n",
       "      <td>SetDelayTime</td>\n",
       "    </tr>\n",
       "  </tbody>\n",
       "</table>\n",
       "</div>"
      ],
      "text/plain": [
       "    Object Class Object Name        X  Y        Z Quality  Length  \\\n",
       "65        Bridge  N1_LRP037a  259.107  0  175.643       C  1408.8   \n",
       "148       Bridge  N1_LRP166a  1082.96  0  791.063       B   220.6   \n",
       "33        Bridge  N1_LRP023a  166.218  0   88.387       B  214.09   \n",
       "34        Bridge  N1_LRP023b  166.218  0   88.387       B  224.82   \n",
       "4         Bridge  N1_LRP008b  75.4997  0   1.4445       A     418   \n",
       "\n",
       "    InterarrivalTime InitialDesiredSpeed EntityType  \\\n",
       "65               NaN                 NaN        NaN   \n",
       "148              NaN                 NaN        NaN   \n",
       "33               NaN                 NaN        NaN   \n",
       "34               NaN                 NaN        NaN   \n",
       "4                NaN                 NaN        NaN   \n",
       "\n",
       "    RunInitializedAddOnProcess EnteredAddOnProcess  \n",
       "65      BreakBridgeBasedOnProb        SetDelayTime  \n",
       "148     BreakBridgeBasedOnProb        SetDelayTime  \n",
       "33      BreakBridgeBasedOnProb        SetDelayTime  \n",
       "34      BreakBridgeBasedOnProb        SetDelayTime  \n",
       "4       BreakBridgeBasedOnProb        SetDelayTime  "
      ]
     },
     "execution_count": 23,
     "metadata": {},
     "output_type": "execute_result"
    }
   ],
   "source": [
    "df_Objects1[df_Objects1['Length'] > 200].sort_values(by = 'Quality',ascending=False).head(5)"
   ]
  },
  {
   "cell_type": "code",
   "execution_count": 24,
   "metadata": {},
   "outputs": [
    {
     "data": {
      "text/html": [
       "<div>\n",
       "<style>\n",
       "    .dataframe thead tr:only-child th {\n",
       "        text-align: right;\n",
       "    }\n",
       "\n",
       "    .dataframe thead th {\n",
       "        text-align: left;\n",
       "    }\n",
       "\n",
       "    .dataframe tbody tr th {\n",
       "        vertical-align: top;\n",
       "    }\n",
       "</style>\n",
       "<table border=\"1\" class=\"dataframe\">\n",
       "  <thead>\n",
       "    <tr style=\"text-align: right;\">\n",
       "      <th></th>\n",
       "      <th>Object Class</th>\n",
       "      <th>Object Name</th>\n",
       "      <th>X</th>\n",
       "      <th>Y</th>\n",
       "      <th>Z</th>\n",
       "      <th>Quality</th>\n",
       "      <th>Length</th>\n",
       "      <th>InterarrivalTime</th>\n",
       "      <th>InitialDesiredSpeed</th>\n",
       "      <th>EntityType</th>\n",
       "      <th>RunInitializedAddOnProcess</th>\n",
       "      <th>EnteredAddOnProcess</th>\n",
       "    </tr>\n",
       "  </thead>\n",
       "  <tbody>\n",
       "    <tr>\n",
       "      <th>65</th>\n",
       "      <td>Bridge</td>\n",
       "      <td>N1_LRP037a</td>\n",
       "      <td>259.107</td>\n",
       "      <td>0</td>\n",
       "      <td>175.643</td>\n",
       "      <td>C</td>\n",
       "      <td>1408.8</td>\n",
       "      <td>NaN</td>\n",
       "      <td>NaN</td>\n",
       "      <td>NaN</td>\n",
       "      <td>BreakBridgeBasedOnProb</td>\n",
       "      <td>SetDelayTime</td>\n",
       "    </tr>\n",
       "    <tr>\n",
       "      <th>159</th>\n",
       "      <td>Bridge</td>\n",
       "      <td>N1_LRP183a</td>\n",
       "      <td>1126.19</td>\n",
       "      <td>0</td>\n",
       "      <td>924.695</td>\n",
       "      <td>A</td>\n",
       "      <td>994</td>\n",
       "      <td>NaN</td>\n",
       "      <td>NaN</td>\n",
       "      <td>NaN</td>\n",
       "      <td>BreakBridgeBasedOnProb</td>\n",
       "      <td>SetDelayTime</td>\n",
       "    </tr>\n",
       "    <tr>\n",
       "      <th>71</th>\n",
       "      <td>Bridge</td>\n",
       "      <td>N1_LRP042a</td>\n",
       "      <td>308.084</td>\n",
       "      <td>0</td>\n",
       "      <td>176.64</td>\n",
       "      <td>A</td>\n",
       "      <td>967</td>\n",
       "      <td>NaN</td>\n",
       "      <td>NaN</td>\n",
       "      <td>NaN</td>\n",
       "      <td>BreakBridgeBasedOnProb</td>\n",
       "      <td>SetDelayTime</td>\n",
       "    </tr>\n",
       "    <tr>\n",
       "      <th>183</th>\n",
       "      <td>Bridge</td>\n",
       "      <td>N1_LRP216a</td>\n",
       "      <td>1262.03</td>\n",
       "      <td>0</td>\n",
       "      <td>1186.61</td>\n",
       "      <td>A</td>\n",
       "      <td>957</td>\n",
       "      <td>NaN</td>\n",
       "      <td>NaN</td>\n",
       "      <td>NaN</td>\n",
       "      <td>BreakBridgeBasedOnProb</td>\n",
       "      <td>SetDelayTime</td>\n",
       "    </tr>\n",
       "  </tbody>\n",
       "</table>\n",
       "</div>"
      ],
      "text/plain": [
       "    Object Class Object Name        X  Y        Z Quality  Length  \\\n",
       "65        Bridge  N1_LRP037a  259.107  0  175.643       C  1408.8   \n",
       "159       Bridge  N1_LRP183a  1126.19  0  924.695       A     994   \n",
       "71        Bridge  N1_LRP042a  308.084  0   176.64       A     967   \n",
       "183       Bridge  N1_LRP216a  1262.03  0  1186.61       A     957   \n",
       "\n",
       "    InterarrivalTime InitialDesiredSpeed EntityType  \\\n",
       "65               NaN                 NaN        NaN   \n",
       "159              NaN                 NaN        NaN   \n",
       "71               NaN                 NaN        NaN   \n",
       "183              NaN                 NaN        NaN   \n",
       "\n",
       "    RunInitializedAddOnProcess EnteredAddOnProcess  \n",
       "65      BreakBridgeBasedOnProb        SetDelayTime  \n",
       "159     BreakBridgeBasedOnProb        SetDelayTime  \n",
       "71      BreakBridgeBasedOnProb        SetDelayTime  \n",
       "183     BreakBridgeBasedOnProb        SetDelayTime  "
      ]
     },
     "execution_count": 24,
     "metadata": {},
     "output_type": "execute_result"
    }
   ],
   "source": [
    "df_Objects1[df_Objects1['Length'] > 200].sort_values(by = 'Length',ascending=False).head(4)"
   ]
  },
  {
   "cell_type": "markdown",
   "metadata": {},
   "source": [
    "Based on this, we can assume that N1_LRP037a, N1_LRP166a, N1_LRP023a, N1_LRP023b and N1_LRP183a could be optimized since these bridges have quite a High Length (top 5) with not so great condition (quality lower than A), for later on we tried to simulate in the Simio model for these bridges behaviour."
   ]
  },
  {
   "cell_type": "markdown",
   "metadata": {},
   "source": [
    "# Preparing the Objectlists sheet columns order and its predefine columns"
   ]
  },
  {
   "cell_type": "code",
   "execution_count": 25,
   "metadata": {},
   "outputs": [],
   "source": [
    "# Predefined columns height, width, length\n",
    "df_Objects1 = df_Objects1.rename(index=str, columns={'Length': 'Length_2'})\n",
    "df_Objects1['Length'] = np.nan\n",
    "df_Objects1['Width'] = np.nan\n",
    "df_Objects1['Height'] = np.nan"
   ]
  },
  {
   "cell_type": "code",
   "execution_count": 26,
   "metadata": {},
   "outputs": [],
   "source": [
    "# Ordering the dataframe for the excel files\n",
    "df_Objects1 = df_Objects1[['Object Class', 'Object Name', 'X', 'Y', 'Z','Length', 'Width',\n",
    "       'Height','InterarrivalTime', 'InitialDesiredSpeed', 'EntityType',\n",
    "       'RunInitializedAddOnProcess', 'EnteredAddOnProcess', 'Quality', 'Length_2']]\n",
    "df_Objects1 = df_Objects1.rename(index=str, columns={'Length_2': 'Length'})"
   ]
  },
  {
   "cell_type": "markdown",
   "metadata": {},
   "source": [
    "# Convert dataframe into excel "
   ]
  },
  {
   "cell_type": "code",
   "execution_count": 27,
   "metadata": {},
   "outputs": [],
   "source": [
    "writer = pd.ExcelWriter('output.xlsx')\n",
    "# First sheet\n",
    "df_Objects1.to_excel(writer,'Objects1',index = False)\n",
    "# Second sheet\n",
    "df_links1.to_excel(writer,'Links1',index = False)\n",
    "writer.save()"
   ]
  }
 ],
 "metadata": {
  "kernelspec": {
   "display_name": "Python 3",
   "language": "python",
   "name": "python3"
  },
  "language_info": {
   "codemirror_mode": {
    "name": "ipython",
    "version": 3
   },
   "file_extension": ".py",
   "mimetype": "text/x-python",
   "name": "python",
   "nbconvert_exporter": "python",
   "pygments_lexer": "ipython3",
   "version": "3.6.1"
  }
 },
 "nbformat": 4,
 "nbformat_minor": 2
}
