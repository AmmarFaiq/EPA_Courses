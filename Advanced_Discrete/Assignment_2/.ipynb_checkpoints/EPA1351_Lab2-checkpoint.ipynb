{
 "cells": [
  {
   "cell_type": "markdown",
   "metadata": {},
   "source": [
    "## Set paths"
   ]
  },
  {
   "cell_type": "code",
   "execution_count": 5,
   "metadata": {},
   "outputs": [],
   "source": [
    "%matplotlib inline\n",
    "\n",
    "import pandas as pd\n",
    "import numpy as np\n",
    "import matplotlib.pyplot as plt\n",
    "import matplotlib as mpl\n",
    "import timeit\n",
    "#import pylab \n",
    "\n",
    "#import re\n",
    "#import seaborn as sns\n",
    "\n",
    "#import shapefile as shp\n",
    "#from shapely.geometry import Point, Polygon\n",
    "\n",
    "# path of bridge data for reading csv file (_roads2)\n",
    "path     = 'D:\\Jupyter_File\\Advanced_Discrete_Cleaning\\WBSIM_Lab2\\infrastructure\\_roads3.csv'\n",
    "# path of bridge data for writing csv file (_roads2)\n",
    "#savepath = 'D:\\Jupyter_File\\Advanced_Discrete_Cleaning\\Second_Assignment\\test1.csv'\n",
    "\n",
    "# path of bridge data for reading Excel file (BMMS_overview)\n",
    "bpath     = 'D:\\Jupyter_File\\Advanced_Discrete_Cleaning\\WBSIM_Lab2\\infrastructure\\BMMS_overview.xlsx'\n",
    "# path of bridge data for writing Excel file (BMMS_overview)\n",
    "#bsavepath = 'D:\\Jupyter_File\\Advanced_Discrete_Cleaning\\Second_Assignment\\test2.xlsx'n\n",
    "\n",
    "#savepath  = 'C:\\Studie\\TEL\\Advanced_discrete_simulation\\Lab2\\simio_test.xlsx'\n",
    "\n",
    "# amount of bridges \n",
    "n = 10 # temporary for quick testing"
   ]
  },
  {
   "cell_type": "markdown",
   "metadata": {},
   "source": [
    "## import data"
   ]
  },
  {
   "cell_type": "code",
   "execution_count": 6,
   "metadata": {},
   "outputs": [],
   "source": [
    "# reading raw data\n",
    "df_orig  = pd.read_csv(path,index_col=None, header=0)\n",
    "bdf_orig = pd.read_excel(bpath, index_col=None, header=0)\n",
    "\n",
    "# copy dataframe\n",
    "df  = df_orig.copy()\n",
    "bdf = bdf_orig.copy()"
   ]
  },
  {
   "cell_type": "markdown",
   "metadata": {},
   "source": [
    "## select N1 data"
   ]
  },
  {
   "cell_type": "code",
   "execution_count": 7,
   "metadata": {},
   "outputs": [],
   "source": [
    "# select based on N1 name\n",
    "df  = df[df['road'] == 'N1']\n",
    "bdf = bdf[bdf['road'] == 'N1']"
   ]
  },
  {
   "cell_type": "code",
   "execution_count": 8,
   "metadata": {},
   "outputs": [
    {
     "name": "stdout",
     "output_type": "stream",
     "text": [
      "bridge data before duplicate drop:  787\n",
      "bridge data after diplicate drop:  493\n"
     ]
    }
   ],
   "source": [
    "# drop out the duplicates of bridges\n",
    "print('bridge data before duplicate drop: ', len(bdf))\n",
    "bdf = bdf.drop_duplicates(subset=['chainage'], keep=False)\n",
    "print('bridge data after diplicate drop: ', len(bdf))"
   ]
  },
  {
   "cell_type": "markdown",
   "metadata": {},
   "source": [
    "## Create entity sheetframe"
   ]
  },
  {
   "cell_type": "code",
   "execution_count": 9,
   "metadata": {},
   "outputs": [],
   "source": [
    "# Add columns to bridge data set\n",
    "bdf['Object Class']               = 'Bridge'\n",
    "bdf['Y']                          = 0\n",
    "bdf['RunInitializedAddOnProcess'] = 'BreakBridgeOnProp'\n",
    "bdf['EnteredAddOnProcess']        = 'SetDelayTime'\n",
    "\n",
    "# rename wrong columns\n",
    "bdf.rename(columns={'condition' : 'Quality','length': 'Length', 'LRPName': 'Object Name','lat':'Z', 'lon':'X'}, inplace = True)\n",
    "\n",
    "# drop unnecessary columns\n",
    "bdf = bdf.drop(['road','km','type','name','structureNr','roadName','EstimatedLoc','constructionYear',\n",
    "                'zone','circle','spans','division','sub-division'],axis=1)\n"
   ]
  },
  {
   "cell_type": "code",
   "execution_count": 10,
   "metadata": {},
   "outputs": [],
   "source": [
    "# select part of dataframe\n",
    "objects = bdf.iloc[0:n,:]\n",
    "\n",
    "# adding source and sink\n",
    "\n",
    "# set model entity\n",
    "model = pd.DataFrame([['ModelEntity','Truck','13.33',23,0,90]],\n",
    "                     columns=['Object Class', 'Object Name', 'InitialDesiredSpeed','Z','Y','X'])\n",
    "\n",
    "# set source\n",
    "source = pd.DataFrame([[ 'Chittagong',df.loc[0,'chainage'],df.loc[0,'lat'],0,df.loc[0,'lon'],'Source','truck',5]],\n",
    "                      columns=['Object Name', 'chainage', 'Z', 'Y','X','Object Class', 'EntityType','InterarrivalTime'])\n",
    "\n",
    "\n",
    "# set sink\n",
    "sink   = pd.DataFrame([[ 'Dhaka',df.loc[len(df)-1,'chainage'],df.loc[len(df)-1,'lat'],0,df.loc[len(df)-1,'lon'],'Sink']],\n",
    "                     columns=['Object Name','chainage','Z','Y','X','Object Class'])\n",
    "\n",
    "\n",
    "# add source and sink to dataframe\n",
    "objects = pd.concat([model, source, objects, sink], axis=0)"
   ]
  },
  {
   "cell_type": "code",
   "execution_count": 11,
   "metadata": {},
   "outputs": [],
   "source": [
    "# Define midpoint of road\n",
    "midX = 90\n",
    "midZ = 23\n",
    "\n",
    "# change and scale X and Z coordinates of road\n",
    "objects['X'] = (objects['X']-midX)*101\n",
    "objects['Z'] = (objects['Z']-midZ)*-111"
   ]
  },
  {
   "cell_type": "code",
   "execution_count": 230,
   "metadata": {
    "collapsed": true
   },
   "outputs": [],
   "source": [
    "# reindex dataframe\n",
    "objects = objects.reset_index(drop=True)"
   ]
  },
  {
   "cell_type": "code",
   "execution_count": 231,
   "metadata": {},
   "outputs": [
    {
     "name": "stdout",
     "output_type": "stream",
     "text": [
      "   EnteredAddOnProcess EntityType InitialDesiredSpeed  InterarrivalTime  \\\n",
      "0                  NaN        NaN               13.33               NaN   \n",
      "1                  NaN      truck                 NaN               5.0   \n",
      "2         SetDelayTime        NaN                 NaN               NaN   \n",
      "3         SetDelayTime        NaN                 NaN               NaN   \n",
      "4         SetDelayTime        NaN                 NaN               NaN   \n",
      "5         SetDelayTime        NaN                 NaN               NaN   \n",
      "6         SetDelayTime        NaN                 NaN               NaN   \n",
      "7         SetDelayTime        NaN                 NaN               NaN   \n",
      "8         SetDelayTime        NaN                 NaN               NaN   \n",
      "9         SetDelayTime        NaN                 NaN               NaN   \n",
      "10        SetDelayTime        NaN                 NaN               NaN   \n",
      "11        SetDelayTime        NaN                 NaN               NaN   \n",
      "12                 NaN        NaN                 NaN               NaN   \n",
      "\n",
      "    Length Object Class Object Name Quality RunInitializedAddOnProcess  \\\n",
      "0      NaN  ModelEntity       Truck     NaN                        NaN   \n",
      "1      NaN       Source  Chittagong     NaN                        NaN   \n",
      "2     11.3       Bridge     LRP001a       A          BreakBridgeOnProp   \n",
      "3      6.6       Bridge     LRP004b       A          BreakBridgeOnProp   \n",
      "4      6.3       Bridge     LRP010b       A          BreakBridgeOnProp   \n",
      "5      6.3       Bridge     LRP010c       A          BreakBridgeOnProp   \n",
      "6      8.3       Bridge     LRP011a       A          BreakBridgeOnProp   \n",
      "7      9.3       Bridge     LRP012a       A          BreakBridgeOnProp   \n",
      "8      6.1       Bridge     LRP012b       A          BreakBridgeOnProp   \n",
      "9     27.5       Bridge     LRP013b       A          BreakBridgeOnProp   \n",
      "10    11.9       Bridge     LRP014a       A          BreakBridgeOnProp   \n",
      "11     6.0       Bridge     LRP020a       A          BreakBridgeOnProp   \n",
      "12     NaN         Sink       Dhaka     NaN                        NaN   \n",
      "\n",
      "             X  Y           Z  chainage  width  \n",
      "0     0.000000  0    0.000000       NaN    NaN  \n",
      "1    44.776633  0   78.369086     0.000    NaN  \n",
      "2    46.344969  0   77.559991     1.800  19.50  \n",
      "3    49.265267  0   77.107686     4.925  35.40  \n",
      "4    54.294982  0   77.077358    10.880  12.20  \n",
      "5    54.308445  0   77.067565    10.897  12.20  \n",
      "6    54.632757  0   76.851977    11.296  21.45  \n",
      "7    55.404411  0   76.413768    12.239  21.00  \n",
      "8    55.413631  0   76.403490    12.253  20.60  \n",
      "9    55.687277  0   76.075180    12.688    NaN  \n",
      "10   56.137763  0   75.236188    13.574  22.40  \n",
      "11   59.960407  0   70.812935    19.760  21.00  \n",
      "12  232.106383  0 -237.216246   462.254    NaN  \n"
     ]
    }
   ],
   "source": [
    "print(objects)"
   ]
  },
  {
   "cell_type": "markdown",
   "metadata": {},
   "source": [
    "## create links sheet"
   ]
  },
  {
   "cell_type": "code",
   "execution_count": 239,
   "metadata": {},
   "outputs": [
    {
     "name": "stdout",
     "output_type": "stream",
     "text": [
      "Truck\n"
     ]
    }
   ],
   "source": []
  },
  {
   "cell_type": "code",
   "execution_count": 253,
   "metadata": {},
   "outputs": [
    {
     "name": "stderr",
     "output_type": "stream",
     "text": [
      "C:\\Users\\Nout\\Anaconda3\\lib\\site-packages\\pandas\\core\\indexing.py:179: SettingWithCopyWarning: \n",
      "A value is trying to be set on a copy of a slice from a DataFrame\n",
      "\n",
      "See the caveats in the documentation: http://pandas.pydata.org/pandas-docs/stable/indexing.html#indexing-view-versus-copy\n",
      "  self._setitem_with_indexer(indexer, value)\n"
     ]
    }
   ],
   "source": [
    "# create empty dataframe\n",
    "links = pd.DataFrame([],columns=['Link Class','Link Name','From Node','To Node','Network','Type','LogicalLength','DrawnToScale'])\n",
    "\n",
    "# set values in frame\n",
    "links['LogicalLength'] = (abs(objects['chainage'].diff())*1000 ).values\n",
    "links['Link Class']    = 'Path'\n",
    "links['DrawnToScale']  = 'False'\n",
    "links['Type']          = 'Unidirectional'\n",
    "links['Network']       = 'Network A'\n",
    "\n",
    "\n",
    "\n",
    "# create paths\n",
    "for i in range(len(objects)-1):\n",
    "    \n",
    "    #print(objects[i]['Name'])\n",
    "    links['Link Name'].iloc[i+1] = (objects.loc[i,'Object Name'] + '_' + objects.loc[i+1,'Object Name'])\n",
    "    links['From Node'].iloc[i+1] = (objects.loc[i,'Object Name'])\n",
    "    links['To Node'].iloc[i+1]   = (objects.loc[i+1,'Object Name'])\n",
    "   \n",
    "\n",
    "# extra formatting\n",
    "links.loc[2,'From Node']          = 'Output@Chittagong' \n",
    "links.loc[len(links)-1,'To Node'] = 'Input@Dhaka'\n",
    "links                             = links.drop(links.index[[0,1]]) "
   ]
  },
  {
   "cell_type": "code",
   "execution_count": 1,
   "metadata": {},
   "outputs": [
    {
     "ename": "NameError",
     "evalue": "name 'links' is not defined",
     "output_type": "error",
     "traceback": [
      "\u001b[1;31m---------------------------------------------------------------------------\u001b[0m",
      "\u001b[1;31mNameError\u001b[0m                                 Traceback (most recent call last)",
      "\u001b[1;32m<ipython-input-1-4832ccd3b64c>\u001b[0m in \u001b[0;36m<module>\u001b[1;34m()\u001b[0m\n\u001b[1;32m----> 1\u001b[1;33m \u001b[0mlinks\u001b[0m\u001b[1;33m\u001b[0m\u001b[0m\n\u001b[0m",
      "\u001b[1;31mNameError\u001b[0m: name 'links' is not defined"
     ]
    }
   ],
   "source": [
    "links"
   ]
  },
  {
   "cell_type": "markdown",
   "metadata": {},
   "source": [
    "## convert to excel"
   ]
  },
  {
   "cell_type": "code",
   "execution_count": 255,
   "metadata": {
    "collapsed": true
   },
   "outputs": [],
   "source": [
    "# open writer object\n",
    "writer = pd.ExcelWriter(savepath, engine='xlsxwriter')\n",
    "\n",
    "# write sheets\n",
    "objects.to_excel(writer, sheet_name='Objects1', index=False)\n",
    "links.to_excel(writer, sheet_name='Links1', index=False)\n",
    "\n",
    "#Close the Pandas Excel writer and output the Excel file.\n",
    "writer.save()"
   ]
  }
 ],
 "metadata": {
  "kernelspec": {
   "display_name": "Python 3",
   "language": "python",
   "name": "python3"
  },
  "language_info": {
   "codemirror_mode": {
    "name": "ipython",
    "version": 3
   },
   "file_extension": ".py",
   "mimetype": "text/x-python",
   "name": "python",
   "nbconvert_exporter": "python",
   "pygments_lexer": "ipython3",
   "version": "3.6.1"
  }
 },
 "nbformat": 4,
 "nbformat_minor": 2
}
