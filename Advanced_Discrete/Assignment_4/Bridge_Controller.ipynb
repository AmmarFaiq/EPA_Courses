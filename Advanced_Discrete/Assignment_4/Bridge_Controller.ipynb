{
 "cells": [
  {
   "cell_type": "markdown",
   "metadata": {},
   "source": [
    "## Bridge Broke Controller"
   ]
  },
  {
   "cell_type": "markdown",
   "metadata": {},
   "source": [
    "### Please Input the desired name of the bridge to be broke !!!"
   ]
  },
  {
   "cell_type": "markdown",
   "metadata": {},
   "source": [
    "####  Sampe bridge name : N1_LRP064c,N1_LRP008a,N1_LRP187a,N1_LRP231c,N1_LRP128b"
   ]
  },
  {
   "cell_type": "code",
   "execution_count": 11,
   "metadata": {},
   "outputs": [
    {
     "name": "stdout",
     "output_type": "stream",
     "text": [
      "\n",
      "      > If more than 1 Bridge, please separate the bridges name by comma!\n",
      "\n",
      "      > Please type zero or leave it blank if do not want to broke the bridge!\n",
      "\n",
      "      > Please refer to Simulation_hours_all_bridges.html file for bridge name !!\n",
      "\n",
      "(+) Please type the bridges name (Case Sensitive): N1_LRP064c,N1_LRP008a,N1_LRP187a,N1_LRP231c,N1_LRP128b\n",
      "\n",
      "N1_LRP064c Bridge is broken now, check next visualization\n",
      "N1_LRP008a Bridge is broken now, check next visualization\n",
      "N1_LRP187a Bridge is broken now, check next visualization\n",
      "N1_LRP231c Bridge is broken now, check next visualization\n",
      "N1_LRP128b Bridge is broken now, check next visualization\n"
     ]
    }
   ],
   "source": [
    "## Please refer to Simulation_hours_all_bridges.html file for bridge name !!\n",
    "#  Sampe bridge name : N1_LRP064c,N1_LRP008a,N1_LRP187a,N1_LRP231c,N1_LRP128b\n",
    "\n",
    "import timeit\n",
    "import pymysql\n",
    "import pymysql.cursors\n",
    "import pandas as pd\n",
    "import numpy as np\n",
    "\n",
    "print('')\n",
    "print('      > If more than 1 Bridge, please separate the bridges name by comma!')\n",
    "print('')\n",
    "print('      > Please type zero or leave it blank if do not want to broke the bridge!')\n",
    "print('')\n",
    "print('      > Please refer to Simulation_hours_all_bridges.html file for bridge name !!')\n",
    "print('')\n",
    "\n",
    "list_bridges = input('(+) Please type the bridges name (Case Sensitive): ')\n",
    "print('')\n",
    "\n",
    "try :\n",
    "    list_bridges = list_bridges.split(',')\n",
    "    \n",
    "    for bridge in list_bridges:\n",
    "        try:\n",
    "            connection = pymysql.connect(host='localhost', user='epa1351user', passwd='xgt65RR##', db='epa1351group5')\n",
    "            curs = connection.cursor()\n",
    "\n",
    "            query_broken = (\"UPDATE epa1351group5.bridgebroken SET `Broken` = 1 WHERE `BridgeName` = \" +\"'\"+bridge+\"';\")\n",
    "            curs.execute(query_broken)\n",
    "            print(bridge,'Bridge is broken now, check next visualization')\n",
    "        except:\n",
    "            print('No Bridge Name ',bridge,' in the database!')\n",
    "\n",
    "except:\n",
    "    if list_bridges == '0' or list_bridges == '' :\n",
    "        print('(!) No Bridge will be broke down in simulation !')\n",
    "        print('')\n",
    "        \n",
    "    else:\n",
    "        print('(x) Please input precise bridge name or check database connection!!')\n",
    "        print('')"
   ]
  },
  {
   "cell_type": "code",
   "execution_count": 8,
   "metadata": {},
   "outputs": [],
   "source": [
    "# UPDATE epa1351group5.bridgebroken SET Broken = 1 WHERE BridgeName = 'N1_LRP008a';\n",
    "# UPDATE epa1351group5.bridgebroken SET Broken = 1 WHERE BridgeName = 'N1_LRP064c';\n",
    "# UPDATE epa1351group5.bridgebroken SET Broken = 1 WHERE BridgeName = 'N1_LRP187a';\n",
    "# UPDATE epa1351group5.bridgebroken SET Broken = 1 WHERE BridgeName = 'N1_LRP231c';\n",
    "# UPDATE epa1351group5.bridgebroken SET Broken = 1 WHERE BridgeName = 'N1_LRP128b';"
   ]
  }
 ],
 "metadata": {
  "kernelspec": {
   "display_name": "Python 3",
   "language": "python",
   "name": "python3"
  },
  "language_info": {
   "codemirror_mode": {
    "name": "ipython",
    "version": 3
   },
   "file_extension": ".py",
   "mimetype": "text/x-python",
   "name": "python",
   "nbconvert_exporter": "python",
   "pygments_lexer": "ipython3",
   "version": "3.6.1"
  }
 },
 "nbformat": 4,
 "nbformat_minor": 2
}
