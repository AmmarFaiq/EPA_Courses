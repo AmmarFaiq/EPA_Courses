{
 "cells": [
  {
   "cell_type": "code",
   "execution_count": 1,
   "metadata": {},
   "outputs": [],
   "source": [
    "%matplotlib inline\n",
    "import os\n",
    "import glob\n",
    "import pandas as pd\n",
    "import numpy as np\n",
    "import matplotlib.pyplot as plt\n",
    "\n",
    "import re\n",
    "import seaborn as sns\n",
    "\n",
    "import shapefile as shp\n",
    "import shapely\n",
    "from shapely.geometry import Point, Polygon\n",
    "#!pip install pyshp"
   ]
  },
  {
   "cell_type": "code",
   "execution_count": 2,
   "metadata": {},
   "outputs": [
    {
     "name": "stdout",
     "output_type": "stream",
     "text": [
      "Total data before drop duplicates: 21407 Data\n",
      "Total data after drop duplicates: 21407 Data\n"
     ]
    }
   ],
   "source": [
    "path ='D:\\Download\\WBSIM_Lab1b\\infrastructure\\BMMS_overview.xlsx'\n",
    "\n",
    "df = pd.read_excel(path,index_col=None, header=0)\n",
    "\n",
    "df_clean_0 = df#.drop_duplicates(subset=['lon','lat'], keep=False)\n",
    "\n",
    "\n",
    "print('Total data before drop duplicates:' ,len(df),'Data')\n",
    "print('Total data after drop duplicates:' ,len(df_clean_0),'Data')"
   ]
  },
  {
   "cell_type": "code",
   "execution_count": 3,
   "metadata": {},
   "outputs": [
    {
     "data": {
      "image/png": "[encoded data removed]",
      "text/plain": [
       "<matplotlib.figure.Figure at 0x1e1b6281fd0>"
      ]
     },
     "metadata": {},
     "output_type": "display_data"
    }
   ],
   "source": [
    "sf0 = shp.Reader(\"D:\\Jupyter_File\\Advanced_Discrete_Cleaning\\WBSIM_Lab1b\\gis\\gadm\\BGD_adm0\")\n",
    "#sf1 = shp.Reader(\"D:\\Jupyter_File\\Advanced_Discrete_Cleaning\\WBSIM_Lab1b\\gis\\gadm\\BGD_adm1\")\n",
    "#sf2 = shp.Reader(\"D:\\Jupyter_File\\Advanced_Discrete_Cleaning\\WBSIM_Lab1b\\gis\\gadm\\BGD_adm2\")\n",
    "#sf3 = shp.Reader(\"D:\\Jupyter_File\\Advanced_Discrete_Cleaning\\WBSIM_Lab1b\\gis\\gadm\\BGD_adm3\")\n",
    "\n",
    "for shape in sf0.shapeRecords():\n",
    "    x = [i[0] for i in shape.shape.points[:]]\n",
    "    y = [i[1] for i in shape.shape.points[:]]\n",
    "    #plt.subplot(221)\n",
    "    plt.scatter(x,y)\n",
    "\n",
    "#for shape in sf1.shapeRecords():\n",
    "   #x = [i[0] for i in shape.shape.points[:]]\n",
    "   #y = [i[1] for i in shape.shape.points[:]]\n",
    "    #plt.subplot(222)\n",
    "   #plt.scatter(x,y)\n",
    "\n",
    "#for shape in sf2.shapeRecords():\n",
    "    #x = [i[0] for i in shape.shape.points[:]]\n",
    "    #y = [i[1] for i in shape.shape.points[:]]\n",
    "    #plt.subplot(223)\n",
    "    #plt.scatter(x,y)\n",
    "\n",
    "#for shape in sf3.shapeRecords():\n",
    "    #x = [i[0] for i in shape.shape.points[:]]\n",
    "    #y = [i[1] for i in shape.shape.points[:]]\n",
    "    #plt.subplot(224)\n",
    "    #plt.scatter(x,y)\n",
    "#plt.subplots_adjust()\n",
    "#plt.figure(15,15)\n",
    "plt.show()"
   ]
  },
  {
   "cell_type": "code",
   "execution_count": 4,
   "metadata": {},
   "outputs": [],
   "source": [
    "# Function to get the shape file value from GIS\n",
    "def convert_shp_to_list (sf,num_name):\n",
    "    \n",
    "    shps_name = sf.records()\n",
    "    shps_coor = [s.points for s in sf.shapes()]\n",
    "    \n",
    "    name_shape = []\n",
    "    coor_shape_lat = []\n",
    "    coor_shape_lon = []\n",
    "    \n",
    "    l = {}\n",
    "    counter = 0\n",
    "    for i in range(len(shps_name)):\n",
    "        name_shape.append(shps_name[i][num_name])\n",
    "        #coor_shape.append(shps_coor[i])\n",
    "        \n",
    "        for a in range(len(shps_coor[i])):\n",
    "            l[counter] = {'Name':name_shape[i],'Longitude':shps_coor[i][a][0],'Latitude':shps_coor[i][a][1]}\n",
    "            coor_shape_lat.append(shps_coor[i][a][1])\n",
    "            coor_shape_lon.append(shps_coor[i][a][0])\n",
    "            \n",
    "            counter = counter+a\n",
    "            \n",
    "        #j = pd.DataFrame(l)\n",
    "        #j = j.transpose()\n",
    "    \n",
    "    return name_shape,shps_coor,coor_shape_lat,coor_shape_lon,l#,j"
   ]
  },
  {
   "cell_type": "code",
   "execution_count": 5,
   "metadata": {},
   "outputs": [],
   "source": [
    "#shape_dataframe0, \n",
    "name_shp0, coor_shp0, coor_shp_lat0, coor_shp_lon0, l = convert_shp_to_list(sf0,2)\n",
    "#shape_dataframe1,\n",
    "#name_shp1, coor_shp1, coor_shp_lat1, coor_shp_lon1, l = convert_shp_to_list(sf1,4)\n",
    "#shape_dataframe2, \n",
    "#name_shp2, coor_shp2, coor_shp_lat2, coor_shp_lon2, l = convert_shp_to_list(sf2,6)\n",
    "#shape_dataframe3, \n",
    "#name_shp3, coor_shp3, coor_shp_lat3, coor_shp_lon3, l = convert_shp_to_list(sf3,8)"
   ]
  },
  {
   "cell_type": "code",
   "execution_count": 6,
   "metadata": {},
   "outputs": [],
   "source": [
    "#df_clean_0[0:circle_indices[0]]['lat'].rolling(window=Win,min_periods=1,center=False)"
   ]
  },
  {
   "cell_type": "code",
   "execution_count": 7,
   "metadata": {},
   "outputs": [
    {
     "name": "stderr",
     "output_type": "stream",
     "text": [
      "D:\\Anaconda\\lib\\site-packages\\ipykernel_launcher.py:2: FutureWarning: 'as_indexer' keyword was specified but is ignored (match now returns a boolean indexer by default), and will be removed in a future version.\n",
      "  \n",
      "D:\\Anaconda\\lib\\site-packages\\ipykernel_launcher.py:3: FutureWarning: 'as_indexer' keyword was specified but is ignored (match now returns a boolean indexer by default), and will be removed in a future version.\n",
      "  This is separate from the ipykernel package so we can avoid doing imports until\n",
      "D:\\Anaconda\\lib\\site-packages\\ipykernel_launcher.py:4: FutureWarning: 'as_indexer' keyword was specified but is ignored (match now returns a boolean indexer by default), and will be removed in a future version.\n",
      "  after removing the cwd from sys.path.\n"
     ]
    },
    {
     "name": "stdout",
     "output_type": "stream",
     "text": [
      "Total N Bridge Data: 4337\n",
      "Total R Bridge Data: 4104\n",
      "Total Z Bridge Data: 12966\n",
      "Total All Bridge Data: 21407\n"
     ]
    }
   ],
   "source": [
    "#Find data that have N,R,Z road name\n",
    "df_N_bridge = df[df['road'].str.match('N',case=True, as_indexer=True)]\n",
    "df_R_bridge = df[df['road'].str.match('R',case=True, as_indexer=True)]\n",
    "df_Z_bridge = df[df['road'].str.match('Z',case=True, as_indexer=True)]\n",
    "\n",
    "# Show summary of information data\n",
    "print('Total N Bridge Data:', len(df_N_bridge))\n",
    "print('Total R Bridge Data:', len(df_R_bridge))\n",
    "print('Total Z Bridge Data:', len(df_Z_bridge))\n",
    "print('Total All Bridge Data:', len(df_N_bridge)+len(df_R_bridge)+len(df_Z_bridge))"
   ]
  },
  {
   "cell_type": "code",
   "execution_count": 8,
   "metadata": {},
   "outputs": [],
   "source": [
    "# Count the number of data based on the road name ('road')\n",
    "#N_bridge_data_counts = df_N_bridge['road'].value_counts()\n",
    "#R_bridge_data_counts = df_R_bridge['road'].value_counts()\n",
    "#Z_bridge_data_counts = df_Z_bridge['road'].value_counts()\n",
    "\n",
    "# Count the how many road are there\n",
    "#Unique_N_bridge = len(N_bridge_data_counts)\n",
    "#Unique_R_bridge = len(R_bridge_data_counts)\n",
    "#Unique_Z_bridge = len(Z_bridge_data_counts)\n",
    "\n",
    "#print('There are','[', Unique_N_bridge,']', 'N Bridge')\n",
    "#print('There are','[', Unique_R_bridge,']', 'R Bridge')\n",
    "#print('There are','[', Unique_Z_bridge,']', 'Z Bridge')"
   ]
  },
  {
   "cell_type": "code",
   "execution_count": 9,
   "metadata": {},
   "outputs": [],
   "source": [
    "#df_Z_bridge.head()"
   ]
  },
  {
   "cell_type": "markdown",
   "metadata": {},
   "source": [
    "## Swapped Lattitude and Longitude data"
   ]
  },
  {
   "cell_type": "code",
   "execution_count": 10,
   "metadata": {},
   "outputs": [
    {
     "data": {
      "text/plain": [
       "15"
      ]
     },
     "execution_count": 10,
     "metadata": {},
     "output_type": "execute_result"
    }
   ],
   "source": [
    "# Count how many swapped values data \n",
    "len(df_clean_0[ (df_clean_0['lat'] > 80)])"
   ]
  },
  {
   "cell_type": "code",
   "execution_count": 11,
   "metadata": {},
   "outputs": [],
   "source": [
    "# Swap the bridge coordinate\n",
    "swapped_bridge_index  = (df_clean_0[(df_clean_0['lat'] > 80)]).index\n",
    "\n",
    "df_clean_0['empty_data'] = 0\n",
    "\n",
    "df_clean_0.loc[swapped_bridge_index,'empty_data'] = (df_clean_0[ (df_clean_0['lat'] > 80)]['lon'])\n",
    "df_clean_0.loc[swapped_bridge_index,'lon'] = (df_clean_0[ (df_clean_0['lat'] > 80)]['lat'])\n",
    "df_clean_0.loc[swapped_bridge_index,'lat'] = (df_clean_0[ (df_clean_0['lat'] > 80)]['empty_data'])\n"
   ]
  },
  {
   "cell_type": "markdown",
   "metadata": {},
   "source": [
    "## Check the bounding box boundaries (BBOX) of Bangladesh"
   ]
  },
  {
   "cell_type": "code",
   "execution_count": 12,
   "metadata": {},
   "outputs": [],
   "source": [
    "# Detecting the extreme outliers outside \"bounding box boundaries\" of the Bangladesh\n",
    "#df_clean_0.loc[((df_clean_0['lat'] > 26.7) | (df_clean_0['lat'] < 20.7)),'empty_data'] = True\n",
    "#df_clean_0.loc[((df_clean_0['lat'] > 26.7) | (df_clean_0['lat'] < 20.7)),'lat'] = np.nan\n",
    "#df_clean_0.loc[((df_clean_0['lon'] > 92.7) | (df_clean_0['lon'] < 88)),'empty_data'] = True\n",
    "#df_clean_0.loc[((df_clean_0['lon'] > 92.7) | (df_clean_0['lon'] < 88)),'lon'] = np.nan"
   ]
  },
  {
   "cell_type": "markdown",
   "metadata": {},
   "source": [
    "## Check the real boundaries of Bangladesh with its geo shapefile"
   ]
  },
  {
   "cell_type": "code",
   "execution_count": 13,
   "metadata": {},
   "outputs": [],
   "source": [
    "# Detecting the outliers outside the real \"boundaries\" of the Bangladesh by creating polygon from the shapefile (GIS BGD_adm0) \n",
    "# and then compare each bridge points whether it is outside of the polygon or not\n",
    "\n",
    "index_error = []\n",
    "coords = coor_shp0[0]\n",
    "poly = Polygon(coords)\n",
    "\n",
    "for i in range(len(df_clean_0)):\n",
    "    # Create Point objects\n",
    "    point_check = Point(df_clean_0['lon'][i], df_clean_0['lat'][i])\n",
    "    #for a in range(len(coor_shp0)):\n",
    "    if not(point_check.within(poly)):\n",
    "        index_error.append(i)"
   ]
  },
  {
   "cell_type": "code",
   "execution_count": 14,
   "metadata": {},
   "outputs": [
    {
     "data": {
      "text/plain": [
       "[355, 356, 357, 358, 359, 360, 370, 371, 373, 374, 375, 376, 377, 378, 380]"
      ]
     },
     "execution_count": 14,
     "metadata": {},
     "output_type": "execute_result"
    }
   ],
   "source": [
    "index_error[0:15]"
   ]
  },
  {
   "cell_type": "code",
   "execution_count": 15,
   "metadata": {},
   "outputs": [
    {
     "name": "stderr",
     "output_type": "stream",
     "text": [
      "D:\\Anaconda\\lib\\site-packages\\ipykernel_launcher.py:1: DeprecationWarning: \n",
      ".ix is deprecated. Please use\n",
      ".loc for label based indexing or\n",
      ".iloc for positional indexing\n",
      "\n",
      "See the documentation here:\n",
      "http://pandas.pydata.org/pandas-docs/stable/indexing.html#deprecate_ix\n",
      "  \"\"\"Entry point for launching an IPython kernel.\n"
     ]
    }
   ],
   "source": [
    "df_clean_0.ix[index_error,'empty_data'] = True\n",
    "df_clean_0.ix[index_error,'lat'] = np.nan\n",
    "df_clean_0.ix[index_error,'lon'] = np.nan"
   ]
  },
  {
   "cell_type": "code",
   "execution_count": null,
   "metadata": {},
   "outputs": [],
   "source": []
  },
  {
   "cell_type": "markdown",
   "metadata": {},
   "source": [
    "## Smoothing with Mean and Standard Deviation"
   ]
  },
  {
   "cell_type": "code",
   "execution_count": 16,
   "metadata": {},
   "outputs": [
    {
     "name": "stdout",
     "output_type": "stream",
     "text": [
      "amount of errative longitude values found:  1\n",
      "amount of errative lattitude values found:  4\n"
     ]
    }
   ],
   "source": [
    "# Smoothing some of the coordinates by mean and standard deviation of the name of division\n",
    "\n",
    "df_clean_0.sort_values(by=['division'])\n",
    "Circle_data_counts = df_clean_0['division'].value_counts()\n",
    "#Circle_data_counts\n",
    "\n",
    "ErLat = []\n",
    "ErLon = []\n",
    "Threshold = 4\n",
    "ep = 0\n",
    "\n",
    "for i in range(len(Circle_data_counts)):\n",
    "    \n",
    "    sp = ep\n",
    "    ep = ep + Circle_data_counts[i]\n",
    "    \n",
    "    roadFrame = df_clean_0[sp:ep]\n",
    "    \n",
    "    meanLat = roadFrame['lat'].mean()\n",
    "    meanLon = roadFrame['lon'].mean()\n",
    "    \n",
    "    stdLat = roadFrame['lat'].std()\n",
    "    stdLon = roadFrame['lon'].std()\n",
    "    \n",
    "    ErrorLat = (roadFrame['lat'] > (meanLat + stdLat*Threshold)) | (roadFrame['lat'] < (meanLat - stdLat*Threshold))\n",
    "    ErrorLon = (roadFrame['lon'] > (meanLon + stdLon*Threshold)) | (roadFrame['lon'] < (meanLon - stdLon*Threshold))\n",
    "    \n",
    "    ErrorIndexLat = roadFrame[ErrorLat].index\n",
    "    ErrorIndexLon = roadFrame[ErrorLon].index\n",
    "    \n",
    "    ErLat.append(ErrorIndexLat)\n",
    "    ErLon.append(ErrorIndexLon)\n",
    "    \n",
    "ErLonList = [y for x in ErLon for y in x]\n",
    "ErLatList = [y for x in ErLat for y in x]\n",
    "print('amount of errative longitude values found: ', len(ErLonList))\n",
    "print('amount of errative lattitude values found: ', len(ErLatList))\n",
    "\n",
    "# replace errative parts with NaN\n",
    "df_clean_0.loc[ErLonList,'lon'] = np.nan\n",
    "df_clean_0.loc[ErLatList,'lat'] = np.nan"
   ]
  },
  {
   "cell_type": "markdown",
   "metadata": {},
   "source": [
    "## Interpolate all outliers"
   ]
  },
  {
   "cell_type": "code",
   "execution_count": 17,
   "metadata": {},
   "outputs": [],
   "source": [
    "# interpolate longitude and latitude with nearest method\n",
    "\n",
    "df_clean_0['lon'] = df_clean_0['lon'].interpolate(method='nearest')\n",
    "df_clean_0['lat'] = df_clean_0['lat'].interpolate(method='nearest')"
   ]
  },
  {
   "cell_type": "markdown",
   "metadata": {},
   "source": [
    "## Pull the bridges coordinates into the \"clean\" road "
   ]
  },
  {
   "cell_type": "code",
   "execution_count": 18,
   "metadata": {},
   "outputs": [],
   "source": [
    "#path = 'D:\\Jupyter_File\\Advanced_Discrete_Cleaning\\WBSIM_Lab1b\\infrastructure\\_roads2.csv'\n",
    "#df_road = pd.read_csv(path,index_col=None, header=0)"
   ]
  },
  {
   "cell_type": "code",
   "execution_count": 19,
   "metadata": {},
   "outputs": [],
   "source": [
    "#df_road.sort_values(by=['road'])\n",
    "#road_data_counts = df_road['road'].value_counts()\n"
   ]
  },
  {
   "cell_type": "markdown",
   "metadata": {},
   "source": [
    "## convert to xlxs file"
   ]
  },
  {
   "cell_type": "code",
   "execution_count": 20,
   "metadata": {},
   "outputs": [],
   "source": [
    "writer = pd.ExcelWriter('BMMS_overview.xlsx', engine='xlsxwriter')\n",
    "\n",
    "#Convert the dataframe to an XlsxWriter Excel object.\n",
    "df_clean_0.to_excel(writer, sheet_name='BMMS_overview')\n",
    "\n",
    "#Close the Pandas Excel writer and output the Excel file.\n",
    "writer.save()"
   ]
  }
 ],
 "metadata": {
  "kernelspec": {
   "display_name": "Python 3",
   "language": "python",
   "name": "python3"
  },
  "language_info": {
   "codemirror_mode": {
    "name": "ipython",
    "version": 3
   },
   "file_extension": ".py",
   "mimetype": "text/x-python",
   "name": "python",
   "nbconvert_exporter": "python",
   "pygments_lexer": "ipython3",
   "version": "3.6.1"
  }
 },
 "nbformat": 4,
 "nbformat_minor": 2
}
