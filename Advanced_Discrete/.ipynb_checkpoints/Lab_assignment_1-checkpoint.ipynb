{
 "cells": [
  {
   "cell_type": "markdown",
   "metadata": {},
   "source": [
    "# Lab Assignment 1: Data Cleaning"
   ]
  },
  {
   "cell_type": "code",
   "execution_count": 56,
   "metadata": {
    "collapsed": true
   },
   "outputs": [],
   "source": [
    "%matplotlib inline\n",
    "import os\n",
    "import glob\n",
    "import pandas as pd\n",
    "import numpy as np\n",
    "import matplotlib.pyplot as plt\n",
    "import matplotlib as mpl\n",
    "import timeit\n",
    "import pylab \n",
    "\n",
    "import re\n",
    "import seaborn as sns\n",
    "\n",
    "#!pip install datacleaner\n",
    "#def natural_sort(l): \n",
    " #   convert = lambda text: int(text) if text.isdigit() else text.lower() \n",
    " #   alphanum_key = lambda key: [ convert(c) for c in re.split('([0-9]+)', key) ] \n",
    " #   return sorted(l, key = alphanum_key)"
   ]
  },
  {
   "cell_type": "markdown",
   "metadata": {},
   "source": [
    "# Loading and sorting road data"
   ]
  },
  {
   "cell_type": "code",
   "execution_count": 57,
   "metadata": {},
   "outputs": [
    {
     "name": "stdout",
     "output_type": "stream",
     "text": [
      "Total data before drop duplicates: 52210 Data\n",
      "Total data after drop duplicates: 51706 Data\n"
     ]
    }
   ],
   "source": [
    "path ='D:\\Jupyter_File\\Advanced_Discrete_Cleaning\\_roads2.csv'\n",
    "\n",
    "df = pd.read_csv(path,index_col=None, header=0)\n",
    "\n",
    "df_clean_0 = df.drop_duplicates(subset=['lon','lat','chainage'], keep=False)\n",
    "\n",
    "print('Total data before drop duplicates:' ,len(df),'Data')\n",
    "print('Total data after drop duplicates:' ,len(df_clean_0),'Data')"
   ]
  },
  {
   "cell_type": "markdown",
   "metadata": {},
   "source": [
    "#  Delete roads with length 1"
   ]
  },
  {
   "cell_type": "code",
   "execution_count": 58,
   "metadata": {},
   "outputs": [
    {
     "data": {
      "text/plain": [
       "N125    1\n",
       "N126    1\n",
       "R316    1\n",
       "Name: road, dtype: int64"
      ]
     },
     "execution_count": 58,
     "metadata": {},
     "output_type": "execute_result"
    }
   ],
   "source": [
    "road_indices = df_clean_0['road'].value_counts().sort_index()\n",
    "road_indices[(road_indices < 2)]"
   ]
  },
  {
   "cell_type": "code",
   "execution_count": 59,
   "metadata": {},
   "outputs": [
    {
     "name": "stdout",
     "output_type": "stream",
     "text": [
      "Total N Roads Data: 9722\n",
      "Total R Roads Data: 9831\n",
      "Total Z Roads Data: 32153\n",
      "Total All Roads Data: 51706\n"
     ]
    }
   ],
   "source": [
    "#Find data that have N,R,Z road name\n",
    "df_N_road = df_clean_0[df_clean_0['road'].str.match('N',case=True, as_indexer=True)]\n",
    "df_R_road = df_clean_0[df_clean_0['road'].str.match('R',case=True, as_indexer=True)]\n",
    "df_Z_road = df_clean_0[df_clean_0['road'].str.match('Z',case=True, as_indexer=True)]\n",
    "\n",
    "# Sort the dataframe based on values\n",
    "df_N_road.sort_values(by=['road'])\n",
    "df_R_road.sort_values(by=['road'])\n",
    "df_Z_road.sort_values(by=['road'])\n",
    "\n",
    "# Show summary of information data\n",
    "print('Total N Roads Data:', len(df_N_road))\n",
    "print('Total R Roads Data:', len(df_R_road))\n",
    "print('Total Z Roads Data:', len(df_Z_road))\n",
    "print('Total All Roads Data:', len(df_N_road)+len(df_R_road)+len(df_Z_road))"
   ]
  },
  {
   "cell_type": "code",
   "execution_count": 60,
   "metadata": {},
   "outputs": [
    {
     "name": "stdout",
     "output_type": "stream",
     "text": [
      "There are [ 95 ] N roads\n",
      "There are [ 125 ] R roads\n",
      "There are [ 656 ] Z roads\n"
     ]
    }
   ],
   "source": [
    "# Count the number of data based on the road name ('road')\n",
    "N_road_data_counts = df_N_road['road'].value_counts().sort_index()\n",
    "R_road_data_counts = df_R_road['road'].value_counts().sort_index()\n",
    "Z_road_data_counts = df_Z_road['road'].value_counts().sort_index()\n",
    "\n",
    "# Count the how many road are there\n",
    "Unique_N_road = len(N_road_data_counts)\n",
    "Unique_R_road = len(R_road_data_counts)\n",
    "Unique_Z_road = len(Z_road_data_counts)\n",
    "\n",
    "print('There are','[', Unique_N_road,']', 'N roads')\n",
    "print('There are','[', Unique_R_road,']', 'R roads')\n",
    "print('There are','[', Unique_Z_road,']', 'Z roads')"
   ]
  },
  {
   "cell_type": "markdown",
   "metadata": {},
   "source": [
    "# Loop for detecting errative Lat and Lon values"
   ]
  },
  {
   "cell_type": "code",
   "execution_count": 61,
   "metadata": {},
   "outputs": [
    {
     "name": "stdout",
     "output_type": "stream",
     "text": [
      "10.460364246913741\n"
     ]
    }
   ],
   "source": [
    "# create indices matrix\n",
    "road_indices = []\n",
    "road_indices.append(N_road_data_counts)\n",
    "road_indices.append(R_road_data_counts)\n",
    "road_indices.append(Z_road_data_counts)\n",
    "road_indices = [y for x in road_indices for y in x]\n",
    "\n",
    "# set filtering variables\n",
    "Win       = 20  # size of moving average window\n",
    "threshold = 3   # maximum allowed strandard deviation difference\n",
    "maxIter   = 6   # maximum amount of iteration steps allowed per road\n",
    "\n",
    "# create empty lists\n",
    "ErLat = []\n",
    "ErLon = []\n",
    "\n",
    "# starting endpoint\n",
    "ep = 0\n",
    "\n",
    "# define list of errors\n",
    "outliers = []\n",
    "\n",
    "# time calculation time\n",
    "start = timeit.default_timer()\n",
    "\n",
    "# loop for al N roads\n",
    "for i in range(len(road_indices)):\n",
    "    \n",
    "    # startpoint\n",
    "    sp = ep\n",
    "    ep = ep + road_indices[i]\n",
    "    \n",
    "    # selecting data\n",
    "    roadFrame = df_clean_0[sp:ep]\n",
    "    \n",
    "    # reset check value\n",
    "    check = 0\n",
    "    \n",
    "    # continuously solving more points\n",
    "    while (check < maxIter ): # maximum 4 iterations allowed\n",
    "\n",
    "        # rolling standard deviation of lat and lon\n",
    "        stdLat = roadFrame['lat'].rolling(window=Win,min_periods=1,center=False).std()\n",
    "        stdLon = roadFrame['lon'].rolling(window=Win,min_periods=1,center=False).std()\n",
    "\n",
    "        # moving average\n",
    "        meanLat = roadFrame['lat'].rolling(window=Win,min_periods=1,center=False).mean()\n",
    "        meanLon = roadFrame['lon'].rolling(window=Win,min_periods=1,center=False).mean()\n",
    "\n",
    "        # determine correct values (Boolean)\n",
    "        ErrorLat = abs(roadFrame['lat'] - meanLat) > threshold * stdLat\n",
    "        ErrorLon = abs(roadFrame['lon'] - meanLon) > threshold * stdLon\n",
    "\n",
    "        # determine if dataset is correct or not\n",
    "        if (sum(ErrorLat) + sum(ErrorLon) == 0): # end while loop \n",
    "            check = 100\n",
    "        else:\n",
    "            # errorindices\n",
    "            ErrorIndexLat = roadFrame[ErrorLat].index\n",
    "            ErrorIndexLon = roadFrame[ErrorLon].index\n",
    "            \n",
    "            # append error indices to list\n",
    "            ErLat.append(ErrorIndexLat)\n",
    "            ErLon.append(ErrorIndexLon)\n",
    "            \n",
    "            # select new dataframe without errative values for next iteration\n",
    "            roadFrame = roadFrame[(~ErrorLat) & (~ErrorLon)]\n",
    "            \n",
    "            # set check counter\n",
    "            check = check + 1\n",
    "    \n",
    "stop = timeit.default_timer()\n",
    "\n",
    "print(stop-start)"
   ]
  },
  {
   "cell_type": "code",
   "execution_count": null,
   "metadata": {
    "collapsed": true
   },
   "outputs": [],
   "source": [
    "def linearly_interpolate_nans(y):\n",
    "    # Fit a linear regression to the non-nan y values\n",
    "\n",
    "    # Create X matrix for linreg with an intercept and an index\n",
    "    X = np.vstack((np.ones(len(y)), np.arange(len(y))))\n",
    "\n",
    "    # Get the non-NaN values of X and y\n",
    "    X_fit = X[:, ~np.isnan(y)]\n",
    "    y_fit = y[~np.isnan(y)].reshape(-1, 1)\n",
    "\n",
    "    # Estimate the coefficients of the linear regression\n",
    "    beta = np.linalg.lstsq(X_fit.T, y_fit)[0]\n",
    "\n",
    "    # Fill in all the nan values using the predicted coefficients\n",
    "    y.flat[np.isnan(y)] = np.dot(X[:, np.isnan(y)].T, beta)\n",
    "    \n",
    "    #bridge['Status'][i] = 'Interchange'\n",
    "    \n",
    "    return y"
   ]
  },
  {
   "cell_type": "code",
   "execution_count": 62,
   "metadata": {},
   "outputs": [
    {
     "data": {
      "text/plain": [
       "<matplotlib.legend.Legend at 0x24c0a9b5c88>"
      ]
     },
     "execution_count": 62,
     "metadata": {},
     "output_type": "execute_result"
    },
    {
     "data": {
      "image/png": "[encoded data removed]",
      "text/plain": [
       "<matplotlib.figure.Figure at 0x24c0a5fbb70>"
      ]
     },
     "metadata": {},
     "output_type": "display_data"
    }
   ],
   "source": [
    "meanLat = df_clean_0[0:1338]['lat'].rolling(window=Win,min_periods=1,center=False).mean()\n",
    "meanLon = df_clean_0[0:1338]['lon'].rolling(window=Win,min_periods=1,center=False).mean()\n",
    "\n",
    "#colors = mpl.cm.rainbow(np.linspace(0, 1, len(N_road_data_counts)))\n",
    "fig, ax = plt.subplots()\n",
    "ax.plot(df_clean_0[0:1338]['lon'],df_clean_0[0:1338]['lat'],'r',label='Original Data')\n",
    "ax.plot(meanLon,meanLat,color='b',label='Moving Average')\n",
    "\n",
    "pylab.legend(loc='upper right')\n"
   ]
  },
  {
   "cell_type": "markdown",
   "metadata": {},
   "source": [
    "# Replace errative values with NaN"
   ]
  },
  {
   "cell_type": "code",
   "execution_count": 63,
   "metadata": {},
   "outputs": [
    {
     "name": "stdout",
     "output_type": "stream",
     "text": [
      "amount of errative longitude values found:  1150\n",
      "amount of errative lattitude values found:  1184\n"
     ]
    },
    {
     "name": "stderr",
     "output_type": "stream",
     "text": [
      "C:\\Program Files\\Anaconda3\\lib\\site-packages\\pandas\\core\\indexing.py:477: SettingWithCopyWarning:\n",
      "\n",
      "\n",
      "A value is trying to be set on a copy of a slice from a DataFrame.\n",
      "Try using .loc[row_indexer,col_indexer] = value instead\n",
      "\n",
      "See the caveats in the documentation: http://pandas.pydata.org/pandas-docs/stable/indexing.html#indexing-view-versus-copy\n",
      "\n"
     ]
    }
   ],
   "source": [
    "# create complete list with errors\n",
    "ErLonList = [y for x in ErLon for y in x]\n",
    "ErLatList = [y for x in ErLat for y in x]\n",
    "print('amount of errative longitude values found: ', len(ErLonList))\n",
    "print('amount of errative lattitude values found: ', len(ErLatList))\n",
    "\n",
    "# replace errative parts with NaN\n",
    "df_clean_0.loc[ErLonList,'lon'] = float('NaN')\n",
    "df_clean_0.loc[ErLatList,'lat'] = float('NaN')"
   ]
  },
  {
   "cell_type": "code",
   "execution_count": 64,
   "metadata": {},
   "outputs": [
    {
     "data": {
      "text/plain": [
       "<matplotlib.axes._subplots.AxesSubplot at 0x24c08151e10>"
      ]
     },
     "execution_count": 64,
     "metadata": {},
     "output_type": "execute_result"
    },
    {
     "data": {
      "image/png": "[encoded data removed]",
      "text/plain": [
       "<matplotlib.figure.Figure at 0x24c0820cb00>"
      ]
     },
     "metadata": {},
     "output_type": "display_data"
    }
   ],
   "source": [
    "# plot filtered data\n",
    "#Find data that have N,R,Z road name\n",
    "df_N_road = df_clean_0[df_clean_0['road'].str.match('N',case=True, as_indexer=True)]\n",
    "df_R_road = df_clean_0[df_clean_0['road'].str.match('R',case=True, as_indexer=True)]\n",
    "df_Z_road = df_clean_0[df_clean_0['road'].str.match('Z',case=True, as_indexer=True)]\n",
    "\n",
    "# Sort the dataframe based on values\n",
    "df_N_road.sort_values(by=['road'])\n",
    "df_R_road.sort_values(by=['road'])\n",
    "df_Z_road.sort_values(by=['road'])\n",
    "\n",
    "\n",
    "# plot N roads\n",
    "df_N_road.plot.scatter(x='lon',y='lat')"
   ]
  },
  {
   "cell_type": "code",
   "execution_count": 65,
   "metadata": {},
   "outputs": [
    {
     "data": {
      "text/plain": [
       "<matplotlib.axes._subplots.AxesSubplot at 0x24c081fbf28>"
      ]
     },
     "execution_count": 65,
     "metadata": {},
     "output_type": "execute_result"
    },
    {
     "data": {
      "image/png": "[encoded data removed]",
      "text/plain": [
       "<matplotlib.figure.Figure at 0x24c080cb630>"
      ]
     },
     "metadata": {},
     "output_type": "display_data"
    }
   ],
   "source": [
    "# plot filtered data\n",
    "df_R_road.plot.scatter(x='lon',y='lat')"
   ]
  },
  {
   "cell_type": "code",
   "execution_count": 66,
   "metadata": {},
   "outputs": [
    {
     "data": {
      "text/plain": [
       "<matplotlib.axes._subplots.AxesSubplot at 0x24c0a94abe0>"
      ]
     },
     "execution_count": 66,
     "metadata": {},
     "output_type": "execute_result"
    },
    {
     "data": {
      "image/png": "[encoded data removed]",
      "text/plain": [
       "<matplotlib.figure.Figure at 0x24c0a5fba20>"
      ]
     },
     "metadata": {},
     "output_type": "display_data"
    }
   ],
   "source": [
    "# plot filtered data\n",
    "df_Z_road.plot.scatter(x='lon',y='lat')"
   ]
  },
  {
   "cell_type": "markdown",
   "metadata": {},
   "source": [
    "# Save data back to CSV (not finished)"
   ]
  },
  {
   "cell_type": "code",
   "execution_count": 67,
   "metadata": {},
   "outputs": [
    {
     "data": {
      "image/png": "[encoded data removed]",
      "text/plain": [
       "<matplotlib.figure.Figure at 0x24c0cc2be10>"
      ]
     },
     "metadata": {},
     "output_type": "display_data"
    }
   ],
   "source": [
    "ep = 0\n",
    "colors = mpl.cm.rainbow(np.linspace(0, 1, len(N_road_data_counts)))\n",
    "fig, ax = plt.subplots()\n",
    "for i in range(len(N_road_data_counts)):\n",
    "    \n",
    "    # startpoint\n",
    "    sp = ep\n",
    "    ep = ep + N_road_data_counts[i]\n",
    "    \n",
    "    # selecting data\n",
    "    df_N_road = df_clean_0[df_clean_0['road'].str.match('N',case=True, as_indexer=True)]\n",
    "    df_N_road1 = df_N_road[sp:ep]\n",
    "    #roadFrame = df_clean_0[sp:ep]\n",
    "    \n",
    "    # reset check value\n",
    "    ax.plot(df_N_road1['lon'],df_N_road1['lat'],color=colors[i])\n",
    "    #df_N_road1.plot(x='lon',y='lat',colours[i])\n",
    "    #plt.show()\n",
    "    plt.title('N roads network of Bangladesh')\n",
    "    plt.xlabel('Longitude')\n",
    "    plt.ylabel('Lattitude')\n",
    "    "
   ]
  },
  {
   "cell_type": "code",
   "execution_count": 69,
   "metadata": {},
   "outputs": [
    {
     "name": "stderr",
     "output_type": "stream",
     "text": [
      "C:\\Program Files\\Anaconda3\\lib\\site-packages\\ipykernel\\__main__.py:1: SettingWithCopyWarning:\n",
      "\n",
      "\n",
      "A value is trying to be set on a copy of a slice from a DataFrame.\n",
      "Try using .loc[row_indexer,col_indexer] = value instead\n",
      "\n",
      "See the caveats in the documentation: http://pandas.pydata.org/pandas-docs/stable/indexing.html#indexing-view-versus-copy\n",
      "\n"
     ]
    }
   ],
   "source": [
    "df_clean_0['Outliers'] = df_clean_0.isnull().any(axis=1)"
   ]
  },
  {
   "cell_type": "code",
   "execution_count": 74,
   "metadata": {},
   "outputs": [],
   "source": [
    "df_clean_0 = df_clean_0.interpolate()"
   ]
  },
  {
   "cell_type": "code",
   "execution_count": 77,
   "metadata": {},
   "outputs": [
    {
     "data": {
      "text/html": [
       "<div>\n",
       "<table border=\"1\" class=\"dataframe\">\n",
       "  <thead>\n",
       "    <tr style=\"text-align: right;\">\n",
       "      <th></th>\n",
       "      <th>road</th>\n",
       "      <th>chainage</th>\n",
       "      <th>lrp</th>\n",
       "      <th>lat</th>\n",
       "      <th>lon</th>\n",
       "      <th>type</th>\n",
       "      <th>name</th>\n",
       "      <th>Outliers</th>\n",
       "    </tr>\n",
       "  </thead>\n",
       "  <tbody>\n",
       "    <tr>\n",
       "      <th>69</th>\n",
       "      <td>N1</td>\n",
       "      <td>27.503</td>\n",
       "      <td>LRP027a</td>\n",
       "      <td>23.586222</td>\n",
       "      <td>90.636944</td>\n",
       "      <td>Bridge</td>\n",
       "      <td>Bridge start</td>\n",
       "      <td>True</td>\n",
       "    </tr>\n",
       "    <tr>\n",
       "      <th>135</th>\n",
       "      <td>N1</td>\n",
       "      <td>53.269</td>\n",
       "      <td>LRP054</td>\n",
       "      <td>23.521115</td>\n",
       "      <td>90.851389</td>\n",
       "      <td>KmPost</td>\n",
       "      <td>Km post Missing</td>\n",
       "      <td>True</td>\n",
       "    </tr>\n",
       "    <tr>\n",
       "      <th>136</th>\n",
       "      <td>N1</td>\n",
       "      <td>54.269</td>\n",
       "      <td>LRP055</td>\n",
       "      <td>23.519063</td>\n",
       "      <td>90.860778</td>\n",
       "      <td>KmPost</td>\n",
       "      <td>Km post Missing</td>\n",
       "      <td>True</td>\n",
       "    </tr>\n",
       "    <tr>\n",
       "      <th>137</th>\n",
       "      <td>N1</td>\n",
       "      <td>55.269</td>\n",
       "      <td>LRP056</td>\n",
       "      <td>23.517012</td>\n",
       "      <td>90.869777</td>\n",
       "      <td>KmPost</td>\n",
       "      <td>Km post Missing</td>\n",
       "      <td>True</td>\n",
       "    </tr>\n",
       "    <tr>\n",
       "      <th>138</th>\n",
       "      <td>N1</td>\n",
       "      <td>55.333</td>\n",
       "      <td>LRP056a</td>\n",
       "      <td>23.514960</td>\n",
       "      <td>90.870305</td>\n",
       "      <td>Bridge</td>\n",
       "      <td>Bridge start</td>\n",
       "      <td>True</td>\n",
       "    </tr>\n",
       "  </tbody>\n",
       "</table>\n",
       "</div>"
      ],
      "text/plain": [
       "    road  chainage      lrp        lat        lon    type             name  \\\n",
       "69    N1    27.503  LRP027a  23.586222  90.636944  Bridge     Bridge start   \n",
       "135   N1    53.269   LRP054  23.521115  90.851389  KmPost  Km post Missing   \n",
       "136   N1    54.269   LRP055  23.519063  90.860778  KmPost  Km post Missing   \n",
       "137   N1    55.269   LRP056  23.517012  90.869777  KmPost  Km post Missing   \n",
       "138   N1    55.333  LRP056a  23.514960  90.870305  Bridge     Bridge start   \n",
       "\n",
       "    Outliers  \n",
       "69      True  \n",
       "135     True  \n",
       "136     True  \n",
       "137     True  \n",
       "138     True  "
      ]
     },
     "execution_count": 77,
     "metadata": {},
     "output_type": "execute_result"
    }
   ],
   "source": [
    "df_clean_0[df_clean_0['Outliers'] == True].head()"
   ]
  },
  {
   "cell_type": "code",
   "execution_count": 81,
   "metadata": {},
   "outputs": [
    {
     "data": {
      "text/plain": [
       "<matplotlib.axes._subplots.AxesSubplot at 0x24c0cc3b390>"
      ]
     },
     "execution_count": 81,
     "metadata": {},
     "output_type": "execute_result"
    },
    {
     "data": {
      "image/png": "[encoded data removed]",
      "text/plain": [
       "<matplotlib.figure.Figure at 0x24c0ca20828>"
      ]
     },
     "metadata": {},
     "output_type": "display_data"
    }
   ],
   "source": [
    "df_clean_0[0:1338].plot.scatter(x='lon',y='lat')"
   ]
  },
  {
   "cell_type": "code",
   "execution_count": 82,
   "metadata": {},
   "outputs": [
    {
     "data": {
      "text/plain": [
       "<matplotlib.axes._subplots.AxesSubplot at 0x24c0cab8470>"
      ]
     },
     "execution_count": 82,
     "metadata": {},
     "output_type": "execute_result"
    },
    {
     "data": {
      "image/png": "[encoded data removed]",
      "text/plain": [
       "<matplotlib.figure.Figure at 0x24c0caca908>"
      ]
     },
     "metadata": {},
     "output_type": "display_data"
    }
   ],
   "source": [
    "df_N_road[0:1338].plot.scatter(x='lon',y='lat')"
   ]
  },
  {
   "cell_type": "code",
   "execution_count": 157,
   "metadata": {},
   "outputs": [
    {
     "data": {
      "text/html": [
       "<div>\n",
       "<table border=\"1\" class=\"dataframe\">\n",
       "  <thead>\n",
       "    <tr style=\"text-align: right;\">\n",
       "      <th></th>\n",
       "      <th>road</th>\n",
       "      <th>N road &gt; 100</th>\n",
       "    </tr>\n",
       "  </thead>\n",
       "  <tbody>\n",
       "    <tr>\n",
       "      <th>0</th>\n",
       "      <td>N1</td>\n",
       "      <td>1.0</td>\n",
       "    </tr>\n",
       "    <tr>\n",
       "      <th>1</th>\n",
       "      <td>N101</td>\n",
       "      <td>0.0</td>\n",
       "    </tr>\n",
       "    <tr>\n",
       "      <th>2</th>\n",
       "      <td>N102</td>\n",
       "      <td>1.0</td>\n",
       "    </tr>\n",
       "    <tr>\n",
       "      <th>3</th>\n",
       "      <td>N103</td>\n",
       "      <td>0.0</td>\n",
       "    </tr>\n",
       "    <tr>\n",
       "      <th>4</th>\n",
       "      <td>N104</td>\n",
       "      <td>1.0</td>\n",
       "    </tr>\n",
       "  </tbody>\n",
       "</table>\n",
       "</div>"
      ],
      "text/plain": [
       "   road  N road > 100\n",
       "0    N1           1.0\n",
       "1  N101           0.0\n",
       "2  N102           1.0\n",
       "3  N103           0.0\n",
       "4  N104           1.0"
      ]
     },
     "execution_count": 157,
     "metadata": {},
     "output_type": "execute_result"
    }
   ],
   "source": [
    "dk = pd.DataFrame()\n",
    "dk = dk.append(df_N_road['road'].value_counts()>100)\n",
    "dk = dk.transpose()\n",
    "dk = dk.reset_index()\n",
    "dk = dk.rename(index=str, columns={\"road\": \"N road > 100\",\"index\":\"road\"})\n",
    "dk.head()\n"
   ]
  },
  {
   "cell_type": "code",
   "execution_count": 158,
   "metadata": {
    "collapsed": true
   },
   "outputs": [],
   "source": [
    "outliers = []"
   ]
  },
  {
   "cell_type": "code",
   "execution_count": 159,
   "metadata": {},
   "outputs": [
    {
     "name": "stdout",
     "output_type": "stream",
     "text": [
      "[(3, 4, 5)]\n"
     ]
    }
   ],
   "source": [
    "errors = 3, 4, 5\n",
    "outliers.append(errors)\n",
    "print(outliers)"
   ]
  },
  {
   "cell_type": "code",
   "execution_count": 160,
   "metadata": {},
   "outputs": [
    {
     "data": {
      "text/plain": [
       "<matplotlib.axes._subplots.AxesSubplot at 0x1d678249c88>"
      ]
     },
     "execution_count": 160,
     "metadata": {},
     "output_type": "execute_result"
    },
    {
     "data": {
      "image/png": "[encoded data removed]",
      "text/plain": [
       "<matplotlib.figure.Figure at 0x1d6750764e0>"
      ]
     },
     "metadata": {},
     "output_type": "display_data"
    }
   ],
   "source": [
    "# define start and endpositions\n",
    "startpoint = 0\n",
    "endpoint  = 1338\n",
    "threshold = 4 # amounts of allowed sigma deviation from mean\n",
    "window    = 20 # size of window for moving average/mean\n",
    "\n",
    "\n",
    "\n",
    "\n",
    "# create dataframe and plot original data\n",
    "testframe = df_N_road[startpoint:endpoint]\n",
    "\n",
    "\n",
    "testframe.plot(x = 'lon', y = 'lat')\n"
   ]
  },
  {
   "cell_type": "markdown",
   "metadata": {},
   "source": [
    "## interpolation"
   ]
  },
  {
   "cell_type": "code",
   "execution_count": 161,
   "metadata": {},
   "outputs": [
    {
     "name": "stdout",
     "output_type": "stream",
     "text": [
      "0\n",
      "Series([], Name: lat, dtype: float64)\n",
      "Series([], Name: lat, dtype: float64)\n",
      "Series([], Name: lat, dtype: float64)\n",
      "Series([], Name: lat, dtype: float64)\n"
     ]
    },
    {
     "name": "stderr",
     "output_type": "stream",
     "text": [
      "C:\\Users\\Marti\\Anaconda3\\lib\\site-packages\\ipykernel\\__main__.py:2: FutureWarning: pd.rolling_mean is deprecated for Series and will be removed in a future version, replace with \n",
      "\tSeries.rolling(window=20,min_periods=1,center=False).mean()\n",
      "  from ipykernel import kernelapp as app\n",
      "C:\\Users\\Marti\\Anaconda3\\lib\\site-packages\\ipykernel\\__main__.py:3: FutureWarning: pd.rolling_mean is deprecated for Series and will be removed in a future version, replace with \n",
      "\tSeries.rolling(window=20,min_periods=1,center=False).mean()\n",
      "  app.launch_new_instance()\n",
      "C:\\Users\\Marti\\Anaconda3\\lib\\site-packages\\ipykernel\\__main__.py:6: FutureWarning: pd.rolling_std is deprecated for Series and will be removed in a future version, replace with \n",
      "\tSeries.rolling(window=20,min_periods=1,center=False).std()\n",
      "C:\\Users\\Marti\\Anaconda3\\lib\\site-packages\\ipykernel\\__main__.py:7: FutureWarning: pd.rolling_std is deprecated for Series and will be removed in a future version, replace with \n",
      "\tSeries.rolling(window=20,min_periods=1,center=False).std()\n"
     ]
    }
   ],
   "source": [
    "# create moving average  matrices\n",
    "RolMeanLat = pd.rolling_mean(testframe['lat'], window, min_periods = 1)\n",
    "RolMeanLon = pd.rolling_mean(testframe['lon'], window, min_periods = 1)\n",
    "\n",
    "# create moving standard deviation matrices\n",
    "RolStdLat = pd.rolling_std(testframe['lat'], window, min_periods = 1)\n",
    "RolStdLon = pd.rolling_std(testframe['lon'], window, min_periods = 1)\n",
    "\n",
    "\n",
    "# boolean for correct values for lon and lat\n",
    "LatCorrect = abs(testframe['lat'] - RolMeanLat) > threshold * RolStdLat\n",
    "LonCorrect = abs(testframe['lon'] - RolMeanLon) > threshold * RolStdLon\n",
    "\n",
    "print(sum(LatCorrect)+sum(LonCorrect))\n",
    "\n",
    "print(testframe[LatCorrect]['lat'])\n",
    "print(testframe.loc[LatCorrect,'lat'])\n",
    "\n",
    "testframe[LatCorrect]['lat'] = float('NaN')\n",
    "testframe[LonCorrect]['lon'] = float('NaN')\n",
    "\n",
    "\n",
    "print(testframe[LatCorrect]['lat'])\n",
    "print(testframe.loc[LatCorrect,'lat'])\n",
    "\n",
    "# plot correct values\n",
    "#testframe[LatCorrect & LonCorrect].plot(x = 'lon', y = 'lat')\n",
    "\n",
    "\n"
   ]
  },
  {
   "cell_type": "code",
   "execution_count": 162,
   "metadata": {},
   "outputs": [
    {
     "name": "stderr",
     "output_type": "stream",
     "text": [
      "C:\\Users\\Marti\\Anaconda3\\lib\\site-packages\\ipykernel\\__main__.py:6: FutureWarning: pd.rolling_mean is deprecated for Series and will be removed in a future version, replace with \n",
      "\tSeries.rolling(window=20,min_periods=1,center=False).mean()\n",
      "C:\\Users\\Marti\\Anaconda3\\lib\\site-packages\\ipykernel\\__main__.py:7: FutureWarning: pd.rolling_mean is deprecated for Series and will be removed in a future version, replace with \n",
      "\tSeries.rolling(window=20,min_periods=1,center=False).mean()\n",
      "C:\\Users\\Marti\\Anaconda3\\lib\\site-packages\\ipykernel\\__main__.py:10: FutureWarning: pd.rolling_std is deprecated for Series and will be removed in a future version, replace with \n",
      "\tSeries.rolling(window=20,min_periods=1,center=False).std()\n",
      "C:\\Users\\Marti\\Anaconda3\\lib\\site-packages\\ipykernel\\__main__.py:11: FutureWarning: pd.rolling_std is deprecated for Series and will be removed in a future version, replace with \n",
      "\tSeries.rolling(window=20,min_periods=1,center=False).std()\n"
     ]
    },
    {
     "ename": "TypeError",
     "evalue": "Empty 'DataFrame': no numeric data to plot",
     "output_type": "error",
     "traceback": [
      "\u001b[0;31m---------------------------------------------------------------------------\u001b[0m",
      "\u001b[0;31mTypeError\u001b[0m                                 Traceback (most recent call last)",
      "\u001b[0;32m<ipython-input-162-6bc90d6fdf5a>\u001b[0m in \u001b[0;36m<module>\u001b[0;34m()\u001b[0m\n\u001b[1;32m     17\u001b[0m \u001b[1;33m\u001b[0m\u001b[0m\n\u001b[1;32m     18\u001b[0m \u001b[1;31m# plot correct values\u001b[0m\u001b[1;33m\u001b[0m\u001b[1;33m\u001b[0m\u001b[0m\n\u001b[0;32m---> 19\u001b[0;31m \u001b[0mnewtestframe\u001b[0m\u001b[1;33m[\u001b[0m\u001b[0mLatCorrect\u001b[0m \u001b[1;33m&\u001b[0m \u001b[0mLonCorrect\u001b[0m\u001b[1;33m]\u001b[0m\u001b[1;33m.\u001b[0m\u001b[0mplot\u001b[0m\u001b[1;33m(\u001b[0m\u001b[0mx\u001b[0m \u001b[1;33m=\u001b[0m \u001b[1;34m'lon'\u001b[0m\u001b[1;33m,\u001b[0m \u001b[0my\u001b[0m \u001b[1;33m=\u001b[0m \u001b[1;34m'lat'\u001b[0m\u001b[1;33m)\u001b[0m\u001b[1;33m\u001b[0m\u001b[0m\n\u001b[0m\u001b[1;32m     20\u001b[0m \u001b[1;33m\u001b[0m\u001b[0m\n\u001b[1;32m     21\u001b[0m \u001b[0mprint\u001b[0m\u001b[1;33m(\u001b[0m\u001b[0mlen\u001b[0m\u001b[1;33m(\u001b[0m\u001b[0mtestframe\u001b[0m\u001b[1;33m)\u001b[0m\u001b[1;33m)\u001b[0m\u001b[1;33m\u001b[0m\u001b[0m\n",
      "\u001b[0;32mC:\\Users\\Marti\\Anaconda3\\lib\\site-packages\\pandas\\tools\\plotting.py\u001b[0m in \u001b[0;36m__call__\u001b[0;34m(self, x, y, kind, ax, subplots, sharex, sharey, layout, figsize, use_index, title, grid, legend, style, logx, logy, loglog, xticks, yticks, xlim, ylim, rot, fontsize, colormap, table, yerr, xerr, secondary_y, sort_columns, **kwds)\u001b[0m\n\u001b[1;32m   3772\u001b[0m                           \u001b[0mfontsize\u001b[0m\u001b[1;33m=\u001b[0m\u001b[0mfontsize\u001b[0m\u001b[1;33m,\u001b[0m \u001b[0mcolormap\u001b[0m\u001b[1;33m=\u001b[0m\u001b[0mcolormap\u001b[0m\u001b[1;33m,\u001b[0m \u001b[0mtable\u001b[0m\u001b[1;33m=\u001b[0m\u001b[0mtable\u001b[0m\u001b[1;33m,\u001b[0m\u001b[1;33m\u001b[0m\u001b[0m\n\u001b[1;32m   3773\u001b[0m                           \u001b[0myerr\u001b[0m\u001b[1;33m=\u001b[0m\u001b[0myerr\u001b[0m\u001b[1;33m,\u001b[0m \u001b[0mxerr\u001b[0m\u001b[1;33m=\u001b[0m\u001b[0mxerr\u001b[0m\u001b[1;33m,\u001b[0m \u001b[0msecondary_y\u001b[0m\u001b[1;33m=\u001b[0m\u001b[0msecondary_y\u001b[0m\u001b[1;33m,\u001b[0m\u001b[1;33m\u001b[0m\u001b[0m\n\u001b[0;32m-> 3774\u001b[0;31m                           sort_columns=sort_columns, **kwds)\n\u001b[0m\u001b[1;32m   3775\u001b[0m     \u001b[0m__call__\u001b[0m\u001b[1;33m.\u001b[0m\u001b[0m__doc__\u001b[0m \u001b[1;33m=\u001b[0m \u001b[0mplot_frame\u001b[0m\u001b[1;33m.\u001b[0m\u001b[0m__doc__\u001b[0m\u001b[1;33m\u001b[0m\u001b[0m\n\u001b[1;32m   3776\u001b[0m \u001b[1;33m\u001b[0m\u001b[0m\n",
      "\u001b[0;32mC:\\Users\\Marti\\Anaconda3\\lib\\site-packages\\pandas\\tools\\plotting.py\u001b[0m in \u001b[0;36mplot_frame\u001b[0;34m(data, x, y, kind, ax, subplots, sharex, sharey, layout, figsize, use_index, title, grid, legend, style, logx, logy, loglog, xticks, yticks, xlim, ylim, rot, fontsize, colormap, table, yerr, xerr, secondary_y, sort_columns, **kwds)\u001b[0m\n\u001b[1;32m   2641\u001b[0m                  \u001b[0myerr\u001b[0m\u001b[1;33m=\u001b[0m\u001b[0myerr\u001b[0m\u001b[1;33m,\u001b[0m \u001b[0mxerr\u001b[0m\u001b[1;33m=\u001b[0m\u001b[0mxerr\u001b[0m\u001b[1;33m,\u001b[0m\u001b[1;33m\u001b[0m\u001b[0m\n\u001b[1;32m   2642\u001b[0m                  \u001b[0msecondary_y\u001b[0m\u001b[1;33m=\u001b[0m\u001b[0msecondary_y\u001b[0m\u001b[1;33m,\u001b[0m \u001b[0msort_columns\u001b[0m\u001b[1;33m=\u001b[0m\u001b[0msort_columns\u001b[0m\u001b[1;33m,\u001b[0m\u001b[1;33m\u001b[0m\u001b[0m\n\u001b[0;32m-> 2643\u001b[0;31m                  **kwds)\n\u001b[0m\u001b[1;32m   2644\u001b[0m \u001b[1;33m\u001b[0m\u001b[0m\n\u001b[1;32m   2645\u001b[0m \u001b[1;33m\u001b[0m\u001b[0m\n",
      "\u001b[0;32mC:\\Users\\Marti\\Anaconda3\\lib\\site-packages\\pandas\\tools\\plotting.py\u001b[0m in \u001b[0;36m_plot\u001b[0;34m(data, x, y, subplots, ax, kind, **kwds)\u001b[0m\n\u001b[1;32m   2468\u001b[0m         \u001b[0mplot_obj\u001b[0m \u001b[1;33m=\u001b[0m \u001b[0mklass\u001b[0m\u001b[1;33m(\u001b[0m\u001b[0mdata\u001b[0m\u001b[1;33m,\u001b[0m \u001b[0msubplots\u001b[0m\u001b[1;33m=\u001b[0m\u001b[0msubplots\u001b[0m\u001b[1;33m,\u001b[0m \u001b[0max\u001b[0m\u001b[1;33m=\u001b[0m\u001b[0max\u001b[0m\u001b[1;33m,\u001b[0m \u001b[0mkind\u001b[0m\u001b[1;33m=\u001b[0m\u001b[0mkind\u001b[0m\u001b[1;33m,\u001b[0m \u001b[1;33m**\u001b[0m\u001b[0mkwds\u001b[0m\u001b[1;33m)\u001b[0m\u001b[1;33m\u001b[0m\u001b[0m\n\u001b[1;32m   2469\u001b[0m \u001b[1;33m\u001b[0m\u001b[0m\n\u001b[0;32m-> 2470\u001b[0;31m     \u001b[0mplot_obj\u001b[0m\u001b[1;33m.\u001b[0m\u001b[0mgenerate\u001b[0m\u001b[1;33m(\u001b[0m\u001b[1;33m)\u001b[0m\u001b[1;33m\u001b[0m\u001b[0m\n\u001b[0m\u001b[1;32m   2471\u001b[0m     \u001b[0mplot_obj\u001b[0m\u001b[1;33m.\u001b[0m\u001b[0mdraw\u001b[0m\u001b[1;33m(\u001b[0m\u001b[1;33m)\u001b[0m\u001b[1;33m\u001b[0m\u001b[0m\n\u001b[1;32m   2472\u001b[0m     \u001b[1;32mreturn\u001b[0m \u001b[0mplot_obj\u001b[0m\u001b[1;33m.\u001b[0m\u001b[0mresult\u001b[0m\u001b[1;33m\u001b[0m\u001b[0m\n",
      "\u001b[0;32mC:\\Users\\Marti\\Anaconda3\\lib\\site-packages\\pandas\\tools\\plotting.py\u001b[0m in \u001b[0;36mgenerate\u001b[0;34m(self)\u001b[0m\n\u001b[1;32m   1039\u001b[0m     \u001b[1;32mdef\u001b[0m \u001b[0mgenerate\u001b[0m\u001b[1;33m(\u001b[0m\u001b[0mself\u001b[0m\u001b[1;33m)\u001b[0m\u001b[1;33m:\u001b[0m\u001b[1;33m\u001b[0m\u001b[0m\n\u001b[1;32m   1040\u001b[0m         \u001b[0mself\u001b[0m\u001b[1;33m.\u001b[0m\u001b[0m_args_adjust\u001b[0m\u001b[1;33m(\u001b[0m\u001b[1;33m)\u001b[0m\u001b[1;33m\u001b[0m\u001b[0m\n\u001b[0;32m-> 1041\u001b[0;31m         \u001b[0mself\u001b[0m\u001b[1;33m.\u001b[0m\u001b[0m_compute_plot_data\u001b[0m\u001b[1;33m(\u001b[0m\u001b[1;33m)\u001b[0m\u001b[1;33m\u001b[0m\u001b[0m\n\u001b[0m\u001b[1;32m   1042\u001b[0m         \u001b[0mself\u001b[0m\u001b[1;33m.\u001b[0m\u001b[0m_setup_subplots\u001b[0m\u001b[1;33m(\u001b[0m\u001b[1;33m)\u001b[0m\u001b[1;33m\u001b[0m\u001b[0m\n\u001b[1;32m   1043\u001b[0m         \u001b[0mself\u001b[0m\u001b[1;33m.\u001b[0m\u001b[0m_make_plot\u001b[0m\u001b[1;33m(\u001b[0m\u001b[1;33m)\u001b[0m\u001b[1;33m\u001b[0m\u001b[0m\n",
      "\u001b[0;32mC:\\Users\\Marti\\Anaconda3\\lib\\site-packages\\pandas\\tools\\plotting.py\u001b[0m in \u001b[0;36m_compute_plot_data\u001b[0;34m(self)\u001b[0m\n\u001b[1;32m   1148\u001b[0m         \u001b[1;32mif\u001b[0m \u001b[0mis_empty\u001b[0m\u001b[1;33m:\u001b[0m\u001b[1;33m\u001b[0m\u001b[0m\n\u001b[1;32m   1149\u001b[0m             raise TypeError('Empty {0!r}: no numeric data to '\n\u001b[0;32m-> 1150\u001b[0;31m                             'plot'.format(numeric_data.__class__.__name__))\n\u001b[0m\u001b[1;32m   1151\u001b[0m \u001b[1;33m\u001b[0m\u001b[0m\n\u001b[1;32m   1152\u001b[0m         \u001b[0mself\u001b[0m\u001b[1;33m.\u001b[0m\u001b[0mdata\u001b[0m \u001b[1;33m=\u001b[0m \u001b[0mnumeric_data\u001b[0m\u001b[1;33m\u001b[0m\u001b[0m\n",
      "\u001b[0;31mTypeError\u001b[0m: Empty 'DataFrame': no numeric data to plot"
     ]
    }
   ],
   "source": [
    "# repeat operation with cleaned data\n",
    "\n",
    "newtestframe = testframe[LatCorrect & LonCorrect]\n",
    "\n",
    "# create moving average  matrices\n",
    "RolMeanLat = pd.rolling_mean(newtestframe['lat'], window, min_periods = 1)\n",
    "RolMeanLon = pd.rolling_mean(newtestframe['lon'], window, min_periods = 1)\n",
    "\n",
    "# create moving standard deviation matrices\n",
    "RolStdLat = pd.rolling_std(newtestframe['lat'], window, min_periods = 1)\n",
    "RolStdLon = pd.rolling_std(newtestframe['lon'], window, min_periods = 1)\n",
    "\n",
    "# boolean for correct values for lon and lat\n",
    "LatCorrect = abs(newtestframe['lat'] - RolMeanLat) < threshold * RolStdLat\n",
    "LonCorrect = abs(newtestframe['lon'] - RolMeanLon) < threshold * RolStdLon\n",
    "\n",
    "\n",
    "# plot correct values\n",
    "newtestframe[LatCorrect & LonCorrect].plot(x = 'lon', y = 'lat')\n",
    "\n",
    "print(len(testframe))\n",
    "print(len(newtestframe))"
   ]
  },
  {
   "cell_type": "code",
   "execution_count": null,
   "metadata": {},
   "outputs": [],
   "source": [
    "testframe[65:70].plot(x='lat', y = 'lon')\n",
    "print(testframe[65:70])"
   ]
  },
  {
   "cell_type": "markdown",
   "metadata": {},
   "source": [
    "## N roads "
   ]
  },
  {
   "cell_type": "code",
   "execution_count": null,
   "metadata": {
    "collapsed": true,
    "scrolled": true
   },
   "outputs": [],
   "source": [
    "def mad_based_outlier(points, thresh=2):\n",
    "    if len(points.shape) == 1:\n",
    "        points = points[:,None]\n",
    "    median = np.median(points, axis=0)\n",
    "    diff = np.sum((points - median)**2, axis=-1)\n",
    "    diff = np.sqrt(diff)\n",
    "    med_abs_deviation = np.median(diff)\n",
    "\n",
    "    modified_z_score = 0.6745 * diff / med_abs_deviation\n",
    "\n",
    "    return modified_z_score > thresh "
   ]
  },
  {
   "cell_type": "code",
   "execution_count": null,
   "metadata": {},
   "outputs": [],
   "source": [
    "mad_based_outlier(df_N_road[0:100]['lat'])\n",
    "# Check per 100, but it will be considered as outliers if the \"True\" data have no series of \"True\" before and after that. \n",
    "# \"True series should be greater than 5"
   ]
  },
  {
   "cell_type": "code",
   "execution_count": null,
   "metadata": {},
   "outputs": [],
   "source": [
    "type((df_N_road[0:30]['lat']))\n",
    "df_N_road.mad()"
   ]
  },
  {
   "cell_type": "code",
   "execution_count": null,
   "metadata": {},
   "outputs": [],
   "source": [
    "initial = 0\n",
    "\n",
    "for a in range(0, Unique_N_road):\n",
    "    \n",
    "    N_road_lat = df_N_road[initial:N_road_data_counts[a]+initial]['lat']\n",
    "    \n",
    "    for b in  N_road_lat:\n",
    "        \n",
    "        #median = N_road_lat.median()\n",
    "        #absolute = abs(b-median)\n",
    "        \n",
    "        #mad = np.median(absolute)\n",
    "    \n",
    "        #print (mad)\n",
    "        #df_N_road['MAD'] = mad\n",
    "        \n",
    "        df_N_road.mad()\n",
    "    initial = initial+N_road_data_counts[a]\n",
    "\n",
    "df_N_road.head()"
   ]
  },
  {
   "cell_type": "markdown",
   "metadata": {},
   "source": [
    "## R roads "
   ]
  },
  {
   "cell_type": "code",
   "execution_count": null,
   "metadata": {
    "collapsed": true
   },
   "outputs": [],
   "source": []
  },
  {
   "cell_type": "code",
   "execution_count": null,
   "metadata": {
    "collapsed": true
   },
   "outputs": [],
   "source": []
  },
  {
   "cell_type": "code",
   "execution_count": null,
   "metadata": {
    "collapsed": true
   },
   "outputs": [],
   "source": []
  },
  {
   "cell_type": "markdown",
   "metadata": {},
   "source": [
    "## Z roads "
   ]
  },
  {
   "cell_type": "code",
   "execution_count": null,
   "metadata": {
    "collapsed": true
   },
   "outputs": [],
   "source": []
  },
  {
   "cell_type": "code",
   "execution_count": null,
   "metadata": {
    "collapsed": true
   },
   "outputs": [],
   "source": []
  },
  {
   "cell_type": "code",
   "execution_count": null,
   "metadata": {
    "collapsed": true
   },
   "outputs": [],
   "source": []
  }
 ],
 "metadata": {
  "kernelspec": {
   "display_name": "Python 3",
   "language": "python",
   "name": "python3"
  },
  "language_info": {
   "codemirror_mode": {
    "name": "ipython",
    "version": 3
   },
   "file_extension": ".py",
   "mimetype": "text/x-python",
   "name": "python",
   "nbconvert_exporter": "python",
   "pygments_lexer": "ipython3",
   "version": "3.6.0"
  }
 },
 "nbformat": 4,
 "nbformat_minor": 2
}
