{
 "cells": [
  {
   "cell_type": "code",
   "execution_count": 1,
   "metadata": {
    "collapsed": true
   },
   "outputs": [],
   "source": [
    "%matplotlib inline\n",
    "import os\n",
    "import glob\n",
    "import pandas as pd\n",
    "import numpy as np\n",
    "import matplotlib.pyplot as plt\n",
    "import math\n",
    "\n",
    "import re\n",
    "import seaborn as sns\n",
    "import natsort\n",
    "\n",
    "pd.options.mode.chained_assignment = None\n",
    "#!pip install natsort\n",
    "#!pip install datacleaner\n",
    "#def natural_sort(l): \n",
    " #   convert = lambda text: int(text) if text.isdigit() else text.lower() \n",
    " #   alphanum_key = lambda key: [ convert(c) for c in re.split('([0-9]+)', key) ] \n",
    " #   return sorted(l, key = alphanum_key)"
   ]
  },
  {
   "cell_type": "code",
   "execution_count": 2,
   "metadata": {},
   "outputs": [
    {
     "name": "stdout",
     "output_type": "stream",
     "text": [
      "Total data before drop duplicates: 52210 Data\n",
      "Total data after drop duplicates: 52210 Data\n"
     ]
    }
   ],
   "source": [
    "path ='D:\\OneDrive\\EPA 2017\\Q3\\Advanced Discrete\\WBSIM1b\\infrastructure\\_roads2.csv'\n",
    "\n",
    "df = pd.read_csv(path,index_col=None, header=0)\n",
    "\n",
    "df_clean_0 = df #df.drop_duplicates(subset=['lon','lat','chainage'], keep=False)\n",
    "\n",
    "print('Total data before drop duplicates:' ,len(df),'Data')\n",
    "print('Total data after drop duplicates:' ,len(df_clean_0),'Data')"
   ]
  },
  {
   "cell_type": "code",
   "execution_count": 3,
   "metadata": {},
   "outputs": [
    {
     "name": "stdout",
     "output_type": "stream",
     "text": [
      "Total N Roads Data: 9850\n",
      "Total R Roads Data: 9941\n",
      "Total Z Roads Data: 32419\n",
      "Total All Roads Data: 52210\n"
     ]
    }
   ],
   "source": [
    "#Find data that have N,R,Z road name\n",
    "df_N_road = df_clean_0[df_clean_0['road'].str.match('N',case=True, as_indexer=True)]\n",
    "df_R_road = df_clean_0[df_clean_0['road'].str.match('R',case=True, as_indexer=True)]\n",
    "df_Z_road = df_clean_0[df_clean_0['road'].str.match('Z',case=True, as_indexer=True)]\n",
    "\n",
    "# Sort the dataframe based on values\n",
    "df_N_road.sort_values(by=['road'])\n",
    "df_R_road.sort_values(by=['road'])\n",
    "df_Z_road.sort_values(by=['road'])\n",
    "\n",
    "# Show summary of information data\n",
    "print('Total N Roads Data:', len(df_N_road))\n",
    "print('Total R Roads Data:', len(df_R_road))\n",
    "print('Total Z Roads Data:', len(df_Z_road))\n",
    "print('Total All Roads Data:', len(df_N_road)+len(df_R_road)+len(df_Z_road))"
   ]
  },
  {
   "cell_type": "code",
   "execution_count": 4,
   "metadata": {},
   "outputs": [
    {
     "name": "stdout",
     "output_type": "stream",
     "text": [
      "There are [ 96 ] N roads\n",
      "There are [ 125 ] R roads\n",
      "There are [ 656 ] Z roads\n"
     ]
    }
   ],
   "source": [
    "# Count the number of data based on the road name ('road')\n",
    "N_road_data_counts = df_N_road['road'].value_counts().sort_index()\n",
    "R_road_data_counts = df_R_road['road'].value_counts().sort_index()\n",
    "Z_road_data_counts = df_Z_road['road'].value_counts().sort_index()\n",
    "\n",
    "# Count the how many road are there\n",
    "Unique_N_road = len(N_road_data_counts)\n",
    "Unique_R_road = len(R_road_data_counts)\n",
    "Unique_Z_road = len(Z_road_data_counts)\n",
    "\n",
    "print('There are','[', Unique_N_road,']', 'N roads')\n",
    "print('There are','[', Unique_R_road,']', 'R roads')\n",
    "print('There are','[', Unique_Z_road,']', 'Z roads')"
   ]
  },
  {
   "cell_type": "code",
   "execution_count": 5,
   "metadata": {},
   "outputs": [
    {
     "data": {
      "text/plain": [
       "1348"
      ]
     },
     "execution_count": 5,
     "metadata": {},
     "output_type": "execute_result"
    }
   ],
   "source": [
    "# Overview of the N data\n",
    "N_road_data_counts.head(10)\n",
    "N_road_data_counts[0]"
   ]
  },
  {
   "cell_type": "code",
   "execution_count": 6,
   "metadata": {},
   "outputs": [
    {
     "data": {
      "text/html": [
       "<div>\n",
       "<table border=\"1\" class=\"dataframe\">\n",
       "  <thead>\n",
       "    <tr style=\"text-align: right;\">\n",
       "      <th></th>\n",
       "      <th>road</th>\n",
       "      <th>N road &gt; 100</th>\n",
       "    </tr>\n",
       "  </thead>\n",
       "  <tbody>\n",
       "    <tr>\n",
       "      <th>0</th>\n",
       "      <td>N1</td>\n",
       "      <td>1.0</td>\n",
       "    </tr>\n",
       "    <tr>\n",
       "      <th>1</th>\n",
       "      <td>N101</td>\n",
       "      <td>0.0</td>\n",
       "    </tr>\n",
       "    <tr>\n",
       "      <th>2</th>\n",
       "      <td>N102</td>\n",
       "      <td>1.0</td>\n",
       "    </tr>\n",
       "    <tr>\n",
       "      <th>3</th>\n",
       "      <td>N103</td>\n",
       "      <td>0.0</td>\n",
       "    </tr>\n",
       "    <tr>\n",
       "      <th>4</th>\n",
       "      <td>N104</td>\n",
       "      <td>1.0</td>\n",
       "    </tr>\n",
       "  </tbody>\n",
       "</table>\n",
       "</div>"
      ],
      "text/plain": [
       "   road  N road > 100\n",
       "0    N1           1.0\n",
       "1  N101           0.0\n",
       "2  N102           1.0\n",
       "3  N103           0.0\n",
       "4  N104           1.0"
      ]
     },
     "execution_count": 6,
     "metadata": {},
     "output_type": "execute_result"
    }
   ],
   "source": [
    "dk = pd.DataFrame()\n",
    "dk = dk.append(df_N_road['road'].value_counts()>100)\n",
    "dk = dk.transpose()\n",
    "dk = dk.reset_index()\n",
    "dk = dk.rename(index=str, columns={\"road\": \"N road > 100\",\"index\":\"road\"})\n",
    "dk.head()"
   ]
  },
  {
   "cell_type": "code",
   "execution_count": 7,
   "metadata": {},
   "outputs": [
    {
     "data": {
      "text/html": [
       "<div>\n",
       "<table border=\"1\" class=\"dataframe\">\n",
       "  <thead>\n",
       "    <tr style=\"text-align: right;\">\n",
       "      <th></th>\n",
       "      <th>road</th>\n",
       "      <th>chainage</th>\n",
       "      <th>lrp</th>\n",
       "      <th>lat</th>\n",
       "      <th>lon</th>\n",
       "      <th>type</th>\n",
       "      <th>name</th>\n",
       "    </tr>\n",
       "  </thead>\n",
       "  <tbody>\n",
       "    <tr>\n",
       "      <th>0</th>\n",
       "      <td>N1</td>\n",
       "      <td>0.000</td>\n",
       "      <td>LRPS</td>\n",
       "      <td>23.706028</td>\n",
       "      <td>90.443333</td>\n",
       "      <td>Others</td>\n",
       "      <td>Start of Road  after Jatrabari Flyover infront...</td>\n",
       "    </tr>\n",
       "    <tr>\n",
       "      <th>1</th>\n",
       "      <td>N1</td>\n",
       "      <td>0.814</td>\n",
       "      <td>LRPSa</td>\n",
       "      <td>23.702917</td>\n",
       "      <td>90.450417</td>\n",
       "      <td>Culvert</td>\n",
       "      <td>Box Culvert</td>\n",
       "    </tr>\n",
       "    <tr>\n",
       "      <th>2</th>\n",
       "      <td>N1</td>\n",
       "      <td>0.822</td>\n",
       "      <td>LRPSb</td>\n",
       "      <td>23.702778</td>\n",
       "      <td>90.450472</td>\n",
       "      <td>CrossRoad</td>\n",
       "      <td>Intersection with Z1101</td>\n",
       "    </tr>\n",
       "    <tr>\n",
       "      <th>3</th>\n",
       "      <td>N1</td>\n",
       "      <td>1.000</td>\n",
       "      <td>LRP001</td>\n",
       "      <td>23.702139</td>\n",
       "      <td>90.451972</td>\n",
       "      <td>KmPost</td>\n",
       "      <td>Km post missing</td>\n",
       "    </tr>\n",
       "    <tr>\n",
       "      <th>4</th>\n",
       "      <td>N1</td>\n",
       "      <td>2.000</td>\n",
       "      <td>LRP002</td>\n",
       "      <td>23.697889</td>\n",
       "      <td>90.460583</td>\n",
       "      <td>KmPost</td>\n",
       "      <td>Km post missing</td>\n",
       "    </tr>\n",
       "  </tbody>\n",
       "</table>\n",
       "</div>"
      ],
      "text/plain": [
       "  road  chainage     lrp        lat        lon       type  \\\n",
       "0   N1     0.000    LRPS  23.706028  90.443333     Others   \n",
       "1   N1     0.814   LRPSa  23.702917  90.450417    Culvert   \n",
       "2   N1     0.822   LRPSb  23.702778  90.450472  CrossRoad   \n",
       "3   N1     1.000  LRP001  23.702139  90.451972     KmPost   \n",
       "4   N1     2.000  LRP002  23.697889  90.460583     KmPost   \n",
       "\n",
       "                                                name  \n",
       "0  Start of Road  after Jatrabari Flyover infront...  \n",
       "1                                        Box Culvert  \n",
       "2                            Intersection with Z1101  \n",
       "3                                    Km post missing  \n",
       "4                                    Km post missing  "
      ]
     },
     "execution_count": 7,
     "metadata": {},
     "output_type": "execute_result"
    }
   ],
   "source": [
    "df_N_road.head()"
   ]
  },
  {
   "cell_type": "code",
   "execution_count": 8,
   "metadata": {
    "scrolled": true
   },
   "outputs": [
    {
     "data": {
      "text/plain": [
       "<matplotlib.axes._subplots.AxesSubplot at 0x1fdc79f61d0>"
      ]
     },
     "execution_count": 8,
     "metadata": {},
     "output_type": "execute_result"
    },
    {
     "data": {
      "image/png": "[encoded data removed]",
      "text/plain": [
       "<matplotlib.figure.Figure at 0x1fdc7709208>"
      ]
     },
     "metadata": {},
     "output_type": "display_data"
    }
   ],
   "source": [
    "df_N_road.plot.scatter(x='lat',y='lon')"
   ]
  },
  {
   "cell_type": "markdown",
   "metadata": {},
   "source": [
    "## Code to loop N road with rolling function"
   ]
  },
  {
   "cell_type": "code",
   "execution_count": null,
   "metadata": {
    "collapsed": true
   },
   "outputs": [],
   "source": [
    "# define initial value of the counter and blank \"list\" that needed to fill the dataframe\n",
    "initial = 0\n",
    "stdLatList = []\n",
    "stdLonList  = []\n",
    "rollingcheckList = []\n",
    "\n",
    "for i in range (Unique_N_road):\n",
    "    # Threshold of the selection\n",
    "    threshold = 5\n",
    "    \n",
    "    # Rollling script formula for Lattitude and Longitude\n",
    "    stdLat = ((df_N_road[initial:(N_road_data_counts[i]+initial)]['lat']).rolling(window= 3, min_periods = 1).std())\n",
    "    stdLon = ((df_N_road[initial:(N_road_data_counts[i]+initial)]['lon']).rolling(window= 3, min_periods = 1).std())  \n",
    "    \n",
    "    # Change the initial value (NaN) into the later rolling value for lattitude and longitude\n",
    "    for item in range (len(stdLat)):\n",
    "        if math.isnan(stdLat.iloc[item]):\n",
    "            stdLat.iloc[item] = stdLat.iloc[item+1]\n",
    "    for item in range (len(stdLon)):\n",
    "        if math.isnan(stdLon.iloc[item]):\n",
    "            stdLon.iloc[item] = stdLon.iloc[item+1]\n",
    "    \n",
    "    # Calculate the mean of the rolling data\n",
    "    meanStdLat = stdLat.mean()\n",
    "    meanStdLon = stdLon.mean()\n",
    "    \n",
    "    # Determine the outliers based on threshold, mean value of rolling std, and its rolling std\n",
    "    rollingcheck = (stdLat < threshold * meanStdLat) & (stdLon < threshold * meanStdLon)\n",
    "    \n",
    "    # include all the calculated formula into a list\n",
    "    stdLatList.append(stdLat)\n",
    "    stdLonList.append(stdLon)\n",
    "    rollingcheckList.append(rollingcheck)\n",
    "    \n",
    "    # Counter for loops\n",
    "    initial = initial+N_road_data_counts[i]\n"
   ]
  },
  {
   "cell_type": "code",
   "execution_count": null,
   "metadata": {
    "collapsed": true
   },
   "outputs": [],
   "source": [
    "# Formula to convert nested list into single list\n",
    "rollingcheck_flatlist = [y for x in rollingcheckList for y in x]\n",
    "stdLatList_flatlist = [y for x in stdLatList for y in x]\n",
    "stdLonList_flatlist = [y for x in stdLonList for y in x]"
   ]
  },
  {
   "cell_type": "code",
   "execution_count": null,
   "metadata": {
    "collapsed": true
   },
   "outputs": [],
   "source": [
    "# Include the calculated value into the dataframe for later use\n",
    "df_N_road['stdLat'] = stdLatList_flatlist\n",
    "df_N_road['stdLon'] = stdLonList_flatlist\n",
    "df_N_road['rollingcheck'] = rollingcheck_flatlist"
   ]
  },
  {
   "cell_type": "code",
   "execution_count": null,
   "metadata": {
    "collapsed": true
   },
   "outputs": [],
   "source": [
    "df_N_road"
   ]
  },
  {
   "cell_type": "code",
   "execution_count": null,
   "metadata": {
    "collapsed": true
   },
   "outputs": [],
   "source": [
    "\n"
   ]
  },
  {
   "cell_type": "markdown",
   "metadata": {},
   "source": [
    "## N roads ( Not yet use, this is the MAD function in case we need it)"
   ]
  },
  {
   "cell_type": "code",
   "execution_count": null,
   "metadata": {
    "collapsed": true,
    "scrolled": true
   },
   "outputs": [],
   "source": [
    "def mad_based_outlier(points, thresh=3):\n",
    "    if len(points.shape) == 1:\n",
    "        points = points[:,None]\n",
    "    median = np.median(points, axis=0)\n",
    "    diff = np.sum((points - median)**2, axis=-1)\n",
    "    diff = np.sqrt(diff)\n",
    "    med_abs_deviation = np.median(diff)\n",
    "\n",
    "    modified_z_score = 0.6745 * diff / med_abs_deviation\n",
    "\n",
    "    return modified_z_score > thresh "
   ]
  },
  {
   "cell_type": "code",
   "execution_count": null,
   "metadata": {
    "collapsed": true
   },
   "outputs": [],
   "source": [
    "df2 = df_N_road[0:300]\n",
    "df2[\"Out\"] = mad_based_outlier(df2['lat'])\n",
    "df2[df2[\"Out\"] == True]\n",
    "# Check per 100, but it will be considered as outliers if the \"True\" data have no series of \"True\" before and after that. \n",
    "# \"True series should be greater than 5"
   ]
  },
  {
   "cell_type": "code",
   "execution_count": null,
   "metadata": {
    "collapsed": true
   },
   "outputs": [],
   "source": [
    "# Create new blank data frame to input the distance\n",
    "new_df_N_road = pd.DataFrame()\n",
    "\n",
    "# Loop from to calculate distance \n",
    "for i in range(len(new_df_N_road)):\n",
    "    \n",
    "    #empty list in order to store distance between two countries \n",
    "    d = []\n",
    "    for j in range(len(df)):\n",
    "        \n",
    "        #add each value into the list one by one\n",
    "        d.append(distance(df.iloc[i][['CapitalLatitude', 'CapitalLongitude']], df.iloc[j][['CapitalLatitude', 'CapitalLongitude']]))\n",
    "    \n",
    "    # Change new dataframe column name with the first index name (country)\n",
    "    new_df[df.index[i]] = d"
   ]
  },
  {
   "cell_type": "code",
   "execution_count": null,
   "metadata": {
    "collapsed": true
   },
   "outputs": [],
   "source": [
    "type((df_N_road[0:30]['lat']))\n",
    "df_N_road.mad()"
   ]
  },
  {
   "cell_type": "code",
   "execution_count": null,
   "metadata": {
    "collapsed": true
   },
   "outputs": [],
   "source": [
    "initial = 0\n",
    "\n",
    "for a in range(0, Unique_N_road):\n",
    "    \n",
    "    N_road_lat = df_N_road[initial:N_road_data_counts[a]+initial]['lat']\n",
    "    \n",
    "    for b in  N_road_lat:\n",
    "        \n",
    "        #median = N_road_lat.median()\n",
    "        #absolute = abs(b-median)\n",
    "        \n",
    "        #mad = np.median(absolute)\n",
    "    \n",
    "        #print (mad)\n",
    "        #df_N_road['MAD'] = mad\n",
    "        \n",
    "        df_N_road.mad()\n",
    "    initial = initial+N_road_data_counts[a]\n",
    "\n",
    "df_N_road.head()"
   ]
  },
  {
   "cell_type": "markdown",
   "metadata": {},
   "source": [
    "## R roads "
   ]
  },
  {
   "cell_type": "code",
   "execution_count": null,
   "metadata": {
    "collapsed": true
   },
   "outputs": [],
   "source": []
  },
  {
   "cell_type": "code",
   "execution_count": null,
   "metadata": {
    "collapsed": true
   },
   "outputs": [],
   "source": []
  },
  {
   "cell_type": "code",
   "execution_count": null,
   "metadata": {
    "collapsed": true
   },
   "outputs": [],
   "source": []
  },
  {
   "cell_type": "markdown",
   "metadata": {},
   "source": [
    "## Z roads "
   ]
  },
  {
   "cell_type": "code",
   "execution_count": null,
   "metadata": {
    "collapsed": true
   },
   "outputs": [],
   "source": []
  },
  {
   "cell_type": "code",
   "execution_count": null,
   "metadata": {
    "collapsed": true
   },
   "outputs": [],
   "source": []
  },
  {
   "cell_type": "code",
   "execution_count": null,
   "metadata": {
    "collapsed": true
   },
   "outputs": [],
   "source": []
  }
 ],
 "metadata": {
  "kernelspec": {
   "display_name": "Python 3",
   "language": "python",
   "name": "python3"
  },
  "language_info": {
   "codemirror_mode": {
    "name": "ipython",
    "version": 3
   },
   "file_extension": ".py",
   "mimetype": "text/x-python",
   "name": "python",
   "nbconvert_exporter": "python",
   "pygments_lexer": "ipython3",
   "version": "3.6.1"
  }
 },
 "nbformat": 4,
 "nbformat_minor": 2
}
