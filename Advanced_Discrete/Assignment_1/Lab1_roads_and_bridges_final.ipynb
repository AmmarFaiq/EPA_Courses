{
 "cells": [
  {
   "cell_type": "markdown",
   "metadata": {},
   "source": [
    "# Lab Assignment 1: Data Cleaning\n",
    "\n",
    "\n",
    "- This script need the cleaned version of _roads2 data and raw BMMS_overview data. \n",
    "- WBSIM_Lab1b also need to be inside the Jupyter Notebook file to have the shapefile from the (WBSIM_Lab1b\\gis\\gadm\\BGD_adm0) the shapefile name is BGD_adm0\n",
    "- timeit, shapefile and shapely library should also be installed in the Jupyter Notebook (use !pip install \"name_of_library\" to do so)"
   ]
  },
  {
   "cell_type": "markdown",
   "metadata": {},
   "source": [
    "# 1. Fixing the roads"
   ]
  },
  {
   "cell_type": "markdown",
   "metadata": {},
   "source": [
    "For fixing the road, rolling standard deviation and average were considered as a main method to detemine the outliers"
   ]
  },
  {
   "cell_type": "markdown",
   "metadata": {},
   "source": [
    "### 1.1. Import the library and file path for each files needed"
   ]
  },
  {
   "cell_type": "code",
   "execution_count": 1,
   "metadata": {},
   "outputs": [],
   "source": [
    "%matplotlib inline\n",
    "\n",
    "import pandas as pd\n",
    "import numpy as np\n",
    "import matplotlib.pyplot as plt\n",
    "import matplotlib as mpl\n",
    "import timeit\n",
    "#import pylab \n",
    "\n",
    "#import re\n",
    "#import seaborn as sns\n",
    "\n",
    "import shapefile as shp\n",
    "from shapely.geometry import Point, Polygon\n",
    "\n",
    "# path of bridge data for reading csv file (_roads2)\n",
    "path     = 'D:\\Download\\WBSIM_Lab1b\\infrastructure\\_roads2.csv'\n",
    "# path of bridge data for writing csv file (_roads2)\n",
    "savepath = 'D:\\Jupyter_File\\Advanced_Discrete_Cleaning\\_roads2.csv'\n",
    "\n",
    "# path of bridge data for reading Excel file (BMMS_overview)\n",
    "bpath     = 'D:\\Download\\WBSIM_Lab1b\\infrastructure\\BMMS_overview.xlsx'\n",
    "# path of bridge data for writing Excel file (BMMS_overview)\n",
    "bsavepath = 'D:\\Jupyter_File\\Advanced_Discrete_Cleaning\\BMMS_overview.xlsx'\n",
    "\n",
    "# path of bangladesh region data for reading the shapefile (BGD_adm0)\n",
    "shppath = 'D:\\Jupyter_File\\Advanced_Discrete_Cleaning\\WBSIM_Lab1b\\gis\\gadm\\BGD_adm0'"
   ]
  },
  {
   "cell_type": "markdown",
   "metadata": {},
   "source": [
    "### 1.2. Importing the bridges, roads and shapefile data"
   ]
  },
  {
   "cell_type": "code",
   "execution_count": 2,
   "metadata": {},
   "outputs": [
    {
     "name": "stdout",
     "output_type": "stream",
     "text": [
      "\n",
      "Total Road Data : 52210 Data\n",
      "\n",
      "Total Bridge Data : 21407 Data\n"
     ]
    }
   ],
   "source": [
    "# reading raw data\n",
    "df_orig  = pd.read_csv(path,index_col=None, header=0)\n",
    "bdf_orig = pd.read_excel(bpath, index_col=None, header=0)\n",
    "sf_orig = shp.Reader(shppath)\n",
    "\n",
    "# Remove duplicates \n",
    "#df = df_raw.drop_duplicates(subset=['lon','lat','chainage'], keep=False)\n",
    "\n",
    "# copy dataframe\n",
    "df = df_orig.copy()\n",
    "bdf = bdf_orig.copy()\n",
    "sf0 = sf_orig\n",
    "\n",
    "# Display Number of data \n",
    "print('')\n",
    "print('Total Road Data :' ,len(df),'Data')\n",
    "print('')\n",
    "print('Total Bridge Data :' ,len(bdf),'Data')"
   ]
  },
  {
   "cell_type": "markdown",
   "metadata": {},
   "source": [
    "### 1.3. Convert Shapefile into List"
   ]
  },
  {
   "cell_type": "code",
   "execution_count": 3,
   "metadata": {},
   "outputs": [],
   "source": [
    "# Function to get the shape file value from GIS\n",
    "def convert_shp_to_list (sf,num_name):\n",
    "    \n",
    "    # Get description of the geofile name\n",
    "    shps_name = sf.records()\n",
    "    # Get all coordinates in the shapefile\n",
    "    shps_coor = [s.points for s in sf.shapes()]\n",
    "    \n",
    "    # create a blank list and dictionary for operation \n",
    "    name_shape = []\n",
    "    coor_shape_lat = []\n",
    "    coor_shape_lon = []\n",
    "    l = {}\n",
    "    \n",
    "    #define counter of the coordinate index\n",
    "    counter = 0\n",
    "    \n",
    "    #Loop for extracting the name of the shape file\n",
    "    for i in range(len(shps_name)):\n",
    "        name_shape.append(shps_name[i][num_name])\n",
    "        \n",
    "    #Loop for extracting each coordinates of the Bangladesh shape file    \n",
    "        for a in range(len(shps_coor[i])):\n",
    "            l[counter] = {'Name':name_shape[i],'Longitude':shps_coor[i][a][0],'Latitude':shps_coor[i][a][1]}\n",
    "            coor_shape_lat.append(shps_coor[i][a][1])\n",
    "            coor_shape_lon.append(shps_coor[i][a][0])\n",
    "            \n",
    "            counter = counter+a\n",
    "    \n",
    "    return name_shape,shps_coor,coor_shape_lat,coor_shape_lon,l"
   ]
  },
  {
   "cell_type": "markdown",
   "metadata": {},
   "source": [
    "#### Assigning shapefile into set of the list and visualize the Bangladesh boundaries"
   ]
  },
  {
   "cell_type": "code",
   "execution_count": 4,
   "metadata": {},
   "outputs": [
    {
     "data": {
      "image/png": "[encoded data removed]",
      "text/plain": [
       "<matplotlib.figure.Figure at 0x1f1d50a0208>"
      ]
     },
     "metadata": {},
     "output_type": "display_data"
    }
   ],
   "source": [
    "# assign the variables of the convert_shp_to_list function output\n",
    "name_shp0, coor_shp0, coor_shp_lat0, coor_shp_lon0, l = convert_shp_to_list(sf0,2)\n",
    "\n",
    "# plot example of the Bangladesh boundaries\n",
    "for shape in sf0.shapeRecords():\n",
    "    x = [i[0] for i in shape.shape.points[:]]\n",
    "    y = [i[1] for i in shape.shape.points[:]]\n",
    "    plt.scatter(x,y)\n",
    "plt.show()"
   ]
  },
  {
   "cell_type": "markdown",
   "metadata": {},
   "source": [
    "###  1.4. Define filtering function"
   ]
  },
  {
   "cell_type": "code",
   "execution_count": 5,
   "metadata": {},
   "outputs": [],
   "source": [
    "# define filtering function\n",
    "# \n",
    "# input:  dataframe of road, windowsize of mean/std, amount of std maximum allowed\n",
    "# output: indices for lattitude errors and indices for longitude errors\n",
    "\n",
    "def inspect(data, MeanWindow, StdWindow, threshold):\n",
    "    \n",
    "    # rolling standard deviation of lat and lon\n",
    "    stdLat = data['lat'].rolling(window=StdWindow,min_periods=1,center=True).std()\n",
    "    stdLon = data['lon'].rolling(window=StdWindow,min_periods=1,center=True).std()\n",
    "\n",
    "    # moving average\n",
    "    meanLat = data['lat'].rolling(window=MeanWindow,min_periods=1,center=True).mean()\n",
    "    meanLon = data['lon'].rolling(window=MeanWindow,min_periods=1,center=True).mean()\n",
    "    \n",
    "    # determine errative values (Boolean)\n",
    "    LatBool = abs(data['lat'] - meanLat) > threshold * stdLat\n",
    "    LonBool = abs(data['lon'] - meanLon) > threshold * stdLon\n",
    "    \n",
    "    # determine index\n",
    "    ErrorIndexLat = data[LatBool].index\n",
    "    ErrorIndexLon = data[LonBool].index\n",
    "    \n",
    "    # return output\n",
    "    return ErrorIndexLat, ErrorIndexLon, LatBool, LonBool"
   ]
  },
  {
   "cell_type": "markdown",
   "metadata": {},
   "source": [
    "###  1.5. Order data by roads"
   ]
  },
  {
   "cell_type": "code",
   "execution_count": 6,
   "metadata": {},
   "outputs": [],
   "source": [
    "# find road lenghts of individual roads\n",
    "road_lengths = df['road'].value_counts().sort_index()\n",
    "road_start = []\n",
    "for i in range(len(df.road.unique())):\n",
    "    \n",
    "    road_start.append(sum(road_lengths[0:i]))\n",
    "road_start.append(len(df))\n"
   ]
  },
  {
   "cell_type": "markdown",
   "metadata": {},
   "source": [
    "### 1.6. Loop for detecting errative Lat and Lon values"
   ]
  },
  {
   "cell_type": "code",
   "execution_count": 7,
   "metadata": {},
   "outputs": [
    {
     "name": "stdout",
     "output_type": "stream",
     "text": [
      "time elapsed for error detection:  3.632130474769758\n",
      "roads checked:  877\n"
     ]
    }
   ],
   "source": [
    "# set filtering variables\n",
    "WinMean   = 5   # size of moving average window\n",
    "WinStd    = 30  # size of std window\n",
    "threshold = 1.5   # maximum allowed strandard deviation difference\n",
    "maxIter   = 10  # maximum amount of iteration steps allowed per road\n",
    "\n",
    "# create empty lists\n",
    "ErLat = []\n",
    "ErLon = []\n",
    "\n",
    "counter = 0\n",
    "check   = 0\n",
    "iterat  = []\n",
    "\n",
    "# time calculation time\n",
    "start = timeit.default_timer()\n",
    "\n",
    "# loop for al N roads\n",
    "for i in range(len(road_lengths)):\n",
    "    \n",
    "    counter = counter + 1\n",
    "    # startpoint\n",
    "    sp = road_start[i]\n",
    "    ep = road_start[i+1]\n",
    "    \n",
    "    # selecting data\n",
    "    roadFrame = df[sp:ep]\n",
    "    \n",
    "    # iteration counter\n",
    "    iterat.append(check)\n",
    "    \n",
    "    # reset check value\n",
    "    check = 0\n",
    "    \n",
    "    # continuously solving more points\n",
    "    while (check < maxIter ): # maximum 4 iterations allowed\n",
    "\n",
    "        ErrativeLat, ErrativeLon, LatBool, LonBool = inspect(roadFrame, WinMean, WinStd, threshold)\n",
    "        \n",
    "        # append to error list\n",
    "        ErLat.append(ErrativeLat)\n",
    "        ErLon.append(ErrativeLon)\n",
    "        \n",
    "        # determine if dataset is correct or not\n",
    "        if len(ErrativeLat) + len(ErrativeLon) ==0 : # end while loop \n",
    "            check = 100\n",
    "        else:\n",
    "            \n",
    "            # select new dataframe without errative values for next iteration\n",
    "            roadFrame = roadFrame[~LatBool & ~LonBool]\n",
    "            \n",
    "            # set check counter\n",
    "            check = check + 1\n",
    "    \n",
    "stop = timeit.default_timer()\n",
    "\n",
    "print('time elapsed for error detection: ', stop-start)\n",
    "print('roads checked: ', counter)\n"
   ]
  },
  {
   "cell_type": "markdown",
   "metadata": {},
   "source": [
    "### 1.7. Replace errative values with interpolation"
   ]
  },
  {
   "cell_type": "code",
   "execution_count": 8,
   "metadata": {},
   "outputs": [
    {
     "name": "stdout",
     "output_type": "stream",
     "text": [
      "amount of errative longitude values found:  215\n",
      "amount of errative lattitude values found:  279\n"
     ]
    }
   ],
   "source": [
    "# create complete list with errors\n",
    "ErLonList = [y for x in ErLon for y in x]\n",
    "ErLatList = [y for x in ErLat for y in x]\n",
    "print('amount of errative longitude values found: ', len(ErLonList))\n",
    "print('amount of errative lattitude values found: ', len(ErLatList))"
   ]
  },
  {
   "cell_type": "markdown",
   "metadata": {},
   "source": [
    "### 1.8. Interpolate the Latitude and Longitude outliers and mark them into another column"
   ]
  },
  {
   "cell_type": "code",
   "execution_count": 9,
   "metadata": {},
   "outputs": [],
   "source": [
    "# Creating a new column in the dataframe\n",
    "df['Outliers'] = False\n",
    "\n",
    "# Marking the ouliers row data by filling data for 'Outliers' column into True\n",
    "df.loc[ErLonList,'Outliers'] = True\n",
    "df.loc[ErLatList,'Outliers'] = True\n",
    "\n",
    "# Change the outliers in lattitude and longitude values into NaN values for interpolation later on\n",
    "df.loc[ErLonList,'lon'] = np.nan\n",
    "df.loc[ErLatList,'lat'] = np.nan\n",
    "\n",
    "# interpolation for lattitude and longitude column with nearest neighboorhood method\n",
    "df['lon'] = df['lon'].interpolate(method='nearest')\n",
    "df['lat'] = df['lat'].interpolate(method='nearest')"
   ]
  },
  {
   "cell_type": "markdown",
   "metadata": {},
   "source": [
    "### 1.9. Save data back to csv"
   ]
  },
  {
   "cell_type": "code",
   "execution_count": 10,
   "metadata": {},
   "outputs": [],
   "source": [
    "# save the file to a csv\n",
    "# - do not save index column (index=False)\n",
    "# - create \"\"markings around every data (quoting=1)\n",
    "\n",
    "df.to_csv(savepath, index=False, quoting=1)"
   ]
  },
  {
   "cell_type": "markdown",
   "metadata": {},
   "source": [
    "# 2. Fixing the Bridges"
   ]
  },
  {
   "cell_type": "markdown",
   "metadata": {},
   "source": [
    "Fixing the bridges started with changing the swapped longitude and lattitude, matching the coordinates from the clean version of the roads, and checking each coordinates points within the boundaries of the Bangladesh or not"
   ]
  },
  {
   "cell_type": "markdown",
   "metadata": {},
   "source": [
    "### 2.1 Fixing Swapped Lattitude and Longitude data"
   ]
  },
  {
   "cell_type": "code",
   "execution_count": 11,
   "metadata": {},
   "outputs": [
    {
     "name": "stdout",
     "output_type": "stream",
     "text": [
      "Swapped Coordinates identified 15\n"
     ]
    }
   ],
   "source": [
    "# Count how many swapped values data \n",
    "print(\"Swapped Coordinates identified\",len(bdf[ (bdf['lat'] > 80)]))"
   ]
  },
  {
   "cell_type": "code",
   "execution_count": 12,
   "metadata": {},
   "outputs": [
    {
     "name": "stdout",
     "output_type": "stream",
     "text": [
      "Swapped Coordinates identified 0\n"
     ]
    }
   ],
   "source": [
    "# Swap the bridge coordinate\n",
    "swapped_bridge_index  = (bdf[(bdf['lat'] > 80)]).index\n",
    "\n",
    "bdf['empty_data'] = 0\n",
    "\n",
    "bdf.loc[swapped_bridge_index,'empty_data'] = (bdf[ (bdf['lat'] > 80)]['lon'])\n",
    "bdf.loc[swapped_bridge_index,'lon'] = (bdf[ (bdf['lat'] > 80)]['lat'])\n",
    "bdf.loc[swapped_bridge_index,'lat'] = (bdf[ (bdf['lat'] > 80)]['empty_data'])\n",
    "\n",
    "# Count how many swapped values data \n",
    "len(bdf[ (bdf['lat'] > 80)])\n",
    "print(\"Swapped Coordinates identified\",len(bdf[ (bdf['lat'] > 80)]))"
   ]
  },
  {
   "cell_type": "markdown",
   "metadata": {},
   "source": [
    "### 2.2 Matching the Coordinates in the Bridge data with the Roads data"
   ]
  },
  {
   "cell_type": "code",
   "execution_count": 13,
   "metadata": {},
   "outputs": [],
   "source": [
    "def bridge_and_roads_compared (bdf,df):\n",
    "    count = 0\n",
    "    notfound = []\n",
    "\n",
    "    # loop over all bridges\n",
    "    for i in range(len(bdf)):\n",
    "    \n",
    "        j = i\n",
    "    \n",
    "        # try catch loop\n",
    "        try:\n",
    "\n",
    "            # pick bridge data\n",
    "            bridge = bdf.loc[j,:]\n",
    "\n",
    "\n",
    "            # find corresponding lat and lon from road data\n",
    "            road = df[(df['road'] == bridge.road) & (df['lrp'] == bridge.LRPName)]\n",
    "\n",
    "            # if reaction is empty trim last letter from LRPName and match again\n",
    "            if (road.empty):\n",
    "                road = df[(df['road'] == bridge.road) & (df['lrp'].str.match(bridge.LRPName[0:len(bridge.LRPName)-1],case=True))]\n",
    "\n",
    "            # if there are multiple reactions pick only first\n",
    "            if len(road) > 1:\n",
    "                road = road.iloc[0]\n",
    "\n",
    "\n",
    "            # for nonempty road data check lat and lon differences\n",
    "            if  not road.empty:\n",
    "\n",
    "                # find differences in Lat and Lon\n",
    "                LatDif = abs(bridge.lat - road.lat)\n",
    "                LonDif = abs(bridge.lon - road.lon)\n",
    "\n",
    "                # change datatype of LatDif or LonDif if necessary\n",
    "                if isinstance(LatDif, pd.core.series.Series):\n",
    "                    LatDif = LatDif.values\n",
    "                    LonDif = LonDif.values\n",
    "\n",
    "                # find if differences are larger than accepted\n",
    "                if (LatDif > 0.1) or (LonDif > 0.1):\n",
    "\n",
    "                    count = count + 1\n",
    "\n",
    "                    # change type of variable\n",
    "                    if isinstance(road, pd.core.series.Series):\n",
    "                        lat = road['lat']\n",
    "                        lon = road['lon']\n",
    "                    else:\n",
    "                        lat = road.iloc[0,:].lat\n",
    "                        lon = road.iloc[0,:].lon\n",
    "\n",
    "                    # replace lat and lon\n",
    "                    bdf.loc[i,'lat'] = lat\n",
    "                    bdf.loc[i,'lon'] = lon\n",
    "\n",
    "            else:\n",
    "                notfound.append(j)\n",
    "        except:\n",
    "            notfound.append(j)\n",
    "    \n",
    "    return count,notfound\n"
   ]
  },
  {
   "cell_type": "code",
   "execution_count": 14,
   "metadata": {},
   "outputs": [
    {
     "name": "stderr",
     "output_type": "stream",
     "text": [
      "D:\\Anaconda\\lib\\site-packages\\ipykernel_launcher.py:42: RuntimeWarning: invalid value encountered in greater\n"
     ]
    },
    {
     "name": "stdout",
     "output_type": "stream",
     "text": [
      "total wrong values found:  434\n",
      "total bridges that were not connected with road data:  1091\n",
      "total time for loop calculation:  525.3347234249666\n"
     ]
    }
   ],
   "source": [
    "# start timer\n",
    "start = timeit.default_timer()\n",
    "\n",
    "# matching bridges based on roads function\n",
    "count,notfound = bridge_and_roads_compared(bdf,df)\n",
    "\n",
    "# stop timer\n",
    "stop = timeit.default_timer()\n",
    "\n",
    "# display the summary of the process\n",
    "print('total wrong values found: ',count)\n",
    "print('total bridges that were not connected with road data: ', len(notfound))\n",
    "print('total time for loop calculation: ', stop-start)"
   ]
  },
  {
   "cell_type": "markdown",
   "metadata": {},
   "source": [
    "### 2.3 Checking points outside the boundaries of Bangladesh"
   ]
  },
  {
   "cell_type": "markdown",
   "metadata": {},
   "source": [
    "Two alternative algorithm were developed for checking the points, these were:\n",
    "1. Compare each data coordinates (points) according to the Polygon shape file of Bangladesh\n",
    "\n",
    "2. Since the first algorithm takes more or less one hour to run, the second method used  bounding box function (bbox) in the shapefile to check whether each points in lattitude or longitude outside the bounding box of Bangladesh"
   ]
  },
  {
   "cell_type": "markdown",
   "metadata": {},
   "source": [
    "#### Polygon Check (Do this if we have high specs computer!!! need at least 1 hour run time, uncomment each line to use this) "
   ]
  },
  {
   "cell_type": "code",
   "execution_count": 15,
   "metadata": {},
   "outputs": [],
   "source": [
    "## define empty list that will contain all of error indexes\n",
    "#index_error = []\n",
    "#coords = coor_shp0[0]\n",
    "#poly = Polygon(coords)\n",
    "\n",
    "## time calculation time\n",
    "#start = timeit.default_timer()\n",
    "\n",
    "#for i in range(len(bdf)):\n",
    "#    # Create Point objects\n",
    "#    point_check = Point(bdf['lon'][i], bdf['lat'][i])\n",
    "    \n",
    "#    if not(point_check.within(poly)):\n",
    "#        index_error.append(i)\n",
    "\n",
    "#stop = timeit.default_timer()\n",
    "#\n",
    "#print('Out-of-Bounds Identified:', len(index_error))\n",
    "#print('time elapsed for error detection: ', stop-start)"
   ]
  },
  {
   "cell_type": "code",
   "execution_count": 16,
   "metadata": {},
   "outputs": [],
   "source": [
    "## Mark the outliers row\n",
    "#bdf.loc[index_error,'Outliers'] = True\n",
    "## Change the error latitude and longitude values into NaN\n",
    "#bdf.loc[index_error,'lat'] = np.nan\n",
    "#bdf.loc[index_error,'lon'] = np.nan"
   ]
  },
  {
   "cell_type": "markdown",
   "metadata": {},
   "source": [
    "#### Boundary box check"
   ]
  },
  {
   "cell_type": "code",
   "execution_count": 17,
   "metadata": {},
   "outputs": [],
   "source": [
    "# Set the range for Longitude boundary box\n",
    "maxlong = sf0.bbox[2]\n",
    "minlong = sf0.bbox[0]\n",
    "# Set the range for Latitude boundary box\n",
    "maxlat = sf0.bbox[3]\n",
    "minlat = sf0.bbox[1]\n",
    "\n",
    "# Get the indexes of out of bounds latitude and longitude\n",
    "error_lat = bdf[(bdf['lat'] < minlat) | (bdf['lat'] > maxlat)].index\n",
    "error_lon = bdf[(bdf['lon'] < minlong) | (bdf['lon'] > maxlong)].index\n",
    "\n",
    "# Mark the outliers row\n",
    "bdf.loc[error_lat,'Outliers'] = True\n",
    "bdf.loc[error_lon,'Outliers'] = True\n",
    "\n",
    "# Change the error latitude and longitude values into NaN\n",
    "bdf.loc[error_lat,'lat'] = np.nan\n",
    "bdf.loc[error_lon,'lon'] = np.nan"
   ]
  },
  {
   "cell_type": "markdown",
   "metadata": {},
   "source": [
    "### 2.4 Interpolate the NaN values"
   ]
  },
  {
   "cell_type": "code",
   "execution_count": 18,
   "metadata": {},
   "outputs": [],
   "source": [
    "bdf['lon'] = bdf['lon'].interpolate(method='nearest')\n",
    "bdf['lat'] = bdf['lat'].interpolate(method='nearest')"
   ]
  },
  {
   "cell_type": "markdown",
   "metadata": {},
   "source": [
    "### 2.5 Run matching bridge with roads one more time to make sure the interpolated bridges values on the roads"
   ]
  },
  {
   "cell_type": "code",
   "execution_count": 19,
   "metadata": {},
   "outputs": [
    {
     "name": "stdout",
     "output_type": "stream",
     "text": [
      "total wrong values found:  2\n",
      "total bridges that were not connected with road data:  1091\n",
      "total time for loop calculation:  482.34728323735965\n"
     ]
    }
   ],
   "source": [
    "# start timer\n",
    "start = timeit.default_timer()\n",
    "\n",
    "# matching bridges based on roads function\n",
    "count,notfound = bridge_and_roads_compared(bdf,df)\n",
    "\n",
    "# stop timer\n",
    "stop = timeit.default_timer()\n",
    "\n",
    "# display the summary of the process\n",
    "print('total wrong values found: ',count)\n",
    "print('total bridges that were not connected with road data: ', len(notfound))\n",
    "print('total time for loop calculation: ', stop-start)"
   ]
  },
  {
   "cell_type": "markdown",
   "metadata": {},
   "source": [
    "### 2.6 Saving bridge data"
   ]
  },
  {
   "cell_type": "code",
   "execution_count": 20,
   "metadata": {},
   "outputs": [],
   "source": [
    "writer = pd.ExcelWriter(bsavepath, engine='xlsxwriter')\n",
    "\n",
    "#Convert the dataframe to an XlsxWriter Excel object.\n",
    "bdf.to_excel(writer, sheet_name='BMMS_overview', index=False)\n",
    "\n",
    "#Close the Pandas Excel writer and output the Excel file.\n",
    "writer.save()"
   ]
  }
 ],
 "metadata": {
  "kernelspec": {
   "display_name": "Python 3",
   "language": "python",
   "name": "python3"
  },
  "language_info": {
   "codemirror_mode": {
    "name": "ipython",
    "version": 3
   },
   "file_extension": ".py",
   "mimetype": "text/x-python",
   "name": "python",
   "nbconvert_exporter": "python",
   "pygments_lexer": "ipython3",
   "version": "3.6.1"
  }
 },
 "nbformat": 4,
 "nbformat_minor": 2
}
