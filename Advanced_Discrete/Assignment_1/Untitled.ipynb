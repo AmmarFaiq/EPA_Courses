{
 "cells": [
  {
   "cell_type": "markdown",
   "metadata": {},
   "source": [
    "# Introduction\n",
    "\n",
    "- This script need the cleaned version of _roads2 data and raw BMMS_overview data. \n",
    "- WBSIM_Lab1b also need to be inside the Jupyter Notebook file to have the shapefile from the (WBSIM_Lab1b\\gis\\gadm\\BGD_adm0) the shapefile name is BGD_adm0\n",
    "- timeit, shapefile and shapely library should also be installed in the Jupyter Notebook (use !pip install \"name_of_library\" to do so)"
   ]
  },
  {
   "cell_type": "code",
   "execution_count": 1,
   "metadata": {},
   "outputs": [],
   "source": [
    "%matplotlib inline\n",
    "import pandas as pd\n",
    "import numpy as np\n",
    "import matplotlib.pyplot as plt\n",
    "\n",
    "#import re\n",
    "#import seaborn as sns\n",
    "import timeit\n",
    "\n",
    "import shapefile as shp\n",
    "from shapely.geometry import Point, Polygon\n",
    "\n",
    "#!pip install pyshp"
   ]
  },
  {
   "cell_type": "markdown",
   "metadata": {},
   "source": [
    "## Load the Excel Files to the Dataframe"
   ]
  },
  {
   "cell_type": "code",
   "execution_count": 2,
   "metadata": {},
   "outputs": [
    {
     "name": "stdout",
     "output_type": "stream",
     "text": [
      "Total data before drop duplicates: 21407 Data\n",
      "Total data after drop duplicates: 21407 Data\n"
     ]
    }
   ],
   "source": [
    "path ='D:\\Download\\WBSIM_Lab1b\\infrastructure\\BMMS_overview.xlsx'\n",
    "\n",
    "df = pd.read_excel(path,index_col=None, header=0)\n",
    "\n",
    "df_clean_0 = df#.drop_duplicates(subset=['lon','lat'], keep=False)\n",
    "\n",
    "\n",
    "print('Total data before drop duplicates:' ,len(df),'Data')\n",
    "print('Total data after drop duplicates:' ,len(df_clean_0),'Data')"
   ]
  },
  {
   "cell_type": "markdown",
   "metadata": {},
   "source": [
    "## Load the Shapefile from the GIS data"
   ]
  },
  {
   "cell_type": "code",
   "execution_count": 3,
   "metadata": {},
   "outputs": [
    {
     "data": {
      "image/png": "[encoded data removed]",
      "text/plain": [
       "<matplotlib.figure.Figure at 0x22925340e10>"
      ]
     },
     "metadata": {},
     "output_type": "display_data"
    }
   ],
   "source": [
    "sf0 = shp.Reader(\"D:\\Jupyter_File\\Advanced_Discrete_Cleaning\\WBSIM_Lab1b\\gis\\gadm\\BGD_adm0\")\n",
    "#sf1 = shp.Reader(\"D:\\Jupyter_File\\Advanced_Discrete_Cleaning\\WBSIM_Lab1b\\gis\\gadm\\BGD_adm1\")\n",
    "#sf2 = shp.Reader(\"D:\\Jupyter_File\\Advanced_Discrete_Cleaning\\WBSIM_Lab1b\\gis\\gadm\\BGD_adm2\")\n",
    "#sf3 = shp.Reader(\"D:\\Jupyter_File\\Advanced_Discrete_Cleaning\\WBSIM_Lab1b\\gis\\gadm\\BGD_adm3\")\n",
    "\n",
    "for shape in sf0.shapeRecords():\n",
    "    x = [i[0] for i in shape.shape.points[:]]\n",
    "    y = [i[1] for i in shape.shape.points[:]]\n",
    "    plt.scatter(x,y)\n",
    "plt.show()"
   ]
  },
  {
   "cell_type": "code",
   "execution_count": 13,
   "metadata": {},
   "outputs": [
    {
     "data": {
      "text/plain": [
       "26.634399414062756"
      ]
     },
     "execution_count": 13,
     "metadata": {},
     "output_type": "execute_result"
    }
   ],
   "source": [
    "sf0.bbox[3]"
   ]
  },
  {
   "cell_type": "markdown",
   "metadata": {},
   "source": [
    "## Convert Shapefile into List"
   ]
  },
  {
   "cell_type": "code",
   "execution_count": 4,
   "metadata": {},
   "outputs": [],
   "source": [
    "# Function to get the shape file value from GIS\n",
    "def convert_shp_to_list (sf,num_name):\n",
    "    \n",
    "    shps_name = sf.records()\n",
    "    shps_coor = [s.points for s in sf.shapes()]\n",
    "    \n",
    "    name_shape = []\n",
    "    coor_shape_lat = []\n",
    "    coor_shape_lon = []\n",
    "    \n",
    "    l = {}\n",
    "    counter = 0\n",
    "    for i in range(len(shps_name)):\n",
    "        name_shape.append(shps_name[i][num_name])\n",
    "        #coor_shape.append(shps_coor[i])\n",
    "        \n",
    "        for a in range(len(shps_coor[i])):\n",
    "            l[counter] = {'Name':name_shape[i],'Longitude':shps_coor[i][a][0],'Latitude':shps_coor[i][a][1]}\n",
    "            coor_shape_lat.append(shps_coor[i][a][1])\n",
    "            coor_shape_lon.append(shps_coor[i][a][0])\n",
    "            \n",
    "            counter = counter+a\n",
    "            \n",
    "        #j = pd.DataFrame(l)\n",
    "        #j = j.transpose()\n",
    "    \n",
    "    return name_shape,shps_coor,coor_shape_lat,coor_shape_lon,l#,j"
   ]
  },
  {
   "cell_type": "code",
   "execution_count": 5,
   "metadata": {},
   "outputs": [],
   "source": [
    "#shape_dataframe0, \n",
    "name_shp0, coor_shp0, coor_shp_lat0, coor_shp_lon0, l = convert_shp_to_list(sf0,2)"
   ]
  },
  {
   "cell_type": "markdown",
   "metadata": {},
   "source": [
    "## Swapped Lattitude and Longitude data"
   ]
  },
  {
   "cell_type": "code",
   "execution_count": 6,
   "metadata": {},
   "outputs": [
    {
     "name": "stdout",
     "output_type": "stream",
     "text": [
      "Swapped Coordinates identified 15\n"
     ]
    }
   ],
   "source": [
    "# Count how many swapped values data \n",
    "len(df_clean_0[ (df_clean_0['lat'] > 80)])\n",
    "print(\"Swapped Coordinates identified\",len(df_clean_0[ (df_clean_0['lat'] > 80)]))"
   ]
  },
  {
   "cell_type": "code",
   "execution_count": 7,
   "metadata": {},
   "outputs": [],
   "source": [
    "# Swap the bridge coordinate\n",
    "swapped_bridge_index  = (df_clean_0[(df_clean_0['lat'] > 80)]).index\n",
    "\n",
    "df_clean_0['empty_data'] = 0\n",
    "\n",
    "df_clean_0.loc[swapped_bridge_index,'empty_data'] = (df_clean_0[ (df_clean_0['lat'] > 80)]['lon'])\n",
    "df_clean_0.loc[swapped_bridge_index,'lon'] = (df_clean_0[ (df_clean_0['lat'] > 80)]['lat'])\n",
    "df_clean_0.loc[swapped_bridge_index,'lat'] = (df_clean_0[ (df_clean_0['lat'] > 80)]['empty_data'])\n"
   ]
  },
  {
   "cell_type": "markdown",
   "metadata": {},
   "source": [
    "## Check the real boundaries of Bangladesh with its geo shapefile\n",
    "(This code run quite slow!!!!!!)"
   ]
  },
  {
   "cell_type": "code",
   "execution_count": 8,
   "metadata": {},
   "outputs": [
    {
     "ename": "KeyboardInterrupt",
     "evalue": "",
     "output_type": "error",
     "traceback": [
      "\u001b[1;31m---------------------------------------------------------------------------\u001b[0m",
      "\u001b[1;31mKeyboardInterrupt\u001b[0m                         Traceback (most recent call last)",
      "\u001b[1;32m<ipython-input-8-870add341ff5>\u001b[0m in \u001b[0;36m<module>\u001b[1;34m()\u001b[0m\n\u001b[0;32m     13\u001b[0m     \u001b[0mpoint_check\u001b[0m \u001b[1;33m=\u001b[0m \u001b[0mPoint\u001b[0m\u001b[1;33m(\u001b[0m\u001b[0mdf_clean_0\u001b[0m\u001b[1;33m[\u001b[0m\u001b[1;34m'lon'\u001b[0m\u001b[1;33m]\u001b[0m\u001b[1;33m[\u001b[0m\u001b[0mi\u001b[0m\u001b[1;33m]\u001b[0m\u001b[1;33m,\u001b[0m \u001b[0mdf_clean_0\u001b[0m\u001b[1;33m[\u001b[0m\u001b[1;34m'lat'\u001b[0m\u001b[1;33m]\u001b[0m\u001b[1;33m[\u001b[0m\u001b[0mi\u001b[0m\u001b[1;33m]\u001b[0m\u001b[1;33m)\u001b[0m\u001b[1;33m\u001b[0m\u001b[0m\n\u001b[0;32m     14\u001b[0m     \u001b[1;31m#for a in range(len(coor_shp0)):\u001b[0m\u001b[1;33m\u001b[0m\u001b[1;33m\u001b[0m\u001b[0m\n\u001b[1;32m---> 15\u001b[1;33m     \u001b[1;32mif\u001b[0m \u001b[1;32mnot\u001b[0m\u001b[1;33m(\u001b[0m\u001b[0mpoint_check\u001b[0m\u001b[1;33m.\u001b[0m\u001b[0mwithin\u001b[0m\u001b[1;33m(\u001b[0m\u001b[0mpoly\u001b[0m\u001b[1;33m)\u001b[0m\u001b[1;33m)\u001b[0m\u001b[1;33m:\u001b[0m\u001b[1;33m\u001b[0m\u001b[0m\n\u001b[0m\u001b[0;32m     16\u001b[0m         \u001b[0mindex_error\u001b[0m\u001b[1;33m.\u001b[0m\u001b[0mappend\u001b[0m\u001b[1;33m(\u001b[0m\u001b[0mi\u001b[0m\u001b[1;33m)\u001b[0m\u001b[1;33m\u001b[0m\u001b[0m\n\u001b[0;32m     17\u001b[0m \u001b[1;33m\u001b[0m\u001b[0m\n",
      "\u001b[1;32mD:\\Anaconda\\lib\\site-packages\\shapely\\geometry\\base.py\u001b[0m in \u001b[0;36mwithin\u001b[1;34m(self, other)\u001b[0m\n\u001b[0;32m    721\u001b[0m     \u001b[1;32mdef\u001b[0m \u001b[0mwithin\u001b[0m\u001b[1;33m(\u001b[0m\u001b[0mself\u001b[0m\u001b[1;33m,\u001b[0m \u001b[0mother\u001b[0m\u001b[1;33m)\u001b[0m\u001b[1;33m:\u001b[0m\u001b[1;33m\u001b[0m\u001b[0m\n\u001b[0;32m    722\u001b[0m         \u001b[1;34m\"\"\"Returns True if geometry is within the other, else False\"\"\"\u001b[0m\u001b[1;33m\u001b[0m\u001b[0m\n\u001b[1;32m--> 723\u001b[1;33m         \u001b[1;32mreturn\u001b[0m \u001b[0mbool\u001b[0m\u001b[1;33m(\u001b[0m\u001b[0mself\u001b[0m\u001b[1;33m.\u001b[0m\u001b[0mimpl\u001b[0m\u001b[1;33m[\u001b[0m\u001b[1;34m'within'\u001b[0m\u001b[1;33m]\u001b[0m\u001b[1;33m(\u001b[0m\u001b[0mself\u001b[0m\u001b[1;33m,\u001b[0m \u001b[0mother\u001b[0m\u001b[1;33m)\u001b[0m\u001b[1;33m)\u001b[0m\u001b[1;33m\u001b[0m\u001b[0m\n\u001b[0m\u001b[0;32m    724\u001b[0m \u001b[1;33m\u001b[0m\u001b[0m\n\u001b[0;32m    725\u001b[0m     \u001b[1;32mdef\u001b[0m \u001b[0mequals_exact\u001b[0m\u001b[1;33m(\u001b[0m\u001b[0mself\u001b[0m\u001b[1;33m,\u001b[0m \u001b[0mother\u001b[0m\u001b[1;33m,\u001b[0m \u001b[0mtolerance\u001b[0m\u001b[1;33m)\u001b[0m\u001b[1;33m:\u001b[0m\u001b[1;33m\u001b[0m\u001b[0m\n",
      "\u001b[1;32mD:\\Anaconda\\lib\\site-packages\\shapely\\predicates.py\u001b[0m in \u001b[0;36m__call__\u001b[1;34m(self, this, other, *args)\u001b[0m\n\u001b[0;32m     13\u001b[0m         \u001b[0mself\u001b[0m\u001b[1;33m.\u001b[0m\u001b[0m_validate\u001b[0m\u001b[1;33m(\u001b[0m\u001b[0mother\u001b[0m\u001b[1;33m,\u001b[0m \u001b[0mstop_prepared\u001b[0m\u001b[1;33m=\u001b[0m\u001b[1;32mTrue\u001b[0m\u001b[1;33m)\u001b[0m\u001b[1;33m\u001b[0m\u001b[0m\n\u001b[0;32m     14\u001b[0m         \u001b[1;32mtry\u001b[0m\u001b[1;33m:\u001b[0m\u001b[1;33m\u001b[0m\u001b[0m\n\u001b[1;32m---> 15\u001b[1;33m             \u001b[1;32mreturn\u001b[0m \u001b[0mself\u001b[0m\u001b[1;33m.\u001b[0m\u001b[0mfn\u001b[0m\u001b[1;33m(\u001b[0m\u001b[0mthis\u001b[0m\u001b[1;33m.\u001b[0m\u001b[0m_geom\u001b[0m\u001b[1;33m,\u001b[0m \u001b[0mother\u001b[0m\u001b[1;33m.\u001b[0m\u001b[0m_geom\u001b[0m\u001b[1;33m,\u001b[0m \u001b[1;33m*\u001b[0m\u001b[0margs\u001b[0m\u001b[1;33m)\u001b[0m\u001b[1;33m\u001b[0m\u001b[0m\n\u001b[0m\u001b[0;32m     16\u001b[0m         \u001b[1;32mexcept\u001b[0m \u001b[0mPredicateError\u001b[0m \u001b[1;32mas\u001b[0m \u001b[0merr\u001b[0m\u001b[1;33m:\u001b[0m\u001b[1;33m\u001b[0m\u001b[0m\n\u001b[0;32m     17\u001b[0m             \u001b[1;31m# Dig deeper into causes of errors.\u001b[0m\u001b[1;33m\u001b[0m\u001b[1;33m\u001b[0m\u001b[0m\n",
      "\u001b[1;32mD:\\Anaconda\\lib\\site-packages\\shapely\\geos.py\u001b[0m in \u001b[0;36merrcheck_predicate\u001b[1;34m(result, func, argtuple)\u001b[0m\n\u001b[0;32m    543\u001b[0m \u001b[1;33m\u001b[0m\u001b[0m\n\u001b[0;32m    544\u001b[0m \u001b[1;33m\u001b[0m\u001b[0m\n\u001b[1;32m--> 545\u001b[1;33m \u001b[1;32mdef\u001b[0m \u001b[0merrcheck_predicate\u001b[0m\u001b[1;33m(\u001b[0m\u001b[0mresult\u001b[0m\u001b[1;33m,\u001b[0m \u001b[0mfunc\u001b[0m\u001b[1;33m,\u001b[0m \u001b[0margtuple\u001b[0m\u001b[1;33m)\u001b[0m\u001b[1;33m:\u001b[0m\u001b[1;33m\u001b[0m\u001b[0m\n\u001b[0m\u001b[0;32m    546\u001b[0m     \u001b[1;34m\"\"\"Result is 2 on exception, 1 on True, 0 on False\"\"\"\u001b[0m\u001b[1;33m\u001b[0m\u001b[0m\n\u001b[0;32m    547\u001b[0m     \u001b[1;32mif\u001b[0m \u001b[0mresult\u001b[0m \u001b[1;33m==\u001b[0m \u001b[1;36m2\u001b[0m\u001b[1;33m:\u001b[0m\u001b[1;33m\u001b[0m\u001b[0m\n",
      "\u001b[1;31mKeyboardInterrupt\u001b[0m: "
     ]
    }
   ],
   "source": [
    "# Detecting the outliers outside the real \"boundaries\" of the Bangladesh by creating polygon from the shapefile (GIS BGD_adm0) \n",
    "# and then compare each bridge points whether it is outside of the polygon or not\n",
    "\n",
    "index_error = []\n",
    "coords = coor_shp0[0]\n",
    "poly = Polygon(coords)\n",
    "\n",
    "# time calculation time\n",
    "start = timeit.default_timer()\n",
    "\n",
    "for i in range(len(df_clean_0)):\n",
    "    # Create Point objects\n",
    "    point_check = Point(df_clean_0['lon'][i], df_clean_0['lat'][i])\n",
    "    #for a in range(len(coor_shp0)):\n",
    "    if not(point_check.within(poly)):\n",
    "        index_error.append(i)\n",
    "\n",
    "stop = timeit.default_timer()\n",
    "\n",
    "print('Out-of-Bounds Identified:', len(index_error))\n",
    "print('time elapsed for error detection: ', stop-start)"
   ]
  },
  {
   "cell_type": "code",
   "execution_count": null,
   "metadata": {},
   "outputs": [],
   "source": [
    "df_clean_0.ix[index_error,'empty_data'] = True\n",
    "df_clean_0.ix[index_error,'lat'] = np.nan\n",
    "df_clean_0.ix[index_error,'lon'] = np.nan"
   ]
  },
  {
   "cell_type": "markdown",
   "metadata": {},
   "source": [
    "## Smoothing with Mean and Standard Deviation"
   ]
  },
  {
   "cell_type": "code",
   "execution_count": null,
   "metadata": {},
   "outputs": [],
   "source": [
    "# Smoothing some of the coordinates by mean and standard deviation of the name of division\n",
    "\n",
    "df_clean_0.sort_values(by=['division'])\n",
    "Circle_data_counts = df_clean_0['division'].value_counts()\n",
    "#Circle_data_counts\n",
    "\n",
    "ErLat = []\n",
    "ErLon = []\n",
    "Threshold = 4\n",
    "ep = 0\n",
    "\n",
    "for i in range(len(Circle_data_counts)):\n",
    "    \n",
    "    sp = ep\n",
    "    ep = ep + Circle_data_counts[i]\n",
    "    \n",
    "    roadFrame = df_clean_0[sp:ep]\n",
    "    \n",
    "    meanLat = roadFrame['lat'].mean()\n",
    "    meanLon = roadFrame['lon'].mean()\n",
    "    \n",
    "    stdLat = roadFrame['lat'].std()\n",
    "    stdLon = roadFrame['lon'].std()\n",
    "    \n",
    "    ErrorLat = (roadFrame['lat'] > (meanLat + stdLat*Threshold)) | (roadFrame['lat'] < (meanLat - stdLat*Threshold))\n",
    "    ErrorLon = (roadFrame['lon'] > (meanLon + stdLon*Threshold)) | (roadFrame['lon'] < (meanLon - stdLon*Threshold))\n",
    "    \n",
    "    ErrorIndexLat = roadFrame[ErrorLat].index\n",
    "    ErrorIndexLon = roadFrame[ErrorLon].index\n",
    "    \n",
    "    ErLat.append(ErrorIndexLat)\n",
    "    ErLon.append(ErrorIndexLon)\n",
    "    \n",
    "ErLonList = [y for x in ErLon for y in x]\n",
    "ErLatList = [y for x in ErLat for y in x]\n",
    "print('amount of errative longitude values found: ', len(ErLonList))\n",
    "print('amount of errative lattitude values found: ', len(ErLatList))\n",
    "\n",
    "# replace errative parts with NaN\n",
    "df_clean_0.loc[ErLonList,'lon'] = np.nan\n",
    "df_clean_0.loc[ErLatList,'lat'] = np.nan"
   ]
  },
  {
   "cell_type": "markdown",
   "metadata": {},
   "source": [
    "## Interpolate all outliers"
   ]
  },
  {
   "cell_type": "code",
   "execution_count": null,
   "metadata": {},
   "outputs": [],
   "source": [
    "# interpolate longitude and latitude with nearest method\n",
    "\n",
    "df_clean_0['lon'] = df_clean_0['lon'].interpolate(method='nearest')\n",
    "df_clean_0['lat'] = df_clean_0['lat'].interpolate(method='nearest')"
   ]
  },
  {
   "cell_type": "markdown",
   "metadata": {},
   "source": [
    "## Pull the bridges coordinates into the \"clean\" road "
   ]
  },
  {
   "cell_type": "code",
   "execution_count": null,
   "metadata": {},
   "outputs": [],
   "source": [
    "#path = 'D:\\Jupyter_File\\Advanced_Discrete_Cleaning\\WBSIM_Lab1b\\infrastructure\\_roads2.csv'\n",
    "#df_road = pd.read_csv(path,index_col=None, header=0)"
   ]
  },
  {
   "cell_type": "code",
   "execution_count": null,
   "metadata": {},
   "outputs": [],
   "source": [
    "#df_road.sort_values(by=['road'])\n",
    "#road_data_counts = df_road['road'].value_counts()"
   ]
  },
  {
   "cell_type": "markdown",
   "metadata": {},
   "source": [
    "## convert to xlxs file"
   ]
  },
  {
   "cell_type": "code",
   "execution_count": null,
   "metadata": {},
   "outputs": [],
   "source": [
    "writer = pd.ExcelWriter('BMMS_overview.xlsx', engine='xlsxwriter')\n",
    "\n",
    "#Convert the dataframe to an XlsxWriter Excel object.\n",
    "df_clean_0.to_excel(writer, sheet_name='BMMS_overview',index=False)\n",
    "\n",
    "#Close the Pandas Excel writer and output the Excel file.\n",
    "writer.save()"
   ]
  }
 ],
 "metadata": {
  "kernelspec": {
   "display_name": "Python 3",
   "language": "python",
   "name": "python3"
  },
  "language_info": {
   "codemirror_mode": {
    "name": "ipython",
    "version": 3
   },
   "file_extension": ".py",
   "mimetype": "text/x-python",
   "name": "python",
   "nbconvert_exporter": "python",
   "pygments_lexer": "ipython3",
   "version": "3.6.1"
  }
 },
 "nbformat": 4,
 "nbformat_minor": 2
}
